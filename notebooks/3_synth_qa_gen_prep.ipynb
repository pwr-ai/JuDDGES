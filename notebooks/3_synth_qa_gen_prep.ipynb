{
 "cells": [
  {
   "cell_type": "markdown",
   "metadata": {},
   "source": [
    "## Prepare for Synthetic QA Generation"
   ]
  },
  {
   "cell_type": "code",
   "execution_count": 1,
   "metadata": {},
   "outputs": [],
   "source": [
    "# | eval: false\n",
    "import json\n",
    "from os import environ\n",
    "from typing import Literal, Dict\n",
    "from multiprocessing import Pool, cpu_count\n",
    "from functools import partial\n",
    "\n",
    "import pandas as pd\n",
    "import seaborn as sns\n",
    "from matplotlib import pyplot as plt\n",
    "import tiktoken\n",
    "from langchain.globals import set_verbose\n",
    "from pymongo import MongoClient\n",
    "from tqdm.notebook import tqdm\n",
    "\n",
    "from juddges.settings import DATA_PATH\n",
    "\n",
    "set_verbose(True)"
   ]
  },
  {
   "cell_type": "code",
   "execution_count": 2,
   "metadata": {},
   "outputs": [],
   "source": [
    "# | eval: false\n",
    "client = MongoClient(environ[\"MONGO_URI\"])"
   ]
  },
  {
   "cell_type": "code",
   "execution_count": null,
   "metadata": {},
   "outputs": [],
   "source": [
    "# | eval: false\n",
    "MODEL = \"gpt-3.5-turbo\"\n",
    "\n",
    "COST_PER_TOKEN = {\n",
    "    \"gpt-4\": 30 / 10**6,\n",
    "    \"gpt-3.5-turbo\": 0.5 / 10**6,\n",
    "}\n",
    "\n",
    "MAX_TOKENS = {\n",
    "    \"gpt-4\": 32_768,\n",
    "    \"gpt-3.5-turbo\": 16_385,\n",
    "}"
   ]
  },
  {
   "cell_type": "markdown",
   "metadata": {},
   "source": [
    "## Calculate the number of tokens of judgements"
   ]
  },
  {
   "cell_type": "code",
   "execution_count": 4,
   "metadata": {},
   "outputs": [
    {
     "name": "stdout",
     "output_type": "stream",
     "text": [
      "total_agg_docs=408423\n"
     ]
    },
    {
     "data": {
      "application/vnd.jupyter.widget-view+json": {
       "model_id": "c9234f3f59494443afe1656f8c30d8e9",
       "version_major": 2,
       "version_minor": 0
      },
      "text/plain": [
       "  0%|          | 0/408423 [00:00<?, ?it/s]"
      ]
     },
     "metadata": {},
     "output_type": "display_data"
    }
   ],
   "source": [
    "# | eval: false\n",
    "def _count_tokens(doc: dict, encoding: tiktoken.Encoding) -> Dict[str, int]:\n",
    "    num_tokens = 3 + len(encoding.encode(doc[\"text\"]))  # https://github.com/openai/openai-cookbook/blob/main/examples/How_to_count_tokens_with_tiktoken.ipynb\n",
    "    return {doc[\"_id\"]: num_tokens}\n",
    "\n",
    "\n",
    "agg = [\n",
    "    {\"$match\": {\"text\": {\"$exists\": True}}},\n",
    "    # {\"$sample\": {\"size\": 20}},\n",
    "]\n",
    "\n",
    "total_agg_docs = (\n",
    "    client[\"juddges\"][\"judgements\"].aggregate(agg + [{\"$count\": \"text\"}]).next()[\"text\"]\n",
    ")\n",
    "print(f\"{total_agg_docs=}\")\n",
    "\n",
    "encoding = tiktoken.encoding_for_model(MODEL)\n",
    "judgements_num_tokens = {\"__encoding\": encoding.name, \"__total_docs\": total_agg_docs}\n",
    "\n",
    "docs = client[\"juddges\"][\"judgements\"].aggregate(agg)\n",
    "\n",
    "partial_prepro_func = partial(_count_tokens, encoding=encoding)\n",
    "num_processes = cpu_count()\n",
    "with Pool(processes=num_processes) as pool:\n",
    "    for p_result in tqdm(pool.imap_unordered(partial_prepro_func, docs), total=total_agg_docs):\n",
    "        judgements_num_tokens.update(p_result)"
   ]
  },
  {
   "cell_type": "code",
   "execution_count": 5,
   "metadata": {},
   "outputs": [],
   "source": [
    "# | eval: false\n",
    "with open(DATA_PATH / \"pl_judgements_num_tokens.json\", \"w\") as f:\n",
    "    json.dump(judgements_num_tokens, f, indent=2, ensure_ascii=False)"
   ]
  },
  {
   "cell_type": "code",
   "execution_count": 6,
   "metadata": {},
   "outputs": [
    {
     "data": {
      "text/html": [
       "<div>\n",
       "<style scoped>\n",
       "    .dataframe tbody tr th:only-of-type {\n",
       "        vertical-align: middle;\n",
       "    }\n",
       "\n",
       "    .dataframe tbody tr th {\n",
       "        vertical-align: top;\n",
       "    }\n",
       "\n",
       "    .dataframe thead th {\n",
       "        text-align: right;\n",
       "    }\n",
       "</style>\n",
       "<table border=\"1\" class=\"dataframe\">\n",
       "  <thead>\n",
       "    <tr style=\"text-align: right;\">\n",
       "      <th></th>\n",
       "      <th>_id</th>\n",
       "      <th>num_tokens</th>\n",
       "    </tr>\n",
       "  </thead>\n",
       "  <tbody>\n",
       "    <tr>\n",
       "      <th>0</th>\n",
       "      <td>154505000005127_XVII_AmA_000014_1994_Uz_1994-0...</td>\n",
       "      <td>8018</td>\n",
       "    </tr>\n",
       "    <tr>\n",
       "      <th>1</th>\n",
       "      <td>151500000001006_II_AKa_000031_1998_Uz_2013-02-...</td>\n",
       "      <td>15787</td>\n",
       "    </tr>\n",
       "    <tr>\n",
       "      <th>2</th>\n",
       "      <td>151500000001006_II_AKa_000043_1999_Uz_1999-04-...</td>\n",
       "      <td>2141</td>\n",
       "    </tr>\n",
       "    <tr>\n",
       "      <th>3</th>\n",
       "      <td>151500000001006_II_AKa_000072_1999_Uz_1999-05-...</td>\n",
       "      <td>1766</td>\n",
       "    </tr>\n",
       "    <tr>\n",
       "      <th>4</th>\n",
       "      <td>151500000001006_II_AKa_000115_1999_Uz_1999-05-...</td>\n",
       "      <td>3140</td>\n",
       "    </tr>\n",
       "    <tr>\n",
       "      <th>...</th>\n",
       "      <td>...</td>\n",
       "      <td>...</td>\n",
       "    </tr>\n",
       "    <tr>\n",
       "      <th>408418</th>\n",
       "      <td>152500000000503_I_ACa_000772_2013_Uz_2013-12-0...</td>\n",
       "      <td>13631</td>\n",
       "    </tr>\n",
       "    <tr>\n",
       "      <th>408419</th>\n",
       "      <td>152510000004021_VIII_Pa_000098_2023_Uz_2024-01...</td>\n",
       "      <td>21508</td>\n",
       "    </tr>\n",
       "    <tr>\n",
       "      <th>408420</th>\n",
       "      <td>153515000002021_IV_U_001848_2023_Uz_2024-02-08...</td>\n",
       "      <td>15223</td>\n",
       "    </tr>\n",
       "    <tr>\n",
       "      <th>408421</th>\n",
       "      <td>153000000000503_I_ACa_000424_2021_Uz_2024-01-3...</td>\n",
       "      <td>16380</td>\n",
       "    </tr>\n",
       "    <tr>\n",
       "      <th>408422</th>\n",
       "      <td>152510000002006_IV_K_000164_2023_Uz_2024-02-05...</td>\n",
       "      <td>29530</td>\n",
       "    </tr>\n",
       "  </tbody>\n",
       "</table>\n",
       "<p>408423 rows × 2 columns</p>\n",
       "</div>"
      ],
      "text/plain": [
       "                                                      _id  num_tokens\n",
       "0       154505000005127_XVII_AmA_000014_1994_Uz_1994-0...        8018\n",
       "1       151500000001006_II_AKa_000031_1998_Uz_2013-02-...       15787\n",
       "2       151500000001006_II_AKa_000043_1999_Uz_1999-04-...        2141\n",
       "3       151500000001006_II_AKa_000072_1999_Uz_1999-05-...        1766\n",
       "4       151500000001006_II_AKa_000115_1999_Uz_1999-05-...        3140\n",
       "...                                                   ...         ...\n",
       "408418  152500000000503_I_ACa_000772_2013_Uz_2013-12-0...       13631\n",
       "408419  152510000004021_VIII_Pa_000098_2023_Uz_2024-01...       21508\n",
       "408420  153515000002021_IV_U_001848_2023_Uz_2024-02-08...       15223\n",
       "408421  153000000000503_I_ACa_000424_2021_Uz_2024-01-3...       16380\n",
       "408422  152510000002006_IV_K_000164_2023_Uz_2024-02-05...       29530\n",
       "\n",
       "[408423 rows x 2 columns]"
      ]
     },
     "execution_count": 6,
     "metadata": {},
     "output_type": "execute_result"
    }
   ],
   "source": [
    "# | eval: false\n",
    "# with open(DATA_PATH / \"pl_judgements_num_tokens.json\") as f:\n",
    "#     judgements_num_tokens = json.load(f)\n",
    "\n",
    "judgements_num_tokens_df = pd.DataFrame(\n",
    "    data=(item for item in judgements_num_tokens.items() if not item[0].startswith(\"__\")),\n",
    "    columns=[\"_id\", \"num_tokens\"],\n",
    ")\n",
    "judgements_num_tokens_df"
   ]
  },
  {
   "cell_type": "markdown",
   "metadata": {},
   "source": [
    "### Estimate cost of context preprocessing via OpenAI API"
   ]
  },
  {
   "cell_type": "code",
   "execution_count": 7,
   "metadata": {},
   "outputs": [
    {
     "name": "stdout",
     "output_type": "stream",
     "text": [
      "total docs 127,364    up to 4,000  tokens \t context estimated_cost: $114.78\n",
      "total docs 249,761    up to 8,000  tokens \t context estimated_cost: $475.87\n",
      "total docs 322,860    up to 12,000 tokens \t context estimated_cost: $833.96\n",
      "total docs 360,848    up to 16,000 tokens \t context estimated_cost: $1,095.50\n",
      "total docs 380,342    up to 20,000 tokens \t context estimated_cost: $1,268.91\n",
      "total docs 390,962    up to 24,000 tokens \t context estimated_cost: $1,384.79\n",
      "total docs 397,119    up to 28,000 tokens \t context estimated_cost: $1,464.29\n",
      "total docs 400,797    up to 32,000 tokens \t context estimated_cost: $1,519.15\n",
      "total docs 400,797    over 32,000 tokens \t context estimated_cost: $195.26\n",
      "\n",
      "All the docs 408,423    \t context estimated_cost: $1,714.41\n"
     ]
    }
   ],
   "source": [
    "# | eval: false\n",
    "for up_to_tokens in range(4_000, 32_001, 4_000):\n",
    "    agg_docs = judgements_num_tokens_df[judgements_num_tokens_df[\"num_tokens\"] <= up_to_tokens]\n",
    "    estimated_cost = agg_docs[\"num_tokens\"].sum() * COST_PER_TOKEN[MODEL]\n",
    "    print(\n",
    "        f\"total docs {len(agg_docs):<10,} up to {up_to_tokens:<6,} tokens \\t context estimated_cost: ${estimated_cost:,.2f}\"\n",
    "    )\n",
    "\n",
    "over32_docs = judgements_num_tokens_df[judgements_num_tokens_df[\"num_tokens\"] > 32_000]\n",
    "over32_estimated_cost = over32_docs[\"num_tokens\"].sum() * COST_PER_TOKEN[MODEL]\n",
    "print(\n",
    "    f\"total docs {len(agg_docs):<10,} over {32_000:<6,} tokens \\t context estimated_cost: ${over32_estimated_cost:,.2f}\"\n",
    ")\n",
    "\n",
    "all_docs_estimated_cost = judgements_num_tokens_df[\"num_tokens\"].sum() * COST_PER_TOKEN[MODEL]\n",
    "print(\n",
    "    f\"\\nAll the docs {len(judgements_num_tokens_df):<10,} \\t context estimated_cost: ${all_docs_estimated_cost:,.2f}\"\n",
    ")"
   ]
  },
  {
   "cell_type": "code",
   "execution_count": 8,
   "metadata": {},
   "outputs": [],
   "source": [
    "def num_tokens_to_group(\n",
    "    num_tokens: int,\n",
    ") -> Literal[\"up to 4k\", \"4k - 8k\", \"8k - 16k\", \"16k - 32k\", \"over 32k\"]:\n",
    "    if num_tokens <= 4_000:\n",
    "        return \"up to 4k\"\n",
    "    elif num_tokens <= 8_000:\n",
    "        return \"4k - 8k\"\n",
    "    elif num_tokens <= 16_000:\n",
    "        return \"8k - 16k\"\n",
    "    elif num_tokens <= 32_000:\n",
    "        return \"16k - 32k\"\n",
    "    else:\n",
    "        return \"over 32k\"\n",
    "\n",
    "\n",
    "judgements_num_tokens_df[\"NumTokensGroup\"] = judgements_num_tokens_df[\"num_tokens\"].apply(\n",
    "    num_tokens_to_group\n",
    ")"
   ]
  },
  {
   "cell_type": "code",
   "execution_count": 28,
   "metadata": {},
   "outputs": [
    {
     "data": {
      "image/png": "[encoded data removed]",
      "text/plain": [
       "<Figure size 640x480 with 1 Axes>"
      ]
     },
     "metadata": {},
     "output_type": "display_data"
    }
   ],
   "source": [
    "ax = sns.countplot(\n",
    "    data=judgements_num_tokens_df,\n",
    "    x=\"NumTokensGroup\",\n",
    "    order=[\"up to 4k\", \"4k - 8k\", \"8k - 16k\", \"16k - 32k\", \"over 32k\"],\n",
    ")\n",
    "ax.bar_label(ax.containers[0], fmt=\"{:,.0f}\")\n",
    "plt.xlabel(\"Number of tokens\")\n",
    "plt.ylabel(\"Number of judgements\")\n",
    "plt.show()"
   ]
  },
  {
   "cell_type": "code",
   "execution_count": null,
   "metadata": {},
   "outputs": [],
   "source": []
  }
 ],
 "metadata": {
  "kernelspec": {
   "display_name": "base",
   "language": "python",
   "name": "python3"
  },
  "language_info": {
   "codemirror_mode": {
    "name": "ipython",
    "version": 3
   },
   "file_extension": ".py",
   "mimetype": "text/x-python",
   "name": "python",
   "nbconvert_exporter": "python",
   "pygments_lexer": "ipython3",
   "version": "3.10.13"
  },
  "orig_nbformat": 4
 },
 "nbformat": 4,
 "nbformat_minor": 2
}
