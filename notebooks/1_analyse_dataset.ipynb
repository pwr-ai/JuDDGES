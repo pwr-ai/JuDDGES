{
 "cells": [
  {
   "cell_type": "code",
   "execution_count": null,
   "id": "initial_id",
   "metadata": {
    "collapsed": true
   },
   "outputs": [],
   "source": [
    "import polars as pl"
   ]
  },
  {
   "cell_type": "code",
   "execution_count": null,
   "id": "c8a2c7d4858169a2",
   "metadata": {
    "collapsed": false
   },
   "outputs": [],
   "source": [
    "ds = pl.read_parquet(\"../data/datasets/pl/raw\", use_pyarrow=True)\n",
    "\n",
    "dt_fmt = \"%Y-%m-%d %H:%M:%S%.f %Z\"\n",
    "dt_unit = \"ms\"  # due to https://github.com/pola-rs/polars/issues/13592\n",
    "\n",
    "ds = ds.with_columns(\n",
    "    ds[\"date\"].str.to_datetime(format=dt_fmt, time_unit=dt_unit),\n",
    "    ds[\"publicationDate\"].str.to_datetime(format=dt_fmt, time_unit=dt_unit),\n",
    "    ds[\"lastUpdate\"].str.to_datetime(format=dt_fmt, time_unit=dt_unit),\n",
    "    ds[\"courtId\"].cast(pl.Int32),\n",
    "    ds[\"departmentId\"].cast(pl.Int32),\n",
    "    ds[\"type\"].cast(pl.Categorical),\n",
    ")\n",
    "\n",
    "ds.head()"
   ]
  },
  {
   "cell_type": "code",
   "outputs": [],
   "source": [
    "ds.dtypes"
   ],
   "metadata": {
    "collapsed": false
   },
   "id": "bc7d2c6d47a28f48",
   "execution_count": null
  },
  {
   "cell_type": "code",
   "execution_count": null,
   "id": "35e65fe2dd9a4bce",
   "metadata": {
    "collapsed": false
   },
   "outputs": [],
   "source": [
    "ds.describe()"
   ]
  },
  {
   "cell_type": "code",
   "execution_count": null,
   "id": "ab23ff37327a377a",
   "metadata": {
    "collapsed": false
   },
   "outputs": [],
   "source": [
    "ds[\"type\"].value_counts()"
   ]
  },
  {
   "cell_type": "code",
   "execution_count": null,
   "id": "11446c299cdf1700",
   "metadata": {
    "collapsed": false
   },
   "outputs": [],
   "source": [
    "print(f\"Missing content: {ds['content'].null_count() / len(ds)}\")\n",
    "print(f\"Missing theis: {ds['thesis'].null_count() / len(ds)}\")"
   ]
  }
 ],
 "metadata": {
  "kernelspec": {
   "display_name": "Python 3",
   "language": "python",
   "name": "python3"
  },
  "language_info": {
   "codemirror_mode": {
    "name": "ipython",
    "version": 2
   },
   "file_extension": ".py",
   "mimetype": "text/x-python",
   "name": "python",
   "nbconvert_exporter": "python",
   "pygments_lexer": "ipython2",
   "version": "2.7.6"
  }
 },
 "nbformat": 4,
 "nbformat_minor": 5
}
