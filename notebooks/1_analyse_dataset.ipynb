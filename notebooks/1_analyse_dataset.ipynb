{
 "cells": [
  {
   "cell_type": "code",
   "execution_count": null,
   "id": "initial_id",
   "metadata": {
    "ExecuteTime": {
     "end_time": "2024-03-15T11:07:39.123324510Z",
     "start_time": "2024-03-15T11:07:39.065139618Z"
    }
   },
   "outputs": [],
   "source": [
    "import polars as pl"
   ]
  },
  {
   "cell_type": "code",
   "execution_count": null,
   "id": "c8a2c7d4858169a2",
   "metadata": {
    "ExecuteTime": {
     "end_time": "2024-03-15T11:12:01.007272795Z",
     "start_time": "2024-03-15T11:11:47.709404815Z"
    },
    "collapsed": false,
    "jupyter": {
     "outputs_hidden": false
    }
   },
   "outputs": [],
   "source": [
    "ds = pl.read_parquet(\"../data/datasets/pl/raw\", use_pyarrow=True)\n",
    "\n",
    "dt_fmt = \"%Y-%m-%d %H:%M:%S%.f %Z\"\n",
    "dt_unit = \"ms\"  # due to https://github.com/pola-rs/polars/issues/13592\n",
    "\n",
    "ds = ds.with_columns(\n",
    "    ds[\"date\"].str.to_datetime(format=dt_fmt, time_unit=dt_unit),\n",
    "    ds[\"publicationDate\"].str.to_datetime(format=dt_fmt, time_unit=dt_unit),\n",
    "    ds[\"lastUpdate\"].str.to_datetime(format=dt_fmt, time_unit=dt_unit),\n",
    "    ds[\"courtId\"].cast(pl.Int32),\n",
    "    ds[\"departmentId\"].cast(pl.Int32),\n",
    "    ds[\"type\"].cast(pl.Categorical),\n",
    ")\n",
    "\n",
    "ds.head()"
   ]
  },
  {
   "cell_type": "code",
   "execution_count": null,
   "id": "35e65fe2dd9a4bce",
   "metadata": {
    "ExecuteTime": {
     "end_time": "2024-03-15T11:12:01.074286418Z",
     "start_time": "2024-03-15T11:12:00.912825131Z"
    },
    "collapsed": false,
    "jupyter": {
     "outputs_hidden": false
    }
   },
   "outputs": [],
   "source": [
    "ds.describe()"
   ]
  },
  {
   "cell_type": "code",
   "execution_count": null,
   "id": "ab23ff37327a377a",
   "metadata": {
    "ExecuteTime": {
     "end_time": "2024-03-15T11:15:27.800725934Z",
     "start_time": "2024-03-15T11:15:27.753971240Z"
    },
    "collapsed": false,
    "jupyter": {
     "outputs_hidden": false
    }
   },
   "outputs": [],
   "source": [
    "ds[\"type\"].value_counts()"
   ]
  },
  {
   "cell_type": "code",
   "execution_count": null,
   "id": "11446c299cdf1700",
   "metadata": {
    "ExecuteTime": {
     "end_time": "2024-03-15T11:15:38.059155473Z",
     "start_time": "2024-03-15T11:15:38.053450756Z"
    },
    "collapsed": false,
    "jupyter": {
     "outputs_hidden": false
    }
   },
   "outputs": [],
   "source": [
    "print(f\"Missing content: {ds['content'].null_count() / len(ds)}\")\n",
    "print(f\"Missing theis: {ds['thesis'].null_count() / len(ds)}\")\n",
    "print(f\"Missing excerpt: {ds['excerpt'].null_count() / len(ds)}\")"
   ]
  },
  {
   "cell_type": "code",
   "execution_count": null,
   "id": "891ffbad",
   "metadata": {},
   "outputs": [],
   "source": [
    "ds[\"excerpt\"].str.strip_chars().str.len_chars().to_pandas().plot.hist(bins=50, log=True, title=\"Excerpt #chars distribution\")"
   ]
  }
 ],
 "metadata": {
  "kernelspec": {
   "display_name": "Python 3 (ipykernel)",
   "language": "python",
   "name": "python3"
  },
  "language_info": {
   "codemirror_mode": {
    "name": "ipython",
    "version": 3
   },
   "file_extension": ".py",
   "mimetype": "text/x-python",
   "name": "python",
   "nbconvert_exporter": "python",
   "pygments_lexer": "ipython3",
   "version": "3.11.8"
  }
 },
 "nbformat": 4,
 "nbformat_minor": 5
}
