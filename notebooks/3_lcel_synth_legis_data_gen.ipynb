{
 "cells": [
  {
   "cell_type": "code",
   "execution_count": 1,
   "metadata": {},
   "outputs": [],
   "source": [
    "from langchain_core.output_parsers import JsonOutputParser\n",
    "from langchain_core.pydantic_v1 import BaseModel, Field\n",
    "from langchain_core.prompts import ChatPromptTemplate\n",
    "from langchain_openai import ChatOpenAI\n",
    "from langchain.globals import set_verbose\n",
    "\n",
    "set_verbose(True)"
   ]
  },
  {
   "cell_type": "code",
   "execution_count": 2,
   "metadata": {},
   "outputs": [],
   "source": [
    "LEGIS_TEXT = \"\"\"\\\n",
    "Sygnatura akt II AKa 335/15\n",
    "\n",
    "WYROK\n",
    "W IMIENIU RZECZYPOSPOLITEJ POLSKIEJ\n",
    "Dnia 20 stycznia 2016 r.\n",
    "\n",
    "Sąd Apelacyjny we Wrocławiu II Wydział Karny w składzie:\n",
    "\n",
    "Przewodniczący: SSA Stanisław Rączkowski (spr.)\n",
    "\n",
    "Sędziowie: SSA Edward Stelmasik\n",
    "\n",
    "SSO del. do SA Edyta Gajgał\n",
    "\n",
    "Protokolant: Beata Sienica\n",
    "\n",
    "przy udziale prokuratora Prokuratury Apelacyjnej Leszka Pruskiego\n",
    "\n",
    "po rozpoznaniu w dniu 20 stycznia 2016 r.\n",
    "\n",
    "sprawy G. K.\n",
    "\n",
    "oskarżonego z art. 280 § 2 kk\n",
    "\n",
    "na skutek apelacji wniesionej przez oskarżonego\n",
    "\n",
    "od wyroku Sądu Okręgowego w Jeleniej Górze\n",
    "\n",
    "z dnia 20 października 2015 r. sygn. akt III K 43/15\n",
    "\n",
    "I . zmienia zaskarżony wyrok wobec oskarżonego G. K. w ten sposób, że wymierzoną temu oskarżonemu karę obniża do 3 ( trzech) lat pozbawienia wolności,\n",
    "\n",
    "II. utrzymuje w mocy w pozostałym zakresie zaskarżony wyrok,\n",
    "\n",
    "III. zasądza od Skarbu Państwa na rzecz adw. W. B. 600 złotych tytułem kosztów nieopłaconej pomocy prawnej udzielonej oskarżonemu G. K. z urzędu przed sądem odwoławczym oraz 138 zł tytułem zwrotu VAT,\n",
    "\n",
    "IV. zwalnia oskarżonego od kosztów sądowych za postępowanie odwoławcze.\n",
    "\n",
    "E. S.\n",
    "\n",
    "S. R.\n",
    "\n",
    "E. G.\n",
    "\"\"\""
   ]
  },
  {
   "cell_type": "code",
   "execution_count": 3,
   "metadata": {},
   "outputs": [],
   "source": [
    "INSTRUCTION = '''\\\n",
    "You are a question-answer generator. Your goal is to generate question-answer pairs given the Context.\n",
    "Do not tranlate the Context, generate questions and answers in original language.\n",
    "\n",
    "Step 1: Identify spans that are likely to be answers to questions, identify as many as possible.\n",
    "Step 2: For each identified span, generate a question.\n",
    "Step 3: Respond to the question in only a few tokens concisely.\n",
    "Step 4: Output in JSON format following [...]\n",
    "\n",
    "Ensure that you distinctly label and delineate Steps 1, 2, 3, and 4.\n",
    "\n",
    "Context: {context}\n",
    "\n",
    "Example output: [{{\"question\": \"generated question\", \"answer\": \"gathered answer\"}}, ...]\n",
    "\n",
    "{format_instructions}\n",
    "\n",
    "```json\n",
    "'''"
   ]
  },
  {
   "cell_type": "code",
   "execution_count": 4,
   "metadata": {},
   "outputs": [],
   "source": [
    "# Define your desired data structure.\n",
    "class SyntheticLegisQARecord(BaseModel):\n",
    "    question: str = Field(description=\"Question parsed from last step of answer\")\n",
    "    answer: str = Field(description=\"Answer parsed from last step of answer\")"
   ]
  },
  {
   "cell_type": "code",
   "execution_count": 5,
   "metadata": {},
   "outputs": [],
   "source": [
    "output_parser = JsonOutputParser(pydantic_object=SyntheticLegisQARecord)"
   ]
  },
  {
   "cell_type": "code",
   "execution_count": 6,
   "metadata": {},
   "outputs": [
    {
     "name": "stdout",
     "output_type": "stream",
     "text": [
      "The output should be formatted as a JSON instance that conforms to the JSON schema below.\n",
      "\n",
      "As an example, for the schema {\"properties\": {\"foo\": {\"title\": \"Foo\", \"description\": \"a list of strings\", \"type\": \"array\", \"items\": {\"type\": \"string\"}}}, \"required\": [\"foo\"]}\n",
      "the object {\"foo\": [\"bar\", \"baz\"]} is a well-formatted instance of the schema. The object {\"properties\": {\"foo\": [\"bar\", \"baz\"]}} is not well-formatted.\n",
      "\n",
      "Here is the output schema:\n",
      "```\n",
      "{\"properties\": {\"question\": {\"title\": \"Question\", \"description\": \"Question parsed from last step of answer\", \"type\": \"string\"}, \"answer\": {\"title\": \"Answer\", \"description\": \"Answer parsed from last step of answer\", \"type\": \"string\"}}, \"required\": [\"question\", \"answer\"]}\n",
      "```\n"
     ]
    }
   ],
   "source": [
    "print(output_parser.get_format_instructions())"
   ]
  },
  {
   "cell_type": "code",
   "execution_count": 7,
   "metadata": {},
   "outputs": [],
   "source": [
    "prompt = ChatPromptTemplate.from_template(\n",
    "    template=INSTRUCTION,\n",
    "    partial_variables={\"format_instructions\": output_parser.get_format_instructions()},\n",
    ")"
   ]
  },
  {
   "cell_type": "code",
   "execution_count": 8,
   "metadata": {},
   "outputs": [
    {
     "data": {
      "text/plain": [
       "[{'question': 'Kiedy został wydany wyrok?', 'answer': '20 stycznia 2016 r.'},\n",
       " {'question': 'Który sąd wydał wyrok?',\n",
       "  'answer': 'Sąd Apelacyjny we Wrocławiu II Wydział Karny'},\n",
       " {'question': 'Kto był przewodniczącym sądu?',\n",
       "  'answer': 'SSA Stanisław Rączkowski'},\n",
       " {'question': 'Kto był sędzią w sprawie?', 'answer': 'SSA Edward Stelmasik'},\n",
       " {'question': 'Kto był delegatem do Sądu Apelacyjnego?',\n",
       "  'answer': 'SSA Edyta Gajgał'},\n",
       " {'question': 'Kto był protokolantem?', 'answer': 'Beata Sienica'},\n",
       " {'question': 'Kiedy sprawa została rozpoznana?',\n",
       "  'answer': '20 stycznia 2016 r.'},\n",
       " {'question': 'Kto był oskarżony?', 'answer': 'G. K.'},\n",
       " {'question': 'Z jakiego artykułu oskarżony został oskarżony?',\n",
       "  'answer': 'art. 280 § 2 kk'},\n",
       " {'question': 'Kiedy został wydany wyrok Sądu Okręgowego?',\n",
       "  'answer': '20 października 2015 r.'},\n",
       " {'question': 'Na jaką karę został skazany oskarżony?',\n",
       "  'answer': '3 lata pozbawienia wolności'},\n",
       " {'question': 'Jaka była wysokość kosztów nieopłaconej pomocy prawnej?',\n",
       "  'answer': '600 złotych za pomoc prawną i 138 zł zwrotu VAT'}]"
      ]
     },
     "execution_count": 8,
     "metadata": {},
     "output_type": "execute_result"
    }
   ],
   "source": [
    "model = ChatOpenAI(model=\"gpt-4\")\n",
    "\n",
    "chain = prompt | model | output_parser\n",
    "\n",
    "chain.invoke({\"context\": LEGIS_TEXT})"
   ]
  },
  {
   "cell_type": "markdown",
   "metadata": {},
   "source": [
    "Trace: https://smith.langchain.com/public/80d26eb5-6a3e-4d7e-bcbc-5221edb7f1ce/r"
   ]
  },
  {
   "cell_type": "markdown",
   "metadata": {},
   "source": []
  }
 ],
 "metadata": {
  "kernelspec": {
   "display_name": "base",
   "language": "python",
   "name": "python3"
  },
  "language_info": {
   "codemirror_mode": {
    "name": "ipython",
    "version": 3
   },
   "file_extension": ".py",
   "mimetype": "text/x-python",
   "name": "python",
   "nbconvert_exporter": "python",
   "pygments_lexer": "ipython3",
   "version": "3.10.13"
  },
  "orig_nbformat": 4
 },
 "nbformat": 4,
 "nbformat_minor": 2
}
