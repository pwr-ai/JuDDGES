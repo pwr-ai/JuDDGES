{
 "cells": [
  {
   "cell_type": "code",
   "execution_count": 1,
   "metadata": {},
   "outputs": [],
   "source": [
    "from pymongo import MongoClient\n",
    "from os import environ\n",
    "import tiktoken\n",
    "import pandas as pd\n",
    "import seaborn as sns\n",
    "\n",
    "from typing import List\n",
    "\n",
    "from langchain_core.output_parsers import JsonOutputParser\n",
    "from langchain_core.pydantic_v1 import BaseModel, Field\n",
    "from langchain_core.prompts import ChatPromptTemplate\n",
    "from langchain_openai import ChatOpenAI\n",
    "from langchain.globals import set_verbose\n",
    "\n",
    "set_verbose(True)"
   ]
  },
  {
   "cell_type": "code",
   "execution_count": 2,
   "metadata": {},
   "outputs": [],
   "source": [
    "client = MongoClient(environ[\"MONGODB_URI\"])"
   ]
  },
  {
   "cell_type": "code",
   "execution_count": 3,
   "metadata": {},
   "outputs": [],
   "source": [
    "MODEL = \"gpt-3.5-turbo\"\n",
    "\n",
    "COST_PER_TOKEN = {\n",
    "    \"gpt-4\": 30 / 10**6,\n",
    "    \"gpt-3.5-turbo\": 0.5 / 10**6,\n",
    "}\n",
    "\n",
    "MAX_TOKENS = {\n",
    "    \"gpt-4\": 32_768,\n",
    "    \"gpt-3.5-turbo\": 16_385,\n",
    "}"
   ]
  },
  {
   "cell_type": "code",
   "execution_count": 4,
   "metadata": {},
   "outputs": [],
   "source": [
    "def count_tokens(text, model=MODEL):\n",
    "    # https://github.com/openai/openai-cookbook/blob/main/examples/How_to_count_tokens_with_tiktoken.ipynb\n",
    "    encoding = tiktoken.encoding_for_model(model)\n",
    "    return 3 + len(encoding.encode(text))"
   ]
  },
  {
   "cell_type": "code",
   "execution_count": 5,
   "metadata": {},
   "outputs": [
    {
     "data": {
      "text/html": [
       "<div>\n",
       "<style scoped>\n",
       "    .dataframe tbody tr th:only-of-type {\n",
       "        vertical-align: middle;\n",
       "    }\n",
       "\n",
       "    .dataframe tbody tr th {\n",
       "        vertical-align: top;\n",
       "    }\n",
       "\n",
       "    .dataframe thead th {\n",
       "        text-align: right;\n",
       "    }\n",
       "</style>\n",
       "<table border=\"1\" class=\"dataframe\">\n",
       "  <thead>\n",
       "    <tr style=\"text-align: right;\">\n",
       "      <th></th>\n",
       "      <th>_id</th>\n",
       "      <th>num_tokens</th>\n",
       "    </tr>\n",
       "  </thead>\n",
       "  <tbody>\n",
       "    <tr>\n",
       "      <th>0</th>\n",
       "      <td>150515000003506_VII_Ka_000797_2015_Uz_2015-10-...</td>\n",
       "      <td>2544</td>\n",
       "    </tr>\n",
       "    <tr>\n",
       "      <th>1</th>\n",
       "      <td>152510000004021_VIII_U_000790_2020_Uz_2020-10-...</td>\n",
       "      <td>977</td>\n",
       "    </tr>\n",
       "    <tr>\n",
       "      <th>2</th>\n",
       "      <td>152510050000503_I_C_000830_2019_Uz_2020-02-11_001</td>\n",
       "      <td>14858</td>\n",
       "    </tr>\n",
       "    <tr>\n",
       "      <th>3</th>\n",
       "      <td>151515250002521_V_U_000283_2019_Uz_2020-08-11_002</td>\n",
       "      <td>5355</td>\n",
       "    </tr>\n",
       "    <tr>\n",
       "      <th>4</th>\n",
       "      <td>154505300005506_XI_W_001544_2015_Uz_2015-12-02...</td>\n",
       "      <td>4913</td>\n",
       "    </tr>\n",
       "    <tr>\n",
       "      <th>5</th>\n",
       "      <td>154505200000503_I_C_002148_2020_Uz_2021-10-21_001</td>\n",
       "      <td>4519</td>\n",
       "    </tr>\n",
       "    <tr>\n",
       "      <th>6</th>\n",
       "      <td>152510000004021_VIII_U_002767_2021_Uz_2022-03-...</td>\n",
       "      <td>5575</td>\n",
       "    </tr>\n",
       "    <tr>\n",
       "      <th>7</th>\n",
       "      <td>152510150004003_VIII_C_002116_2017_Uz_2018-04-...</td>\n",
       "      <td>5660</td>\n",
       "    </tr>\n",
       "    <tr>\n",
       "      <th>8</th>\n",
       "      <td>154500000003003_VI_ACa_000254_2013_Uz_2013-10-...</td>\n",
       "      <td>10993</td>\n",
       "    </tr>\n",
       "    <tr>\n",
       "      <th>9</th>\n",
       "      <td>151015150000503_I1_C_000182_2019_Uz_2019-09-04...</td>\n",
       "      <td>13026</td>\n",
       "    </tr>\n",
       "    <tr>\n",
       "      <th>10</th>\n",
       "      <td>155500000001521_III_AUz_000053_2014_Uz_2014-05...</td>\n",
       "      <td>2153</td>\n",
       "    </tr>\n",
       "    <tr>\n",
       "      <th>11</th>\n",
       "      <td>152510000001503_III_Ca_000750_2019_Uz_2019-07-...</td>\n",
       "      <td>323</td>\n",
       "    </tr>\n",
       "    <tr>\n",
       "      <th>12</th>\n",
       "      <td>154510250003021_VI_P_000372_2015_Uz_2017-12-12...</td>\n",
       "      <td>12519</td>\n",
       "    </tr>\n",
       "    <tr>\n",
       "      <th>13</th>\n",
       "      <td>154505000005127_XVII_AmE_000235_2018_Uz_2019-0...</td>\n",
       "      <td>5392</td>\n",
       "    </tr>\n",
       "    <tr>\n",
       "      <th>14</th>\n",
       "      <td>155020100000503_I_C_000932_2013_Uz_2014-06-09_001</td>\n",
       "      <td>3781</td>\n",
       "    </tr>\n",
       "    <tr>\n",
       "      <th>15</th>\n",
       "      <td>153005450000503_I_Ns_000121_2017_Uz_2019-04-19...</td>\n",
       "      <td>384</td>\n",
       "    </tr>\n",
       "    <tr>\n",
       "      <th>16</th>\n",
       "      <td>152505100000503_I_C_004522_2017_Uz_2018-02-05_001</td>\n",
       "      <td>3823</td>\n",
       "    </tr>\n",
       "    <tr>\n",
       "      <th>17</th>\n",
       "      <td>151515000001503_III_Ca_000614_2020_Uz_2021-05-...</td>\n",
       "      <td>2096</td>\n",
       "    </tr>\n",
       "    <tr>\n",
       "      <th>18</th>\n",
       "      <td>153505000001521_III_Ua_000010_2014_Uz_2014-05-...</td>\n",
       "      <td>6995</td>\n",
       "    </tr>\n",
       "    <tr>\n",
       "      <th>19</th>\n",
       "      <td>155515300001503_III_C_001603_2016_Uz_2017-09-1...</td>\n",
       "      <td>11032</td>\n",
       "    </tr>\n",
       "  </tbody>\n",
       "</table>\n",
       "</div>"
      ],
      "text/plain": [
       "                                                  _id  num_tokens\n",
       "0   150515000003506_VII_Ka_000797_2015_Uz_2015-10-...        2544\n",
       "1   152510000004021_VIII_U_000790_2020_Uz_2020-10-...         977\n",
       "2   152510050000503_I_C_000830_2019_Uz_2020-02-11_001       14858\n",
       "3   151515250002521_V_U_000283_2019_Uz_2020-08-11_002        5355\n",
       "4   154505300005506_XI_W_001544_2015_Uz_2015-12-02...        4913\n",
       "5   154505200000503_I_C_002148_2020_Uz_2021-10-21_001        4519\n",
       "6   152510000004021_VIII_U_002767_2021_Uz_2022-03-...        5575\n",
       "7   152510150004003_VIII_C_002116_2017_Uz_2018-04-...        5660\n",
       "8   154500000003003_VI_ACa_000254_2013_Uz_2013-10-...       10993\n",
       "9   151015150000503_I1_C_000182_2019_Uz_2019-09-04...       13026\n",
       "10  155500000001521_III_AUz_000053_2014_Uz_2014-05...        2153\n",
       "11  152510000001503_III_Ca_000750_2019_Uz_2019-07-...         323\n",
       "12  154510250003021_VI_P_000372_2015_Uz_2017-12-12...       12519\n",
       "13  154505000005127_XVII_AmE_000235_2018_Uz_2019-0...        5392\n",
       "14  155020100000503_I_C_000932_2013_Uz_2014-06-09_001        3781\n",
       "15  153005450000503_I_Ns_000121_2017_Uz_2019-04-19...         384\n",
       "16  152505100000503_I_C_004522_2017_Uz_2018-02-05_001        3823\n",
       "17  151515000001503_III_Ca_000614_2020_Uz_2021-05-...        2096\n",
       "18  153505000001521_III_Ua_000010_2014_Uz_2014-05-...        6995\n",
       "19  155515300001503_III_C_001603_2016_Uz_2017-09-1...       11032"
      ]
     },
     "execution_count": 5,
     "metadata": {},
     "output_type": "execute_result"
    }
   ],
   "source": [
    "agg = [\n",
    "    {\n",
    "        \"$match\": {\n",
    "            \"text\": {\n",
    "                \"$exists\": True\n",
    "            }\n",
    "        }\n",
    "    },\n",
    "    {\n",
    "        \"$sample\": {\n",
    "            \"size\": 20\n",
    "        }\n",
    "    },\n",
    "]\n",
    "\n",
    "token_counts = []\n",
    "for doc in client['juddges']['judgements'].aggregate(agg):\n",
    "    num_tokens = count_tokens(doc['text'])\n",
    "    token_counts.append({\n",
    "        \"_id\": doc[\"_id\"],\n",
    "        \"num_tokens\": num_tokens\n",
    "    })\n",
    "\n",
    "token_counts_df = pd.DataFrame.from_records(token_counts)\n",
    "token_counts_df"
   ]
  },
  {
   "cell_type": "code",
   "execution_count": 6,
   "metadata": {},
   "outputs": [
    {
     "name": "stdout",
     "output_type": "stream",
     "text": [
      "Estimated cost: $0.06\n"
     ]
    }
   ],
   "source": [
    "estimated_cost = token_counts_df[\"num_tokens\"].sum() * COST_PER_TOKEN[MODEL]\n",
    "\n",
    "print(f\"Estimated cost: ${estimated_cost:,.2f}\")"
   ]
  },
  {
   "cell_type": "code",
   "execution_count": 7,
   "metadata": {},
   "outputs": [
    {
     "data": {
      "text/plain": [
       "<Axes: xlabel='num_tokens', ylabel='Count'>"
      ]
     },
     "execution_count": 7,
     "metadata": {},
     "output_type": "execute_result"
    },
    {
     "data": {
      "image/png": "[encoded data removed]",
      "text/plain": [
       "<Figure size 640x480 with 1 Axes>"
      ]
     },
     "metadata": {},
     "output_type": "display_data"
    }
   ],
   "source": [
    "sns.histplot(\n",
    "    data=token_counts_df,\n",
    "    x=\"num_tokens\",\n",
    ")"
   ]
  },
  {
   "cell_type": "code",
   "execution_count": 8,
   "metadata": {},
   "outputs": [],
   "source": [
    "INSTRUCTION = '''\\\n",
    "You are a question-answer generator. Your goal is to generate question-answer pairs given the Context.\n",
    "Do not tranlate the Context, generate questions and answers in original language.\n",
    "\n",
    "Context: {context}\n",
    "\n",
    "Step 1: Identify spans that are likely to be answers to questions, identify as many as possible.\n",
    "Step 2: For each identified span, generate a question.\n",
    "Step 3: Respond to the question in only a few tokens concisely.\n",
    "\n",
    "Ensure that you distinctly label and delineate Steps 1, 2 and 3.\n",
    "\n",
    "{format_instructions}\n",
    "\n",
    "Output:\n",
    "```{format_md_ext}\n",
    "'''"
   ]
  },
  {
   "cell_type": "code",
   "execution_count": 9,
   "metadata": {},
   "outputs": [],
   "source": [
    "# Define your desired data structure.\n",
    "class SyntheticLegisQAPairs(BaseModel):\n",
    "    questions: List[str] = Field(description=\"List of generated questions\")\n",
    "    answers: List[str] = Field(description=\"List of generated answers\")"
   ]
  },
  {
   "cell_type": "code",
   "execution_count": 10,
   "metadata": {},
   "outputs": [],
   "source": [
    "output_parser = JsonOutputParser(pydantic_object=SyntheticLegisQAPairs)"
   ]
  },
  {
   "cell_type": "code",
   "execution_count": 11,
   "metadata": {},
   "outputs": [
    {
     "name": "stdout",
     "output_type": "stream",
     "text": [
      "The output should be formatted as a JSON instance that conforms to the JSON schema below.\n",
      "\n",
      "As an example, for the schema {\"properties\": {\"foo\": {\"title\": \"Foo\", \"description\": \"a list of strings\", \"type\": \"array\", \"items\": {\"type\": \"string\"}}}, \"required\": [\"foo\"]}\n",
      "the object {\"foo\": [\"bar\", \"baz\"]} is a well-formatted instance of the schema. The object {\"properties\": {\"foo\": [\"bar\", \"baz\"]}} is not well-formatted.\n",
      "\n",
      "Here is the output schema:\n",
      "```\n",
      "{\"properties\": {\"questions\": {\"title\": \"Questions\", \"description\": \"List of generated questions\", \"type\": \"array\", \"items\": {\"type\": \"string\"}}, \"answers\": {\"title\": \"Answers\", \"description\": \"List of generated answers\", \"type\": \"array\", \"items\": {\"type\": \"string\"}}}, \"required\": [\"questions\", \"answers\"]}\n",
      "```\n"
     ]
    }
   ],
   "source": [
    "print(output_parser.get_format_instructions())"
   ]
  },
  {
   "cell_type": "code",
   "execution_count": 12,
   "metadata": {},
   "outputs": [],
   "source": [
    "prompt = ChatPromptTemplate.from_template(\n",
    "    template=INSTRUCTION,\n",
    "    partial_variables={\"format_instructions\": output_parser.get_format_instructions()},\n",
    ")"
   ]
  },
  {
   "cell_type": "markdown",
   "metadata": {},
   "source": [
    "## GPT-4"
   ]
  },
  {
   "cell_type": "code",
   "execution_count": 13,
   "metadata": {},
   "outputs": [],
   "source": [
    "# model = ChatOpenAI(model=MODEL)\n",
    "\n",
    "# chain = prompt | model | output_parser\n",
    "\n",
    "# for doc in client['juddges']['judgements'].aggregate(agg):\n",
    "#     num_tokens = count_tokens(doc['text'])\n",
    "#     if num_tokens > 0.95 * MAX_TOKENS[MODEL]:\n",
    "#         print(f\"Skipping document with _id: {doc['_id']}, too many tokens ({num_tokens:,}; max: {MAX_TOKENS[MODEL]:,})\")\n",
    "#         continue\n",
    "\n",
    "#     qa_pairs = chain.invoke({\"context\": doc[\"text\"]})\n",
    "#     qa_pairs_str_fmt = \"\\n\\n\".join(f\"\\tQuestion: {q}\\n\\tAnswer: {a}\" for q, a in zip(qa_pairs[\"questions\"], qa_pairs[\"answers\"]))\n",
    "#     print(f\"Content: {doc['text'][:1_000]}\\n{' ... '.center(80)}\")\n",
    "#     print(f\"\\n\\nGenerated QA pairs:\\n\\n{qa_pairs_str_fmt}\")\n",
    "#     print(\"\\n\\n\", \"=\" * 100, \"\\n\\n\")"
   ]
  },
  {
   "cell_type": "markdown",
   "metadata": {},
   "source": [
    "## phi-2 orange"
   ]
  },
  {
   "cell_type": "code",
   "execution_count": 14,
   "metadata": {},
   "outputs": [
    {
     "data": {
      "text/plain": [
       "True"
      ]
     },
     "execution_count": 14,
     "metadata": {},
     "output_type": "execute_result"
    }
   ],
   "source": [
    "from langchain_community.llms.huggingface_pipeline import HuggingFacePipeline\n",
    "from transformers import AutoModelForCausalLM, AutoTokenizer, pipeline\n",
    "\n",
    "from dotenv import load_dotenv\n",
    "\n",
    "load_dotenv()"
   ]
  },
  {
   "cell_type": "code",
   "execution_count": 15,
   "metadata": {},
   "outputs": [
    {
     "name": "stderr",
     "output_type": "stream",
     "text": [
      "/opt/conda/lib/python3.10/site-packages/transformers/modeling_utils.py:4225: FutureWarning: `_is_quantized_training_enabled` is going to be deprecated in transformers 4.39.0. Please use `model.hf_quantizer.is_trainable` instead\n",
      "  warnings.warn(\n",
      "Special tokens have been added in the vocabulary, make sure the associated word embeddings are fine-tuned or trained.\n"
     ]
    }
   ],
   "source": [
    "model_name_or_path = \"TheBloke/CapybaraHermes-2.5-Mistral-7B-GPTQ\"\n",
    "MAX_INPUT_LENGTH = 3551\n",
    "\n",
    "# To use a different branch, change revision\n",
    "# For example: revision=\"gptq-4bit-32g-actorder_True\"\n",
    "model = AutoModelForCausalLM.from_pretrained(model_name_or_path,\n",
    "                                             device_map=\"auto\",\n",
    "                                             trust_remote_code=True,\n",
    "                                             revision=\"main\")\n",
    "\n",
    "from auto_gptq import exllama_set_max_input_length\n",
    "model = exllama_set_max_input_length(model, max_input_length=3551)\n",
    "\n",
    "tokenizer = AutoTokenizer.from_pretrained(model_name_or_path, use_fast=True)\n",
    "\n",
    "pipe = pipeline(\n",
    "    \"text-generation\",\n",
    "    model=model,\n",
    "    tokenizer=tokenizer,\n",
    "    max_new_tokens=512,\n",
    "    do_sample=True,\n",
    "    temperature=0.7,\n",
    "    top_p=0.95,\n",
    "    top_k=40,\n",
    "    repetition_penalty=1.1\n",
    ")\n",
    "hf_pipeline = HuggingFacePipeline(pipeline=pipe)"
   ]
  },
  {
   "cell_type": "code",
   "execution_count": 16,
   "metadata": {},
   "outputs": [
    {
     "name": "stderr",
     "output_type": "stream",
     "text": [
      "Setting `pad_token_id` to `eos_token_id`:32000 for open-end generation.\n"
     ]
    },
    {
     "name": "stdout",
     "output_type": "stream",
     "text": [
      "Skipping document with _id: 152525050000503_I_C_001608_2017_Uz_2020-02-17_001, too many tokens (7,755; max: 4,096)\n",
      "Content: Sygn. akt I C 241/14\n",
      "\n",
      "WYROK\n",
      "W IMIENIU RZECZYPOSPOLITEJ POLSKIEJ\n",
      "\n",
      "Dnia 20 lutego 2019 r.\n",
      "Sąd Okręgowy w Łodzi I Wydział Cywilny\n",
      "w składzie następującym:\n",
      "Przewodniczący: SSO Karol Ike-Duninowski\n",
      "Protokolant: Aleksander Basgier\n",
      "po rozpoznaniu w dniu 30 stycznia 2019 r. w Łodzi\n",
      "na rozprawie sprawy\n",
      "z powództwaK. K.iA. S.– następców prawnychE. K.\n",
      "przeciwkoSamodzielnemu Publicznemu Zakładowi Opieki Zdrowotnej(...) Szpitalowi (...)Medycznej (...)wŁ.-(...) Szpitalowi (...)wŁ.\n",
      "o zadośćuczynienie, odszkodowanie, rentę i ustalenie\n",
      "\n",
      "1\n",
      "zasądza od Samodzielnego Publicznego Zakładu Opieki Zdrowotnej(...) Szpitala (...)Medycznej (...)wŁ.-(...) Szpitala (...)wŁ.na rzeczK. K.iA. S.:\n",
      "\n",
      "a\n",
      "kwoty po 25.000 (dwadzieścia pięć tysięcy) złotych na rzecz każdego z powodów z odsetkami ustawowymi od dnia 17 czerwca 2014 roku do dnia 31 grudnia 2015 roku oraz z odsetkami ustawowymi za opóźnienie od dnia 1 stycznia 2016 roku do dnia zapłaty, tytułem zadośćuczynienia,\n",
      "\n",
      "b\n",
      "kwoty po 800 (osiemset) złotych na rzecz każdego\n",
      "                                      ...                                       \n",
      "\n",
      "\n",
      "Generated QA pairs:\n",
      "\n",
      "\tQuestion: What is the name of the court?\n",
      "\tAnswer: Sąd Okręgowy w Łodzi I Wydział Cywilny\n",
      "\n",
      "\tQuestion: Who is the presiding judge?\n",
      "\tAnswer: SSO Karol Ike-Duninowski\n",
      "\n",
      "\tQuestion: What is the case about?\n",
      "\tAnswer: The case is about a claim against a public health care facility for damages and compensation.\n",
      "\n",
      "\tQuestion: What is the court ordered to pay K. K.iA. S.?\n",
      "\tAnswer: kwoty po 25.000 (dwadzieścio\n",
      "\n",
      "\n",
      " ==================================================================================================== \n",
      "\n",
      "\n"
     ]
    }
   ],
   "source": [
    "import re\n",
    "\n",
    "# hf_chain = prompt | hf_pipeline | output_parser\n",
    "hf_chain = prompt | hf_pipeline\n",
    "\n",
    "for doc in client['juddges']['judgements'].aggregate(agg):\n",
    "    num_tokens = count_tokens(doc['text'])\n",
    "    if num_tokens > 0.95 * MAX_INPUT_LENGTH:\n",
    "        print(f\"Skipping document with _id: {doc['_id']}, too many tokens ({num_tokens:,}; max: {MAX_INPUT_LENGTH:,})\")\n",
    "        continue\n",
    "\n",
    "    llm_answer = hf_chain.invoke({\"context\": doc[\"text\"]})\n",
    "    llm_answer_filtered = re.findall(r\"```(?:json)?([^`]+)(?:```)?\\s*$\", llm_answer, flags=re.IGNORECASE)[-1]\n",
    "    qa_pairs = output_parser.parse(llm_answer_filtered)\n",
    "    qa_pairs_str_fmt = \"\\n\\n\".join(f\"\\tQuestion: {q}\\n\\tAnswer: {a}\" for q, a in zip(qa_pairs[\"questions\"], qa_pairs[\"answers\"]))\n",
    "    print(f\"Content: {doc['text'][:1_000]}\\n{' ... '.center(80)}\")\n",
    "    print(f\"\\n\\nGenerated QA pairs:\\n\\n{qa_pairs_str_fmt}\")\n",
    "    print(\"\\n\\n\", \"=\" * 100, \"\\n\\n\")\n",
    "    \n",
    "    break"
   ]
  },
  {
   "cell_type": "code",
   "execution_count": 19,
   "metadata": {},
   "outputs": [
    {
     "data": {
      "text/plain": [
       "{'questions': ['What is the name of the court?',\n",
       "  'Who is the presiding judge?',\n",
       "  'What is the case about?',\n",
       "  'What is the court ordered to pay K. K.iA. S.?',\n",
       "  'What is the amount paid per person in the compensation?',\n",
       "  'What is the amount paid per person in the damages?',\n",
       "  'What is the court ordering to be returned from the Public Health Care Facility?',\n",
       "  'What costs are the plaintiffs relieved from?',\n",
       "  'What costs are not the defendant responsible for?',\n",
       "  'What is the amount to be returned from the account on the order of the District Court in Łódź?'],\n",
       " 'answers': ['Sąd Okręgowy w Łodzi I Wydział Cywilny',\n",
       "  'SSO Karol Ike-Duninowski',\n",
       "  'The case is about a claim against a public health care facility for damages and compensation.',\n",
       "  'kwoty po 25.000 (dwadzieścio']}"
      ]
     },
     "execution_count": 19,
     "metadata": {},
     "output_type": "execute_result"
    }
   ],
   "source": [
    "qa_pairs"
   ]
  },
  {
   "cell_type": "code",
   "execution_count": 17,
   "metadata": {},
   "outputs": [
    {
     "name": "stdout",
     "output_type": "stream",
     "text": [
      "Human: You are a question-answer generator. Your goal is to generate question-answer pairs given the Context.\n",
      "Do not tranlate the Context, generate questions and answers in original language.\n",
      "\n",
      "Context: Sygn. akt I C 241/14\n",
      "\n",
      "WYROK\n",
      "W IMIENIU RZECZYPOSPOLITEJ POLSKIEJ\n",
      "\n",
      "Dnia 20 lutego 2019 r.\n",
      "Sąd Okręgowy w Łodzi I Wydział Cywilny\n",
      "w składzie następującym:\n",
      "Przewodniczący: SSO Karol Ike-Duninowski\n",
      "Protokolant: Aleksander Basgier\n",
      "po rozpoznaniu w dniu 30 stycznia 2019 r. w Łodzi\n",
      "na rozprawie sprawy\n",
      "z powództwaK. K.iA. S.– następców prawnychE. K.\n",
      "przeciwkoSamodzielnemu Publicznemu Zakładowi Opieki Zdrowotnej(...) Szpitalowi (...)Medycznej (...)wŁ.-(...) Szpitalowi (...)wŁ.\n",
      "o zadośćuczynienie, odszkodowanie, rentę i ustalenie\n",
      "\n",
      "1\n",
      "zasądza od Samodzielnego Publicznego Zakładu Opieki Zdrowotnej(...) Szpitala (...)Medycznej (...)wŁ.-(...) Szpitala (...)wŁ.na rzeczK. K.iA. S.:\n",
      "\n",
      "a\n",
      "kwoty po 25.000 (dwadzieścia pięć tysięcy) złotych na rzecz każdego z powodów z odsetkami ustawowymi od dnia 17 czerwca 2014 roku do dnia 31 grudnia 2015 roku oraz z odsetkami ustawowymi za opóźnienie od dnia 1 stycznia 2016 roku do dnia zapłaty, tytułem zadośćuczynienia,\n",
      "\n",
      "b\n",
      "kwoty po 800 (osiemset) złotych na rzecz każdego z powodów z odsetkami ustawowymi od dnia 17 czerwca 2014 roku do dnia 31 grudnia 2015 roku oraz z odsetkami ustawowymi za opóźnienie od dnia 1 stycznia 2016 roku do dnia zapłaty, tytułem odszkodowania;\n",
      "\n",
      "2\n",
      "oddala powództwo w pozostałej części i nie obciąża powodów nieuiszczonymi kosztami sądowymi w tym zakresie;\n",
      "\n",
      "3\n",
      "nie obciąża powodów kosztami procesu poniesionymi przez pozwanego;\n",
      "\n",
      "4\n",
      "nie obciąża pozwanego nieuiszczonymi kosztami sądowymi od uwzględnionej części powództwa;\n",
      "\n",
      "5\n",
      "nakazuje zwrócić Samodzielnemu Publicznemu Zakładowi Opieki Zdrowotnej(...) Szpitalowi (...)Medycznej (...)wŁ.-(...) Szpitalowi (...)wŁ.z konta sum na zlecenie Sądu Okręgowego w Łodzi kwotę 324,60 (trzysta dwadzieścia cztery 60/100) złotych z zaliczki uiszczonej w dniu 11 lutego 2016 roku, poz. 2411 160190, tytułem niewykorzystanej zaliczki na wynagrodzenie biegłego.\n",
      "\n",
      "Step 1: Identify spans that are likely to be answers to questions, identify as many as possible.\n",
      "Step 2: For each identified span, generate a question.\n",
      "Step 3: Respond to the question in only a few tokens concisely.\n",
      "\n",
      "Ensure that you distinctly label and delineate Steps 1, 2 and 3.\n",
      "\n",
      "The output should be formatted as a JSON instance that conforms to the JSON schema below.\n",
      "\n",
      "As an example, for the schema {\"properties\": {\"foo\": {\"title\": \"Foo\", \"description\": \"a list of strings\", \"type\": \"array\", \"items\": {\"type\": \"string\"}}}, \"required\": [\"foo\"]}\n",
      "the object {\"foo\": [\"bar\", \"baz\"]} is a well-formatted instance of the schema. The object {\"properties\": {\"foo\": [\"bar\", \"baz\"]}} is not well-formatted.\n",
      "\n",
      "Here is the output schema:\n",
      "```\n",
      "{\"properties\": {\"questions\": {\"title\": \"Questions\", \"description\": \"List of generated questions\", \"type\": \"array\", \"items\": {\"type\": \"string\"}}, \"answers\": {\"title\": \"Answers\", \"description\": \"List of generated answers\", \"type\": \"array\", \"items\": {\"type\": \"string\"}}}, \"required\": [\"questions\", \"answers\"]}\n",
      "```\n",
      "\n",
      "Output:\n",
      "```json\n",
      "{\n",
      "    \"questions\": [\n",
      "        \"What is the name of the court?\",\n",
      "        \"Who is the presiding judge?\",\n",
      "        \"What is the case about?\",\n",
      "        \"What is the court ordered to pay K. K.iA. S.?\",\n",
      "        \"What is the amount paid per person in the compensation?\",\n",
      "        \"What is the amount paid per person in the damages?\",\n",
      "        \"What is the court ordering to be returned from the Public Health Care Facility?\",\n",
      "        \"What costs are the plaintiffs relieved from?\",\n",
      "        \"What costs are not the defendant responsible for?\",\n",
      "        \"What is the amount to be returned from the account on the order of the District Court in Łódź?\"\n",
      "    ],\n",
      "    \"answers\": [\n",
      "        \"Sąd Okręgowy w Łodzi I Wydział Cywilny\",\n",
      "        \"SSO Karol Ike-Duninowski\",\n",
      "        \"The case is about a claim against a public health care facility for damages and compensation.\",\n",
      "        \"kwoty po 25.000 (dwadzieścio\n"
     ]
    }
   ],
   "source": [
    "print(llm_answer)"
   ]
  },
  {
   "cell_type": "code",
   "execution_count": 18,
   "metadata": {},
   "outputs": [
    {
     "ename": "JSONDecodeError",
     "evalue": "Unterminated string starting at: line 19 column 9 (char 860)",
     "output_type": "error",
     "traceback": [
      "\u001b[0;31m---------------------------------------------------------------------------\u001b[0m",
      "\u001b[0;31mJSONDecodeError\u001b[0m                           Traceback (most recent call last)",
      "Cell \u001b[0;32mIn[18], line 6\u001b[0m\n\u001b[1;32m      3\u001b[0m \u001b[38;5;28;01mfrom\u001b[39;00m \u001b[38;5;21;01mpprint\u001b[39;00m \u001b[38;5;28;01mimport\u001b[39;00m pprint\n\u001b[1;32m      5\u001b[0m match \u001b[38;5;241m=\u001b[39m re\u001b[38;5;241m.\u001b[39mfindall(\u001b[38;5;124mr\u001b[39m\u001b[38;5;124m\"\u001b[39m\u001b[38;5;124m```(?:json)?([^`]+)(?:```)?\u001b[39m\u001b[38;5;124m\\\u001b[39m\u001b[38;5;124ms*$\u001b[39m\u001b[38;5;124m\"\u001b[39m, llm_answer, flags\u001b[38;5;241m=\u001b[39mre\u001b[38;5;241m.\u001b[39mIGNORECASE)[\u001b[38;5;241m-\u001b[39m\u001b[38;5;241m1\u001b[39m]\n\u001b[0;32m----> 6\u001b[0m pprint(\u001b[43mjson\u001b[49m\u001b[38;5;241;43m.\u001b[39;49m\u001b[43mloads\u001b[49m\u001b[43m(\u001b[49m\u001b[43mmatch\u001b[49m\u001b[43m)\u001b[49m)\n",
      "File \u001b[0;32m/opt/conda/lib/python3.10/json/__init__.py:346\u001b[0m, in \u001b[0;36mloads\u001b[0;34m(s, cls, object_hook, parse_float, parse_int, parse_constant, object_pairs_hook, **kw)\u001b[0m\n\u001b[1;32m    341\u001b[0m     s \u001b[38;5;241m=\u001b[39m s\u001b[38;5;241m.\u001b[39mdecode(detect_encoding(s), \u001b[38;5;124m'\u001b[39m\u001b[38;5;124msurrogatepass\u001b[39m\u001b[38;5;124m'\u001b[39m)\n\u001b[1;32m    343\u001b[0m \u001b[38;5;28;01mif\u001b[39;00m (\u001b[38;5;28mcls\u001b[39m \u001b[38;5;129;01mis\u001b[39;00m \u001b[38;5;28;01mNone\u001b[39;00m \u001b[38;5;129;01mand\u001b[39;00m object_hook \u001b[38;5;129;01mis\u001b[39;00m \u001b[38;5;28;01mNone\u001b[39;00m \u001b[38;5;129;01mand\u001b[39;00m\n\u001b[1;32m    344\u001b[0m         parse_int \u001b[38;5;129;01mis\u001b[39;00m \u001b[38;5;28;01mNone\u001b[39;00m \u001b[38;5;129;01mand\u001b[39;00m parse_float \u001b[38;5;129;01mis\u001b[39;00m \u001b[38;5;28;01mNone\u001b[39;00m \u001b[38;5;129;01mand\u001b[39;00m\n\u001b[1;32m    345\u001b[0m         parse_constant \u001b[38;5;129;01mis\u001b[39;00m \u001b[38;5;28;01mNone\u001b[39;00m \u001b[38;5;129;01mand\u001b[39;00m object_pairs_hook \u001b[38;5;129;01mis\u001b[39;00m \u001b[38;5;28;01mNone\u001b[39;00m \u001b[38;5;129;01mand\u001b[39;00m \u001b[38;5;129;01mnot\u001b[39;00m kw):\n\u001b[0;32m--> 346\u001b[0m     \u001b[38;5;28;01mreturn\u001b[39;00m \u001b[43m_default_decoder\u001b[49m\u001b[38;5;241;43m.\u001b[39;49m\u001b[43mdecode\u001b[49m\u001b[43m(\u001b[49m\u001b[43ms\u001b[49m\u001b[43m)\u001b[49m\n\u001b[1;32m    347\u001b[0m \u001b[38;5;28;01mif\u001b[39;00m \u001b[38;5;28mcls\u001b[39m \u001b[38;5;129;01mis\u001b[39;00m \u001b[38;5;28;01mNone\u001b[39;00m:\n\u001b[1;32m    348\u001b[0m     \u001b[38;5;28mcls\u001b[39m \u001b[38;5;241m=\u001b[39m JSONDecoder\n",
      "File \u001b[0;32m/opt/conda/lib/python3.10/json/decoder.py:337\u001b[0m, in \u001b[0;36mJSONDecoder.decode\u001b[0;34m(self, s, _w)\u001b[0m\n\u001b[1;32m    332\u001b[0m \u001b[38;5;28;01mdef\u001b[39;00m \u001b[38;5;21mdecode\u001b[39m(\u001b[38;5;28mself\u001b[39m, s, _w\u001b[38;5;241m=\u001b[39mWHITESPACE\u001b[38;5;241m.\u001b[39mmatch):\n\u001b[1;32m    333\u001b[0m \u001b[38;5;250m    \u001b[39m\u001b[38;5;124;03m\"\"\"Return the Python representation of ``s`` (a ``str`` instance\u001b[39;00m\n\u001b[1;32m    334\u001b[0m \u001b[38;5;124;03m    containing a JSON document).\u001b[39;00m\n\u001b[1;32m    335\u001b[0m \n\u001b[1;32m    336\u001b[0m \u001b[38;5;124;03m    \"\"\"\u001b[39;00m\n\u001b[0;32m--> 337\u001b[0m     obj, end \u001b[38;5;241m=\u001b[39m \u001b[38;5;28;43mself\u001b[39;49m\u001b[38;5;241;43m.\u001b[39;49m\u001b[43mraw_decode\u001b[49m\u001b[43m(\u001b[49m\u001b[43ms\u001b[49m\u001b[43m,\u001b[49m\u001b[43m \u001b[49m\u001b[43midx\u001b[49m\u001b[38;5;241;43m=\u001b[39;49m\u001b[43m_w\u001b[49m\u001b[43m(\u001b[49m\u001b[43ms\u001b[49m\u001b[43m,\u001b[49m\u001b[43m \u001b[49m\u001b[38;5;241;43m0\u001b[39;49m\u001b[43m)\u001b[49m\u001b[38;5;241;43m.\u001b[39;49m\u001b[43mend\u001b[49m\u001b[43m(\u001b[49m\u001b[43m)\u001b[49m\u001b[43m)\u001b[49m\n\u001b[1;32m    338\u001b[0m     end \u001b[38;5;241m=\u001b[39m _w(s, end)\u001b[38;5;241m.\u001b[39mend()\n\u001b[1;32m    339\u001b[0m     \u001b[38;5;28;01mif\u001b[39;00m end \u001b[38;5;241m!=\u001b[39m \u001b[38;5;28mlen\u001b[39m(s):\n",
      "File \u001b[0;32m/opt/conda/lib/python3.10/json/decoder.py:353\u001b[0m, in \u001b[0;36mJSONDecoder.raw_decode\u001b[0;34m(self, s, idx)\u001b[0m\n\u001b[1;32m    344\u001b[0m \u001b[38;5;250m\u001b[39m\u001b[38;5;124;03m\"\"\"Decode a JSON document from ``s`` (a ``str`` beginning with\u001b[39;00m\n\u001b[1;32m    345\u001b[0m \u001b[38;5;124;03ma JSON document) and return a 2-tuple of the Python\u001b[39;00m\n\u001b[1;32m    346\u001b[0m \u001b[38;5;124;03mrepresentation and the index in ``s`` where the document ended.\u001b[39;00m\n\u001b[0;32m   (...)\u001b[0m\n\u001b[1;32m    350\u001b[0m \n\u001b[1;32m    351\u001b[0m \u001b[38;5;124;03m\"\"\"\u001b[39;00m\n\u001b[1;32m    352\u001b[0m \u001b[38;5;28;01mtry\u001b[39;00m:\n\u001b[0;32m--> 353\u001b[0m     obj, end \u001b[38;5;241m=\u001b[39m \u001b[38;5;28;43mself\u001b[39;49m\u001b[38;5;241;43m.\u001b[39;49m\u001b[43mscan_once\u001b[49m\u001b[43m(\u001b[49m\u001b[43ms\u001b[49m\u001b[43m,\u001b[49m\u001b[43m \u001b[49m\u001b[43midx\u001b[49m\u001b[43m)\u001b[49m\n\u001b[1;32m    354\u001b[0m \u001b[38;5;28;01mexcept\u001b[39;00m \u001b[38;5;167;01mStopIteration\u001b[39;00m \u001b[38;5;28;01mas\u001b[39;00m err:\n\u001b[1;32m    355\u001b[0m     \u001b[38;5;28;01mraise\u001b[39;00m JSONDecodeError(\u001b[38;5;124m\"\u001b[39m\u001b[38;5;124mExpecting value\u001b[39m\u001b[38;5;124m\"\u001b[39m, s, err\u001b[38;5;241m.\u001b[39mvalue) \u001b[38;5;28;01mfrom\u001b[39;00m \u001b[38;5;28;01mNone\u001b[39;00m\n",
      "\u001b[0;31mJSONDecodeError\u001b[0m: Unterminated string starting at: line 19 column 9 (char 860)"
     ]
    }
   ],
   "source": [
    "import re\n",
    "import json\n",
    "from pprint import pprint\n",
    "\n",
    "match = re.findall(r\"```(?:json)?([^`]+)(?:```)?\\s*$\", llm_answer, flags=re.IGNORECASE)[-1]\n",
    "pprint(json.loads(match))"
   ]
  },
  {
   "cell_type": "code",
   "execution_count": null,
   "metadata": {},
   "outputs": [],
   "source": []
  }
 ],
 "metadata": {
  "kernelspec": {
   "display_name": "base",
   "language": "python",
   "name": "python3"
  },
  "language_info": {
   "codemirror_mode": {
    "name": "ipython",
    "version": 3
   },
   "file_extension": ".py",
   "mimetype": "text/x-python",
   "name": "python",
   "nbconvert_exporter": "python",
   "pygments_lexer": "ipython3",
   "version": "3.10.13"
  },
  "orig_nbformat": 4
 },
 "nbformat": 4,
 "nbformat_minor": 2
}
