{
 "cells": [
  {
   "cell_type": "code",
   "execution_count": null,
   "metadata": {},
   "outputs": [],
   "source": [
    "import polars as pl\n",
    "import numpy as np\n",
    "from tqdm.auto import tqdm\n",
    "import torch"
   ]
  },
  {
   "cell_type": "code",
   "execution_count": null,
   "metadata": {},
   "outputs": [],
   "source": [
    "ds = pl.scan_parquet(\"./data/datasets/pl/raw/*\")\n",
    "ds.columns"
   ]
  },
  {
   "cell_type": "code",
   "execution_count": null,
   "metadata": {},
   "outputs": [],
   "source": [
    "ds.with_columns(pl.col(\"text_legal_bases\").list.len().alias(\"lb_len\")).select(\"lb_len\").collect().to_pandas().hist()"
   ]
  },
  {
   "cell_type": "markdown",
   "metadata": {},
   "source": [
    "### Legal base as an edge"
   ]
  },
  {
   "cell_type": "code",
   "execution_count": null,
   "metadata": {},
   "outputs": [],
   "source": [
    "isap_docs = (\n",
    "    ds\n",
    "    .filter(pl.col(\"text_legal_bases\").list.len() > 0)\n",
    "    .with_columns(\n",
    "        pl.col(\"text_legal_bases\")\n",
    "        .map_elements(lambda legal_bases: set(lb[\"isap_id\"] for lb in legal_bases))\n",
    "        .alias(\"isap_id\")\n",
    "    )\n",
    "    .select([\"_id\", \"isap_id\"])\n",
    "    .collect()\n",
    "    .to_pandas()\n",
    ")\n",
    "num_docs = len(isap_docs)\n",
    "isap_docs = isap_docs.reset_index()\n",
    "isap_docs.head()"
   ]
  },
  {
   "cell_type": "code",
   "execution_count": null,
   "metadata": {},
   "outputs": [],
   "source": [
    "isap_ids = isap_docs['isap_id'].explode().unique()\n",
    "isap_id_2_index = {iid: idx for idx, iid in enumerate(isap_ids)}\n",
    "print(f\"Unique ISAP ids: {len(isap_ids)}\")"
   ]
  },
  {
   "cell_type": "markdown",
   "metadata": {},
   "source": [
    "# Create graph"
   ]
  },
  {
   "cell_type": "code",
   "execution_count": null,
   "metadata": {},
   "outputs": [],
   "source": [
    "from torch_geometric.data import HeteroData"
   ]
  },
  {
   "cell_type": "code",
   "execution_count": null,
   "metadata": {},
   "outputs": [],
   "source": [
    "data = HeteroData()\n",
    "\n",
    "data[\"legal_bases\"].x = torch.zeros(len(isap_ids), 1)\n",
    "data[\"judgements\"].x = torch.zeros(num_docs, 1)\n",
    "\n",
    "edges = []\n",
    "for index, doc in isap_docs.iterrows():\n",
    "    for iid in doc[\"isap_id\"]:\n",
    "        edges.append([index, isap_is_2_index[iid]])\n",
    "\n",
    "edge_index = torch.tensor(edges, dtype=torch.long)\n",
    "edge_index"
   ]
  }
 ],
 "metadata": {
  "kernelspec": {
   "display_name": "juddges",
   "language": "python",
   "name": "python3"
  },
  "language_info": {
   "codemirror_mode": {
    "name": "ipython",
    "version": 3
   },
   "file_extension": ".py",
   "mimetype": "text/x-python",
   "name": "python",
   "nbconvert_exporter": "python",
   "pygments_lexer": "ipython3",
   "version": "3.11.9"
  }
 },
 "nbformat": 4,
 "nbformat_minor": 2
}
