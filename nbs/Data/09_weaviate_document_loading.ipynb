{
 "cells": [
  {
   "cell_type": "code",
   "execution_count": 1,
   "id": "3ac6d9fb",
   "metadata": {},
   "outputs": [
    {
     "name": "stderr",
     "output_type": "stream",
     "text": [
      "\u001b[32m2025-07-04 09:03:22.683\u001b[0m | \u001b[1mINFO    \u001b[0m | \u001b[36mjuddges.data.base_weaviate_db\u001b[0m:\u001b[36m<module>\u001b[0m:\u001b[36m13\u001b[0m - \u001b[1mEnvironment variables loaded from /home/laugustyniak/github/legal-ai/JuDDGES/.env file\u001b[0m\n",
      "/home/laugustyniak/github/legal-ai/JuDDGES/juddges/data/schemas.py:456: PydanticDeprecatedSince20: Pydantic V1 style `@validator` validators are deprecated. You should migrate to Pydantic V2 style `@field_validator` validators, see the migration guide for more details. Deprecated in Pydantic V2.0 to be removed in V3.0. See Pydantic V2 Migration Guide at https://errors.pydantic.dev/2.11/migration/\n",
      "  @validator('num_pages')\n",
      "/home/laugustyniak/github/legal-ai/JuDDGES/juddges/data/schemas.py:463: PydanticDeprecatedSince20: Pydantic V1 style `@validator` validators are deprecated. You should migrate to Pydantic V2 style `@field_validator` validators, see the migration guide for more details. Deprecated in Pydantic V2.0 to be removed in V3.0. See Pydantic V2 Migration Guide at https://errors.pydantic.dev/2.11/migration/\n",
      "  @validator('confidence_score')\n",
      "/home/laugustyniak/github/legal-ai/JuDDGES/juddges/data/schemas.py:470: PydanticDeprecatedSince20: Pydantic V1 style `@validator` validators are deprecated. You should migrate to Pydantic V2 style `@field_validator` validators, see the migration guide for more details. Deprecated in Pydantic V2.0 to be removed in V3.0. See Pydantic V2 Migration Guide at https://errors.pydantic.dev/2.11/migration/\n",
      "  @validator('language')\n",
      "/home/laugustyniak/github/legal-ai/JuDDGES/juddges/data/schemas.py:477: PydanticDeprecatedSince20: Pydantic V1 style `@validator` validators are deprecated. You should migrate to Pydantic V2 style `@field_validator` validators, see the migration guide for more details. Deprecated in Pydantic V2.0 to be removed in V3.0. See Pydantic V2 Migration Guide at https://errors.pydantic.dev/2.11/migration/\n",
      "  @validator('court_type')\n",
      "/home/laugustyniak/github/legal-ai/JuDDGES/juddges/data/schemas.py:486: PydanticDeprecatedSince20: Pydantic V1 style `@validator` validators are deprecated. You should migrate to Pydantic V2 style `@field_validator` validators, see the migration guide for more details. Deprecated in Pydantic V2.0 to be removed in V3.0. See Pydantic V2 Migration Guide at https://errors.pydantic.dev/2.11/migration/\n",
      "  @validator('processing_status')\n",
      "/home/laugustyniak/github/legal-ai/JuDDGES/juddges/data/schemas.py:495: PydanticDeprecatedSince20: Pydantic V1 style `@validator` validators are deprecated. You should migrate to Pydantic V2 style `@field_validator` validators, see the migration guide for more details. Deprecated in Pydantic V2.0 to be removed in V3.0. See Pydantic V2 Migration Guide at https://errors.pydantic.dev/2.11/migration/\n",
      "  @validator('document_type')\n"
     ]
    }
   ],
   "source": [
    "from juddges.data.documents_weaviate_db import WeaviateLegalDocumentsDatabase"
   ]
  },
  {
   "cell_type": "code",
   "execution_count": 2,
   "id": "4957fdb8",
   "metadata": {},
   "outputs": [
    {
     "name": "stdout",
     "output_type": "stream",
     "text": [
      "0\n"
     ]
    }
   ],
   "source": [
    "with WeaviateLegalDocumentsDatabase() as db:\n",
    "    print(db.get_collection_size(db.legal_documents_collection))"
   ]
  },
  {
   "cell_type": "code",
   "execution_count": 3,
   "id": "a6bdaf38",
   "metadata": {},
   "outputs": [],
   "source": [
    "with WeaviateLegalDocumentsDatabase() as db:\n",
    "    results = db.semantic_search(\n",
    "        collection_name=db.LEGAL_DOCUMENTS_COLLECTION,\n",
    "        query=\"What is the legal basis for data processing?\",\n",
    "        limit=5,\n",
    "    )"
   ]
  },
  {
   "cell_type": "code",
   "execution_count": 4,
   "id": "e1b905f7",
   "metadata": {},
   "outputs": [
    {
     "data": {
      "text/plain": [
       "[]"
      ]
     },
     "execution_count": 4,
     "metadata": {},
     "output_type": "execute_result"
    }
   ],
   "source": [
    "results"
   ]
  },
  {
   "cell_type": "code",
   "execution_count": 5,
   "id": "53ed5460",
   "metadata": {},
   "outputs": [],
   "source": [
    "with WeaviateLegalDocumentsDatabase() as db:\n",
    "    chunks = db.semantic_search(\n",
    "        collection_name=db.DOCUMENT_CHUNKS_COLLECTION,\n",
    "        query=\"What is the legal basis for data processing?\",\n",
    "        limit=5,\n",
    "    )"
   ]
  },
  {
   "cell_type": "code",
   "execution_count": 6,
   "id": "d0ed4093",
   "metadata": {},
   "outputs": [
    {
     "data": {
      "text/plain": [
       "[]"
      ]
     },
     "execution_count": 6,
     "metadata": {},
     "output_type": "execute_result"
    }
   ],
   "source": [
    "chunks"
   ]
  },
  {
   "cell_type": "code",
   "execution_count": 24,
   "id": "b65744a2",
   "metadata": {},
   "outputs": [],
   "source": [
    "# with WeaviateLegalDocumentsDatabase() as db:\n",
    "#     db.delete_collection(db.LEGAL_DOCUMENTS_COLLECTION)\n",
    "#     db.delete_collection(db.DOCUMENT_CHUNKS_COLLECTION)"
   ]
  },
  {
   "cell_type": "code",
   "execution_count": null,
   "id": "bba63be9",
   "metadata": {},
   "outputs": [],
   "source": []
  }
 ],
 "metadata": {
  "kernelspec": {
   "display_name": "juddges-py3.12 (3.12.11)",
   "language": "python",
   "name": "python3"
  },
  "language_info": {
   "codemirror_mode": {
    "name": "ipython",
    "version": 3
   },
   "file_extension": ".py",
   "mimetype": "text/x-python",
   "name": "python",
   "nbconvert_exporter": "python",
   "pygments_lexer": "ipython3",
   "version": "3.12.11"
  }
 },
 "nbformat": 4,
 "nbformat_minor": 5
}
