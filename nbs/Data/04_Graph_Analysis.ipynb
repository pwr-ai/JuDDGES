{
 "cells": [
  {
   "cell_type": "code",
   "execution_count": null,
   "id": "78bccd2d-40f6-41c9-907d-1fde5ba19743",
   "metadata": {},
   "outputs": [],
   "source": [
    "import itertools\n",
    "import json\n",
    "\n",
    "import polars as pl\n",
    "import networkx as nx\n",
    "import seaborn as sns\n",
    "import pandas as pd\n",
    "import random\n",
    "import openai\n",
    "from langchain_core.utils.json import parse_json_markdown\n",
    "from functools import partial\n",
    "from tqdm.auto import tqdm\n",
    "\n",
    "sns.set_theme(\"notebook\")"
   ]
  },
  {
   "cell_type": "markdown",
   "id": "dcd46ebf",
   "metadata": {},
   "source": [
    "# Local subgraphs analysis"
   ]
  },
  {
   "cell_type": "code",
   "execution_count": null,
   "id": "a1a3547e-4b3f-4fca-8d25-c6548e2e58d8",
   "metadata": {},
   "outputs": [],
   "source": [
    "# load the graph\n",
    "with open(\"../../data/datasets/pl/graph/data/judgment_graph.json\") as file:\n",
    "    g_data = json.load(file)\n",
    "\n",
    "g = nx.node_link_graph(g_data)\n",
    "src_nodes, target_nodes = nx.bipartite.sets(g)"
   ]
  },
  {
   "cell_type": "code",
   "execution_count": null,
   "id": "d504a574-bc4b-47b0-9c81-8d2894e1f489",
   "metadata": {},
   "outputs": [],
   "source": [
    "ds = pl.scan_parquet(\"../../data/datasets/pl/raw/*.parquet\")"
   ]
  },
  {
   "cell_type": "markdown",
   "id": "8c6c705d-be7f-48e3-98d3-74f08570f6b4",
   "metadata": {},
   "source": [
    "# Investigate local parts of graph"
   ]
  },
  {
   "cell_type": "markdown",
   "id": "7eb709a5",
   "metadata": {},
   "source": [
    "### Extract local graph"
   ]
  },
  {
   "cell_type": "code",
   "execution_count": null,
   "id": "8d446e45-571f-4ee1-935f-5641aef22c82",
   "metadata": {},
   "outputs": [],
   "source": [
    "# sets node degree as its attribute\n",
    "nx.set_node_attributes(g, dict(nx.degree(g)), \"degree\")"
   ]
  },
  {
   "cell_type": "code",
   "execution_count": null,
   "id": "cebd8ff6-2bfe-4480-8d01-27b0c4a348a1",
   "metadata": {},
   "outputs": [],
   "source": [
    "deg_sorted_nodes = sorted(g.nodes(data=True), key=lambda x: x[1][\"degree\"], reverse=True)\n",
    "\n",
    "def get_legal_bases_with_deg(deg: int) -> list[int]:\n",
    "    return [n_id for n_id, data in deg_sorted_nodes if data[\"degree\"] == deg and n_id in target_nodes]\n",
    "\n",
    "def get_judgments_of_legal_base(legal_base_id: int) -> list[int]:\n",
    "    dg = g.to_directed()\n",
    "    src_nodes = list(dg.predecessors(legal_base_id))\n",
    "    target_nodes = list(itertools.chain.from_iterable(dg.successors(n_id) for n_id in src_nodes))\n",
    "    return src_nodes + target_nodes"
   ]
  },
  {
   "cell_type": "code",
   "execution_count": null,
   "id": "b49bc90a-6c23-473c-bfea-c92d95e418c9",
   "metadata": {},
   "outputs": [],
   "source": [
    "LB = get_legal_bases_with_deg(4)[0]\n",
    "TITLE = g.nodes[LB][\"title\"]\n",
    "neighborhood = get_judgments_of_legal_base(LB)\n",
    "print(f\"Found nodes: {len(neighborhood)=}\")"
   ]
  },
  {
   "cell_type": "code",
   "execution_count": null,
   "id": "dacc1fc4-ebf1-4126-af4e-09324f09d5fb",
   "metadata": {},
   "outputs": [],
   "source": [
    "sg = nx.induced_subgraph(g, nbunch=neighborhood)"
   ]
  },
  {
   "cell_type": "code",
   "execution_count": null,
   "id": "0bd1fa7d-1465-45c8-a95c-c04743957d24",
   "metadata": {},
   "outputs": [],
   "source": [
    "cases = pd.DataFrame.from_dict(dict(sg.nodes(data=True)), orient=\"index\").reset_index().sort_values([\"node_type\", \"date\"])\n",
    "case_ids = cases[\"_id\"].dropna().tolist()\n",
    "\n",
    "cases_text= ds.select([\"_id\", \"text\"]).filter(pl.col(\"_id\").is_in(case_ids)).collect()\n",
    "cases = cases[[\"index\", \"_id\"]].merge(cases_text.to_pandas(), on=\"_id\", how=\"right\")\n",
    "cases.head()"
   ]
  },
  {
   "cell_type": "markdown",
   "id": "3fcbddf2",
   "metadata": {},
   "source": [
    "### Summarize judgments"
   ]
  },
  {
   "cell_type": "code",
   "execution_count": null,
   "id": "00e6d31f-963f-471d-890b-23ab3fa35faa",
   "metadata": {},
   "outputs": [],
   "source": [
    "client = openai.OpenAI(\n",
    "    base_url=\"http://localhost:8000/v1\",\n",
    "    api_key = \"sk-no-key-required\"\n",
    ")\n",
    "\n",
    "llm_input = \"\\n\\n\".join([t[:3000] for t in cases_text.to_dict(as_series=False)[\"text\"]])\n",
    "\n",
    "INPUT_PROMPT = \"\"\"\n",
    "You are an AI tasked with summarizing multiple Polish court judgments. Always response in English, use formal language.\n",
    "First, provide an overall_summary which is a single sentence that encapsulates the common topic of all the judgments, don't be too general.\n",
    "Then, for each judgment, provide a one-sentence judgment_summary, including the main reason for the decision, preserve order of judgments. \n",
    "For each judgment provide keyphrases summarizing it.\n",
    "\n",
    "Summarize followint judgments:\n",
    "====\n",
    "{context}\n",
    "====\n",
    "\n",
    "Format response as JSON:\n",
    "``json\n",
    "{{\n",
    "    overall_summary: string,\n",
    "    judgment_summaries: list of string,\n",
    "    keyphrases: list of lists of string,\n",
    "}}\n",
    "```\n",
    "\"\"\"\n",
    "\n",
    "completion = client.chat.completions.create(\n",
    "model=\"not-required\",\n",
    "messages=[\n",
    "    {\"role\": \"user\", \"content\": INPUT_PROMPT.format(context=llm_input)}\n",
    "]\n",
    ")\n",
    "\n",
    "response = completion.choices[0].message.content\n",
    "\n",
    "try:\n",
    "    summary = parse_json_markdown(response)\n",
    "    print(summary)\n",
    "except Exception:\n",
    "    print(\"Couldn't parse, raw response:\")\n",
    "    print(response)"
   ]
  },
  {
   "cell_type": "code",
   "execution_count": null,
   "id": "9cf73bd3-2664-4a0a-9f71-3dc7a76c8f06",
   "metadata": {},
   "outputs": [],
   "source": [
    "iid_2_index = {item[\"_id\"]: item[\"index\"] for item in cases[[\"index\", \"_id\"]].to_dict(\"records\")}\n",
    "summary_node_attr = {iid_2_index[iid]: text for iid, text in zip(cases_text[\"_id\"].to_list(), summary[\"judgment_summaries\"])}\n",
    "kp_node_attr = {iid_2_index[iid]: text for iid, text in zip(cases_text[\"_id\"].to_list(), summary[\"keyphrases\"])}\n",
    "nx.set_node_attributes(sg, summary_node_attr, name=\"summary\")\n",
    "nx.set_node_attributes(sg, kp_node_attr, name=\"keyphrases\")"
   ]
  },
  {
   "cell_type": "markdown",
   "id": "67d598a7-0b37-4339-a675-0dd2afb4d366",
   "metadata": {},
   "source": [
    "### Translate legal-legal base names"
   ]
  },
  {
   "cell_type": "code",
   "execution_count": null,
   "id": "9ecdd67c-da0b-4498-b19d-6e34ae1fc63d",
   "metadata": {},
   "outputs": [],
   "source": [
    "TRANSLATION_PROMPT = \"\"\"\n",
    "You are an AI assistant asked to translate name of Polish legal acts to Ensligh.\n",
    "Provide shortest possible translations, remove dates and unimportant details.\n",
    "Return only translation, without any additional output.\n",
    "Example:\n",
    "- Ustawa z dnia 23 kwietnia 1964 r. - Kodeks cywilny\n",
    "- Civil Code (1964)\n",
    "\n",
    "Translate this legal act name: {context}\n",
    "\"\"\"\n",
    "\n",
    "\n",
    "results = {}\n",
    "for iid, name in tqdm(nx.get_node_attributes(sg, \"title\").items()):\n",
    "    completion = client.chat.completions.create(\n",
    "    model=\"not-required\",\n",
    "    messages=[\n",
    "        {\"role\": \"user\", \"content\": TRANSLATION_PROMPT.format(context=name)}\n",
    "    ]\n",
    "    )\n",
    "    results[iid] = [completion.choices[0].message.content]\n",
    "\n",
    "nx.set_node_attributes(sg, results, \"keyphrases\")"
   ]
  },
  {
   "cell_type": "markdown",
   "id": "85f28b1c-1d9f-40c2-b7e9-4f78a5c8dcf8",
   "metadata": {},
   "source": [
    "### Visualize"
   ]
  },
  {
   "cell_type": "code",
   "execution_count": null,
   "id": "1566c221-e0fa-40e1-ab17-501db90551c6",
   "metadata": {},
   "outputs": [],
   "source": [
    "from bokeh.io import output_notebook, show\n",
    "from bokeh.models import Range1d, Circle, ColumnDataSource, MultiLine, LabelSet\n",
    "from bokeh.plotting import figure\n",
    "from bokeh.plotting import from_networkx\n",
    "from bokeh.transform import linear_cmap\n",
    "output_notebook()"
   ]
  },
  {
   "cell_type": "code",
   "execution_count": null,
   "id": "cb65cb5d-4ff3-46dd-bae9-15855f30fbc5",
   "metadata": {},
   "outputs": [],
   "source": [
    "HOVER_TOOLTIPS = [\n",
    "    (\"Date\", \"@date\"),\n",
    "    (\"Summary\", \"@summary\"),\n",
    "    (\"ISAP\", \"@isap_id\"),\n",
    "]\n",
    "\n",
    "COLOR_MAP = {\n",
    "    \"judgment\": 0,\n",
    "    \"legal_base\": 1,\n",
    "}\n",
    "\n",
    "nx.set_node_attributes(sg, {n_id: COLOR_MAP[n_data[\"node_type\"]] for n_id, n_data in sg.nodes(data=True)}, name=\"nt\")\n",
    "color_by_this_attribute = 'nt'\n",
    "color_palette = (\"#EA1D15\", \"#15E2EA\")\n",
    "\n",
    "plot = figure(\n",
    "    tooltips = HOVER_TOOLTIPS,\n",
    "    tools=\"pan,wheel_zoom,save,reset\", \n",
    "    active_scroll='wheel_zoom', \n",
    "    x_range=Range1d(-10.1, 10.1), \n",
    "    y_range=Range1d(-10.1, 10.1),\n",
    "    width=1_200,\n",
    "    height=600,\n",
    ")\n",
    "\n",
    "plot.xgrid.visible = False\n",
    "plot.ygrid.visible = False\n",
    "plot.xaxis.visible = False\n",
    "plot.yaxis.visible = False\n",
    "n_ids = [n_id for n_id in sg.nodes if sg.nodes[n_id][\"node_type\"]==\"judgment\"]\n",
    "n_ids_2 = [n_id for n_id in sg.nodes if sg.nodes[n_id][\"node_type\"]==\"legal_base\"]\n",
    "network_graph = from_networkx(sg, partial(nx.bipartite_layout, nodes=n_ids), scale=10, center=(0, 0))\n",
    "\n",
    "#Set node sizes and colors according to node degree (color as spectrum of color palette)\n",
    "minimum_value_color = min(network_graph.node_renderer.data_source.data[color_by_this_attribute])\n",
    "maximum_value_color = max(network_graph.node_renderer.data_source.data[color_by_this_attribute])\n",
    "network_graph.node_renderer.glyph = Circle(radius=0.30, fill_color=linear_cmap(color_by_this_attribute, color_palette, minimum_value_color, maximum_value_color))\n",
    "\n",
    "#Set edge opacity and width\n",
    "network_graph.edge_renderer.glyph = MultiLine(line_alpha=0.5, line_width=1)\n",
    "\n",
    "x, y = zip(*network_graph.layout_provider.graph_layout.values())\n",
    "node_labels = [\",\".join(sg.nodes[index][\"keyphrases\"]) for index in n_ids + n_ids_2]\n",
    "source = ColumnDataSource({'x': x, 'y': y, 'name': [node_labels[i] for i in range(len(x))]})\n",
    "labels = LabelSet(x='x', y='y', text='name', source=source, background_fill_color='white', text_font_size='14px', background_fill_alpha=1.0)\n",
    "plot.renderers.append(labels)\n",
    "\n",
    "plot.renderers.append(network_graph)\n",
    "\n",
    "show(plot)"
   ]
  },
  {
   "cell_type": "markdown",
   "id": "595eefb7",
   "metadata": {},
   "source": [
    "# Community detection"
   ]
  },
  {
   "cell_type": "code",
   "execution_count": null,
   "id": "dd88fc79",
   "metadata": {},
   "outputs": [],
   "source": [
    "def connected_legal_bases(g: nx.Graph, nbunch: list):\n",
    "    nbunch = set(nbunch)\n",
    "    return list(set(target_id for src_id, target_id in g.edges if src_id in nbunch))"
   ]
  },
  {
   "cell_type": "code",
   "execution_count": null,
   "id": "76bbeaaa",
   "metadata": {},
   "outputs": [],
   "source": [
    "def sample_subgraph_randomly(g: nx.Graph, k: int) -> nx.Graph:\n",
    "    sampled_nodes = random.sample(list(src_nodes), k=k)\n",
    "    subgraph_node_ids = sampled_nodes + connected_legal_bases(g, sampled_nodes)\n",
    "    return nx.induced_subgraph(g, nbunch=subgraph_node_ids)"
   ]
  },
  {
   "cell_type": "code",
   "execution_count": null,
   "id": "0e6c188b",
   "metadata": {},
   "outputs": [],
   "source": [
    "# sg = sample_subgraph_randomly(g, k=5_000)\n",
    "sg = g\n",
    "print(f\"{len(sg.edges)=}\")"
   ]
  },
  {
   "cell_type": "code",
   "execution_count": null,
   "id": "9484dab1",
   "metadata": {},
   "outputs": [],
   "source": [
    "communities = list(nx.community.louvain_communities(sg, resolution=3))\n",
    "# communities = list(nx.community.label_propagation_communities(sg))\n",
    "print(f\"{len(communities)=}\")"
   ]
  },
  {
   "cell_type": "code",
   "execution_count": null,
   "id": "91fcb2bb",
   "metadata": {},
   "outputs": [],
   "source": [
    "ax = sns.histplot([len(c) for c in communities])\n",
    "ax.set(title=\"Community size distribution\", yscale=\"log\")"
   ]
  },
  {
   "cell_type": "code",
   "execution_count": null,
   "id": "1a973963",
   "metadata": {},
   "outputs": [],
   "source": [
    "communitiy_sizes = {idx: len(c) for idx, c in enumerate(communities)}"
   ]
  }
 ],
 "metadata": {
  "kernelspec": {
   "display_name": "python3",
   "language": "python",
   "name": "python3"
  }
 },
 "nbformat": 4,
 "nbformat_minor": 5
}
