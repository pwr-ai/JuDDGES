{
 "cells": [
  {
   "cell_type": "code",
   "execution_count": null,
   "metadata": {},
   "outputs": [],
   "source": [
    "# | eval: false\n",
    "import warnings\n",
    "import json\n",
    "from multiprocessing import Pool\n",
    "from statistics import mean\n",
    "from typing import Any\n",
    "from pathlib import Path\n",
    "\n",
    "import pandas as pd\n",
    "from tqdm.auto import tqdm\n",
    "from ipywidgets import interact\n",
    "\n",
    "from juddges.utils.misc import parse_yaml\n",
    "from juddges.metrics.info_extraction import evaluate_extraction\n",
    "\n",
    "pd.options.display.float_format = '{:,.3f}'.format\n",
    "warnings.filterwarnings('ignore', message=\"To copy construct from a tensor, it is recommended to use\")"
   ]
  },
  {
   "cell_type": "markdown",
   "metadata": {},
   "source": [
    "# SFT results inspection"
   ]
  },
  {
   "cell_type": "markdown",
   "metadata": {},
   "source": [
    "# Compare metrics"
   ]
  },
  {
   "cell_type": "code",
   "execution_count": null,
   "metadata": {},
   "outputs": [
    {
     "data": {
      "text/html": [
       "<div>\n",
       "<style scoped>\n",
       "    .dataframe tbody tr th:only-of-type {\n",
       "        vertical-align: middle;\n",
       "    }\n",
       "\n",
       "    .dataframe tbody tr th {\n",
       "        vertical-align: top;\n",
       "    }\n",
       "\n",
       "    .dataframe thead th {\n",
       "        text-align: right;\n",
       "    }\n",
       "</style>\n",
       "<table border=\"1\" class=\"dataframe\">\n",
       "  <thead>\n",
       "    <tr style=\"text-align: right;\">\n",
       "      <th></th>\n",
       "      <th>llm</th>\n",
       "      <th>full_text_chrf</th>\n",
       "      <th>court_name</th>\n",
       "      <th>date</th>\n",
       "      <th>department_name</th>\n",
       "      <th>judges</th>\n",
       "      <th>legal_bases</th>\n",
       "      <th>recorder</th>\n",
       "      <th>signature</th>\n",
       "    </tr>\n",
       "  </thead>\n",
       "  <tbody>\n",
       "    <tr>\n",
       "      <th>2</th>\n",
       "      <td>Meta-Llama-3-8B-Instruct</td>\n",
       "      <td>0.247</td>\n",
       "      <td>0.862</td>\n",
       "      <td>0.971</td>\n",
       "      <td>0.833</td>\n",
       "      <td>0.882</td>\n",
       "      <td>0.287</td>\n",
       "      <td>0.805</td>\n",
       "      <td>0.778</td>\n",
       "    </tr>\n",
       "    <tr>\n",
       "      <th>0</th>\n",
       "      <td>Mistral-7B-Instruct-v0.2</td>\n",
       "      <td>0.432</td>\n",
       "      <td>0.839</td>\n",
       "      <td>0.922</td>\n",
       "      <td>0.850</td>\n",
       "      <td>0.879</td>\n",
       "      <td>0.333</td>\n",
       "      <td>0.837</td>\n",
       "      <td>0.145</td>\n",
       "    </tr>\n",
       "    <tr>\n",
       "      <th>3</th>\n",
       "      <td>Mistral-7B-Instruct-v0.2-fine-tuned</td>\n",
       "      <td>0.772</td>\n",
       "      <td>0.987</td>\n",
       "      <td>0.990</td>\n",
       "      <td>0.965</td>\n",
       "      <td>0.952</td>\n",
       "      <td>0.600</td>\n",
       "      <td>0.979</td>\n",
       "      <td>0.972</td>\n",
       "    </tr>\n",
       "    <tr>\n",
       "      <th>4</th>\n",
       "      <td>Unsloth-Llama-3-8B-Instruct-fine-tuned</td>\n",
       "      <td>0.828</td>\n",
       "      <td>0.995</td>\n",
       "      <td>0.989</td>\n",
       "      <td>0.986</td>\n",
       "      <td>0.977</td>\n",
       "      <td>0.601</td>\n",
       "      <td>0.993</td>\n",
       "      <td>0.994</td>\n",
       "    </tr>\n",
       "    <tr>\n",
       "      <th>1</th>\n",
       "      <td>Unsloth-Mistral-7B-Instruct-v0.3</td>\n",
       "      <td>0.477</td>\n",
       "      <td>0.830</td>\n",
       "      <td>0.987</td>\n",
       "      <td>0.900</td>\n",
       "      <td>0.870</td>\n",
       "      <td>0.419</td>\n",
       "      <td>0.943</td>\n",
       "      <td>0.567</td>\n",
       "    </tr>\n",
       "    <tr>\n",
       "      <th>5</th>\n",
       "      <td>Unsloth-Mistral-7B-Instruct-v0.3-fine-tuned</td>\n",
       "      <td>0.798</td>\n",
       "      <td>0.995</td>\n",
       "      <td>0.988</td>\n",
       "      <td>0.986</td>\n",
       "      <td>0.967</td>\n",
       "      <td>0.608</td>\n",
       "      <td>0.987</td>\n",
       "      <td>0.976</td>\n",
       "    </tr>\n",
       "  </tbody>\n",
       "</table>\n",
       "</div>"
      ],
      "text/plain": [
       "                                           llm  full_text_chrf  court_name  \\\n",
       "2                     Meta-Llama-3-8B-Instruct           0.247       0.862   \n",
       "0                     Mistral-7B-Instruct-v0.2           0.432       0.839   \n",
       "3          Mistral-7B-Instruct-v0.2-fine-tuned           0.772       0.987   \n",
       "4       Unsloth-Llama-3-8B-Instruct-fine-tuned           0.828       0.995   \n",
       "1             Unsloth-Mistral-7B-Instruct-v0.3           0.477       0.830   \n",
       "5  Unsloth-Mistral-7B-Instruct-v0.3-fine-tuned           0.798       0.995   \n",
       "\n",
       "   date  department_name  judges  legal_bases  recorder  signature  \n",
       "2 0.971            0.833   0.882        0.287     0.805      0.778  \n",
       "0 0.922            0.850   0.879        0.333     0.837      0.145  \n",
       "3 0.990            0.965   0.952        0.600     0.979      0.972  \n",
       "4 0.989            0.986   0.977        0.601     0.993      0.994  \n",
       "1 0.987            0.900   0.870        0.419     0.943      0.567  \n",
       "5 0.988            0.986   0.967        0.608     0.987      0.976  "
      ]
     },
     "execution_count": null,
     "metadata": {},
     "output_type": "execute_result"
    }
   ],
   "source": [
    "# | eval: false\n",
    "results = []\n",
    "for f in  Path(\"../../data/experiments/predict/pl-court-instruct\").glob(\"metrics_*.json\"):\n",
    "    model_name = f.stem.replace(\"metrics_\", \"\")\n",
    "    with f.open() as file:\n",
    "        m_res = json.load(file)\n",
    "        results.append(\n",
    "            {\"llm\": model_name}\n",
    "            | {\"full_text_chrf\": m_res[\"full_text_chrf\"]}\n",
    "            | m_res[\"field_chrf\"]\n",
    "        )\n",
    "\n",
    "pd.DataFrame(results).sort_values(\"llm\")"
   ]
  },
  {
   "cell_type": "markdown",
   "metadata": {},
   "source": [
    "# Inspect results"
   ]
  },
  {
   "cell_type": "code",
   "execution_count": null,
   "metadata": {},
   "outputs": [],
   "source": [
    "# | eval: false\n",
    "OUTPUTS_PATH = \"../../data/experiments/predict/pl-court-instruct/outputs_Unsloth-Llama-3-8B-Instruct-fine-tuned.json\"\n",
    "\n",
    "with open(OUTPUTS_PATH) as file:\n",
    "    data = json.load(file)"
   ]
  },
  {
   "cell_type": "code",
   "execution_count": null,
   "metadata": {},
   "outputs": [
    {
     "data": {
      "application/vnd.jupyter.widget-view+json": {
       "model_id": "26e97e0494064714ab86ea2f0ea4b0b6",
       "version_major": 2,
       "version_minor": 0
      },
      "text/plain": [
       "  0%|          | 0/2000 [00:00<?, ?it/s]"
      ]
     },
     "metadata": {},
     "output_type": "display_data"
    },
    {
     "name": "stdout",
     "output_type": "stream",
     "text": [
      "Number of invalid answers: 224 / 2000\n"
     ]
    }
   ],
   "source": [
    "# | eval: false\n",
    "def eval_item(item: dict[str, Any]) -> dict[str, Any]:\n",
    "    item[\"metrics\"] = evaluate_extraction([item])\n",
    "    item[\"metrics\"][\"mean_field\"] = mean(item[\"metrics\"][\"field_chrf\"].values())\n",
    "    item[\"gold\"] = parse_yaml(item[\"gold\"])\n",
    "    try:\n",
    "        item[\"answer\"] = parse_yaml(item[\"answer\"])\n",
    "    except:\n",
    "        item[\"answer\"] = None\n",
    "    return item\n",
    "\n",
    "num_invalid_answers = 0\n",
    "results = []\n",
    "with Pool(10) as pool:\n",
    "    for item in tqdm(pool.imap(eval_item, data), total=len(data)):\n",
    "        results.append(item)\n",
    "        if item[\"answer\"] is None:\n",
    "            num_invalid_answers += 1\n",
    "\n",
    "print(f\"Number of invalid answers: {num_invalid_answers} / {len(data)}\")"
   ]
  },
  {
   "cell_type": "code",
   "execution_count": null,
   "metadata": {},
   "outputs": [
    {
     "data": {
      "application/vnd.jupyter.widget-view+json": {
       "model_id": "26fcb134773c4fbc9fbb60645895253c",
       "version_major": 2,
       "version_minor": 0
      },
      "text/plain": [
       "interactive(children=(Dropdown(description='idx', options=(0, 1, 2, 3, 4, 5, 6, 7, 8, 9, 10, 11, 12, 13, 14, 1…"
      ]
     },
     "metadata": {},
     "output_type": "display_data"
    }
   ],
   "source": [
    "# | eval: false\n",
    "data_valid = [item for item in results if item[\"answer\"] is not None]\n",
    "data_valid = sorted(data_valid, key=lambda x: x[\"metrics\"][\"mean_field\"])\n",
    "\n",
    "def item_to_df(idx: int) -> pd.DataFrame:\n",
    "    item = data_valid[idx]\n",
    "    return pd.DataFrame({\n",
    "        \"gold\": item[\"gold\"],\n",
    "        \"answer\": item[\"answer\"],\n",
    "        \"metrics\": item[\"metrics\"][\"field_chrf\"],\n",
    "    })\n",
    "\n",
    "\n",
    "interact(item_to_df, idx=range(len(data_valid)));"
   ]
  }
 ],
 "metadata": {
  "kernelspec": {
   "display_name": "python3",
   "language": "python",
   "name": "python3"
  }
 },
 "nbformat": 4,
 "nbformat_minor": 2
}
