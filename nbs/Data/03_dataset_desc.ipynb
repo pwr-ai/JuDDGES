{
 "cells": [
  {
   "cell_type": "code",
   "execution_count": 2,
   "id": "initial_id",
   "metadata": {
    "ExecuteTime": {
     "end_time": "2024-05-19T11:15:26.224863Z",
     "start_time": "2024-05-19T11:15:23.969967Z"
    }
   },
   "outputs": [],
   "source": [
    "import matplotlib.pyplot as plt\n",
    "from datasets import load_dataset\n",
    "import pandas as pd\n",
    "\n",
    "import yaml\n",
    "import seaborn as sns\n",
    "# import spacY\n",
    "import matplotlib.pyplot as plt\n",
    "from transformers import AutoTokenizer\n"
   ]
  },
  {
   "cell_type": "code",
   "execution_count": 3,
   "id": "9f984ca29b158fd6",
   "metadata": {
    "ExecuteTime": {
     "end_time": "2024-05-19T11:01:49.808039Z",
     "start_time": "2024-05-19T11:01:49.541388Z"
    }
   },
   "outputs": [
    {
     "name": "stderr",
     "output_type": "stream",
     "text": [
      "Using the latest cached version of the dataset since JuDDGES/pl-court-instruct couldn't be found on the Hugging Face Hub\n",
      "Found the latest cached dataset configuration 'default' at /home/albert/.cache/huggingface/datasets/JuDDGES___pl-court-instruct/default/0.0.0/f735e3937fb0e33f0f0c58ffced0cee8aa3ecbcf (last modified on Wed Apr 17 17:46:24 2024).\n"
     ]
    }
   ],
   "source": [
    "dataset = load_dataset(\"JuDDGES/pl-court-instruct\")"
   ]
  },
  {
   "cell_type": "code",
   "execution_count": 4,
   "id": "b0a9fadbe55113ae",
   "metadata": {
    "ExecuteTime": {
     "end_time": "2024-05-19T11:01:49.824907Z",
     "start_time": "2024-05-19T11:01:49.811579Z"
    }
   },
   "outputs": [],
   "source": [
    "train = dataset[\"train\"]\n",
    "train = train.select(range(10_000))  # REMOVE THIS BEFORE FINAL EXEC\""
   ]
  },
  {
   "cell_type": "markdown",
   "id": "825a4dd7f0d43a0a",
   "metadata": {},
   "source": [
    "# Stats"
   ]
  },
  {
   "cell_type": "markdown",
   "id": "2dc9869cb1bb697b",
   "metadata": {},
   "source": [
    "## train/test"
   ]
  },
  {
   "cell_type": "code",
   "execution_count": 5,
   "id": "46fe9b52a576f403",
   "metadata": {
    "ExecuteTime": {
     "end_time": "2024-05-19T11:01:49.867261Z",
     "start_time": "2024-05-19T11:01:49.830978Z"
    }
   },
   "outputs": [
    {
     "data": {
      "text/html": [
       "<div>\n",
       "<style scoped>\n",
       "    .dataframe tbody tr th:only-of-type {\n",
       "        vertical-align: middle;\n",
       "    }\n",
       "\n",
       "    .dataframe tbody tr th {\n",
       "        vertical-align: top;\n",
       "    }\n",
       "\n",
       "    .dataframe thead th {\n",
       "        text-align: right;\n",
       "    }\n",
       "</style>\n",
       "<table border=\"1\" class=\"dataframe\">\n",
       "  <thead>\n",
       "    <tr style=\"text-align: right;\">\n",
       "      <th></th>\n",
       "      <th>subset</th>\n",
       "      <th>#</th>\n",
       "      <th>%</th>\n",
       "    </tr>\n",
       "  </thead>\n",
       "  <tbody>\n",
       "    <tr>\n",
       "      <th>0</th>\n",
       "      <td>train</td>\n",
       "      <td>285879</td>\n",
       "      <td>99.305264</td>\n",
       "    </tr>\n",
       "    <tr>\n",
       "      <th>1</th>\n",
       "      <td>test</td>\n",
       "      <td>2000</td>\n",
       "      <td>0.694736</td>\n",
       "    </tr>\n",
       "  </tbody>\n",
       "</table>\n",
       "</div>"
      ],
      "text/plain": [
       "  subset       #          %\n",
       "0  train  285879  99.305264\n",
       "1   test    2000   0.694736"
      ]
     },
     "execution_count": 5,
     "metadata": {},
     "output_type": "execute_result"
    }
   ],
   "source": [
    "df = pd.DataFrame([{\"subset\":k, \"#\": len(v)} for k, v in dataset.items()])\n",
    "df[\"%\"] = df[\"#\"] / df[\"#\"].sum() * 100\n",
    "df"
   ]
  },
  {
   "cell_type": "markdown",
   "id": "8bcd0a95efa04d29",
   "metadata": {},
   "source": [
    "## Columns"
   ]
  },
  {
   "cell_type": "code",
   "execution_count": 6,
   "id": "ce5a928dd2fccd00",
   "metadata": {
    "ExecuteTime": {
     "end_time": "2024-05-19T11:01:49.873758Z",
     "start_time": "2024-05-19T11:01:49.868291Z"
    }
   },
   "outputs": [
    {
     "data": {
      "text/plain": [
       "{'train': ['prompt', 'context', 'output'],\n",
       " 'test': ['prompt', 'context', 'output']}"
      ]
     },
     "execution_count": 6,
     "metadata": {},
     "output_type": "execute_result"
    }
   ],
   "source": [
    "dataset.column_names"
   ]
  },
  {
   "cell_type": "markdown",
   "id": "8e2b01c805e541b5",
   "metadata": {},
   "source": [
    "## Words"
   ]
  },
  {
   "cell_type": "code",
   "execution_count": 7,
   "id": "4f102134707117bc",
   "metadata": {
    "ExecuteTime": {
     "end_time": "2024-05-19T11:01:50.844175Z",
     "start_time": "2024-05-19T11:01:49.881267Z"
    }
   },
   "outputs": [],
   "source": [
    "df = train.to_pandas()"
   ]
  },
  {
   "cell_type": "code",
   "execution_count": 8,
   "id": "b97f8f04a9da405a",
   "metadata": {
    "ExecuteTime": {
     "end_time": "2024-05-19T11:01:50.861134Z",
     "start_time": "2024-05-19T11:01:50.845754Z"
    }
   },
   "outputs": [
    {
     "data": {
      "text/html": [
       "<div>\n",
       "<style scoped>\n",
       "    .dataframe tbody tr th:only-of-type {\n",
       "        vertical-align: middle;\n",
       "    }\n",
       "\n",
       "    .dataframe tbody tr th {\n",
       "        vertical-align: top;\n",
       "    }\n",
       "\n",
       "    .dataframe thead th {\n",
       "        text-align: right;\n",
       "    }\n",
       "</style>\n",
       "<table border=\"1\" class=\"dataframe\">\n",
       "  <thead>\n",
       "    <tr style=\"text-align: right;\">\n",
       "      <th></th>\n",
       "      <th>prompt</th>\n",
       "      <th>context</th>\n",
       "      <th>output</th>\n",
       "    </tr>\n",
       "  </thead>\n",
       "  <tbody>\n",
       "    <tr>\n",
       "      <th>3560</th>\n",
       "      <td>\\nYou are extracting information from the cour...</td>\n",
       "      <td>Sygn. akt II Ka 753/16\\n\\nWYROK\\nW IMIENIU RZE...</td>\n",
       "      <td>```yaml\\ndate: '2017-01-31'\\njudges:\\n- \"Gra\\u...</td>\n",
       "    </tr>\n",
       "    <tr>\n",
       "      <th>5555</th>\n",
       "      <td>\\nYou are extracting information from the cour...</td>\n",
       "      <td>Sygn. akt: I C 630/18\\n\\nWYROK\\nW IMIENIU RZEC...</td>\n",
       "      <td>```yaml\\ndate: '2020-12-01'\\njudges:\\n- \"S\\u01...</td>\n",
       "    </tr>\n",
       "    <tr>\n",
       "      <th>8866</th>\n",
       "      <td>\\nYou are extracting information from the cour...</td>\n",
       "      <td>Sygn. akt IV Ka 886/21\\n\\n1.\\n\\n2.WYROK\\n\\n2.1...</td>\n",
       "      <td>```yaml\\ndate: '2022-02-10'\\njudges:\\n- \"SSO A...</td>\n",
       "    </tr>\n",
       "    <tr>\n",
       "      <th>7014</th>\n",
       "      <td>\\nYou are extracting information from the cour...</td>\n",
       "      <td>Sygn. akt I Ca 64/17\\n\\nPOSTANOWIENIE\\nDnia 27...</td>\n",
       "      <td>```yaml\\ndate: '2017-04-27'\\njudges:\\n- \"W\\u01...</td>\n",
       "    </tr>\n",
       "    <tr>\n",
       "      <th>4704</th>\n",
       "      <td>\\nYou are extracting information from the cour...</td>\n",
       "      <td>Sygn. akt II K 46/12\\n\\nWYROK ZAOCZNY\\nW IMIEN...</td>\n",
       "      <td>```yaml\\ndate: '2012-03-27'\\njudges:\\n- \"S\\u01...</td>\n",
       "    </tr>\n",
       "    <tr>\n",
       "      <th>...</th>\n",
       "      <td>...</td>\n",
       "      <td>...</td>\n",
       "      <td>...</td>\n",
       "    </tr>\n",
       "    <tr>\n",
       "      <th>9165</th>\n",
       "      <td>\\nYou are extracting information from the cour...</td>\n",
       "      <td>Sygn. akt II C 588/16\\n\\nWYROK\\nW IMIENIU RZEC...</td>\n",
       "      <td>```yaml\\ndate: '2017-02-20'\\njudges:\\n- Katarz...</td>\n",
       "    </tr>\n",
       "    <tr>\n",
       "      <th>5733</th>\n",
       "      <td>\\nYou are extracting information from the cour...</td>\n",
       "      <td>Sygn. akt I Co 1668/19\\n\\nPOSTANOWIENIE\\nDnia ...</td>\n",
       "      <td>```yaml\\ndate: '2020-03-17'\\njudges:\\n- \"aseso...</td>\n",
       "    </tr>\n",
       "    <tr>\n",
       "      <th>6976</th>\n",
       "      <td>\\nYou are extracting information from the cour...</td>\n",
       "      <td>Sygn. akt IV RC 641/17\\n\\nWYROK\\nW IMIENIU RZE...</td>\n",
       "      <td>```yaml\\ndate: '2017-12-19'\\njudges:\\n- \"Katar...</td>\n",
       "    </tr>\n",
       "    <tr>\n",
       "      <th>6537</th>\n",
       "      <td>\\nYou are extracting information from the cour...</td>\n",
       "      <td>Sygn. akt IV U 739/16\\n\\nWYROK\\nW IMIENIU RZEC...</td>\n",
       "      <td>```yaml\\ndate: '2017-07-06'\\njudges:\\n- \"Jerzy...</td>\n",
       "    </tr>\n",
       "    <tr>\n",
       "      <th>4379</th>\n",
       "      <td>\\nYou are extracting information from the cour...</td>\n",
       "      <td>Sygn. aktVIII U 297/14\\n\\nWYROK\\nW IMIENIU RZE...</td>\n",
       "      <td>```yaml\\ndate: '2014-10-16'\\njudges:\\n- Maria ...</td>\n",
       "    </tr>\n",
       "  </tbody>\n",
       "</table>\n",
       "<p>10000 rows × 3 columns</p>\n",
       "</div>"
      ],
      "text/plain": [
       "                                                 prompt  \\\n",
       "3560  \\nYou are extracting information from the cour...   \n",
       "5555  \\nYou are extracting information from the cour...   \n",
       "8866  \\nYou are extracting information from the cour...   \n",
       "7014  \\nYou are extracting information from the cour...   \n",
       "4704  \\nYou are extracting information from the cour...   \n",
       "...                                                 ...   \n",
       "9165  \\nYou are extracting information from the cour...   \n",
       "5733  \\nYou are extracting information from the cour...   \n",
       "6976  \\nYou are extracting information from the cour...   \n",
       "6537  \\nYou are extracting information from the cour...   \n",
       "4379  \\nYou are extracting information from the cour...   \n",
       "\n",
       "                                                context  \\\n",
       "3560  Sygn. akt II Ka 753/16\\n\\nWYROK\\nW IMIENIU RZE...   \n",
       "5555  Sygn. akt: I C 630/18\\n\\nWYROK\\nW IMIENIU RZEC...   \n",
       "8866  Sygn. akt IV Ka 886/21\\n\\n1.\\n\\n2.WYROK\\n\\n2.1...   \n",
       "7014  Sygn. akt I Ca 64/17\\n\\nPOSTANOWIENIE\\nDnia 27...   \n",
       "4704  Sygn. akt II K 46/12\\n\\nWYROK ZAOCZNY\\nW IMIEN...   \n",
       "...                                                 ...   \n",
       "9165  Sygn. akt II C 588/16\\n\\nWYROK\\nW IMIENIU RZEC...   \n",
       "5733  Sygn. akt I Co 1668/19\\n\\nPOSTANOWIENIE\\nDnia ...   \n",
       "6976  Sygn. akt IV RC 641/17\\n\\nWYROK\\nW IMIENIU RZE...   \n",
       "6537  Sygn. akt IV U 739/16\\n\\nWYROK\\nW IMIENIU RZEC...   \n",
       "4379  Sygn. aktVIII U 297/14\\n\\nWYROK\\nW IMIENIU RZE...   \n",
       "\n",
       "                                                 output  \n",
       "3560  ```yaml\\ndate: '2017-01-31'\\njudges:\\n- \"Gra\\u...  \n",
       "5555  ```yaml\\ndate: '2020-12-01'\\njudges:\\n- \"S\\u01...  \n",
       "8866  ```yaml\\ndate: '2022-02-10'\\njudges:\\n- \"SSO A...  \n",
       "7014  ```yaml\\ndate: '2017-04-27'\\njudges:\\n- \"W\\u01...  \n",
       "4704  ```yaml\\ndate: '2012-03-27'\\njudges:\\n- \"S\\u01...  \n",
       "...                                                 ...  \n",
       "9165  ```yaml\\ndate: '2017-02-20'\\njudges:\\n- Katarz...  \n",
       "5733  ```yaml\\ndate: '2020-03-17'\\njudges:\\n- \"aseso...  \n",
       "6976  ```yaml\\ndate: '2017-12-19'\\njudges:\\n- \"Katar...  \n",
       "6537  ```yaml\\ndate: '2017-07-06'\\njudges:\\n- \"Jerzy...  \n",
       "4379  ```yaml\\ndate: '2014-10-16'\\njudges:\\n- Maria ...  \n",
       "\n",
       "[10000 rows x 3 columns]"
      ]
     },
     "execution_count": 8,
     "metadata": {},
     "output_type": "execute_result"
    }
   ],
   "source": [
    "df.sample(10_000)"
   ]
  },
  {
   "cell_type": "code",
   "execution_count": 9,
   "id": "f2d697bc0f215db",
   "metadata": {
    "ExecuteTime": {
     "end_time": "2024-05-19T11:12:50.266705Z",
     "start_time": "2024-05-19T11:12:48.009315Z"
    }
   },
   "outputs": [],
   "source": [
    "for col in [\"prompt\", \"context\", \"output\"]:\n",
    "    df[f\"{col}_words\"] = df[col].apply(lambda x: len(x.split()))"
   ]
  },
  {
   "cell_type": "code",
   "execution_count": 10,
   "id": "5af6ed879eacf8cc",
   "metadata": {
    "ExecuteTime": {
     "end_time": "2024-05-19T11:13:03.826635Z",
     "start_time": "2024-05-19T11:13:02.771674Z"
    }
   },
   "outputs": [
    {
     "name": "stdout",
     "output_type": "stream",
     "text": [
      "prompt\n"
     ]
    },
    {
     "data": {
      "image/png": "[encoded data removed]",
      "text/plain": [
       "<Figure size 640x480 with 1 Axes>"
      ]
     },
     "metadata": {},
     "output_type": "display_data"
    },
    {
     "name": "stdout",
     "output_type": "stream",
     "text": [
      "context\n"
     ]
    },
    {
     "data": {
      "image/png": "[encoded data removed]",
      "text/plain": [
       "<Figure size 640x480 with 1 Axes>"
      ]
     },
     "metadata": {},
     "output_type": "display_data"
    },
    {
     "name": "stdout",
     "output_type": "stream",
     "text": [
      "output\n"
     ]
    },
    {
     "data": {
      "image/png": "[encoded data removed]",
      "text/plain": [
       "<Figure size 640x480 with 1 Axes>"
      ]
     },
     "metadata": {},
     "output_type": "display_data"
    }
   ],
   "source": [
    "for col in [\"prompt\", \"context\", \"output\"]:\n",
    "    print(col)\n",
    "    sns.histplot(df, x=f\"{col}_words\")\n",
    "    plt.show()"
   ]
  },
  {
   "cell_type": "markdown",
   "id": "6a08ebb3a042eab2",
   "metadata": {},
   "source": [
    "## Tokens"
   ]
  },
  {
   "cell_type": "code",
   "execution_count": 11,
   "id": "f1428141b63c54ec",
   "metadata": {
    "ExecuteTime": {
     "end_time": "2024-05-19T11:15:29.339193Z",
     "start_time": "2024-05-19T11:15:29.199660Z"
    }
   },
   "outputs": [],
   "source": [
    "tokenizer_llama = AutoTokenizer.from_pretrained(\"meta-llama/Llama-2-7b-hf\")"
   ]
  },
  {
   "cell_type": "code",
   "execution_count": 16,
   "id": "e28b1957c061b9a1",
   "metadata": {
    "ExecuteTime": {
     "end_time": "2024-05-19T11:20:21.570006Z",
     "start_time": "2024-05-19T11:20:21.351909Z"
    }
   },
   "outputs": [
    {
     "data": {
      "application/vnd.jupyter.widget-view+json": {
       "model_id": "176734e85ff6479c9967ec3cfac798fd",
       "version_major": 2,
       "version_minor": 0
      },
      "text/plain": [
       "Map:   0%|          | 0/10000 [00:00<?, ? examples/s]"
      ]
     },
     "metadata": {},
     "output_type": "display_data"
    },
    {
     "name": "stdout",
     "output_type": "stream",
     "text": [
      "prompt\n"
     ]
    },
    {
     "data": {
      "image/png": "[encoded data removed]",
      "text/plain": [
       "<Figure size 640x480 with 1 Axes>"
      ]
     },
     "metadata": {},
     "output_type": "display_data"
    },
    {
     "data": {
      "application/vnd.jupyter.widget-view+json": {
       "model_id": "d97689a18dc24ceda1833b69f72ab149",
       "version_major": 2,
       "version_minor": 0
      },
      "text/plain": [
       "Map:   0%|          | 0/10000 [00:00<?, ? examples/s]"
      ]
     },
     "metadata": {},
     "output_type": "display_data"
    },
    {
     "name": "stdout",
     "output_type": "stream",
     "text": [
      "context\n"
     ]
    },
    {
     "data": {
      "image/png": "[encoded data removed]",
      "text/plain": [
       "<Figure size 640x480 with 1 Axes>"
      ]
     },
     "metadata": {},
     "output_type": "display_data"
    },
    {
     "data": {
      "application/vnd.jupyter.widget-view+json": {
       "model_id": "893d8c90de8547cd8cc2541d4dc987b5",
       "version_major": 2,
       "version_minor": 0
      },
      "text/plain": [
       "Map:   0%|          | 0/10000 [00:00<?, ? examples/s]"
      ]
     },
     "metadata": {},
     "output_type": "display_data"
    },
    {
     "name": "stdout",
     "output_type": "stream",
     "text": [
      "output\n"
     ]
    },
    {
     "data": {
      "image/png": "[encoded data removed]",
      "text/plain": [
       "<Figure size 640x480 with 1 Axes>"
      ]
     },
     "metadata": {},
     "output_type": "display_data"
    }
   ],
   "source": [
    "for col in [\"prompt\", \"context\", \"output\"]:\n",
    "    def tokenization(examples):\n",
    "        return {\n",
    "            \"num_tokens_llama\": tokenizer_llama(\n",
    "                examples[col],\n",
    "                return_length=True,\n",
    "                return_attention_mask=False,\n",
    "                padding=False,\n",
    "                truncation=False,\n",
    "            )[\"length\"]\n",
    "        }\n",
    "    \n",
    "    \n",
    "    train = train.map(tokenization, batched=True, num_proc=1)\n",
    "    df[f\"{col}_tokens\"] = train['num_tokens_llama']\n",
    "    print(col)\n",
    "    sns.histplot(df, x=f\"{col}_tokens\")\n",
    "    plt.show()"
   ]
  },
  {
   "cell_type": "code",
   "execution_count": 22,
   "id": "136cf57c631d3ee1",
   "metadata": {
    "ExecuteTime": {
     "end_time": "2024-05-19T11:19:35.872203Z",
     "start_time": "2024-05-19T11:19:35.866887Z"
    }
   },
   "outputs": [
    {
     "data": {
      "text/html": [
       "<div>\n",
       "<style scoped>\n",
       "    .dataframe tbody tr th:only-of-type {\n",
       "        vertical-align: middle;\n",
       "    }\n",
       "\n",
       "    .dataframe tbody tr th {\n",
       "        vertical-align: top;\n",
       "    }\n",
       "\n",
       "    .dataframe thead th {\n",
       "        text-align: right;\n",
       "    }\n",
       "</style>\n",
       "<table border=\"1\" class=\"dataframe\">\n",
       "  <thead>\n",
       "    <tr style=\"text-align: right;\">\n",
       "      <th></th>\n",
       "      <th>prompt_words</th>\n",
       "      <th>context_words</th>\n",
       "      <th>output_words</th>\n",
       "      <th>prompt_tokens</th>\n",
       "      <th>context_tokens</th>\n",
       "      <th>output_tokens</th>\n",
       "    </tr>\n",
       "  </thead>\n",
       "  <tbody>\n",
       "    <tr>\n",
       "      <th>count</th>\n",
       "      <td>10000.0</td>\n",
       "      <td>10000.000000</td>\n",
       "      <td>10000.000000</td>\n",
       "      <td>10000.0</td>\n",
       "      <td>10000.000000</td>\n",
       "      <td>10000.000000</td>\n",
       "    </tr>\n",
       "    <tr>\n",
       "      <th>mean</th>\n",
       "      <td>45.0</td>\n",
       "      <td>3000.280000</td>\n",
       "      <td>14.631700</td>\n",
       "      <td>83.0</td>\n",
       "      <td>8807.601300</td>\n",
       "      <td>62.646600</td>\n",
       "    </tr>\n",
       "    <tr>\n",
       "      <th>std</th>\n",
       "      <td>0.0</td>\n",
       "      <td>3023.287323</td>\n",
       "      <td>3.029286</td>\n",
       "      <td>0.0</td>\n",
       "      <td>8858.296519</td>\n",
       "      <td>15.811613</td>\n",
       "    </tr>\n",
       "    <tr>\n",
       "      <th>min</th>\n",
       "      <td>45.0</td>\n",
       "      <td>55.000000</td>\n",
       "      <td>11.000000</td>\n",
       "      <td>83.0</td>\n",
       "      <td>185.000000</td>\n",
       "      <td>40.000000</td>\n",
       "    </tr>\n",
       "    <tr>\n",
       "      <th>25%</th>\n",
       "      <td>45.0</td>\n",
       "      <td>1135.000000</td>\n",
       "      <td>12.000000</td>\n",
       "      <td>83.0</td>\n",
       "      <td>3393.750000</td>\n",
       "      <td>51.000000</td>\n",
       "    </tr>\n",
       "    <tr>\n",
       "      <th>50%</th>\n",
       "      <td>45.0</td>\n",
       "      <td>2291.500000</td>\n",
       "      <td>13.000000</td>\n",
       "      <td>83.0</td>\n",
       "      <td>6767.000000</td>\n",
       "      <td>59.000000</td>\n",
       "    </tr>\n",
       "    <tr>\n",
       "      <th>75%</th>\n",
       "      <td>45.0</td>\n",
       "      <td>3910.250000</td>\n",
       "      <td>18.000000</td>\n",
       "      <td>83.0</td>\n",
       "      <td>11421.000000</td>\n",
       "      <td>73.000000</td>\n",
       "    </tr>\n",
       "    <tr>\n",
       "      <th>max</th>\n",
       "      <td>45.0</td>\n",
       "      <td>48889.000000</td>\n",
       "      <td>31.000000</td>\n",
       "      <td>83.0</td>\n",
       "      <td>144388.000000</td>\n",
       "      <td>165.000000</td>\n",
       "    </tr>\n",
       "  </tbody>\n",
       "</table>\n",
       "</div>"
      ],
      "text/plain": [
       "       prompt_words  context_words  output_words  prompt_tokens  \\\n",
       "count       10000.0   10000.000000  10000.000000        10000.0   \n",
       "mean           45.0    3000.280000     14.631700           83.0   \n",
       "std             0.0    3023.287323      3.029286            0.0   \n",
       "min            45.0      55.000000     11.000000           83.0   \n",
       "25%            45.0    1135.000000     12.000000           83.0   \n",
       "50%            45.0    2291.500000     13.000000           83.0   \n",
       "75%            45.0    3910.250000     18.000000           83.0   \n",
       "max            45.0   48889.000000     31.000000           83.0   \n",
       "\n",
       "       context_tokens  output_tokens  \n",
       "count    10000.000000   10000.000000  \n",
       "mean      8807.601300      62.646600  \n",
       "std       8858.296519      15.811613  \n",
       "min        185.000000      40.000000  \n",
       "25%       3393.750000      51.000000  \n",
       "50%       6767.000000      59.000000  \n",
       "75%      11421.000000      73.000000  \n",
       "max     144388.000000     165.000000  "
      ]
     },
     "execution_count": 22,
     "metadata": {},
     "output_type": "execute_result"
    }
   ],
   "source": [
    "df[[\"prompt_words\", \"context_words\", \"output_words\", \"prompt_tokens\", \"context_tokens\", \"output_tokens\"]].describe()"
   ]
  },
  {
   "cell_type": "markdown",
   "id": "431fcdc9-70ab-4ef2-a6a2-61c71b93a6bd",
   "metadata": {},
   "source": [
    "## Output"
   ]
  },
  {
   "cell_type": "code",
   "execution_count": 48,
   "id": "bdabd2b51ab945a2",
   "metadata": {},
   "outputs": [],
   "source": [
    "parsed_output = df.output.apply(lambda x: yaml.safe_load(x.replace(\"```yaml\", \"\").replace(\"```\", \"\")))"
   ]
  },
  {
   "cell_type": "code",
   "execution_count": 49,
   "id": "115085a90f0ba7e2",
   "metadata": {},
   "outputs": [],
   "source": [
    "out_df = pd.DataFrame.from_dict(parsed_output.tolist())\n",
    "out_df.date = pd.to_datetime(out_df.date)"
   ]
  },
  {
   "cell_type": "code",
   "execution_count": 50,
   "id": "aa5f9eabbbcabc5e",
   "metadata": {
    "ExecuteTime": {
     "end_time": "2024-05-19T11:01:54.326826Z",
     "start_time": "2024-05-19T11:01:53.845186Z"
    }
   },
   "outputs": [
    {
     "data": {
      "text/plain": [
       "count                         10000\n",
       "mean     2017-04-20 19:16:53.760000\n",
       "min             2000-05-25 00:00:00\n",
       "25%             2015-01-15 00:00:00\n",
       "50%             2016-12-20 00:00:00\n",
       "75%             2019-03-15 00:00:00\n",
       "max             2024-02-20 00:00:00\n",
       "Name: date, dtype: object"
      ]
     },
     "execution_count": 50,
     "metadata": {},
     "output_type": "execute_result"
    }
   ],
   "source": [
    "out_df.date.describe()"
   ]
  },
  {
   "cell_type": "code",
   "execution_count": 52,
   "id": "b1792ab039bcdc20",
   "metadata": {
    "ExecuteTime": {
     "end_time": "2024-05-19T11:01:54.330860Z",
     "start_time": "2024-05-19T11:01:54.328460Z"
    }
   },
   "outputs": [
    {
     "data": {
      "text/plain": [
       "count    10000.000000\n",
       "mean         1.758600\n",
       "std          0.964064\n",
       "min          1.000000\n",
       "25%          1.000000\n",
       "50%          1.000000\n",
       "75%          3.000000\n",
       "max          5.000000\n",
       "Name: judges, dtype: float64"
      ]
     },
     "execution_count": 52,
     "metadata": {},
     "output_type": "execute_result"
    }
   ],
   "source": [
    "out_df.judges.apply(len).describe()"
   ]
  },
  {
   "cell_type": "code",
   "execution_count": null,
   "id": "1fe89907-a215-430c-9e41-35924c65739d",
   "metadata": {},
   "outputs": [],
   "source": []
  }
 ],
 "metadata": {
  "kernelspec": {
   "display_name": "Python 3 (ipykernel)",
   "language": "python",
   "name": "python3"
  },
  "language_info": {
   "codemirror_mode": {
    "name": "ipython",
    "version": 3
   },
   "file_extension": ".py",
   "mimetype": "text/x-python",
   "name": "python",
   "nbconvert_exporter": "python",
   "pygments_lexer": "ipython3",
   "version": "3.11.8"
  }
 },
 "nbformat": 4,
 "nbformat_minor": 5
}
