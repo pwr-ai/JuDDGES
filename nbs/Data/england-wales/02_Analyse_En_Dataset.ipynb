{
 "cells": [
  {
   "cell_type": "markdown",
   "id": "a98d226c",
   "metadata": {},
   "source": [
    "# Analyse Polish Dataset\n"
   ]
  },
  {
   "cell_type": "code",
   "execution_count": 12,
   "id": "initial_id",
   "metadata": {},
   "outputs": [],
   "source": [
    "# | eval: false\n",
    "import polars as pl\n",
    "from datasets import Dataset, DatasetDict, load_dataset, load_from_disk"
   ]
  },
  {
   "cell_type": "code",
   "execution_count": 9,
   "id": "c8a2c7d4858169a2",
   "metadata": {},
   "outputs": [],
   "source": [
    "# | eval: false\n",
    "path_ = '/home/stirunag/work/github/ML4-legal-documents/judgements_xml/'\n",
    "dataset_path = path_+'en_judgements_dataset'\n",
    "ds = load_from_disk(dataset_path)"
   ]
  },
  {
   "cell_type": "code",
   "execution_count": 10,
   "id": "dd788638-6a7d-4f31-bfed-8845eb4cfbd0",
   "metadata": {},
   "outputs": [
    {
     "data": {
      "text/plain": [
       "Dataset({\n",
       "    features: ['_id', 'citation', 'signature', 'date', 'publicationDate', 'type', 'excerpt', 'content', 'judges', 'caseNumbers', 'citation_references', 'legislation', 'file_name', 'appeal_type', 'appeal_outcome', 'xml_uri', 'uri'],\n",
       "    num_rows: 6154\n",
       "})"
      ]
     },
     "execution_count": 10,
     "metadata": {},
     "output_type": "execute_result"
    }
   ],
   "source": [
    "ds"
   ]
  },
  {
   "cell_type": "code",
   "execution_count": 16,
   "id": "167b28d4-1e8a-4bf3-a2f3-bea277fb448f",
   "metadata": {},
   "outputs": [],
   "source": [
    "df = ds.to_pandas()\n",
    "pl_df = pl.DataFrame(df)"
   ]
  },
  {
   "cell_type": "code",
   "execution_count": 21,
   "id": "9e3c70ac",
   "metadata": {},
   "outputs": [
    {
     "name": "stdout",
     "output_type": "stream",
     "text": [
      "shape: (5, 17)\n",
      "┌───────────┬───────────┬───────────┬───────────┬───┬───────────┬───────────┬───────────┬──────────┐\n",
      "│ _id       ┆ citation  ┆ signature ┆ date      ┆ … ┆ appeal_ty ┆ appeal_ou ┆ xml_uri   ┆ uri      │\n",
      "│ ---       ┆ ---       ┆ ---       ┆ ---       ┆   ┆ pe        ┆ tcome     ┆ ---       ┆ ---      │\n",
      "│ str       ┆ str       ┆ str       ┆ datetime[ ┆   ┆ ---       ┆ ---       ┆ str       ┆ str      │\n",
      "│           ┆           ┆           ┆ ns]       ┆   ┆ cat       ┆ cat       ┆           ┆          │\n",
      "╞═══════════╪═══════════╪═══════════╪═══════════╪═══╪═══════════╪═══════════╪═══════════╪══════════╡\n",
      "│ ab0224364 ┆ [2008]    ┆ EWCA_Crim ┆ null      ┆ … ┆ null      ┆ null      ┆ https://c ┆ https:// │\n",
      "│ e4cf6562c ┆ EWCA Crim ┆ _2952     ┆           ┆   ┆           ┆           ┆ aselaw.na ┆ caselaw. │\n",
      "│ 82f8861d5 ┆ 2952      ┆           ┆           ┆   ┆           ┆           ┆ tionalarc ┆ national │\n",
      "│ 268…      ┆           ┆           ┆           ┆   ┆           ┆           ┆ hiv…      ┆ archiv…  │\n",
      "│ d4630d932 ┆ [2006]    ┆ EWCA_Crim ┆ null      ┆ … ┆ convictio ┆ null      ┆ https://c ┆ https:// │\n",
      "│ 58ea51ecf ┆ EWCA Crim ┆ _3187     ┆           ┆   ┆ n         ┆           ┆ aselaw.na ┆ caselaw. │\n",
      "│ f4bc40154 ┆ 3187      ┆           ┆           ┆   ┆           ┆           ┆ tionalarc ┆ national │\n",
      "│ 43b…      ┆           ┆           ┆           ┆   ┆           ┆           ┆ hiv…      ┆ archiv…  │\n",
      "│ 37183a714 ┆ [2012]    ┆ EWCA_Crim ┆ null      ┆ … ┆ null      ┆ null      ┆ https://c ┆ https:// │\n",
      "│ b626cfe98 ┆ EWCA Crim ┆ _1840     ┆           ┆   ┆           ┆           ┆ aselaw.na ┆ caselaw. │\n",
      "│ 081ac0250 ┆ 1840      ┆           ┆           ┆   ┆           ┆           ┆ tionalarc ┆ national │\n",
      "│ c80…      ┆           ┆           ┆           ┆   ┆           ┆           ┆ hiv…      ┆ archiv…  │\n",
      "│ b41933b19 ┆ [2014]    ┆ EWCA_Crim ┆ null      ┆ … ┆ null      ┆ null      ┆ https://c ┆ https:// │\n",
      "│ 505ab8767 ┆ EWCA Crim ┆ _1730     ┆           ┆   ┆           ┆           ┆ aselaw.na ┆ caselaw. │\n",
      "│ ce30faf8d ┆ 1730      ┆           ┆           ┆   ┆           ┆           ┆ tionalarc ┆ national │\n",
      "│ b95…      ┆           ┆           ┆           ┆   ┆           ┆           ┆ hiv…      ┆ archiv…  │\n",
      "│ 418382a2a ┆ [2018]    ┆ EWCA_Crim ┆ null      ┆ … ┆ null      ┆ allowed   ┆ https://c ┆ https:// │\n",
      "│ 6c0c32d3d ┆ EWCA Crim ┆ _2189     ┆           ┆   ┆           ┆           ┆ aselaw.na ┆ caselaw. │\n",
      "│ 2bd4cb7b3 ┆ 2189      ┆           ┆           ┆   ┆           ┆           ┆ tionalarc ┆ national │\n",
      "│ 9e1…      ┆           ┆           ┆           ┆   ┆           ┆           ┆ hiv…      ┆ archiv…  │\n",
      "└───────────┴───────────┴───────────┴───────────┴───┴───────────┴───────────┴───────────┴──────────┘\n"
     ]
    }
   ],
   "source": [
    "pl_df = pl_df.with_columns([\n",
    "    pl.col(\"date\").cast(pl.Utf8),\n",
    "    pl.col(\"publicationDate\").cast(pl.Utf8),\n",
    "])\n",
    "\n",
    "# Define date format\n",
    "dt_fmt = \"%Y-%m-%d %H:%M:%S%.f %Z\"\n",
    "\n",
    "# Perform column transformations\n",
    "pl_df = pl_df.with_columns([\n",
    "    pl.col(\"date\").str.strptime(pl.Datetime, format=dt_fmt),\n",
    "    pl.col(\"publicationDate\").str.strptime(pl.Datetime, format=dt_fmt),\n",
    "    pl.col(\"type\").cast(pl.Categorical),\n",
    "    pl.col(\"appeal_type\").cast(pl.Categorical),\n",
    "    pl.col(\"appeal_outcome\").cast(pl.Categorical)\n",
    "])\n",
    "\n",
    "# Display the first few rows of the transformed DataFrame\n",
    "print(pl_df.head())"
   ]
  },
  {
   "cell_type": "code",
   "execution_count": 22,
   "id": "35e65fe2dd9a4bce",
   "metadata": {},
   "outputs": [
    {
     "data": {
      "text/html": [
       "<div><style>\n",
       ".dataframe > thead > tr,\n",
       ".dataframe > tbody > tr {\n",
       "  text-align: right;\n",
       "  white-space: pre-wrap;\n",
       "}\n",
       "</style>\n",
       "<small>shape: (9, 18)</small><table border=\"1\" class=\"dataframe\"><thead><tr><th>statistic</th><th>_id</th><th>citation</th><th>signature</th><th>date</th><th>publicationDate</th><th>type</th><th>excerpt</th><th>content</th><th>judges</th><th>caseNumbers</th><th>citation_references</th><th>legislation</th><th>file_name</th><th>appeal_type</th><th>appeal_outcome</th><th>xml_uri</th><th>uri</th></tr><tr><td>str</td><td>str</td><td>str</td><td>str</td><td>str</td><td>str</td><td>str</td><td>str</td><td>str</td><td>f64</td><td>f64</td><td>f64</td><td>f64</td><td>str</td><td>str</td><td>str</td><td>str</td><td>str</td></tr></thead><tbody><tr><td>&quot;count&quot;</td><td>&quot;6154&quot;</td><td>&quot;6154&quot;</td><td>&quot;6154&quot;</td><td>&quot;0&quot;</td><td>&quot;6154&quot;</td><td>&quot;6154&quot;</td><td>&quot;6058&quot;</td><td>&quot;6154&quot;</td><td>6115.0</td><td>4934.0</td><td>1392.0</td><td>1826.0</td><td>&quot;6154&quot;</td><td>&quot;834&quot;</td><td>&quot;1368&quot;</td><td>&quot;6154&quot;</td><td>&quot;6154&quot;</td></tr><tr><td>&quot;null_count&quot;</td><td>&quot;0&quot;</td><td>&quot;0&quot;</td><td>&quot;0&quot;</td><td>&quot;6154&quot;</td><td>&quot;0&quot;</td><td>&quot;0&quot;</td><td>&quot;96&quot;</td><td>&quot;0&quot;</td><td>39.0</td><td>1220.0</td><td>4762.0</td><td>4328.0</td><td>&quot;0&quot;</td><td>&quot;5320&quot;</td><td>&quot;4786&quot;</td><td>&quot;0&quot;</td><td>&quot;0&quot;</td></tr><tr><td>&quot;mean&quot;</td><td>null</td><td>null</td><td>null</td><td>null</td><td>&quot;2013-10-13 09:46:09.320766&quot;</td><td>null</td><td>null</td><td>null</td><td>null</td><td>null</td><td>null</td><td>null</td><td>null</td><td>null</td><td>null</td><td>null</td><td>null</td></tr><tr><td>&quot;std&quot;</td><td>null</td><td>null</td><td>null</td><td>null</td><td>null</td><td>null</td><td>null</td><td>null</td><td>null</td><td>null</td><td>null</td><td>null</td><td>null</td><td>null</td><td>null</td><td>null</td><td>null</td></tr><tr><td>&quot;min&quot;</td><td>&quot;001d3b389f60bfd101c581fe8f1a9a…</td><td>&quot;[2003] EWCA Crim 1&quot;</td><td>&quot;EWCA_(Crim)_1478&quot;</td><td>null</td><td>&quot;2003-01-04 00:00:00&quot;</td><td>null</td><td>&quot;********REPORTING RESTRICTIONS…</td><td>&quot;\n",
       "2020] EWCA Crim 570\n",
       "No: 20190…</td><td>null</td><td>null</td><td>null</td><td>null</td><td>&quot;2003_01_04-1.xml&quot;</td><td>null</td><td>null</td><td>&quot;https://caselaw.nationalarchiv…</td><td>&quot;https://caselaw.nationalarchiv…</td></tr><tr><td>&quot;25%&quot;</td><td>null</td><td>null</td><td>null</td><td>null</td><td>&quot;2008-06-11 00:00:00&quot;</td><td>null</td><td>null</td><td>null</td><td>null</td><td>null</td><td>null</td><td>null</td><td>null</td><td>null</td><td>null</td><td>null</td><td>null</td></tr><tr><td>&quot;50%&quot;</td><td>null</td><td>null</td><td>null</td><td>null</td><td>&quot;2012-11-29 00:00:00&quot;</td><td>null</td><td>null</td><td>null</td><td>null</td><td>null</td><td>null</td><td>null</td><td>null</td><td>null</td><td>null</td><td>null</td><td>null</td></tr><tr><td>&quot;75%&quot;</td><td>null</td><td>null</td><td>null</td><td>null</td><td>&quot;2019-06-07 00:00:00&quot;</td><td>null</td><td>null</td><td>null</td><td>null</td><td>null</td><td>null</td><td>null</td><td>null</td><td>null</td><td>null</td><td>null</td><td>null</td></tr><tr><td>&quot;max&quot;</td><td>&quot;ffffb6552ad89849b5d2767708b5c2…</td><td>&quot;[2024] EWCA Crim 99&quot;</td><td>&quot;Ewca_Crim_664&quot;</td><td>null</td><td>&quot;2024-05-22 00:00:00&quot;</td><td>null</td><td>&quot;…WARNING: reporting restrictio…</td><td>&quot;…WARNING: reporting restrictio…</td><td>null</td><td>null</td><td>null</td><td>null</td><td>&quot;2024_05_22-6154.xml&quot;</td><td>null</td><td>null</td><td>&quot;https://caselaw.nationalarchiv…</td><td>&quot;https://caselaw.nationalarchiv…</td></tr></tbody></table></div>"
      ],
      "text/plain": [
       "shape: (9, 18)\n",
       "┌───────────┬───────────┬───────────┬───────────┬───┬───────────┬───────────┬───────────┬──────────┐\n",
       "│ statistic ┆ _id       ┆ citation  ┆ signature ┆ … ┆ appeal_ty ┆ appeal_ou ┆ xml_uri   ┆ uri      │\n",
       "│ ---       ┆ ---       ┆ ---       ┆ ---       ┆   ┆ pe        ┆ tcome     ┆ ---       ┆ ---      │\n",
       "│ str       ┆ str       ┆ str       ┆ str       ┆   ┆ ---       ┆ ---       ┆ str       ┆ str      │\n",
       "│           ┆           ┆           ┆           ┆   ┆ str       ┆ str       ┆           ┆          │\n",
       "╞═══════════╪═══════════╪═══════════╪═══════════╪═══╪═══════════╪═══════════╪═══════════╪══════════╡\n",
       "│ count     ┆ 6154      ┆ 6154      ┆ 6154      ┆ … ┆ 834       ┆ 1368      ┆ 6154      ┆ 6154     │\n",
       "│ null_coun ┆ 0         ┆ 0         ┆ 0         ┆ … ┆ 5320      ┆ 4786      ┆ 0         ┆ 0        │\n",
       "│ t         ┆           ┆           ┆           ┆   ┆           ┆           ┆           ┆          │\n",
       "│ mean      ┆ null      ┆ null      ┆ null      ┆ … ┆ null      ┆ null      ┆ null      ┆ null     │\n",
       "│ std       ┆ null      ┆ null      ┆ null      ┆ … ┆ null      ┆ null      ┆ null      ┆ null     │\n",
       "│ min       ┆ 001d3b389 ┆ [2003]    ┆ EWCA_(Cri ┆ … ┆ null      ┆ null      ┆ https://c ┆ https:// │\n",
       "│           ┆ f60bfd101 ┆ EWCA Crim ┆ m)_1478   ┆   ┆           ┆           ┆ aselaw.na ┆ caselaw. │\n",
       "│           ┆ c581fe8f1 ┆ 1         ┆           ┆   ┆           ┆           ┆ tionalarc ┆ national │\n",
       "│           ┆ a9a…      ┆           ┆           ┆   ┆           ┆           ┆ hiv…      ┆ archiv…  │\n",
       "│ 25%       ┆ null      ┆ null      ┆ null      ┆ … ┆ null      ┆ null      ┆ null      ┆ null     │\n",
       "│ 50%       ┆ null      ┆ null      ┆ null      ┆ … ┆ null      ┆ null      ┆ null      ┆ null     │\n",
       "│ 75%       ┆ null      ┆ null      ┆ null      ┆ … ┆ null      ┆ null      ┆ null      ┆ null     │\n",
       "│ max       ┆ ffffb6552 ┆ [2024]    ┆ Ewca_Crim ┆ … ┆ null      ┆ null      ┆ https://c ┆ https:// │\n",
       "│           ┆ ad89849b5 ┆ EWCA Crim ┆ _664      ┆   ┆           ┆           ┆ aselaw.na ┆ caselaw. │\n",
       "│           ┆ d2767708b ┆ 99        ┆           ┆   ┆           ┆           ┆ tionalarc ┆ national │\n",
       "│           ┆ 5c2…      ┆           ┆           ┆   ┆           ┆           ┆ hiv…      ┆ archiv…  │\n",
       "└───────────┴───────────┴───────────┴───────────┴───┴───────────┴───────────┴───────────┴──────────┘"
      ]
     },
     "execution_count": 22,
     "metadata": {},
     "output_type": "execute_result"
    }
   ],
   "source": [
    "# | eval: false\n",
    "pl_df.describe()"
   ]
  },
  {
   "cell_type": "code",
   "execution_count": 23,
   "id": "ab23ff37327a377a",
   "metadata": {},
   "outputs": [
    {
     "data": {
      "text/html": [
       "<div><style>\n",
       ".dataframe > thead > tr,\n",
       ".dataframe > tbody > tr {\n",
       "  text-align: right;\n",
       "  white-space: pre-wrap;\n",
       "}\n",
       "</style>\n",
       "<small>shape: (7, 2)</small><table border=\"1\" class=\"dataframe\"><thead><tr><th>type</th><th>count</th></tr><tr><td>cat</td><td>u32</td></tr></thead><tbody><tr><td>&quot;crown_court&quot;</td><td>5472</td></tr><tr><td>&quot;supreme_court&quot;</td><td>660</td></tr><tr><td>&quot;martial_court&quot;</td><td>11</td></tr><tr><td>&quot;high_court_administrative_cour…</td><td>2</td></tr><tr><td>&quot;high_court_division_court&quot;</td><td>7</td></tr><tr><td>&quot;civil_criminal_court&quot;</td><td>1</td></tr><tr><td>&quot;division_court&quot;</td><td>1</td></tr></tbody></table></div>"
      ],
      "text/plain": [
       "shape: (7, 2)\n",
       "┌─────────────────────────────────┬───────┐\n",
       "│ type                            ┆ count │\n",
       "│ ---                             ┆ ---   │\n",
       "│ cat                             ┆ u32   │\n",
       "╞═════════════════════════════════╪═══════╡\n",
       "│ crown_court                     ┆ 5472  │\n",
       "│ supreme_court                   ┆ 660   │\n",
       "│ martial_court                   ┆ 11    │\n",
       "│ high_court_administrative_cour… ┆ 2     │\n",
       "│ high_court_division_court       ┆ 7     │\n",
       "│ civil_criminal_court            ┆ 1     │\n",
       "│ division_court                  ┆ 1     │\n",
       "└─────────────────────────────────┴───────┘"
      ]
     },
     "execution_count": 23,
     "metadata": {},
     "output_type": "execute_result"
    }
   ],
   "source": [
    "# | eval: false\n",
    "pl_df[\"type\"].value_counts()"
   ]
  },
  {
   "cell_type": "code",
   "execution_count": 24,
   "id": "11883338-0a71-48ff-8699-6a4dd8cc085d",
   "metadata": {},
   "outputs": [
    {
     "data": {
      "text/html": [
       "<div><style>\n",
       ".dataframe > thead > tr,\n",
       ".dataframe > tbody > tr {\n",
       "  text-align: right;\n",
       "  white-space: pre-wrap;\n",
       "}\n",
       "</style>\n",
       "<small>shape: (3, 2)</small><table border=\"1\" class=\"dataframe\"><thead><tr><th>appeal_type</th><th>count</th></tr><tr><td>cat</td><td>u32</td></tr></thead><tbody><tr><td>&quot;conviction&quot;</td><td>496</td></tr><tr><td>&quot;sentence&quot;</td><td>338</td></tr><tr><td>null</td><td>5320</td></tr></tbody></table></div>"
      ],
      "text/plain": [
       "shape: (3, 2)\n",
       "┌─────────────┬───────┐\n",
       "│ appeal_type ┆ count │\n",
       "│ ---         ┆ ---   │\n",
       "│ cat         ┆ u32   │\n",
       "╞═════════════╪═══════╡\n",
       "│ conviction  ┆ 496   │\n",
       "│ sentence    ┆ 338   │\n",
       "│ null        ┆ 5320  │\n",
       "└─────────────┴───────┘"
      ]
     },
     "execution_count": 24,
     "metadata": {},
     "output_type": "execute_result"
    }
   ],
   "source": [
    "pl_df[\"appeal_type\"].value_counts()"
   ]
  },
  {
   "cell_type": "code",
   "execution_count": 25,
   "id": "0cdfb0a9-c761-44c5-8fa0-17508df966e9",
   "metadata": {},
   "outputs": [
    {
     "data": {
      "text/html": [
       "<div><style>\n",
       ".dataframe > thead > tr,\n",
       ".dataframe > tbody > tr {\n",
       "  text-align: right;\n",
       "  white-space: pre-wrap;\n",
       "}\n",
       "</style>\n",
       "<small>shape: (5, 2)</small><table border=\"1\" class=\"dataframe\"><thead><tr><th>appeal_outcome</th><th>count</th></tr><tr><td>cat</td><td>u32</td></tr></thead><tbody><tr><td>&quot;allowed&quot;</td><td>697</td></tr><tr><td>&quot;refused&quot;</td><td>65</td></tr><tr><td>&quot;dismissed&quot;</td><td>586</td></tr><tr><td>null</td><td>4786</td></tr><tr><td>&quot;granted&quot;</td><td>20</td></tr></tbody></table></div>"
      ],
      "text/plain": [
       "shape: (5, 2)\n",
       "┌────────────────┬───────┐\n",
       "│ appeal_outcome ┆ count │\n",
       "│ ---            ┆ ---   │\n",
       "│ cat            ┆ u32   │\n",
       "╞════════════════╪═══════╡\n",
       "│ allowed        ┆ 697   │\n",
       "│ refused        ┆ 65    │\n",
       "│ dismissed      ┆ 586   │\n",
       "│ null           ┆ 4786  │\n",
       "│ granted        ┆ 20    │\n",
       "└────────────────┴───────┘"
      ]
     },
     "execution_count": 25,
     "metadata": {},
     "output_type": "execute_result"
    }
   ],
   "source": [
    "pl_df[\"appeal_outcome\"].value_counts()"
   ]
  },
  {
   "cell_type": "code",
   "execution_count": 27,
   "id": "11446c299cdf1700",
   "metadata": {},
   "outputs": [
    {
     "name": "stdout",
     "output_type": "stream",
     "text": [
      "Missing content: 0.0\n",
      "Missing excerpt: 0.015599610009749756\n"
     ]
    }
   ],
   "source": [
    "# | eval: false\n",
    "print(f\"Missing content: {pl_df['content'].null_count() / len(pl_df)}\")\n",
    "print(f\"Missing excerpt: {pl_df['excerpt'].null_count() / len(pl_df)}\")"
   ]
  },
  {
   "cell_type": "code",
   "execution_count": 38,
   "id": "891ffbad",
   "metadata": {},
   "outputs": [
    {
     "data": {
      "text/plain": [
       "<Axes: title={'center': 'Excerpt #chars distribution'}, ylabel='Frequency'>"
      ]
     },
     "execution_count": 38,
     "metadata": {},
     "output_type": "execute_result"
    },
    {
     "data": {
      "image/png": "[encoded data removed]",
      "text/plain": [
       "<Figure size 640x480 with 1 Axes>"
      ]
     },
     "metadata": {},
     "output_type": "display_data"
    }
   ],
   "source": [
    "# | eval: false\n",
    "pl_df[\"excerpt\"].str.strip_chars().str.len_chars().to_pandas().plot.hist(\n",
    "    bins=50, log=True, title=\"Excerpt #chars distribution\"\n",
    ")"
   ]
  },
  {
   "cell_type": "code",
   "execution_count": 32,
   "id": "82355195-bcd0-47fe-9cea-8feb680dd650",
   "metadata": {},
   "outputs": [
    {
     "data": {
      "text/html": [
       "<div><style>\n",
       ".dataframe > thead > tr,\n",
       ".dataframe > tbody > tr {\n",
       "  text-align: right;\n",
       "  white-space: pre-wrap;\n",
       "}\n",
       "</style>\n",
       "<small>shape: (6_154,)</small><table border=\"1\" class=\"dataframe\"><thead><tr><th>excerpt</th></tr><tr><td>str</td></tr></thead><tbody><tr><td>&quot;No. 2008/03296/A9 2008/03350/A…</td></tr><tr><td>&quot;Neutral Citation Number: [2006…</td></tr><tr><td>&quot;Neutral Citation Number: [2012…</td></tr><tr><td>&quot;Neutral Citation Number: [2014…</td></tr><tr><td>&quot;No: 201802356 A2 Neutral Citat…</td></tr><tr><td>&hellip;</td></tr><tr><td>&quot;Neutral Citation Number: [2018…</td></tr><tr><td>&quot;Case No: 2002/04091/D1 Neutral…</td></tr><tr><td>&quot;Neutral Citation Number: [2010…</td></tr><tr><td>&quot;Case No: 200305991 D2 Neutral …</td></tr><tr><td>&quot;2017/05382/B1 Neutral Citation…</td></tr></tbody></table></div>"
      ],
      "text/plain": [
       "shape: (6_154,)\n",
       "Series: 'excerpt' [str]\n",
       "[\n",
       "\t\"No. 2008/03296/A9 2008/03350/A…\n",
       "\t\"Neutral Citation Number: [2006…\n",
       "\t\"Neutral Citation Number: [2012…\n",
       "\t\"Neutral Citation Number: [2014…\n",
       "\t\"No: 201802356 A2 Neutral Citat…\n",
       "\t…\n",
       "\t\"Neutral Citation Number: [2018…\n",
       "\t\"Case No: 2002/04091/D1 Neutral…\n",
       "\t\"Neutral Citation Number: [2010…\n",
       "\t\"Case No: 200305991 D2 Neutral …\n",
       "\t\"2017/05382/B1 Neutral Citation…\n",
       "]"
      ]
     },
     "execution_count": 32,
     "metadata": {},
     "output_type": "execute_result"
    }
   ],
   "source": [
    "pl_df[\"excerpt\"]"
   ]
  },
  {
   "cell_type": "code",
   "execution_count": 33,
   "id": "bb009db3",
   "metadata": {},
   "outputs": [
    {
     "data": {
      "text/plain": [
       "0       500.0\n",
       "1       500.0\n",
       "2       499.0\n",
       "3       500.0\n",
       "4       499.0\n",
       "        ...  \n",
       "6149    499.0\n",
       "6150    500.0\n",
       "6151    500.0\n",
       "6152    499.0\n",
       "6153    499.0\n",
       "Name: excerpt, Length: 6154, dtype: float64"
      ]
     },
     "execution_count": 33,
     "metadata": {},
     "output_type": "execute_result"
    }
   ],
   "source": [
    "pl_df[\"excerpt\"].str.strip_chars().str.len_chars().to_pandas()"
   ]
  },
  {
   "cell_type": "code",
   "execution_count": null,
   "id": "6b8d0b77-9a61-481f-ba4b-ac738250df3e",
   "metadata": {},
   "outputs": [],
   "source": []
  }
 ],
 "metadata": {
  "kernelspec": {
   "display_name": "Python 3 (ipykernel)",
   "language": "python",
   "name": "python3"
  },
  "language_info": {
   "codemirror_mode": {
    "name": "ipython",
    "version": 3
   },
   "file_extension": ".py",
   "mimetype": "text/x-python",
   "name": "python",
   "nbconvert_exporter": "python",
   "pygments_lexer": "ipython3",
   "version": "3.10.9"
  }
 },
 "nbformat": 4,
 "nbformat_minor": 5
}
