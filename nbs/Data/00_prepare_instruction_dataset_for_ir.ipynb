{
 "cells": [
  {
   "cell_type": "markdown",
   "metadata": {},
   "source": [
    "# Schema-based information retrieval from judgements\n"
   ]
  },
  {
   "cell_type": "code",
   "execution_count": null,
   "metadata": {},
   "outputs": [],
   "source": [
    "# | eval: false\n",
    "%load_ext autoreload\n",
    "%autoreload 2"
   ]
  },
  {
   "cell_type": "code",
   "execution_count": null,
   "metadata": {},
   "outputs": [],
   "source": [
    "# | eval: false\n",
    "from loguru import logger\n",
    "\n",
    "import mlflow\n",
    "\n",
    "from juddges.prompts.information_extraction import prepare_information_extraction_chain, SCHEMA\n",
    "from juddges.settings import prepare_langchain_cache, prepare_mlflow\n",
    "from juddges.data.pl_court_api import PolishCourtAPI"
   ]
  },
  {
   "cell_type": "code",
   "execution_count": null,
   "metadata": {},
   "outputs": [
    {
     "data": {
      "text/plain": [
       "True"
      ]
     },
     "execution_count": null,
     "metadata": {},
     "output_type": "execute_result"
    }
   ],
   "source": [
    "# | eval: false\n",
    "from dotenv import load_dotenv\n",
    "\n",
    "load_dotenv(\"../../.env\")"
   ]
  },
  {
   "cell_type": "code",
   "execution_count": null,
   "metadata": {},
   "outputs": [],
   "source": [
    "# |eval: false\n",
    "prepare_langchain_cache()\n",
    "prepare_mlflow()"
   ]
  },
  {
   "cell_type": "code",
   "execution_count": null,
   "metadata": {},
   "outputs": [
    {
     "data": {
      "text/plain": [
       "1"
      ]
     },
     "execution_count": null,
     "metadata": {},
     "output_type": "execute_result"
    }
   ],
   "source": [
    "# | eval: false\n",
    "logger.add(level=\"INFO\", sink=\"../../logs/ir_judgments.log\")"
   ]
  },
  {
   "cell_type": "code",
   "execution_count": null,
   "metadata": {},
   "outputs": [],
   "source": [
    "LLM_NAME = \"gpt-4-0125-preview\"\n",
    "PROMPT_VERSION = \"initial-ir\"\n",
    "LANGUAGE = \"Polish\""
   ]
  },
  {
   "cell_type": "code",
   "execution_count": null,
   "metadata": {},
   "outputs": [
    {
     "data": {
      "text/plain": [
       "<ActiveRun: >"
      ]
     },
     "execution_count": null,
     "metadata": {},
     "output_type": "execute_result"
    }
   ],
   "source": [
    "# | eval: false\n",
    "mlflow.start_run(run_name=f\"{PROMPT_VERSION}-{LLM_NAME}\")"
   ]
  },
  {
   "cell_type": "code",
   "execution_count": null,
   "metadata": {},
   "outputs": [],
   "source": [
    "# | eval: false\n",
    "api = PolishCourtAPI()"
   ]
  },
  {
   "cell_type": "code",
   "execution_count": null,
   "metadata": {},
   "outputs": [],
   "source": [
    "# | eval: false\n",
    "judgement = api.get_content(id=\"155000000001006_II_AKa_000334_2019_Uz_2020-02-06_001\")"
   ]
  },
  {
   "cell_type": "code",
   "execution_count": null,
   "metadata": {},
   "outputs": [
    {
     "data": {
      "text/plain": [
       "'<?xml version=\\'1.0\\' encoding=\\'UTF-8\\'?>\\n<xPart xPublisherFullName=\"Anna Turek\" xPublisher=\"anna.turek\" xEditorFullName=\"Wiktoria Dąbrowicz\" xEditor=\"wiktoria.dabrowicz\" xVersion=\"1.0\" xLang=\"PL\" xFromPg=\"1\" xToPage=\"2\" xFlag=\"published\" xVolType=\"15/500000/0001006/AKa\" xYear=\"2019\" xVolNmbr=\"000334\" xDocType=\"Uz\" xml:space=\"preserve\">\\n  <xName>Wyrok</xName>\\n  <xBlock>\\n    <xText xALIGNx=\"left\">\\n      <xBx>Sygn. akt II AKa 334/19</xBx></xText>\\n    <xText/>\\n    <xUnit xBold=\"true\" xIsTitle=\"true\" xType=\"part\">\\n      <xName>WYROK</xName>\\n      <xTitle>W IMIENIU RZECZYPOSPOLITEJ POLSKIEJ</xTitle>\\n      <xText xALIGNx=\"right\">Dnia 6 lutego 2020 r.</xText>\\n      <xText><xBx>Sąd Apelacyjny we Wrocławiu II Wydział Karny w składzie:</xBx></xText>\\n      <xText>Przewodniczący: sędzia SA Cezariusz Baćkowski</xText>\\n      <xText>Sędziowie: SA Piotr Kaczmarek (spr.)</xText>\\n      <xText>SA Robert Zdych</xText>\\n      <xText>Protokolant: Wiktoria Dąbrowicz</xText>\\n      <xText><xBx>przy udziale prokuratora Prokuratury <xAnon> (...)</xAnon> we <xAnon>W.</xAnon> Zbigniewa Jaworskiego</xBx></xText>\\n      <xText><xBx>po rozpoznaniu w dniu 20 grudnia 2019 r., 31 stycznia 2020 r. i 6 lutego 2020 r.</xBx></xText>\\n      <xText><xBx>sprawy:<xBRx/><xAnon>A. D.</xAnon> (<xAnon>D.</xAnon>)</xBx></xText>\\n      <xText><xBx>oskarżonego z <xLexLink xArt=\"art. 258;art. 258 § 1\" xIsapId=\"WDU19970880553\" xTitle=\"Ustawa z dnia 6 czerwca 1997 r. - Kodeks karny\" xAddress=\"Dz. U. z 1997 r. Nr 88, poz. 553\">art. 258 § 1 k.k.</xLexLink>, z <xLexLink xArt=\"art. 55;art. 55 ust. 3\" xIsapId=\"WDU20051791485\" xTitle=\"Ustawa z dnia 29 lipca 2005 r. o przeciwdziałaniu narkomanii\" xAddress=\"Dz. U. z 2005 r. Nr 179, poz. 1485\">art. 55 ust. 3 ustawy z dnia 29 lipca 2005 roku o przeciwdziałaniu narkomanii</xLexLink> w zw. z <xLexLink xArt=\"art. 12\" xIsapId=\"WDU19970880553\" xTitle=\"Ustawa z dnia 6 czerwca 1997 r. - Kodeks karny\" xAddress=\"Dz. U. z 1997 r. Nr 88, poz. 553\">art. 12 k.k.</xLexLink> w zw. z <xLexLink xArt=\"art. 65;art. 65 § 1\" xIsapId=\"WDU19970880553\" xTitle=\"Ustawa z dnia 6 czerwca 1997 r. - Kodeks karny\" xAddress=\"Dz. U. z 1997 r. Nr 88, poz. 553\">art. 65 § 1 k.k.</xLexLink>, z <xLexLink xArt=\"art. 56;art. 56 ust. 3\" xIsapId=\"WDU20051791485\" xTitle=\"Ustawa z dnia 29 lipca 2005 r. o przeciwdziałaniu narkomanii\" xAddress=\"Dz. U. z 2005 r. Nr 179, poz. 1485\">art. 56 ust. 3 ustawy z dnia 29 lipca 2005 roku o przeciwdziałaniu narkomanii</xLexLink> w zw. z <xLexLink xArt=\"art. 12\" xIsapId=\"WDU19970880553\" xTitle=\"Ustawa z dnia 6 czerwca 1997 r. - Kodeks karny\" xAddress=\"Dz. U. z 1997 r. Nr 88, poz. 553\">art. 12 k.k.</xLexLink> w zw. z <xLexLink xArt=\"art. 65;art. 65 § 1\" xIsapId=\"WDU19970880553\" xTitle=\"Ustawa z dnia 6 czerwca 1997 r. - Kodeks karny\" xAddress=\"Dz. U. z 1997 r. Nr 88, poz. 553\">art. 65 § 1 k.k.</xLexLink>, z <xLexLink xArt=\"art. 18;art. 18 § 3\" xIsapId=\"WDU19970880553\" xTitle=\"Ustawa z dnia 6 czerwca 1997 r. - Kodeks karny\" xAddress=\"Dz. U. z 1997 r. Nr 88, poz. 553\">art. 18 § 3 k.k.</xLexLink> w zw. z <xLexLink xArt=\"art. 299;art. 299 § 1\" xIsapId=\"WDU19970880553\" xTitle=\"Ustawa z dnia 6 czerwca 1997 r. - Kodeks karny\" xAddress=\"Dz. U. z 1997 r. Nr 88, poz. 553\">art. 299 § 1 k.k.</xLexLink> w zw. z <xLexLink xArt=\"art. 12\" xIsapId=\"WDU19970880553\" xTitle=\"Ustawa z dnia 6 czerwca 1997 r. - Kodeks karny\" xAddress=\"Dz. U. z 1997 r. Nr 88, poz. 553\">art. 12 k.k.</xLexLink> w zw. z <xLexLink xArt=\"art. 65;art. 65 § 1\" xIsapId=\"WDU19970880553\" xTitle=\"Ustawa z dnia 6 czerwca 1997 r. - Kodeks karny\" xAddress=\"Dz. U. z 1997 r. Nr 88, poz. 553\">art. 65 § 1 k.k.</xLexLink></xBx></xText>\\n      <xText><xBx><xAnon>R. M.</xAnon> </xBx></xText>\\n      <xText><xBx>oskarżonego z <xLexLink xArt=\"art. 258;art. 258 § 1\" xIsapId=\"WDU19970880553\" xTitle=\"Ustawa z dnia 6 czerwca 1997 r. - Kodeks karny\" xAddress=\"Dz. U. z 1997 r. Nr 88, poz. 553\">art. 258 § 1 k.k.</xLexLink>, z <xLexLink xArt=\"art. 55;art. 55 ust. 3\" xIsapId=\"WDU20051791485\" xTitle=\"Ustawa z dnia 29 lipca 2005 r. o przeciwdziałaniu narkomanii\" xAddress=\"Dz. U. z 2005 r. Nr 179, poz. 1485\">art. 55 ust. 3 ustawy z dnia 29 lipca 2005 roku o przeciwdziałaniu narkomanii</xLexLink> w zw. z <xLexLink xArt=\"art. 12\" xIsapId=\"WDU19970880553\" xTitle=\"Ustawa z dnia 6 czerwca 1997 r. - Kodeks karny\" xAddress=\"Dz. U. z 1997 r. Nr 88, poz. 553\">art. 12 k.k.</xLexLink> w zw. z <xLexLink xArt=\"art. 65;art. 65 § 1\" xIsapId=\"WDU19970880553\" xTitle=\"Ustawa z dnia 6 czerwca 1997 r. - Kodeks karny\" xAddress=\"Dz. U. z 1997 r. Nr 88, poz. 553\">art. 65 § 1 k.k.</xLexLink>, z <xLexLink xArt=\"art. 56;art. 56 ust. 3\" xIsapId=\"WDU20051791485\" xTitle=\"Ustawa z dnia 29 lipca 2005 r. o przeciwdziałaniu narkomanii\" xAddress=\"Dz. U. z 2005 r. Nr 179, poz. 1485\">art. 56 ust. 3 ustawy z dnia 29 lipca 2005 roku o przeciwdziałaniu narkomanii</xLexLink> w zw. z <xLexLink xArt=\"art. 12\" xIsapId=\"WDU19970880553\" xTitle=\"Ustawa z dnia 6 czerwca 1997 r. - Kodeks karny\" xAddress=\"Dz. U. z 1997 r. Nr 88, poz. 553\">art. 12 k.k.</xLexLink> w zw. z <xLexLink xArt=\"art. 65;art. 65 § 1\" xIsapId=\"WDU19970880553\" xTitle=\"Ustawa z dnia 6 czerwca 1997 r. - Kodeks karny\" xAddress=\"Dz. U. z 1997 r. Nr 88, poz. 553\">art. 65 § 1 k.k.</xLexLink>, z <xLexLink xArt=\"art. 299;art. 299 § 1\" xIsapId=\"WDU19970880553\" xTitle=\"Ustawa z dnia 6 czerwca 1997 r. - Kodeks karny\" xAddress=\"Dz. U. z 1997 r. Nr 88, poz. 553\">art. 299 § 1 k.k.</xLexLink> w zw. z <xLexLink xArt=\"art. 12\" xIsapId=\"WDU19970880553\" xTitle=\"Ustawa z dnia 6 czerwca 1997 r. - Kodeks karny\" xAddress=\"Dz. U. z 1997 r. Nr 88, poz. 553\">art. 12 k.k.</xLexLink> w zw. z <xLexLink xArt=\"art. 65;art. 65 § 1\" xIsapId=\"WDU19970880553\" xTitle=\"Ustawa z dnia 6 czerwca 1997 r. - Kodeks karny\" xAddress=\"Dz. U. z 1997 r. Nr 88, poz. 553\">art. 65 § 1 k.k.</xLexLink></xBx></xText>\\n      <xText><xBx><xAnon>E. L.</xAnon> (<xAnon>L.</xAnon>)</xBx></xText>\\n      <xText><xBx>oskarżonej z <xLexLink xArt=\"art. 299;art. 299 § 1\" xIsapId=\"WDU19970880553\" xTitle=\"Ustawa z dnia 6 czerwca 1997 r. - Kodeks karny\" xAddress=\"Dz. U. z 1997 r. Nr 88, poz. 553\">art. 299 § 1 k.k.</xLexLink> w zw. z <xLexLink xArt=\"art. 12\" xIsapId=\"WDU19970880553\" xTitle=\"Ustawa z dnia 6 czerwca 1997 r. - Kodeks karny\" xAddress=\"Dz. U. z 1997 r. Nr 88, poz. 553\">art. 12 k.k.</xLexLink> </xBx></xText>\\n      <xText><xBx><xAnon>R. P.</xAnon> </xBx></xText>\\n      <xText><xBx>oskarżonego z <xLexLink xArt=\"art. 56;art. 56 ust. 3\" xIsapId=\"WDU20051791485\" xTitle=\"Ustawa z dnia 29 lipca 2005 r. o przeciwdziałaniu narkomanii\" xAddress=\"Dz. U. z 2005 r. Nr 179, poz. 1485\">art. 56 ust. 3 ustawy z dnia 29 lipca 2005 roku o przeciwdziałaniu narkomanii</xLexLink> </xBx></xText>\\n      <xText>\\n  <xBx>\\n    \\n    \\n    \\n    \\n    \\n    \\n    \\n    <xAnon>L. L.</xAnon> (<xAnon>L.</xAnon>)</xBx>\\n</xText>\\n      <xText><xBx>oskarżonego z <xLexLink xArt=\"art. 258;art. 258 § 1\" xIsapId=\"WDU19970880553\" xTitle=\"Ustawa z dnia 6 czerwca 1997 r. - Kodeks karny\" xAddress=\"Dz. U. z 1997 r. Nr 88, poz. 553\">art. 258 § 1 k.k.</xLexLink>, z <xLexLink xArt=\"art. 18;art. 18 § 1\" xIsapId=\"WDU19970880553\" xTitle=\"Ustawa z dnia 6 czerwca 1997 r. - Kodeks karny\" xAddress=\"Dz. U. z 1997 r. Nr 88, poz. 553\">art. 18 § 1 k.k.</xLexLink> w zw. z <xLexLink xArt=\"art. 55;art. 55 ust. 3\" xIsapId=\"WDU20051791485\" xTitle=\"Ustawa z dnia 29 lipca 2005 r. o przeciwdziałaniu narkomanii\" xAddress=\"Dz. U. z 2005 r. Nr 179, poz. 1485\">art. 55 ust. 3 ustawy z dnia 29 lipca 2005 roku o przeciwdziałaniu narkomanii</xLexLink> w zw. z <xLexLink xArt=\"art. 12\" xIsapId=\"WDU19970880553\" xTitle=\"Ustawa z dnia 6 czerwca 1997 r. - Kodeks karny\" xAddress=\"Dz. U. z 1997 r. Nr 88, poz. 553\">art. 12 k.k.</xLexLink> w zw. z <xLexLink xArt=\"art. 65;art. 65 § 1\" xIsapId=\"WDU19970880553\" xTitle=\"Ustawa z dnia 6 czerwca 1997 r. - Kodeks karny\" xAddress=\"Dz. U. z 1997 r. Nr 88, poz. 553\">art. 65 § 1 k.k.</xLexLink> w zw. z <xLexLink xArt=\"art. 64;art. 64 § 1\" xIsapId=\"WDU19970880553\" xTitle=\"Ustawa z dnia 6 czerwca 1997 r. - Kodeks karny\" xAddress=\"Dz. U. z 1997 r. Nr 88, poz. 553\">art. 64 § 1 k.k.</xLexLink>, z <xLexLink xArt=\"art. 18;art. 18 § 1\" xIsapId=\"WDU19970880553\" xTitle=\"Ustawa z dnia 6 czerwca 1997 r. - Kodeks karny\" xAddress=\"Dz. U. z 1997 r. Nr 88, poz. 553\">art. 18 § 1 k.k.</xLexLink> w zw. z <xLexLink xArt=\"art. 56;art. 56 ust. 3\" xIsapId=\"WDU20051791485\" xTitle=\"Ustawa z dnia 29 lipca 2005 r. o przeciwdziałaniu narkomanii\" xAddress=\"Dz. U. z 2005 r. Nr 179, poz. 1485\">art. 56 ust. 3 ustawy z dnia 29 lipca 2005 roku o przeciwdziałaniu narkomanii</xLexLink> w zw. z <xLexLink xArt=\"art. 12\" xIsapId=\"WDU19970880553\" xTitle=\"Ustawa z dnia 6 czerwca 1997 r. - Kodeks karny\" xAddress=\"Dz. U. z 1997 r. Nr 88, poz. 553\">art. 12 k.k.</xLexLink> w zw. z <xLexLink xArt=\"art. 65;art. 65 § 1\" xIsapId=\"WDU19970880553\" xTitle=\"Ustawa z dnia 6 czerwca 1997 r. - Kodeks karny\" xAddress=\"Dz. U. z 1997 r. Nr 88, poz. 553\">art. 65 § 1 k.k.</xLexLink> w zw. z <xLexLink xArt=\"art. 64;art. 64 § 1\" xIsapId=\"WDU19970880553\" xTitle=\"Ustawa z dnia 6 czerwca 1997 r. - Kodeks karny\" xAddress=\"Dz. U. z 1997 r. Nr 88, poz. 553\">art. 64 § 1 k.k.</xLexLink>, z <xLexLink xArt=\"art. 18;art. 18 § 1\" xIsapId=\"WDU19970880553\" xTitle=\"Ustawa z dnia 6 czerwca 1997 r. - Kodeks karny\" xAddress=\"Dz. U. z 1997 r. Nr 88, poz. 553\">art. 18 § 1 k.k.</xLexLink> w zw. z <xLexLink xArt=\"art. 299;art. 299 § 1\" xIsapId=\"WDU19970880553\" xTitle=\"Ustawa z dnia 6 czerwca 1997 r. - Kodeks karny\" xAddress=\"Dz. U. z 1997 r. Nr 88, poz. 553\">art. 299 § 1 k.k.</xLexLink> w zw. z <xLexLink xArt=\"art. 12\" xIsapId=\"WDU19970880553\" xTitle=\"Ustawa z dnia 6 czerwca 1997 r. - Kodeks karny\" xAddress=\"Dz. U. z 1997 r. Nr 88, poz. 553\">art. 12 k.k.</xLexLink> w zw. z <xLexLink xArt=\"art. 65;art. 65 § 1\" xIsapId=\"WDU19970880553\" xTitle=\"Ustawa z dnia 6 czerwca 1997 r. - Kodeks karny\" xAddress=\"Dz. U. z 1997 r. Nr 88, poz. 553\">art. 65 § 1 k.k.</xLexLink></xBx></xText>\\n      <xText><xBx>na skutek apelacji wniesionej przez oskarżonych</xBx></xText>\\n      <xText><xBx>od wyroku Sądu Okręgowego w Świdnicy </xBx></xText>\\n      <xText><xBx>z dnia 5 kwietnia 2019 r., sygn. akt III K 52/17</xBx></xText>\\n      <xUnit xIsTitle=\"false\" xType=\"none\">\\n        <xName xSffx=\".\">I</xName>\\n        <xText><xBx>zmienia zaskarżony wyrok: </xBx></xText>\\n      </xUnit>\\n      <xUnit xIsTitle=\"false\" xType=\"none\">\\n        <xName xSffx=\".\">1</xName>\\n        <xText><xBx>co do oskarżonego  \\n            <xUx><xAnon>R. M.</xAnon></xUx>\\n            w ten sposób, że:</xBx></xText>\\n      </xUnit>\\n      <xUnit xIsTitle=\"false\" xType=\"none\">\\n        <xName xSffx=\")\">a</xName>\\n        <xText><xBx>uniewinnia oskarżonego od przestępstwa przypisanego w punkcie I, stwierdzając, że utraciło moc orzeczenie o karze łącznej pozbawienia wolności zawarte w punkcie VII,</xBx></xText>\\n      </xUnit>\\n      <xUnit xIsTitle=\"false\" xType=\"none\">\\n        <xName xSffx=\")\">b</xName>\\n        <xText><xBx>w przestępstwach przypisanych w punkcie II i IV pomija ustalenie o działaniu w ramach zorganizowanej grupy przestępczej, w miejsce ustalenia o przekazaniu <xAnon>R. P.</xAnon>, przyjmuje ustalenie o przekazaniu innej osobie oraz w kwalifikacji prawnej pomija <xLexLink xArt=\"art. 65;art. 65 § 1\" xIsapId=\"WDU19970880553\" xTitle=\"Ustawa z dnia 6 czerwca 1997 r. - Kodeks karny\" xAddress=\"Dz. U. z 1997 r. Nr 88, poz. 553\">art. 65 § 1 k.k.</xLexLink>,</xBx></xText>\\n      </xUnit>\\n      <xUnit xIsTitle=\"false\" xType=\"none\">\\n        <xName xSffx=\")\">c</xName>\\n        <xText>\\n  <xBx>\\n    \\n    \\n    w przestępstwie przypisanym w punkcie V pomija ustalenie o działaniu w ramach zorganizowanej grupy przestępczej, w miejsce ustalenia o przekazaniu <xAnon>E. L.</xAnon> przyjmuje przekazanie innej osobie, w miejsce ustalenia o działaniu wspólnie i w porozumieniu z <xAnon>L. L.</xAnon> przyjmuje ustalenie o działaniu wspólnie i w porozumieniu z inną osobą oraz w kwalifikacji prawnej pomija <xLexLink xArt=\"art. 65;art. 65 § 1\" xIsapId=\"WDU19970880553\" xTitle=\"Ustawa z dnia 6 czerwca 1997 r. - Kodeks karny\" xAddress=\"Dz. U. z 1997 r. Nr 88, poz. 553\">art. 65 § 1 k.k.</xLexLink> ,</xBx>\\n</xText>\\n      </xUnit>\\n      <xUnit xIsTitle=\"false\" xType=\"none\">\\n        <xName xSffx=\")\">d</xName>\\n        <xText><xBx>uchyla orzeczenie o przepadku równowartości części korzyści zawarte w punkcie VI;</xBx></xText>\\n      </xUnit>\\n      <xUnit xIsTitle=\"false\" xType=\"none\">\\n        <xName xSffx=\".\">2</xName>\\n        <xText><xBx>co do oskarżonego  \\n            <xUx><xAnon>A. D.</xAnon></xUx>\\n            w ten sposób, że:</xBx></xText>\\n      </xUnit>\\n      <xUnit xIsTitle=\"false\" xType=\"none\">\\n        <xName xSffx=\")\">a</xName>\\n        <xText><xBx>uniewinnia oskarżonego od przestępstwa przypisanego w punkcie VIII, stwierdzając, że utraciło moc orzeczenie o karze łącznej pozbawienia wolności zawarte w punkcie XIV,</xBx></xText>\\n      </xUnit>\\n      <xUnit xIsTitle=\"false\" xType=\"none\">\\n        <xName xSffx=\")\">b</xName>\\n        <xText><xBx>w przestępstwach przypisanych w punkcie IX i XI pomija ustalenie o działaniu w ramach zorganizowanej grupy przestępczej, w miejsce ustalenia o przekazaniu <xAnon>R. P.</xAnon>, przyjmuje ustalenie o przekazaniu innej osobie oraz w kwalifikacji prawnej pomija <xLexLink xArt=\"art. 65;art. 65 § 1\" xIsapId=\"WDU19970880553\" xTitle=\"Ustawa z dnia 6 czerwca 1997 r. - Kodeks karny\" xAddress=\"Dz. U. z 1997 r. Nr 88, poz. 553\">art. 65 § 1 k.k.</xLexLink>,</xBx></xText>\\n      </xUnit>\\n      <xUnit xIsTitle=\"false\" xType=\"none\">\\n        <xName xSffx=\")\">c</xName>\\n        <xText><xBx>uniewinnia oskarżonego od przestępstwa przypisanego w punkcie XII, stwierdzając, że straciło moc orzeczenie o przepadku równowartości części korzyści zawarte w punkcie XIV;</xBx></xText>\\n      </xUnit>\\n      <xUnit xIsTitle=\"false\" xType=\"none\">\\n        <xName xSffx=\".\">3</xName>\\n        <xText><xBx>co do oskarżonego  \\n            <xUx><xAnon>R. P.</xAnon></xUx>\\n            w ten sposób, że uniewinnia oskarżonego od przestępstwa przypisanego w punkcie XV;</xBx></xText>\\n      </xUnit>\\n      <xUnit xIsTitle=\"false\" xType=\"none\">\\n        <xName xSffx=\".\">4</xName>\\n        <xText><xBx>co do oskarżonej  \\n            <xUx><xAnon>E. L.</xAnon></xUx>\\n            w ten sposób, że uniewinnia oskarżoną od przestępstwa przypisanego w punkcie XVII</xBx></xText>\\n      </xUnit>\\n      <xUnit xIsTitle=\"false\" xType=\"none\">\\n        <xName xSffx=\".\">5</xName>\\n        <xText>\\n  <xBx>\\n    co do oskarżonego  \\n            <xUx>\\n      <xAnon>L. L.</xAnon></xUx>\\n            w ten sposób, że:</xBx>\\n</xText>\\n      </xUnit>\\n      <xUnit xIsTitle=\"false\" xType=\"none\">\\n        <xName xSffx=\")\">a</xName>\\n        <xText><xBx>uniewinnia oskarżonego od przestępstwa przypisanego w punkcie XIX, stwierdzając, że utraciło moc orzeczenie o karze łącznej pozbawienia wolności zawarte w punkcie XXV,</xBx></xText>\\n      </xUnit>\\n      <xUnit xIsTitle=\"false\" xType=\"none\">\\n        <xName xSffx=\")\">b</xName>\\n        <xText><xBx>w przestępstwach przypisanych w punkcie XX i XXII pomija ustalenie o działaniu w ramach zorganizowanej grupy przestępczej, w miejsce ustalenia o ustalaniu terminów i okoliczności odbioru przez <xAnon>R. P.</xAnon>, przyjmuje ustalenie o ustalaniu terminów i okoliczności odbioru przez inną osobę oraz w kwalifikacji prawnej pomija <xLexLink xArt=\"art. 65;art. 65 § 1\" xIsapId=\"WDU19970880553\" xTitle=\"Ustawa z dnia 6 czerwca 1997 r. - Kodeks karny\" xAddress=\"Dz. U. z 1997 r. Nr 88, poz. 553\">art. 65 § 1 k.k.</xLexLink>,</xBx></xText>\\n      </xUnit>\\n      <xUnit xIsTitle=\"false\" xType=\"none\">\\n        <xName xSffx=\")\">c</xName>\\n        <xText><xBx>uniewinnia oskarżonego od przestępstwa przypisanego w punkcie XXIII, stwierdzając, że straciło moc orzeczenie o przepadku równowartości części korzyści zawarte w punkcie XXIV,</xBx></xText>\\n      </xUnit>\\n      <xUnit xIsTitle=\"false\" xType=\"none\">\\n        <xName xSffx=\".\">II</xName>\\n        <xText>\\n  <xBx>\\n    w pozostałym zakresie zaskarżony wyrok co do oskarżonych <xAnon>R. M.</xAnon>, <xAnon>A. D.</xAnon> i <xAnon>L. L.</xAnon> utrzymuje w mocy;</xBx>\\n</xText>\\n      </xUnit>\\n      <xUnit xIsTitle=\"false\" xType=\"none\">\\n        <xName xSffx=\".\">III</xName>\\n        <xText><xBx>na podstawie <xLexLink xArt=\"art. 85;art. 85 § 1\" xIsapId=\"WDU19970880553\" xTitle=\"Ustawa z dnia 6 czerwca 1997 r. - Kodeks karny\" xAddress=\"Dz. U. z 1997 r. Nr 88, poz. 553\">art. 85 § 1 k.k.</xLexLink> i <xLexLink xArt=\"art. 86;art. 86 § 1\" xIsapId=\"WDU19970880553\" xTitle=\"Ustawa z dnia 6 czerwca 1997 r. - Kodeks karny\" xAddress=\"Dz. U. z 1997 r. Nr 88, poz. 553\">art. 86 § 1 k.k.</xLexLink> łączy kary pozbawienia wolności wymierzone oskarżonym:</xBx></xText>\\n      </xUnit>\\n      <xText><xBx>- <xAnon>R. M.</xAnon> w punkcie II i IV i wymierza karę łączną 4 (czterech) lat i 6 (sześciu) miesięcy pozbawienia wolności,</xBx></xText>\\n      <xText><xBx>- <xAnon>A. D.</xAnon> w punkcie IX i XI i wymierza karę łączną 4 (czterech) lat pozbawienia wolności,</xBx></xText>\\n      <xText>\\n  <xBx>\\n    - <xAnon>L. L.</xAnon> w punkcie XX i XXII i wymierza karę łączną 5 (pięciu) lat i 6 (sześciu) miesięcy pozbawienia wolności;</xBx>\\n</xText>\\n      <xUnit xIsTitle=\"false\" xType=\"none\">\\n        <xName xSffx=\".\">IV</xName>\\n        <xText><xBx>na podstawie <xLexLink xArt=\"art. 63;art. 63 § 1\" xIsapId=\"WDU19970880553\" xTitle=\"Ustawa z dnia 6 czerwca 1997 r. - Kodeks karny\" xAddress=\"Dz. U. z 1997 r. Nr 88, poz. 553\">art. 63 § 1 k.k.</xLexLink> na poczet orzeczonych kar pozbawienia wolności zalicza:</xBx></xText>\\n      </xUnit>\\n      <xText><xBx>- oskarżonemu <xAnon>R. M.</xAnon> okresy zatrzymania od 1 grudnia 2015 roku do 3 grudnia 2015 roku oraz od 25 stycznia 2017 roku do 26 stycznia 2017 roku;</xBx></xText>\\n      <xText><xBx>- oskarżonemu <xAnon>A. D.</xAnon> okresy zatrzymania i tymczasowego aresztowania od 20 czerwca 2015 roku do 12 listopada 2015 roku oraz od 25 stycznia 2017 roku do 26 stycznia 2017 roku;</xBx></xText>\\n      <xText>\\n  <xBx>\\n    - oskarżonemu <xAnon>L. L.</xAnon> okres tymczasowego aresztowania w sprawie od 26 stycznia 2019 roku do 5 kwietnia 2019 roku;</xBx>\\n</xText>\\n      <xUnit xIsTitle=\"false\" xType=\"none\">\\n        <xName xSffx=\".\">V</xName>\\n        <xText><xBx>wydatkami związanymi z postępowaniem, w części której nastąpiło uniewinnienie obciąża Skarb Państwa, w pozostałym zakresie zwalniając oskarżonych od kosztów za postępowanie odwoławcze.</xBx></xText>\\n      </xUnit>\\n      <xRows>\\n        <xCOLGROUPx>\\n          <xCOLx xWIDTHx=\"240\"/>\\n          <xCOLx xWIDTHx=\"239\"/>\\n          <xCOLx xWIDTHx=\"237\"/>\\n        </xCOLGROUPx>\\n        <xRow>\\n          <xClmn xALIGNx=\"left\">\\n            <xText xALIGNx=\"center\">Piotr Kaczmarek</xText>\\n          </xClmn>\\n          <xClmn xALIGNx=\"left\">\\n            <xText xALIGNx=\"center\">Cezariusz Baćkowski</xText>\\n          </xClmn>\\n          <xClmn xALIGNx=\"left\">\\n            <xText xALIGNx=\"center\">Robert Zdych</xText>\\n          </xClmn>\\n        </xRow>\\n      </xRows>\\n    </xUnit>\\n  </xBlock>\\n</xPart>\\n'"
      ]
     },
     "execution_count": null,
     "metadata": {},
     "output_type": "execute_result"
    }
   ],
   "source": [
    "# | eval: false\n",
    "judgement"
   ]
  },
  {
   "cell_type": "code",
   "execution_count": null,
   "metadata": {},
   "outputs": [
    {
     "name": "stdout",
     "output_type": "stream",
     "text": [
      "\n",
      "defendant_gender: string\n",
      "defendant_age: integer\n",
      "defendant_relationship_status: string\n",
      "defendant_has_children: boolean\n",
      "defendant_homeless: boolean\n",
      "appellant: string\n",
      "appeal_against: string\n",
      "defendant_plead_or_convicted: string \"guilty plea\" or \"convicted at trial\"\n",
      "jury_unanimous: string \"unanimous\" or \"other\"\n",
      "first_trial: boolean\n",
      "drug_offence: boolean\n",
      "original_sentence: string\n",
      "tried_court_type: string \"Crown\" or \"magistrates'\"\n",
      "single_transaction_multiple_offence: boolean\n",
      "multiple_transactions_period: string \"within 1 year\" or \"more than 1 year\"\n",
      "concurrent_or_consecutive_sentence: string \"concurrently\" or \"consecutively\"\n",
      "sentence_on_top_existing: boolean\n",
      "sentence_adding_up: boolean\n",
      "sentence_leniency: string \"unduly lenient\" or \"too excessive\"\n",
      "guilty_plea_reduction_reason: string\n",
      "sentence_discount_mention: boolean\n",
      "totality_issues_similar_offences: boolean\n",
      "sentence_proportionality_mention: boolean\n",
      "sentence_type_issues_totality: boolean\n",
      "sentence_adjustment_mention: boolean\n",
      "offender_culpability_determination: boolean\n",
      "harm_caused_determination: boolean\n",
      "offence_seriousness: boolean\n",
      "aggravating_factors: string list of factors excluding previous convictions\n",
      "previous_convictions_similarity: string \"similar\" or \"dissimilar\"\n",
      "mitigating_factors: string list of factors\n",
      "immediate_sentence_concurrency: boolean\n",
      "totality_conflicting_guidelines: boolean\n",
      "totality_principle_misapplication: boolean\n",
      "\n"
     ]
    }
   ],
   "source": [
    "# | eval: false\n",
    "print(SCHEMA)"
   ]
  },
  {
   "cell_type": "code",
   "execution_count": null,
   "metadata": {},
   "outputs": [
    {
     "name": "stderr",
     "output_type": "stream",
     "text": [
      "/opt/conda/lib/python3.10/site-packages/langchain_core/_api/deprecation.py:117: LangChainDeprecationWarning: The class `langchain_community.chat_models.openai.ChatOpenAI` was deprecated in langchain-community 0.0.10 and will be removed in 0.2.0. An updated version of the class exists in the langchain-openai package and should be used instead. To use it run `pip install -U langchain-openai` and import as `from langchain_openai import ChatOpenAI`.\n",
      "  warn_deprecated(\n"
     ]
    }
   ],
   "source": [
    "# | eval: false\n",
    "chain = prepare_information_extraction_chain()"
   ]
  },
  {
   "cell_type": "code",
   "execution_count": null,
   "metadata": {},
   "outputs": [
    {
     "name": "stderr",
     "output_type": "stream",
     "text": [
      "2024/03/27 12:12:33 WARNING mlflow.utils.environment: Encountered an unexpected error while inferring pip requirements (model URI: /tmp/tmppkf7491l/model, flavor: langchain). Fall back to return ['langchain==0.1.13', 'pydantic==2.6.4', 'cloudpickle==3.0.0']. Set logging level to DEBUG to see the full traceback. \n"
     ]
    }
   ],
   "source": [
    "# | eval: false\n",
    "logged_model = mlflow.langchain.log_model(chain, \"langchain_model\")"
   ]
  },
  {
   "cell_type": "code",
   "execution_count": null,
   "metadata": {},
   "outputs": [
    {
     "data": {
      "text/plain": [
       "'\\ndefendant_gender: string\\ndefendant_age: integer\\ndefendant_relationship_status: string\\ndefendant_has_children: boolean\\ndefendant_homeless: boolean\\nappellant: string\\nappeal_against: string\\ndefendant_plead_or_convicted: string \"guilty plea\" or \"convicted at trial\"\\njury_unanimous: string \"unanimous\" or \"other\"\\nfirst_trial: boolean\\ndrug_offence: boolean\\noriginal_sentence: string\\ntried_court_type: string \"Crown\" or \"magistrates\\'\"\\nsingle_transaction_multiple_offence: boolean\\nmultiple_transactions_period: string \"within 1 year\" or \"more than 1 year\"\\nconcurrent_or_consecutive_sentence: string \"concurrently\" or \"consecutively\"\\nsentence_on_top_existing: boolean\\nsentence_adding_up: boolean\\nsentence_leniency: string \"unduly lenient\" or \"too excessive\"\\nguilty_plea_reduction_reason: string\\nsentence_discount_mention: boolean\\ntotality_issues_similar_offences: boolean\\nsentence_proportionality_mention: boolean\\nsentence_type_issues_totality: boolean\\nsentence_adjustment_mention: boolean\\noffender_culpability_determination: boolean\\nharm_caused_determination: boolean\\noffence_seriousness: boolean\\naggravating_factors: string list of factors excluding previous convictions\\nprevious_convictions_similarity: string \"similar\" or \"dissimilar\"\\nmitigating_factors: string list of factors\\nimmediate_sentence_concurrency: boolean\\ntotality_conflicting_guidelines: boolean\\ntotality_principle_misapplication: boolean\\n'"
      ]
     },
     "execution_count": null,
     "metadata": {},
     "output_type": "execute_result"
    }
   ],
   "source": [
    "# | eval: false\n",
    "mlflow.log_param(\"prompt_version\", PROMPT_VERSION)\n",
    "mlflow.log_param(\"llm_name\", LLM_NAME)\n",
    "mlflow.log_param(\"language\", LANGUAGE)\n",
    "mlflow.log_param(\"schema\", SCHEMA)"
   ]
  },
  {
   "cell_type": "code",
   "execution_count": null,
   "metadata": {},
   "outputs": [],
   "source": [
    "# | eval: false\n",
    "retrieved_informations = chain.invoke({\"LANGUAGE\": LANGUAGE, \"TEXT\": judgement, \"SCHEMA\": SCHEMA})"
   ]
  },
  {
   "cell_type": "code",
   "execution_count": null,
   "metadata": {},
   "outputs": [
    {
     "data": {
      "text/plain": [
       "{'defendant_gender': '',\n",
       " 'defendant_age': 0,\n",
       " 'defendant_relationship_status': '',\n",
       " 'defendant_has_children': False,\n",
       " 'defendant_homeless': False,\n",
       " 'appellant': 'oskarżeni',\n",
       " 'appeal_against': 'wyrok Sądu Okręgowego w Świdnicy z dnia 5 kwietnia 2019 r., sygn. akt III K 52/17',\n",
       " 'defendant_plead_or_convicted': '',\n",
       " 'jury_unanimous': '',\n",
       " 'first_trial': False,\n",
       " 'drug_offence': True,\n",
       " 'original_sentence': '',\n",
       " 'tried_court_type': '',\n",
       " 'single_transaction_multiple_offence': False,\n",
       " 'multiple_transactions_period': '',\n",
       " 'concurrent_or_consecutive_sentence': '',\n",
       " 'sentence_on_top_existing': False,\n",
       " 'sentence_adding_up': False,\n",
       " 'sentence_leniency': '',\n",
       " 'guilty_plea_reduction_reason': '',\n",
       " 'sentence_discount_mention': False,\n",
       " 'totality_issues_similar_offences': False,\n",
       " 'sentence_proportionality_mention': False,\n",
       " 'sentence_type_issues_totality': False,\n",
       " 'sentence_adjustment_mention': False,\n",
       " 'offender_culpability_determination': False,\n",
       " 'harm_caused_determination': False,\n",
       " 'offence_seriousness': False,\n",
       " 'aggravating_factors': [],\n",
       " 'previous_convictions_similarity': '',\n",
       " 'mitigating_factors': [],\n",
       " 'immediate_sentence_concurrency': False,\n",
       " 'totality_conflicting_guidelines': False,\n",
       " 'totality_principle_misapplication': False}"
      ]
     },
     "execution_count": null,
     "metadata": {},
     "output_type": "execute_result"
    }
   ],
   "source": [
    "# | eval: false\n",
    "retrieved_informations"
   ]
  },
  {
   "cell_type": "code",
   "execution_count": null,
   "metadata": {},
   "outputs": [],
   "source": [
    "# | eval: false\n",
    "from juddges.data.models import get_mongo_collection\n",
    "\n",
    "judgements_collection = get_mongo_collection(\"judgements\")"
   ]
  },
  {
   "cell_type": "code",
   "execution_count": null,
   "metadata": {},
   "outputs": [],
   "source": [
    "# | eval: false\n",
    "judgements = list(judgements_collection.find(filter={}).limit(100))"
   ]
  },
  {
   "cell_type": "code",
   "execution_count": null,
   "metadata": {},
   "outputs": [
    {
     "data": {
      "text/plain": [
       "100"
      ]
     },
     "execution_count": null,
     "metadata": {},
     "output_type": "execute_result"
    }
   ],
   "source": [
    "# | eval: false\n",
    "len(judgements)"
   ]
  },
  {
   "cell_type": "code",
   "execution_count": null,
   "metadata": {},
   "outputs": [
    {
     "name": "stdout",
     "output_type": "stream",
     "text": [
      "Sygn. akt : II AKa 211/99\n",
      "\n",
      "WYROK\n",
      "W IMIENIU RZECZYPOSPOLITEJ POLSKIEJ\n",
      "Dnia 24 sierpnia 1999 r.\n",
      "Sąd Apelacyjny w Katowicach II Wydział Karny w składzie:\n",
      "\n",
      "Przewodniczący\n",
      "\n",
      "SSA Stanisław Raszka\n",
      "\n",
      "Sędziowie\n",
      "\n",
      "SSA Wiesława Gawrońska (spr.)\n",
      "SSA Jan Dybek\n",
      "\n",
      "Protokolant:\n",
      "\n",
      "Barbara Gawor\n",
      "\n",
      "przy udziale Prokuratora Prok. Apel. Janusza Konstantego\n",
      "po rozpoznaniu w dniu 24 sierpnia 1999 roku\n",
      "sprawy z wnioskuL. O.o odszkodowanie i zadośćuczynienie dochodzone w trybie art. 8 ustęp 1 ustawy z dnia 23.02.1991r. (Dz. U. nr 34 poz. 149)\n",
      "z powodu apelacji, wniesionej przez pełnomocnika wnioskodawczyni\n",
      "od wyroku Sądu Okręgowego w Katowicach\n",
      "z dnia 10 czerwca 1999r. sygn. akt XVI1 Ko 450/96\n",
      "\n",
      "uchyla zaskarżony wyrok i przekazuje sprawę Sądowi Okręgowemu w Katowicach do ponownego rozpoznania.\n",
      "\n",
      "II AKa 211/99\n",
      "\n",
      "UZASADNIENIE\n",
      "Sąd Okręgowy w Katowicach, wyrokiem z dnia 10 czerwca 1999 r. sygn.XVI 1 Ko 450/96 oddalił wniosekL. O.o zasądzenie odszkodowaniai zadośćuczynienia w oparciu o art. 8 ust. 1 ustawy z dnia 23 lutego 1991 r. /Dz. U. Nr 34 poz. 149 z późn. zm./ z tytułu represjonowania przez radzieckie organy ściganiai wymiaru sprawiedliwości jej mężaK. O.wywodząc,że represjonowanie to miało miejsce na terenie Czechosłowacji i stanowi ujemną przesłankę do zasądzenia odszkodowania.\n",
      "W apelacji pełnomocnik wnioskodawczyni zarzucił błąd w ustaleniach faktycznych przyjętych za podstawę orzeczenia, polegający na przyjęciu, iżK. O.był represjonowany poza określonym w Ustawie terytorium Państwa Polskiego oraz obrazę przepisów prawa materialnego, a w szczególnościart. 8 ust.2 a Ustawy z dnia 23 lutego 1991 r. o uznaniu za nieważne orzeczeń wydanych wobec osób represjonowanych za działalność na rzecz niepodległego bytu Państwa Polskiegowskutek błędnej wykładni i niewłaściwego zastosowania przez uznania, iż Skarb Państwa nie odpowiada za represje, jakim poddany zostałK. O.i wniósł o zmianę zaskarżonego wyroku przez uwzględnieni wniosku.\n",
      "Sąd Apelacyjny zważyć co następuje:\n",
      "Zawarty w apelacji /końcowy fragment uzasadnienia/ wniosek o uchylenie zaskarżonego wyroku i przekazanie sprawy Sądowi I instancji do ponownego rozpoznania zasługiwał na uwzględnienie. Nie zostały bowiem wyjaśnione wszystkie istotne w sprawie okoliczności, które mogły mieć wpływ na treść rozstrzygnięcia. Jest niesporne, że ustawa z dnia 23 lutego 1991 r. /Dz. U. Nr 34 poz. 149/ wiąże prawo do odszkodowania i zadośćuczynienia za wyrządzoną krzywdę z represjami stosowanymi za działalność na rzecz niepodległego bytu Państwa Polskiego na terytorium Polski. Ustawa z dnia 16 lipca 1998 r. /Dz. U. Nr 97 poz. 604/ nowelizując przepis art. 8 ust.2 „A” uzależnia odpowiedzialność odszkodowawczą wobec represjonowanych przez radzieckie organy ścigania także od wymogu udowodnienia, że represje te były stosowane na terytorium Polski, a jednocześnie inaczej zakreśla terminy dla represji stosowanych „na obcym terytorium Polski” i na „terytorium Polski w granicach ustalonych w Traktacie Ryskim”.\n",
      "Tak więc w przypadku wnioskodawczyni bardzo istotne znaczenie musi mieć ustalenie, czy represje jakich ofiarą padł jej mążK. O.miały miejsce na „terytorium Polski” w rozumieniu art. 8 ustęp 2 „a” znowelizowanego w/wym. ustawą z dnia 16 lipca 1998 r., czy też na terytorium b. Czechosłowacji.\n",
      "Treść wnioskuK. O.nie jest w tym względzie jednoznaczna i niezbędne jest w tym względzie uzupełnienia postępowania dowodowego przez SądI instancji W toku ponownego rozpoznania niniejszej sprawy zachodzić więc będzie potrzeba dopuszczenia dowodu z akt Sądu Okręgowego Sądu Pracy i Ubezpieczeń Społecznych w Katowicach sygn. XI J 275/95 dot. wnioskuK. O.o przyznanie wojennej renty inwalidzkiej, w celu ustalenia, czy znajdują się tam informacje na temat skazania męża wnioskodawczyni, a w szczególności tego, gdzie ono nastąpiło i jakich czynów dotyczyło. W przypadku braku tych informacji SądI instancji winien rozważyć potrzebę zwrócenia się o nią do Urzędy do Spraw Kombatantów i Osób Represjonowanych /decyzją tego Urzędu z dnia 30.02.1992 r. przyznanoK. O.uprawnienia kombatanckie/ lub też doStowarzyszenia (...)Armii Krajowej wW./k. 18/.\n",
      "Zasygnalizować też należy potrzebę wyjaśnienia treści przepisów, z którychK. O.był skazany /k. 6 akt/, a to w związku z tym, że dla odpowiedzialności odszkodowawczej niezbędne jest ustalenie, iż represje stosowane były za działalność na rzecz niepodległego bytu Państwa Polskiego, a nie np. za dezercję z Armii Czerwonej, na co wydaje się wskazywać wniosek męża wnioskodawczyni.\n",
      "W tym zakresie Sąd orzekający może skorzystać z możliwości jakie daje porozumienie Naczelnej Dyrekcji Archiwów Państwowych z władzami Federalnej Służby Archiwalnej Rosji, o czym informowało Ministerstwo Sprawiedliwości pismem z dnia 29.04.1999 r. DSN I 640/84/99.\n",
      "Mając wszystko to na uwadze, a także z uwagi na treśćart. 452 § 1 kpk– należało zaskarżone orzeczenie uchylić i orzec jak w części dyspozytywnej niniejszego wyroku.\n"
     ]
    }
   ],
   "source": [
    "# | eval: false\n",
    "print(judgements[0][\"text\"])"
   ]
  },
  {
   "cell_type": "code",
   "execution_count": null,
   "metadata": {},
   "outputs": [],
   "source": [
    "# | eval: false\n",
    "judgements_retrieved_informations = chain.batch(\n",
    "    [\n",
    "        {\"LANGUAGE\": LANGUAGE, \"TEXT\": judgement[\"text\"], \"SCHEMA\": SCHEMA}\n",
    "        for judgement in judgements[:10]\n",
    "    ]\n",
    ")"
   ]
  }
 ],
 "metadata": {
  "kernelspec": {
   "display_name": "python3",
   "language": "python",
   "name": "python3"
  }
 },
 "nbformat": 4,
 "nbformat_minor": 2
}
