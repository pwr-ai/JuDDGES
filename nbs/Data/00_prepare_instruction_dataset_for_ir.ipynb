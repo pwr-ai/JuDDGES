{
 "cells": [
  {
   "cell_type": "markdown",
   "metadata": {},
   "source": [
    "# Schema-based information retrieval from judgements\n"
   ]
  },
  {
   "cell_type": "code",
   "execution_count": null,
   "metadata": {},
   "outputs": [],
   "source": [
    "# | eval: false\n",
    "%load_ext autoreload\n",
    "%autoreload 2"
   ]
  },
  {
   "cell_type": "code",
   "execution_count": null,
   "metadata": {},
   "outputs": [],
   "source": [
    "# | eval: false\n",
    "from loguru import logger\n",
    "\n",
    "import mlflow\n",
    "\n",
    "from juddges.prompts.information_extraction import (\n",
    "    prepare_information_extraction_chain,\n",
    "    EXAMPLE_SCHEMA,\n",
    ")\n",
    "from juddges.settings import prepare_langchain_cache, prepare_mlflow\n",
    "from juddges.data.pl_court_api import PolishCourtAPI"
   ]
  },
  {
   "cell_type": "code",
   "execution_count": null,
   "metadata": {},
   "outputs": [
    {
     "data": {
      "text/plain": [
       "True"
      ]
     },
     "execution_count": null,
     "metadata": {},
     "output_type": "execute_result"
    }
   ],
   "source": [
    "# | eval: false\n",
    "from dotenv import load_dotenv\n",
    "\n",
    "load_dotenv(\"../../.env\")"
   ]
  },
  {
   "cell_type": "code",
   "execution_count": null,
   "metadata": {},
   "outputs": [],
   "source": [
    "# |eval: false\n",
    "prepare_langchain_cache()\n",
    "prepare_mlflow()"
   ]
  },
  {
   "cell_type": "code",
   "execution_count": null,
   "metadata": {},
   "outputs": [
    {
     "data": {
      "text/plain": [
       "1"
      ]
     },
     "execution_count": null,
     "metadata": {},
     "output_type": "execute_result"
    }
   ],
   "source": [
    "# | eval: false\n",
    "logger.add(level=\"INFO\", sink=\"../../logs/ir_judgments.log\")"
   ]
  },
  {
   "cell_type": "markdown",
   "metadata": {},
   "source": []
  },
  {
   "cell_type": "code",
   "execution_count": null,
   "metadata": {},
   "outputs": [],
   "source": [
    "LLM_NAME = \"gpt-4-0125-preview\"\n",
    "PROMPT_VERSION = \"initial-ir\"\n",
    "LANGUAGE = \"Polish\""
   ]
  },
  {
   "cell_type": "code",
   "execution_count": null,
   "metadata": {},
   "outputs": [
    {
     "data": {
      "text/plain": [
       "<ActiveRun: >"
      ]
     },
     "execution_count": null,
     "metadata": {},
     "output_type": "execute_result"
    }
   ],
   "source": [
    "# | eval: false\n",
    "mlflow.start_run(run_name=f\"{PROMPT_VERSION}-{LLM_NAME}\")"
   ]
  },
  {
   "cell_type": "code",
   "execution_count": null,
   "metadata": {},
   "outputs": [],
   "source": [
    "# | eval: false\n",
    "api = PolishCourtAPI()"
   ]
  },
  {
   "cell_type": "code",
   "execution_count": null,
   "metadata": {},
   "outputs": [],
   "source": [
    "# | eval: false\n",
    "judgement = api.get_content(id=\"155000000001006_II_AKa_000334_2019_Uz_2020-02-06_001\")"
   ]
  },
  {
   "cell_type": "code",
   "execution_count": null,
   "metadata": {},
   "outputs": [
    {
     "data": {
      "text/plain": [
       "{'content': '<?xml version=\\'1.0\\' encoding=\\'UTF-8\\'?>\\n<xPart xPublisherFullName=\"Anna Turek\" xPublisher=\"anna.turek\" xEditorFullName=\"Wiktoria Dąbrowicz\" xEditor=\"wiktoria.dabrowicz\" xVersion=\"1.0\" xLang=\"PL\" xFromPg=\"1\" xToPage=\"2\" xFlag=\"published\" xVolType=\"15/500000/0001006/AKa\" xYear=\"2019\" xVolNmbr=\"000334\" xDocType=\"Uz\" xml:space=\"preserve\">\\n  <xName>Wyrok</xName>\\n  <xBlock>\\n    <xText xALIGNx=\"left\">\\n      <xBx>Sygn. akt II AKa 334/19</xBx></xText>\\n    <xText/>\\n    <xUnit xBold=\"true\" xIsTitle=\"true\" xType=\"part\">\\n      <xName>WYROK</xName>\\n      <xTitle>W IMIENIU RZECZYPOSPOLITEJ POLSKIEJ</xTitle>\\n      <xText xALIGNx=\"right\">Dnia 6 lutego 2020 r.</xText>\\n      <xText><xBx>Sąd Apelacyjny we Wrocławiu II Wydział Karny w składzie:</xBx></xText>\\n      <xText>Przewodniczący: sędzia SA Cezariusz Baćkowski</xText>\\n      <xText>Sędziowie: SA Piotr Kaczmarek (spr.)</xText>\\n      <xText>SA Robert Zdych</xText>\\n      <xText>Protokolant: Wiktoria Dąbrowicz</xText>\\n      <xText><xBx>przy udziale prokuratora Prokuratury <xAnon> (...)</xAnon> we <xAnon>W.</xAnon> Zbigniewa Jaworskiego</xBx></xText>\\n      <xText><xBx>po rozpoznaniu w dniu 20 grudnia 2019 r., 31 stycznia 2020 r. i 6 lutego 2020 r.</xBx></xText>\\n      <xText><xBx>sprawy:<xBRx/><xAnon>A. D.</xAnon> (<xAnon>D.</xAnon>)</xBx></xText>\\n      <xText><xBx>oskarżonego z <xLexLink xArt=\"art. 258;art. 258 § 1\" xIsapId=\"WDU19970880553\" xTitle=\"Ustawa z dnia 6 czerwca 1997 r. - Kodeks karny\" xAddress=\"Dz. U. z 1997 r. Nr 88, poz. 553\">art. 258 § 1 k.k.</xLexLink>, z <xLexLink xArt=\"art. 55;art. 55 ust. 3\" xIsapId=\"WDU20051791485\" xTitle=\"Ustawa z dnia 29 lipca 2005 r. o przeciwdziałaniu narkomanii\" xAddress=\"Dz. U. z 2005 r. Nr 179, poz. 1485\">art. 55 ust. 3 ustawy z dnia 29 lipca 2005 roku o przeciwdziałaniu narkomanii</xLexLink> w zw. z <xLexLink xArt=\"art. 12\" xIsapId=\"WDU19970880553\" xTitle=\"Ustawa z dnia 6 czerwca 1997 r. - Kodeks karny\" xAddress=\"Dz. U. z 1997 r. Nr 88, poz. 553\">art. 12 k.k.</xLexLink> w zw. z <xLexLink xArt=\"art. 65;art. 65 § 1\" xIsapId=\"WDU19970880553\" xTitle=\"Ustawa z dnia 6 czerwca 1997 r. - Kodeks karny\" xAddress=\"Dz. U. z 1997 r. Nr 88, poz. 553\">art. 65 § 1 k.k.</xLexLink>, z <xLexLink xArt=\"art. 56;art. 56 ust. 3\" xIsapId=\"WDU20051791485\" xTitle=\"Ustawa z dnia 29 lipca 2005 r. o przeciwdziałaniu narkomanii\" xAddress=\"Dz. U. z 2005 r. Nr 179, poz. 1485\">art. 56 ust. 3 ustawy z dnia 29 lipca 2005 roku o przeciwdziałaniu narkomanii</xLexLink> w zw. z <xLexLink xArt=\"art. 12\" xIsapId=\"WDU19970880553\" xTitle=\"Ustawa z dnia 6 czerwca 1997 r. - Kodeks karny\" xAddress=\"Dz. U. z 1997 r. Nr 88, poz. 553\">art. 12 k.k.</xLexLink> w zw. z <xLexLink xArt=\"art. 65;art. 65 § 1\" xIsapId=\"WDU19970880553\" xTitle=\"Ustawa z dnia 6 czerwca 1997 r. - Kodeks karny\" xAddress=\"Dz. U. z 1997 r. Nr 88, poz. 553\">art. 65 § 1 k.k.</xLexLink>, z <xLexLink xArt=\"art. 18;art. 18 § 3\" xIsapId=\"WDU19970880553\" xTitle=\"Ustawa z dnia 6 czerwca 1997 r. - Kodeks karny\" xAddress=\"Dz. U. z 1997 r. Nr 88, poz. 553\">art. 18 § 3 k.k.</xLexLink> w zw. z <xLexLink xArt=\"art. 299;art. 299 § 1\" xIsapId=\"WDU19970880553\" xTitle=\"Ustawa z dnia 6 czerwca 1997 r. - Kodeks karny\" xAddress=\"Dz. U. z 1997 r. Nr 88, poz. 553\">art. 299 § 1 k.k.</xLexLink> w zw. z <xLexLink xArt=\"art. 12\" xIsapId=\"WDU19970880553\" xTitle=\"Ustawa z dnia 6 czerwca 1997 r. - Kodeks karny\" xAddress=\"Dz. U. z 1997 r. Nr 88, poz. 553\">art. 12 k.k.</xLexLink> w zw. z <xLexLink xArt=\"art. 65;art. 65 § 1\" xIsapId=\"WDU19970880553\" xTitle=\"Ustawa z dnia 6 czerwca 1997 r. - Kodeks karny\" xAddress=\"Dz. U. z 1997 r. Nr 88, poz. 553\">art. 65 § 1 k.k.</xLexLink></xBx></xText>\\n      <xText><xBx><xAnon>R. M.</xAnon> </xBx></xText>\\n      <xText><xBx>oskarżonego z <xLexLink xArt=\"art. 258;art. 258 § 1\" xIsapId=\"WDU19970880553\" xTitle=\"Ustawa z dnia 6 czerwca 1997 r. - Kodeks karny\" xAddress=\"Dz. U. z 1997 r. Nr 88, poz. 553\">art. 258 § 1 k.k.</xLexLink>, z <xLexLink xArt=\"art. 55;art. 55 ust. 3\" xIsapId=\"WDU20051791485\" xTitle=\"Ustawa z dnia 29 lipca 2005 r. o przeciwdziałaniu narkomanii\" xAddress=\"Dz. U. z 2005 r. Nr 179, poz. 1485\">art. 55 ust. 3 ustawy z dnia 29 lipca 2005 roku o przeciwdziałaniu narkomanii</xLexLink> w zw. z <xLexLink xArt=\"art. 12\" xIsapId=\"WDU19970880553\" xTitle=\"Ustawa z dnia 6 czerwca 1997 r. - Kodeks karny\" xAddress=\"Dz. U. z 1997 r. Nr 88, poz. 553\">art. 12 k.k.</xLexLink> w zw. z <xLexLink xArt=\"art. 65;art. 65 § 1\" xIsapId=\"WDU19970880553\" xTitle=\"Ustawa z dnia 6 czerwca 1997 r. - Kodeks karny\" xAddress=\"Dz. U. z 1997 r. Nr 88, poz. 553\">art. 65 § 1 k.k.</xLexLink>, z <xLexLink xArt=\"art. 56;art. 56 ust. 3\" xIsapId=\"WDU20051791485\" xTitle=\"Ustawa z dnia 29 lipca 2005 r. o przeciwdziałaniu narkomanii\" xAddress=\"Dz. U. z 2005 r. Nr 179, poz. 1485\">art. 56 ust. 3 ustawy z dnia 29 lipca 2005 roku o przeciwdziałaniu narkomanii</xLexLink> w zw. z <xLexLink xArt=\"art. 12\" xIsapId=\"WDU19970880553\" xTitle=\"Ustawa z dnia 6 czerwca 1997 r. - Kodeks karny\" xAddress=\"Dz. U. z 1997 r. Nr 88, poz. 553\">art. 12 k.k.</xLexLink> w zw. z <xLexLink xArt=\"art. 65;art. 65 § 1\" xIsapId=\"WDU19970880553\" xTitle=\"Ustawa z dnia 6 czerwca 1997 r. - Kodeks karny\" xAddress=\"Dz. U. z 1997 r. Nr 88, poz. 553\">art. 65 § 1 k.k.</xLexLink>, z <xLexLink xArt=\"art. 299;art. 299 § 1\" xIsapId=\"WDU19970880553\" xTitle=\"Ustawa z dnia 6 czerwca 1997 r. - Kodeks karny\" xAddress=\"Dz. U. z 1997 r. Nr 88, poz. 553\">art. 299 § 1 k.k.</xLexLink> w zw. z <xLexLink xArt=\"art. 12\" xIsapId=\"WDU19970880553\" xTitle=\"Ustawa z dnia 6 czerwca 1997 r. - Kodeks karny\" xAddress=\"Dz. U. z 1997 r. Nr 88, poz. 553\">art. 12 k.k.</xLexLink> w zw. z <xLexLink xArt=\"art. 65;art. 65 § 1\" xIsapId=\"WDU19970880553\" xTitle=\"Ustawa z dnia 6 czerwca 1997 r. - Kodeks karny\" xAddress=\"Dz. U. z 1997 r. Nr 88, poz. 553\">art. 65 § 1 k.k.</xLexLink></xBx></xText>\\n      <xText><xBx><xAnon>E. L.</xAnon> (<xAnon>L.</xAnon>)</xBx></xText>\\n      <xText><xBx>oskarżonej z <xLexLink xArt=\"art. 299;art. 299 § 1\" xIsapId=\"WDU19970880553\" xTitle=\"Ustawa z dnia 6 czerwca 1997 r. - Kodeks karny\" xAddress=\"Dz. U. z 1997 r. Nr 88, poz. 553\">art. 299 § 1 k.k.</xLexLink> w zw. z <xLexLink xArt=\"art. 12\" xIsapId=\"WDU19970880553\" xTitle=\"Ustawa z dnia 6 czerwca 1997 r. - Kodeks karny\" xAddress=\"Dz. U. z 1997 r. Nr 88, poz. 553\">art. 12 k.k.</xLexLink> </xBx></xText>\\n      <xText><xBx><xAnon>R. P.</xAnon> </xBx></xText>\\n      <xText><xBx>oskarżonego z <xLexLink xArt=\"art. 56;art. 56 ust. 3\" xIsapId=\"WDU20051791485\" xTitle=\"Ustawa z dnia 29 lipca 2005 r. o przeciwdziałaniu narkomanii\" xAddress=\"Dz. U. z 2005 r. Nr 179, poz. 1485\">art. 56 ust. 3 ustawy z dnia 29 lipca 2005 roku o przeciwdziałaniu narkomanii</xLexLink> </xBx></xText>\\n      <xText>\\n  <xBx>\\n    \\n    \\n    \\n    \\n    \\n    \\n    \\n    <xAnon>L. L.</xAnon> (<xAnon>L.</xAnon>)</xBx>\\n</xText>\\n      <xText><xBx>oskarżonego z <xLexLink xArt=\"art. 258;art. 258 § 1\" xIsapId=\"WDU19970880553\" xTitle=\"Ustawa z dnia 6 czerwca 1997 r. - Kodeks karny\" xAddress=\"Dz. U. z 1997 r. Nr 88, poz. 553\">art. 258 § 1 k.k.</xLexLink>, z <xLexLink xArt=\"art. 18;art. 18 § 1\" xIsapId=\"WDU19970880553\" xTitle=\"Ustawa z dnia 6 czerwca 1997 r. - Kodeks karny\" xAddress=\"Dz. U. z 1997 r. Nr 88, poz. 553\">art. 18 § 1 k.k.</xLexLink> w zw. z <xLexLink xArt=\"art. 55;art. 55 ust. 3\" xIsapId=\"WDU20051791485\" xTitle=\"Ustawa z dnia 29 lipca 2005 r. o przeciwdziałaniu narkomanii\" xAddress=\"Dz. U. z 2005 r. Nr 179, poz. 1485\">art. 55 ust. 3 ustawy z dnia 29 lipca 2005 roku o przeciwdziałaniu narkomanii</xLexLink> w zw. z <xLexLink xArt=\"art. 12\" xIsapId=\"WDU19970880553\" xTitle=\"Ustawa z dnia 6 czerwca 1997 r. - Kodeks karny\" xAddress=\"Dz. U. z 1997 r. Nr 88, poz. 553\">art. 12 k.k.</xLexLink> w zw. z <xLexLink xArt=\"art. 65;art. 65 § 1\" xIsapId=\"WDU19970880553\" xTitle=\"Ustawa z dnia 6 czerwca 1997 r. - Kodeks karny\" xAddress=\"Dz. U. z 1997 r. Nr 88, poz. 553\">art. 65 § 1 k.k.</xLexLink> w zw. z <xLexLink xArt=\"art. 64;art. 64 § 1\" xIsapId=\"WDU19970880553\" xTitle=\"Ustawa z dnia 6 czerwca 1997 r. - Kodeks karny\" xAddress=\"Dz. U. z 1997 r. Nr 88, poz. 553\">art. 64 § 1 k.k.</xLexLink>, z <xLexLink xArt=\"art. 18;art. 18 § 1\" xIsapId=\"WDU19970880553\" xTitle=\"Ustawa z dnia 6 czerwca 1997 r. - Kodeks karny\" xAddress=\"Dz. U. z 1997 r. Nr 88, poz. 553\">art. 18 § 1 k.k.</xLexLink> w zw. z <xLexLink xArt=\"art. 56;art. 56 ust. 3\" xIsapId=\"WDU20051791485\" xTitle=\"Ustawa z dnia 29 lipca 2005 r. o przeciwdziałaniu narkomanii\" xAddress=\"Dz. U. z 2005 r. Nr 179, poz. 1485\">art. 56 ust. 3 ustawy z dnia 29 lipca 2005 roku o przeciwdziałaniu narkomanii</xLexLink> w zw. z <xLexLink xArt=\"art. 12\" xIsapId=\"WDU19970880553\" xTitle=\"Ustawa z dnia 6 czerwca 1997 r. - Kodeks karny\" xAddress=\"Dz. U. z 1997 r. Nr 88, poz. 553\">art. 12 k.k.</xLexLink> w zw. z <xLexLink xArt=\"art. 65;art. 65 § 1\" xIsapId=\"WDU19970880553\" xTitle=\"Ustawa z dnia 6 czerwca 1997 r. - Kodeks karny\" xAddress=\"Dz. U. z 1997 r. Nr 88, poz. 553\">art. 65 § 1 k.k.</xLexLink> w zw. z <xLexLink xArt=\"art. 64;art. 64 § 1\" xIsapId=\"WDU19970880553\" xTitle=\"Ustawa z dnia 6 czerwca 1997 r. - Kodeks karny\" xAddress=\"Dz. U. z 1997 r. Nr 88, poz. 553\">art. 64 § 1 k.k.</xLexLink>, z <xLexLink xArt=\"art. 18;art. 18 § 1\" xIsapId=\"WDU19970880553\" xTitle=\"Ustawa z dnia 6 czerwca 1997 r. - Kodeks karny\" xAddress=\"Dz. U. z 1997 r. Nr 88, poz. 553\">art. 18 § 1 k.k.</xLexLink> w zw. z <xLexLink xArt=\"art. 299;art. 299 § 1\" xIsapId=\"WDU19970880553\" xTitle=\"Ustawa z dnia 6 czerwca 1997 r. - Kodeks karny\" xAddress=\"Dz. U. z 1997 r. Nr 88, poz. 553\">art. 299 § 1 k.k.</xLexLink> w zw. z <xLexLink xArt=\"art. 12\" xIsapId=\"WDU19970880553\" xTitle=\"Ustawa z dnia 6 czerwca 1997 r. - Kodeks karny\" xAddress=\"Dz. U. z 1997 r. Nr 88, poz. 553\">art. 12 k.k.</xLexLink> w zw. z <xLexLink xArt=\"art. 65;art. 65 § 1\" xIsapId=\"WDU19970880553\" xTitle=\"Ustawa z dnia 6 czerwca 1997 r. - Kodeks karny\" xAddress=\"Dz. U. z 1997 r. Nr 88, poz. 553\">art. 65 § 1 k.k.</xLexLink></xBx></xText>\\n      <xText><xBx>na skutek apelacji wniesionej przez oskarżonych</xBx></xText>\\n      <xText><xBx>od wyroku Sądu Okręgowego w Świdnicy </xBx></xText>\\n      <xText><xBx>z dnia 5 kwietnia 2019 r., sygn. akt III K 52/17</xBx></xText>\\n      <xUnit xIsTitle=\"false\" xType=\"none\">\\n        <xName xSffx=\".\">I</xName>\\n        <xText><xBx>zmienia zaskarżony wyrok: </xBx></xText>\\n      </xUnit>\\n      <xUnit xIsTitle=\"false\" xType=\"none\">\\n        <xName xSffx=\".\">1</xName>\\n        <xText><xBx>co do oskarżonego  \\n            <xUx><xAnon>R. M.</xAnon></xUx>\\n            w ten sposób, że:</xBx></xText>\\n      </xUnit>\\n      <xUnit xIsTitle=\"false\" xType=\"none\">\\n        <xName xSffx=\")\">a</xName>\\n        <xText><xBx>uniewinnia oskarżonego od przestępstwa przypisanego w punkcie I, stwierdzając, że utraciło moc orzeczenie o karze łącznej pozbawienia wolności zawarte w punkcie VII,</xBx></xText>\\n      </xUnit>\\n      <xUnit xIsTitle=\"false\" xType=\"none\">\\n        <xName xSffx=\")\">b</xName>\\n        <xText><xBx>w przestępstwach przypisanych w punkcie II i IV pomija ustalenie o działaniu w ramach zorganizowanej grupy przestępczej, w miejsce ustalenia o przekazaniu <xAnon>R. P.</xAnon>, przyjmuje ustalenie o przekazaniu innej osobie oraz w kwalifikacji prawnej pomija <xLexLink xArt=\"art. 65;art. 65 § 1\" xIsapId=\"WDU19970880553\" xTitle=\"Ustawa z dnia 6 czerwca 1997 r. - Kodeks karny\" xAddress=\"Dz. U. z 1997 r. Nr 88, poz. 553\">art. 65 § 1 k.k.</xLexLink>,</xBx></xText>\\n      </xUnit>\\n      <xUnit xIsTitle=\"false\" xType=\"none\">\\n        <xName xSffx=\")\">c</xName>\\n        <xText>\\n  <xBx>\\n    \\n    \\n    w przestępstwie przypisanym w punkcie V pomija ustalenie o działaniu w ramach zorganizowanej grupy przestępczej, w miejsce ustalenia o przekazaniu <xAnon>E. L.</xAnon> przyjmuje przekazanie innej osobie, w miejsce ustalenia o działaniu wspólnie i w porozumieniu z <xAnon>L. L.</xAnon> przyjmuje ustalenie o działaniu wspólnie i w porozumieniu z inną osobą oraz w kwalifikacji prawnej pomija <xLexLink xArt=\"art. 65;art. 65 § 1\" xIsapId=\"WDU19970880553\" xTitle=\"Ustawa z dnia 6 czerwca 1997 r. - Kodeks karny\" xAddress=\"Dz. U. z 1997 r. Nr 88, poz. 553\">art. 65 § 1 k.k.</xLexLink> ,</xBx>\\n</xText>\\n      </xUnit>\\n      <xUnit xIsTitle=\"false\" xType=\"none\">\\n        <xName xSffx=\")\">d</xName>\\n        <xText><xBx>uchyla orzeczenie o przepadku równowartości części korzyści zawarte w punkcie VI;</xBx></xText>\\n      </xUnit>\\n      <xUnit xIsTitle=\"false\" xType=\"none\">\\n        <xName xSffx=\".\">2</xName>\\n        <xText><xBx>co do oskarżonego  \\n            <xUx><xAnon>A. D.</xAnon></xUx>\\n            w ten sposób, że:</xBx></xText>\\n      </xUnit>\\n      <xUnit xIsTitle=\"false\" xType=\"none\">\\n        <xName xSffx=\")\">a</xName>\\n        <xText><xBx>uniewinnia oskarżonego od przestępstwa przypisanego w punkcie VIII, stwierdzając, że utraciło moc orzeczenie o karze łącznej pozbawienia wolności zawarte w punkcie XIV,</xBx></xText>\\n      </xUnit>\\n      <xUnit xIsTitle=\"false\" xType=\"none\">\\n        <xName xSffx=\")\">b</xName>\\n        <xText><xBx>w przestępstwach przypisanych w punkcie IX i XI pomija ustalenie o działaniu w ramach zorganizowanej grupy przestępczej, w miejsce ustalenia o przekazaniu <xAnon>R. P.</xAnon>, przyjmuje ustalenie o przekazaniu innej osobie oraz w kwalifikacji prawnej pomija <xLexLink xArt=\"art. 65;art. 65 § 1\" xIsapId=\"WDU19970880553\" xTitle=\"Ustawa z dnia 6 czerwca 1997 r. - Kodeks karny\" xAddress=\"Dz. U. z 1997 r. Nr 88, poz. 553\">art. 65 § 1 k.k.</xLexLink>,</xBx></xText>\\n      </xUnit>\\n      <xUnit xIsTitle=\"false\" xType=\"none\">\\n        <xName xSffx=\")\">c</xName>\\n        <xText><xBx>uniewinnia oskarżonego od przestępstwa przypisanego w punkcie XII, stwierdzając, że straciło moc orzeczenie o przepadku równowartości części korzyści zawarte w punkcie XIV;</xBx></xText>\\n      </xUnit>\\n      <xUnit xIsTitle=\"false\" xType=\"none\">\\n        <xName xSffx=\".\">3</xName>\\n        <xText><xBx>co do oskarżonego  \\n            <xUx><xAnon>R. P.</xAnon></xUx>\\n            w ten sposób, że uniewinnia oskarżonego od przestępstwa przypisanego w punkcie XV;</xBx></xText>\\n      </xUnit>\\n      <xUnit xIsTitle=\"false\" xType=\"none\">\\n        <xName xSffx=\".\">4</xName>\\n        <xText><xBx>co do oskarżonej  \\n            <xUx><xAnon>E. L.</xAnon></xUx>\\n            w ten sposób, że uniewinnia oskarżoną od przestępstwa przypisanego w punkcie XVII</xBx></xText>\\n      </xUnit>\\n      <xUnit xIsTitle=\"false\" xType=\"none\">\\n        <xName xSffx=\".\">5</xName>\\n        <xText>\\n  <xBx>\\n    co do oskarżonego  \\n            <xUx>\\n      <xAnon>L. L.</xAnon></xUx>\\n            w ten sposób, że:</xBx>\\n</xText>\\n      </xUnit>\\n      <xUnit xIsTitle=\"false\" xType=\"none\">\\n        <xName xSffx=\")\">a</xName>\\n        <xText><xBx>uniewinnia oskarżonego od przestępstwa przypisanego w punkcie XIX, stwierdzając, że utraciło moc orzeczenie o karze łącznej pozbawienia wolności zawarte w punkcie XXV,</xBx></xText>\\n      </xUnit>\\n      <xUnit xIsTitle=\"false\" xType=\"none\">\\n        <xName xSffx=\")\">b</xName>\\n        <xText><xBx>w przestępstwach przypisanych w punkcie XX i XXII pomija ustalenie o działaniu w ramach zorganizowanej grupy przestępczej, w miejsce ustalenia o ustalaniu terminów i okoliczności odbioru przez <xAnon>R. P.</xAnon>, przyjmuje ustalenie o ustalaniu terminów i okoliczności odbioru przez inną osobę oraz w kwalifikacji prawnej pomija <xLexLink xArt=\"art. 65;art. 65 § 1\" xIsapId=\"WDU19970880553\" xTitle=\"Ustawa z dnia 6 czerwca 1997 r. - Kodeks karny\" xAddress=\"Dz. U. z 1997 r. Nr 88, poz. 553\">art. 65 § 1 k.k.</xLexLink>,</xBx></xText>\\n      </xUnit>\\n      <xUnit xIsTitle=\"false\" xType=\"none\">\\n        <xName xSffx=\")\">c</xName>\\n        <xText><xBx>uniewinnia oskarżonego od przestępstwa przypisanego w punkcie XXIII, stwierdzając, że straciło moc orzeczenie o przepadku równowartości części korzyści zawarte w punkcie XXIV,</xBx></xText>\\n      </xUnit>\\n      <xUnit xIsTitle=\"false\" xType=\"none\">\\n        <xName xSffx=\".\">II</xName>\\n        <xText>\\n  <xBx>\\n    w pozostałym zakresie zaskarżony wyrok co do oskarżonych <xAnon>R. M.</xAnon>, <xAnon>A. D.</xAnon> i <xAnon>L. L.</xAnon> utrzymuje w mocy;</xBx>\\n</xText>\\n      </xUnit>\\n      <xUnit xIsTitle=\"false\" xType=\"none\">\\n        <xName xSffx=\".\">III</xName>\\n        <xText><xBx>na podstawie <xLexLink xArt=\"art. 85;art. 85 § 1\" xIsapId=\"WDU19970880553\" xTitle=\"Ustawa z dnia 6 czerwca 1997 r. - Kodeks karny\" xAddress=\"Dz. U. z 1997 r. Nr 88, poz. 553\">art. 85 § 1 k.k.</xLexLink> i <xLexLink xArt=\"art. 86;art. 86 § 1\" xIsapId=\"WDU19970880553\" xTitle=\"Ustawa z dnia 6 czerwca 1997 r. - Kodeks karny\" xAddress=\"Dz. U. z 1997 r. Nr 88, poz. 553\">art. 86 § 1 k.k.</xLexLink> łączy kary pozbawienia wolności wymierzone oskarżonym:</xBx></xText>\\n      </xUnit>\\n      <xText><xBx>- <xAnon>R. M.</xAnon> w punkcie II i IV i wymierza karę łączną 4 (czterech) lat i 6 (sześciu) miesięcy pozbawienia wolności,</xBx></xText>\\n      <xText><xBx>- <xAnon>A. D.</xAnon> w punkcie IX i XI i wymierza karę łączną 4 (czterech) lat pozbawienia wolności,</xBx></xText>\\n      <xText>\\n  <xBx>\\n    - <xAnon>L. L.</xAnon> w punkcie XX i XXII i wymierza karę łączną 5 (pięciu) lat i 6 (sześciu) miesięcy pozbawienia wolności;</xBx>\\n</xText>\\n      <xUnit xIsTitle=\"false\" xType=\"none\">\\n        <xName xSffx=\".\">IV</xName>\\n        <xText><xBx>na podstawie <xLexLink xArt=\"art. 63;art. 63 § 1\" xIsapId=\"WDU19970880553\" xTitle=\"Ustawa z dnia 6 czerwca 1997 r. - Kodeks karny\" xAddress=\"Dz. U. z 1997 r. Nr 88, poz. 553\">art. 63 § 1 k.k.</xLexLink> na poczet orzeczonych kar pozbawienia wolności zalicza:</xBx></xText>\\n      </xUnit>\\n      <xText><xBx>- oskarżonemu <xAnon>R. M.</xAnon> okresy zatrzymania od 1 grudnia 2015 roku do 3 grudnia 2015 roku oraz od 25 stycznia 2017 roku do 26 stycznia 2017 roku;</xBx></xText>\\n      <xText><xBx>- oskarżonemu <xAnon>A. D.</xAnon> okresy zatrzymania i tymczasowego aresztowania od 20 czerwca 2015 roku do 12 listopada 2015 roku oraz od 25 stycznia 2017 roku do 26 stycznia 2017 roku;</xBx></xText>\\n      <xText>\\n  <xBx>\\n    - oskarżonemu <xAnon>L. L.</xAnon> okres tymczasowego aresztowania w sprawie od 26 stycznia 2019 roku do 5 kwietnia 2019 roku;</xBx>\\n</xText>\\n      <xUnit xIsTitle=\"false\" xType=\"none\">\\n        <xName xSffx=\".\">V</xName>\\n        <xText><xBx>wydatkami związanymi z postępowaniem, w części której nastąpiło uniewinnienie obciąża Skarb Państwa, w pozostałym zakresie zwalniając oskarżonych od kosztów za postępowanie odwoławcze.</xBx></xText>\\n      </xUnit>\\n      <xRows>\\n        <xCOLGROUPx>\\n          <xCOLx xWIDTHx=\"240\"/>\\n          <xCOLx xWIDTHx=\"239\"/>\\n          <xCOLx xWIDTHx=\"237\"/>\\n        </xCOLGROUPx>\\n        <xRow>\\n          <xClmn xALIGNx=\"left\">\\n            <xText xALIGNx=\"center\">Piotr Kaczmarek</xText>\\n          </xClmn>\\n          <xClmn xALIGNx=\"left\">\\n            <xText xALIGNx=\"center\">Cezariusz Baćkowski</xText>\\n          </xClmn>\\n          <xClmn xALIGNx=\"left\">\\n            <xText xALIGNx=\"center\">Robert Zdych</xText>\\n          </xClmn>\\n        </xRow>\\n      </xRows>\\n    </xUnit>\\n  </xBlock>\\n</xPart>\\n'}"
      ]
     },
     "execution_count": null,
     "metadata": {},
     "output_type": "execute_result"
    }
   ],
   "source": [
    "# | eval: false\n",
    "judgement"
   ]
  },
  {
   "cell_type": "code",
   "execution_count": null,
   "metadata": {},
   "outputs": [
    {
     "name": "stdout",
     "output_type": "stream",
     "text": [
      "verdict_date: date as ISO 8601\n",
      "verdict: string, text representing verdict of the judgement\n",
      "verdict_summary: string, short summary of the verdict\n",
      "verdict_id: string\n",
      "court: string\n",
      "parties: string\n",
      "appeal_against: string\n",
      "first_trial: boolean\n",
      "drug_offence: boolean\n",
      "child_offence: boolean\n",
      "offence_seriousness: boolean\n",
      "verdict_tags: List[string]\n"
     ]
    }
   ],
   "source": [
    "# | eval: false\n",
    "print(EXAMPLE_SCHEMA)"
   ]
  },
  {
   "cell_type": "code",
   "execution_count": null,
   "metadata": {},
   "outputs": [],
   "source": [
    "# | eval: false\n",
    "chain = prepare_information_extraction_chain()"
   ]
  },
  {
   "cell_type": "code",
   "execution_count": null,
   "metadata": {},
   "outputs": [
    {
     "name": "stderr",
     "output_type": "stream",
     "text": [
      "2024/04/12 12:20:42 WARNING mlflow.utils.environment: Encountered an unexpected error while inferring pip requirements (model URI: /tmp/tmp_e0svs4s/model, flavor: langchain). Fall back to return ['langchain==0.1.13', 'pydantic==2.7.0', 'cloudpickle==3.0.0']. Set logging level to DEBUG to see the full traceback. \n"
     ]
    }
   ],
   "source": [
    "# | eval: false\n",
    "logged_model = mlflow.langchain.log_model(chain, \"langchain_model\")"
   ]
  },
  {
   "cell_type": "code",
   "execution_count": null,
   "metadata": {},
   "outputs": [
    {
     "data": {
      "text/plain": [
       "'verdict_date: date as ISO 8601\\nverdict: string, text representing verdict of the judgement\\nverdict_summary: string, short summary of the verdict\\nverdict_id: string\\ncourt: string\\nparties: string\\nappeal_against: string\\nfirst_trial: boolean\\ndrug_offence: boolean\\nchild_offence: boolean\\noffence_seriousness: boolean\\nverdict_tags: List[string]'"
      ]
     },
     "execution_count": null,
     "metadata": {},
     "output_type": "execute_result"
    }
   ],
   "source": [
    "# | eval: false\n",
    "mlflow.log_param(\"prompt_version\", PROMPT_VERSION)\n",
    "mlflow.log_param(\"llm_name\", LLM_NAME)\n",
    "mlflow.log_param(\"language\", LANGUAGE)\n",
    "mlflow.log_param(\"schema\", EXAMPLE_SCHEMA)"
   ]
  },
  {
   "cell_type": "code",
   "execution_count": null,
   "metadata": {},
   "outputs": [],
   "source": [
    "EXAMPLE_SCHEMA = \"\"\"\n",
    "Rodzaj_przestepstwa_i_kwalifikacja_prawna: string\n",
    "Dodatkowe_okolicznosci: {'recydywa': 'boolean', 'w_zwiazku_z_art_207_kk_znecanie_sie': 'boolean', 'zgwalcenie_maloletniego_zbiorowe_kazirodcze_ze_szczegolnym_okrucienstwem': 'boolean'}\n",
    "Rodzaj_wyroku: string\n",
    "Sankcja_karna: {'wyrok_w_zawieszeniu': 'boolean', 'skazujacy_na_kare_pobawienia_wolnosci_od_lat_2_do_lat_3': 'boolean', 'skazujacy_na_kare_pobawienia_wolnosci_od_lat_3': 'boolean', 'kara_25_lat_pobawienia_wolnosci': 'boolean'}\n",
    "Srodki_kompensacyjne: {'czy_jest': 'boolean', 'jaka_kwota': 'integer'}\n",
    "Srodki_karne: {'jakie': 'string'}\n",
    "Okolicznosci_zwiazane_z_opisem_czynu: {'stosowanie_przemocy': 'boolean', 'grozby_bezprawnej': 'boolean', 'podstepu': 'boolean', 'wykorzystanie_bezradnosci': 'boolean', 'znajdowanie_sie_pod_wplywem_alkoholu': 'boolean', 'podanie_GHB_innej_podobnie_dzialajacej_substancji': 'boolean'}\n",
    "\"\"\""
   ]
  },
  {
   "cell_type": "code",
   "execution_count": null,
   "metadata": {},
   "outputs": [],
   "source": [
    "# | eval: false\n",
    "retrieved_informations = chain.invoke(\n",
    "    {\"LANGUAGE\": LANGUAGE, \"TEXT\": judgement, \"SCHEMA\": EXAMPLE_SCHEMA}\n",
    ")"
   ]
  },
  {
   "cell_type": "code",
   "execution_count": null,
   "metadata": {},
   "outputs": [
    {
     "data": {
      "text/plain": [
       "{'Rodzaj_przestepstwa_i_kwalifikacja_prawna': 'art. 258 § 1 k.k., art. 55 ust. 3 ustawy z dnia 29 lipca 2005 roku o przeciwdziałaniu narkomanii, art. 12 k.k., art. 65 § 1 k.k., art. 56 ust. 3 ustawy z dnia 29 lipca 2005 roku o przeciwdziałaniu narkomanii, art. 299 § 1 k.k., art. 18 § 3 k.k.',\n",
       " 'Dodatkowe_okolicznosci': {'recydywa': False,\n",
       "  'w_zwiazku_z_art_207_kk_znecanie_sie': False,\n",
       "  'zgwalcenie_maloletniego_zbiorowe_kazirodcze_ze_szczegolnym_okrucienstwem': False},\n",
       " 'Rodzaj_wyroku': 'zmiana wyroku; uniewinnienie od niektórych przestępstw; utrzymanie w mocy pozostałej części wyroku',\n",
       " 'Sankcja_karna': {'wyrok_w_zawieszeniu': False,\n",
       "  'skazujacy_na_kare_pobawienia_wolnosci_od_lat_2_do_lat_3': False,\n",
       "  'skazujacy_na_kare_pobawienia_wolnosci_od_lat_3': True,\n",
       "  'kara_25_lat_pobawienia_wolnosci': False},\n",
       " 'Srodki_kompensacyjne': {'czy_jest': False, 'jaka_kwota': 0},\n",
       " 'Srodki_karne': {'jakie': ''},\n",
       " 'Okolicznosci_zwiazane_z_opisem_czynu': {'stosowanie_przemocy': False,\n",
       "  'grozby_bezprawnej': False,\n",
       "  'podstepu': False,\n",
       "  'wykorzystanie_bezradnosci': False,\n",
       "  'znajdowanie_sie_pod_wplywem_alkoholu': False,\n",
       "  'podanie_GHB_innej_podobnie_dzialajacej_substancji': False}}"
      ]
     },
     "execution_count": null,
     "metadata": {},
     "output_type": "execute_result"
    }
   ],
   "source": [
    "# | eval: false\n",
    "retrieved_informations"
   ]
  },
  {
   "cell_type": "code",
   "execution_count": null,
   "metadata": {},
   "outputs": [],
   "source": [
    "# | eval: false\n",
    "from juddges.data.models import get_mongo_collection\n",
    "\n",
    "judgements_collection = get_mongo_collection(\"judgements\")"
   ]
  },
  {
   "cell_type": "code",
   "execution_count": null,
   "metadata": {},
   "outputs": [],
   "source": [
    "# | eval: false\n",
    "# search for mongo documents with empty text field, index named `text_text`\n",
    "judgements = list(\n",
    "    judgements_collection.find({\"$text\": {\"$search\": \"przestepstwo seksualne\"}}).limit(10)\n",
    ")"
   ]
  },
  {
   "cell_type": "code",
   "execution_count": null,
   "metadata": {},
   "outputs": [],
   "source": [
    "# | eval: false\n",
    "# judgements = list(judgements_collection.find(filter={}).limit(100))"
   ]
  },
  {
   "cell_type": "code",
   "execution_count": null,
   "metadata": {},
   "outputs": [
    {
     "data": {
      "text/plain": [
       "10"
      ]
     },
     "execution_count": null,
     "metadata": {},
     "output_type": "execute_result"
    }
   ],
   "source": [
    "# | eval: false\n",
    "len(judgements)"
   ]
  },
  {
   "cell_type": "markdown",
   "metadata": {},
   "source": [
    "Estimate price of prompt with judgements text for 100 sample (is USD)\n"
   ]
  },
  {
   "cell_type": "code",
   "execution_count": null,
   "metadata": {},
   "outputs": [
    {
     "data": {
      "text/plain": [
       "1.53363"
      ]
     },
     "execution_count": null,
     "metadata": {},
     "output_type": "execute_result"
    }
   ],
   "source": [
    "# | eval: false\n",
    "from juddges.settings import num_tokens_from_string, LLM_TO_PRICE_INPUT\n",
    "\n",
    "sum(\n",
    "    [\n",
    "        LLM_TO_PRICE_INPUT[LLM_NAME] * num_tokens_from_string(judgement[\"text\"])\n",
    "        for judgement in judgements\n",
    "    ]\n",
    ")"
   ]
  },
  {
   "cell_type": "code",
   "execution_count": null,
   "metadata": {},
   "outputs": [
    {
     "name": "stdout",
     "output_type": "stream",
     "text": [
      "WYROK ŁĄCZNY\n",
      "\n",
      "W IMIENIU\n",
      "\n",
      "RZECZYPOSPOLITEJ POLSKIEJ\n",
      "\n",
      "Dnia 07 maja 2014 roku.\n",
      "\n",
      "Sąd Okręgowy w Poznaniu w III Wydziale Karnym w składzie:\n",
      "\n",
      "Przewodnicząca: SSO Katarzyna Wolff\n",
      "Protokolant: Patrycja Rataj\n",
      "przy udziale Prokuratora Wojskowej Prokuratury Okręgowej w Poznaniu Agnieszka Hildebrandt\n",
      "po rozpoznaniu dnia 07 maja 2014r\n",
      "\n",
      "sprawy:\n",
      "\n",
      "A. W.,synaR.iE.z domuS.,urodzonego (...)wP.\n",
      "\n",
      "skazanego prawomocnymi wyrokami:\n",
      "\n",
      "I\n",
      "Sądu Rejonowego w Poznaniu z dnia 17 czerwca 1999 roku sygn. aktVK 667/99za przestępstwo zart. 279§1kkpopełnione w dniu 24.12.1998r na karę 2 lat pozbawienia wolności z warunkowym zawieszeniem na okres 5 lat próby oraz grzywnę w wysokości 100 stawek dziennych po 20 złotych, po czym postanowieniem Sądu Rejonowego w Poznaniu zarządzono wykonanie kary pozbawienia wolności\n",
      "\n",
      "II\n",
      "Sądu Rejonowego w Wałczu z dnia 24.09.2002r sygn. aktIIK 468/02za przestępstwo zart. 209 § 1 kkpopełnione w okresie od 20.03.2001r do lutego 2002r na karę 10 miesięcy ograniczenia wolności polegającej na wykonywaniu nieodpłatnej dozorowanej pracy na cel społeczny w wymiarze 20 godzin w stosunku miesięcznym, po czym postanowieniem Sądu Rejonowego w Wałczu zamieniono tę karę na karę grzywny\n",
      "\n",
      "III\n",
      "Sądu Rejonowego Poznań Stare Miasto w Poznaniu z dnia 21.05.2011 r w sprawie sygn. IIIK 383/08za:\n",
      "\n",
      "- przestępstwo zart. 258§1 i 3 kk78§1 kkpopełnione w okresie od stycznia 2002r do października 2004 r na karę 2 miesięcy pozbawienia wolności.\n",
      "- przestępstwo zart. 298§ 1kkiart. 286§1 kkw zw. zart. 11§2 kkiart. 12 kkpopełnione w okresie od 7 maja 2001 r do 21 września 2001r na karę 1 roku pozbawienia wolności oraz 20 stawek dziennych grzywny po 100 złotych\n",
      "- przestępstwo zart. 238 kkw zw. zart. 233§ 1 kkiart. 11§2 kkpopełnione w dniu 28 maja 2001r na karę 8 miesięcy pozbawienia wolności\n",
      "- przestępstwo zart. 286§1 kkpopełnione w okresie od 31 maja 2001r do 16 lipca 2001r na karę 1 roku pozbawienia wolności i 10 stawek dziennych grzywny po 100 złotych\n",
      "- przestępstwo zart. 18§2 kkw zw. zart. 238 kkw zw. zart. 233§ 1 kkiart. 11§2 kkpopełnione w marcu 2002r na karę 8 miesięcy pozbawienia wolności\n",
      "- przestępstwo zart. 286§1 kkpopełnione w okresie od 4 marca 2002 r do 10 maja 2002r na karę 1 roku pozbawienia wolności i 10 stawek dziennych grzywny po 100 złotych\n",
      "- przestępstwo zart. 18§2 kkw zw. zart. 238 kkw zw. zart. 233§ 1 kkiart. 11§2 kkpopełnione w marcu 2002r na karę 8 miesięcy pozbawienia wolności\n",
      "- przestępstwo zart. 13§1 kkw zw. zart. 286§1 kkpopełnione w okresie od 4 marca 2002r do 30 sierpnia 2002r na karę 10 miesięcy pozbawienia wolności i 10 stawek dziennych grzywny po 100 złotych\n",
      "- przestępstwo zart. 270§ 1 kkpopełnione 11.09.2002r na karę 6 miesięcy pozbawienia wolności\n",
      "- przestępstwo zart. 270§ 1 kkpopełnione w lutym 2003r na karę 6 miesięcy pozbawienia wolności\n",
      "- przestępstwo zart. 270§ 1 kkpopełnione w 2003r na karę 6 miesięcy pozbawienia wolności\n",
      "- przestępstwo zart. 270§ 1 kkpopełnione w listopadzie 2003 r na karę 6 miesięcy pozbawienia wolności\n",
      "- przestępstwo zart. 18§2 kkw zw. zart. 272 kkpopełnione w listopadzie 2003 r na karę 6 miesięcy pozbawienia wolności\n",
      "- przestępstwo zart. 297§1 kkw zw zart. 286§1 kkw zw zart. 11§2 kkpopełnione 15.01.2004r na karę 1 roku pozbawienia wolności i 10 stawek dziennych grzywny po 100 złotych\n",
      "- przestępstwo zart. 18§ 2 kkw zw. zart. 272 kkpopełnione w styczniu 2004r na karę 6 miesięcy pozbawienia wolności\n",
      "- przestępstwo zart. 18§ 2 kkw zw. zart. 272 kkw zw zart. 270§ 1 kkw zw. zart. 11§2 kkpopełnione w lutym 2004r na karę 6 miesięcy pozbawienia wolności\n",
      "- przestępstwo zart. 270§1 kkpopełnione w dniu 26.04.2004r na karę 6 miesięcy pozbawienia wolności\n",
      "- przestępstwo zart. 291§ 1kkpopełnione w okresie od 1 lipca 2004 do 19 lipca 2004r na karę 8 miesięcy pozbawienia wolności i 10 stawek dziennych grzywny po 100 złotych\n",
      "- przestępstwo zart. 18§ 2 kkw zw. zart. 272 kkpopełnione w lipcu 2004r na karę 6 miesięcy pozbawienia wolności\n",
      "- przestępstwo zart. 18§ 2 kkw zw. zart. 272 kkpopełnione w lipcu 2004r na karę 6 miesięcy pozbawienia wolności\n",
      "- przestępstwo zart. 286§1 kkpopełnione w okresie od 17.08.2004r do 25.09.2004r na karę 10 miesięcy pozbawienia wolności i 10 stawek dziennych grzywny po 100 złotych\n",
      "- przestępstwo zart. 284§2kk kkpopełnione 17.08.2004r na karę 1 roku pozbawienia wolności\n",
      "- przestępstwo zart. 18§ 2 kkw zw. zart. 233§1 kkw zw. zart. 238 kkw zw. zart. 11§2 kkpopełnione w styczniu 2004r na karę 8 miesięcy pozbawienia wolności\n",
      "- przestępstwo zart. 18§ 2 kkw zw. zart. 272 kkpopełnione w październiku 2004 r na karę 6 miesięcy pozbawienia wolności\n",
      "- przestępstwo zart. 18§ 2 kkw zw. zart. 272 kkpopełnione w listopadzie 2004r na karę 6 miesięcy pozbawienia wolności\n",
      "- przestępstwo zart. 291§1 kkpopełnione w okresie od 23.12.2004r do 13.01.2005r na karę 10 miesięcy pozbawienia wolności i 10 stawek dziennych grzywny po 100 złotych\n",
      "- przestępstwo zart. 291§1kkpopełnione w okresie od 2.02.2005r do 23.05.2005r na karę 8 miesięcy pozbawienia wolności i 10 stawek dziennych grzywny po 100 złotych\n",
      "- przestępstwo zart. 306 kkpopełnione w okresie od 02.02.2005r do 23.05.2005r na karę 8 miesięcy pozbawienia wolności\n",
      "- przestępstwo zart. 18§ 2 kkw zw. zart. 272 kkpopełnione w czerwcu 2005r na karę 6 miesięcy pozbawienia wolności\n",
      "- przestępstwo zart. 18§ 2 kkw zw. zart. 238 kkw zw zart. 233§1 kkw zw. zart. 11§2kkpopełnione 05.07.2005r na karę 8 miesięcy pozbawienia wolności\n",
      "- przestępstwoart. 286§1 kkpopełnione w okresie od 06.07.2005 r do 24.08.2005r na karę 1 roku pozbawienia wolności i 10 stawek dziennych grzywny po 100 złotych\n",
      "- przestępstwo zart. 286§1kkpopełnione w okresie od 12.09.2005r do 05.11.2005r na karę 1 roku pozbawienia wolności i 10 stawek dziennych grzywny po 100 złotych\n",
      "\n",
      "które połączono wymierzając karę łączną 6 lat pozbawienia wolności i 150 stawek dziennych grzywny po 100 złotych, przy czym wyrokiem Sądu Okręgowego w Poznaniu z dnia 07 lipca 2011 r w sprawie IV AKa 178/11 złagodzono orzeczoną karę łączna pozbawienia wolności do4 lat,a karę łączną grzywny do60 stawek dziennych po 100 złotych\n",
      "\n",
      "IV\n",
      "Sądu Rejonowego Poznań Grunwald i Jeżyce w Poznaniu z dnia 20.11.2012r sygn. akt\n",
      "    III K 536/12za przestępstwo zart. 270 § 1 kkw zw. zart. 12 kkpopełnione w nieokreślonym czasie na karę 8 miesięcy pozbawienia wolności, za czyn zart. 18§2 kkw zw zart. 233§1 kkpopełniony w dniu 10.10.2005 r na karę 10 miesięcy pozbawienia wolności, za czyn zart. 18§2 kkw zw zart. 233§1 kkpopełniony 10.10.2005r na karę 10 miesięcy pozbawienia wolności, za czyn zart. 245 kkpopełniony 10.11.2005r na karę 1 roku pozbawienia wolności, za czyn zart. 286§1 kkpopełniony w okresie od 15.07.2004r do 31.08.2004r na karę 1 roku i 6 miesięcy pozbawienia wolności, które połączono wymierzając karę łączną 1 roku i 6 miesięcy pozbawienia wolności\n",
      "\n",
      "V\n",
      "Sądu Okręgowego w Poznaniu z dnia 13.12.2012r w sprawie sygn.III K 49/2012za przestępstwo zart. 13§1 kkw zw. zart. 286§1 kkpopełnione w okresie od stycznia 2002 r do września 2004 na karę 3 lat pozbawienia wolności i 100 stawek dziennych grzywny po 100 złotych\n",
      "\n",
      "VI\n",
      "Sądu Rejonowego Poznań Grunwald i Jeżyce w Poznaniu z dnia 31.01.2012r r w sprawie sygn.\n",
      "    III K 640/08za:\n",
      "\n",
      "- czyn zart. 297§1 kkiart. 286§1 kkiart. 270§1 kkw zw zart. 11§2 kkpopełniony w dniu 29.11.2004r na karę 1 roku pozbawienia wolności i 80 stawek dziennych grzywny po 20 złotych\n",
      "- czyn zart. 297§1 kkiart. 286§1 kkiart. 273 kkw zw zart. 271§1 kkw zw zart. 11§2 kkpopełniony w dniu 26.01.2005r na karę 1 roku i 2 miesięcy pozbawienia wolności i 100 stawek dziennych grzywny po 20 złotych\n",
      "- czyny zart. 286§1 kkiart. 13§1 kkw zw. zart. 286§1 kkw zw. zart. 91§1 kkpopełnione w okresach od 25.05.2005 r do 23.06.2005r, od 08.07.2005r do 15.11.2005r, od 28.11.2005r do 13.12.2005r, od 20.01.2006r do 09.03.2006r na karę 1 roku i 6 miesięcy pozbawienia wolności i 150 stawek dziennych grzywny po 20 złotych\n",
      "- czyny zart. 297§1 kkiart. 286§1 kkiart. 273w zw zart. 270§1 kkw zw. zart. 11§2 kkpopełnione w dniach 30.06.2005r i 18.07.2005r na karę 1 roku i 4 miesięcy pozbawienia wolności i 130 stawek dziennych grzywny po 20 złotych,\n",
      "które połączono wymierzając karę łączną 2 lat i 10 miesięcy pozbawienia wolności oraz 300 stawek dziennych grzywny po 20 złotych\n",
      "\n",
      "1\n",
      "Rozwiązuje węzeł kar łącznych orzeczonych wyrokami w sprawach sygn. III K 383/08 Sądu Rejonowego Poznań Stare Miasto w Poznaniu, III K 536/12 i III K 640/08 Sądu Rejonowego Poznań Grunwald i Jeżyce w Poznaniu\n",
      "\n",
      "2\n",
      "Na podstawieart. 569 § 1i 2 kpk,art. 85 kkiart. 86 § 1i 2 kkłączy kary pozbawienia wolności i grzywny orzeczone wyrokami wskazanymi wyżej w punktach III- VI i wymierza skazanemuA. W.karę łączną w wymiarze4 (czterech) lat i 6 (sześciu) miesięcy pozbawienia wolności oraz 100 (stu) stawek dziennych grzywny po 100 (sto) złotych\n",
      "\n",
      "3\n",
      "Na podstawieart. 577 kpkna poczet kary łącznej pozbawienia wolności orzeczonej w punkcie 2. wyroku zalicza skazanemu okres rzeczywistego pozbawienia wolności w sprawie sygn. III K 383/08 Sądu Rejonowego Poznań Stare Miasto w Poznaniu od dnia 01.02.2006 r do 14.07.2006r i od 07.03.2012r do 07.05.2014r i nadal\n",
      "\n",
      "4\n",
      "W pozostałym zakresie wyżej wymienione wyroki podlegają odrębnemu wykonaniu.\n",
      "\n",
      "5\n",
      "Na podstawieart. 572 kpkumarza postępowania co do wydania wyroku łącznego w pozostałym zakresie\n",
      "\n",
      "6\n",
      "Na podstawie§ 14 ust 5 Rozporządzenia Ministra Sprawiedliwości z dnia 28.09.2002 r. w sprawie opłat za czynności adwokackie oraz ponoszenie przez Skarb Państwa kosztów nieopłaconej pomocy prawnej udzielonej z urzędu(Dz. U. z 2002 r., nr 163, poz. 1348 ze zm.) zasądza od Skarbu Państwa na rzecz adwokataB. M.kwotę 140, 40 złotych (w tym VAT) tytułem kosztów nieopłaconej pomocy prawnej udzielonej skazanemu z urzędu.\n",
      "\n",
      "7\n",
      "Na podstawieart. 624 § 1 kpkzwalnia skazanego od obowiązku zapłaty na rzecz Skarbu Państwa kosztów postępowania w całości, a na podstawieart. 6 ustawy z dnia 23 czerwca 1973 roku o opłatach w sprawach karnych(Dz. U. z 1983 roku, nr 49, poz. 223 ze zm.) nie wymierza skazanemu opłaty.\n",
      "\n",
      "SSO Katarzyna Wolff\n"
     ]
    }
   ],
   "source": [
    "# | eval: false\n",
    "print(judgements[0][\"text\"])"
   ]
  },
  {
   "cell_type": "code",
   "execution_count": null,
   "metadata": {},
   "outputs": [],
   "source": [
    "# | eval: false\n",
    "# save sample judgments\n",
    "import pandas as pd\n",
    "from juddges.settings import SAMPLE_DATA_PATH"
   ]
  },
  {
   "cell_type": "code",
   "execution_count": null,
   "metadata": {},
   "outputs": [],
   "source": [
    "# | eval: false\n",
    "df = pd.DataFrame(judgements)\n",
    "df.to_csv(SAMPLE_DATA_PATH / \"judgements-konfiskata-10-sample.csv\")"
   ]
  },
  {
   "cell_type": "code",
   "execution_count": null,
   "metadata": {},
   "outputs": [
    {
     "data": {
      "text/html": [
       "<div>\n",
       "<style scoped>\n",
       "    .dataframe tbody tr th:only-of-type {\n",
       "        vertical-align: middle;\n",
       "    }\n",
       "\n",
       "    .dataframe tbody tr th {\n",
       "        vertical-align: top;\n",
       "    }\n",
       "\n",
       "    .dataframe thead th {\n",
       "        text-align: right;\n",
       "    }\n",
       "</style>\n",
       "<table border=\"1\" class=\"dataframe\">\n",
       "  <thead>\n",
       "    <tr style=\"text-align: right;\">\n",
       "      <th></th>\n",
       "      <th>_id</th>\n",
       "      <th>signature</th>\n",
       "      <th>date</th>\n",
       "      <th>publicationDate</th>\n",
       "      <th>lastUpdate</th>\n",
       "      <th>courtId</th>\n",
       "      <th>departmentId</th>\n",
       "      <th>type</th>\n",
       "      <th>excerpt</th>\n",
       "      <th>content</th>\n",
       "      <th>...</th>\n",
       "      <th>legalBases</th>\n",
       "      <th>publisher</th>\n",
       "      <th>recorder</th>\n",
       "      <th>references</th>\n",
       "      <th>reviser</th>\n",
       "      <th>themePhrases</th>\n",
       "      <th>num_pages</th>\n",
       "      <th>text</th>\n",
       "      <th>vol_number</th>\n",
       "      <th>vol_type</th>\n",
       "    </tr>\n",
       "  </thead>\n",
       "  <tbody>\n",
       "    <tr>\n",
       "      <th>0</th>\n",
       "      <td>153510000001506_III_K_000042_2014_Uz_2014-05-0...</td>\n",
       "      <td>III K 42/14</td>\n",
       "      <td>2014-05-07 02:00:00.0 CEST</td>\n",
       "      <td>2014-05-30 20:15:03.0 CEST</td>\n",
       "      <td>2014-06-17 00:57:36.0 CEST</td>\n",
       "      <td>15351000</td>\n",
       "      <td>1506</td>\n",
       "      <td>SENTENCE</td>\n",
       "      <td>WYROK ŁĄCZNY W IMIENIU RZECZYPOSPOLITEJ POLSKI...</td>\n",
       "      <td>&lt;?xml version='1.0' encoding='UTF-8'?&gt;\\n&lt;xPart...</td>\n",
       "      <td>...</td>\n",
       "      <td>[art. 85 i art. 86 § 1 i 2 kk]</td>\n",
       "      <td>Justyna Grzegorek</td>\n",
       "      <td>Patrycja Rataj</td>\n",
       "      <td>[Ustawa z dnia 23 czerwca 1973 r. o opłatach w...</td>\n",
       "      <td>Agnieszka Sikorska</td>\n",
       "      <td>[Wyrok Łączny]</td>\n",
       "      <td>4</td>\n",
       "      <td>WYROK ŁĄCZNY\\n\\nW IMIENIU\\n\\nRZECZYPOSPOLITEJ ...</td>\n",
       "      <td>42</td>\n",
       "      <td>15/351000/0001506/K</td>\n",
       "    </tr>\n",
       "    <tr>\n",
       "      <th>1</th>\n",
       "      <td>150515000003506_VII_Ka_000726_2013_Uz_2013-09-...</td>\n",
       "      <td>VII Ka 726/13</td>\n",
       "      <td>2013-09-04 02:00:00.0 CEST</td>\n",
       "      <td>2014-02-05 19:15:04.0 CET</td>\n",
       "      <td>2014-09-07 10:18:28.0 CEST</td>\n",
       "      <td>15051500</td>\n",
       "      <td>3506</td>\n",
       "      <td>SENTENCE, REASON</td>\n",
       "      <td>Sygn. akt VII Ka 726/13 WYROK W IMIENIU RZECZY...</td>\n",
       "      <td>&lt;?xml version='1.0' encoding='UTF-8'?&gt;\\n&lt;xPart...</td>\n",
       "      <td>...</td>\n",
       "      <td>[Art.437§1 Kpk]</td>\n",
       "      <td>Wioletta Suraj</td>\n",
       "      <td>sekr.sądowy Elżbieta Łotowska</td>\n",
       "      <td>[Ustawa z dnia 26 maja 1982 r. - Prawo o adwok...</td>\n",
       "      <td>Rafał Banaszewski</td>\n",
       "      <td>[Postępowanie Odwoławcze]</td>\n",
       "      <td>18</td>\n",
       "      <td>Sygn. akt VII Ka 726/13\\n\\nWYROK\\nW IMIENIU RZ...</td>\n",
       "      <td>726</td>\n",
       "      <td>15/051500/0003506/Ka</td>\n",
       "    </tr>\n",
       "  </tbody>\n",
       "</table>\n",
       "<p>2 rows × 23 columns</p>\n",
       "</div>"
      ],
      "text/plain": [
       "                                                 _id      signature  \\\n",
       "0  153510000001506_III_K_000042_2014_Uz_2014-05-0...    III K 42/14   \n",
       "1  150515000003506_VII_Ka_000726_2013_Uz_2013-09-...  VII Ka 726/13   \n",
       "\n",
       "                         date             publicationDate  \\\n",
       "0  2014-05-07 02:00:00.0 CEST  2014-05-30 20:15:03.0 CEST   \n",
       "1  2013-09-04 02:00:00.0 CEST   2014-02-05 19:15:04.0 CET   \n",
       "\n",
       "                   lastUpdate   courtId departmentId              type  \\\n",
       "0  2014-06-17 00:57:36.0 CEST  15351000         1506          SENTENCE   \n",
       "1  2014-09-07 10:18:28.0 CEST  15051500         3506  SENTENCE, REASON   \n",
       "\n",
       "                                             excerpt  \\\n",
       "0  WYROK ŁĄCZNY W IMIENIU RZECZYPOSPOLITEJ POLSKI...   \n",
       "1  Sygn. akt VII Ka 726/13 WYROK W IMIENIU RZECZY...   \n",
       "\n",
       "                                             content  ...  \\\n",
       "0  <?xml version='1.0' encoding='UTF-8'?>\\n<xPart...  ...   \n",
       "1  <?xml version='1.0' encoding='UTF-8'?>\\n<xPart...  ...   \n",
       "\n",
       "                       legalBases          publisher  \\\n",
       "0  [art. 85 i art. 86 § 1 i 2 kk]  Justyna Grzegorek   \n",
       "1                 [Art.437§1 Kpk]     Wioletta Suraj   \n",
       "\n",
       "                        recorder  \\\n",
       "0                 Patrycja Rataj   \n",
       "1  sekr.sądowy Elżbieta Łotowska   \n",
       "\n",
       "                                          references             reviser  \\\n",
       "0  [Ustawa z dnia 23 czerwca 1973 r. o opłatach w...  Agnieszka Sikorska   \n",
       "1  [Ustawa z dnia 26 maja 1982 r. - Prawo o adwok...   Rafał Banaszewski   \n",
       "\n",
       "                themePhrases num_pages  \\\n",
       "0             [Wyrok Łączny]         4   \n",
       "1  [Postępowanie Odwoławcze]        18   \n",
       "\n",
       "                                                text vol_number  \\\n",
       "0  WYROK ŁĄCZNY\\n\\nW IMIENIU\\n\\nRZECZYPOSPOLITEJ ...         42   \n",
       "1  Sygn. akt VII Ka 726/13\\n\\nWYROK\\nW IMIENIU RZ...        726   \n",
       "\n",
       "               vol_type  \n",
       "0   15/351000/0001506/K  \n",
       "1  15/051500/0003506/Ka  \n",
       "\n",
       "[2 rows x 23 columns]"
      ]
     },
     "execution_count": null,
     "metadata": {},
     "output_type": "execute_result"
    }
   ],
   "source": [
    "# | eval: false\n",
    "df.head(2)"
   ]
  },
  {
   "cell_type": "code",
   "execution_count": null,
   "metadata": {},
   "outputs": [],
   "source": [
    "# | eval: false\n",
    "judgements_retrieved_informations = chain.batch(\n",
    "    [\n",
    "        {\"LANGUAGE\": LANGUAGE, \"TEXT\": judgement[\"text\"], \"SCHEMA\": EXAMPLE_SCHEMA}\n",
    "        for judgement in judgements\n",
    "    ]\n",
    ")"
   ]
  },
  {
   "cell_type": "code",
   "execution_count": null,
   "metadata": {},
   "outputs": [
    {
     "name": "stderr",
     "output_type": "stream",
     "text": [
      "Adding columns to DataFrame: 100%|██████████| 7/7 [00:00<00:00, 2339.83it/s]\n"
     ]
    }
   ],
   "source": [
    "# | eval: false\n",
    "\n",
    "# add list of retrieved informations to each judgement to the data frame df but treat each key in dict as a new column\n",
    "from tqdm import tqdm\n",
    "\n",
    "for key in tqdm(judgements_retrieved_informations[0].keys(), desc=\"Adding columns to DataFrame\"):\n",
    "    df[key] = [judgement[key] for judgement in judgements_retrieved_informations]"
   ]
  },
  {
   "cell_type": "code",
   "execution_count": null,
   "metadata": {},
   "outputs": [
    {
     "data": {
      "text/html": [
       "<div>\n",
       "<style scoped>\n",
       "    .dataframe tbody tr th:only-of-type {\n",
       "        vertical-align: middle;\n",
       "    }\n",
       "\n",
       "    .dataframe tbody tr th {\n",
       "        vertical-align: top;\n",
       "    }\n",
       "\n",
       "    .dataframe thead th {\n",
       "        text-align: right;\n",
       "    }\n",
       "</style>\n",
       "<table border=\"1\" class=\"dataframe\">\n",
       "  <thead>\n",
       "    <tr style=\"text-align: right;\">\n",
       "      <th></th>\n",
       "      <th>_id</th>\n",
       "      <th>signature</th>\n",
       "      <th>date</th>\n",
       "      <th>publicationDate</th>\n",
       "      <th>lastUpdate</th>\n",
       "      <th>courtId</th>\n",
       "      <th>departmentId</th>\n",
       "      <th>type</th>\n",
       "      <th>excerpt</th>\n",
       "      <th>content</th>\n",
       "      <th>...</th>\n",
       "      <th>text</th>\n",
       "      <th>vol_number</th>\n",
       "      <th>vol_type</th>\n",
       "      <th>Rodzaj_przestepstwa_i_kwalifikacja_prawna</th>\n",
       "      <th>Dodatkowe_okolicznosci</th>\n",
       "      <th>Rodzaj_wyroku</th>\n",
       "      <th>Sankcja_karna</th>\n",
       "      <th>Srodki_kompensacyjne</th>\n",
       "      <th>Srodki_karne</th>\n",
       "      <th>Okolicznosci_zwiazane_z_opisem_czynu</th>\n",
       "    </tr>\n",
       "  </thead>\n",
       "  <tbody>\n",
       "    <tr>\n",
       "      <th>0</th>\n",
       "      <td>153510000001506_III_K_000042_2014_Uz_2014-05-0...</td>\n",
       "      <td>III K 42/14</td>\n",
       "      <td>2014-05-07 02:00:00.0 CEST</td>\n",
       "      <td>2014-05-30 20:15:03.0 CEST</td>\n",
       "      <td>2014-06-17 00:57:36.0 CEST</td>\n",
       "      <td>15351000</td>\n",
       "      <td>1506</td>\n",
       "      <td>SENTENCE</td>\n",
       "      <td>WYROK ŁĄCZNY W IMIENIU RZECZYPOSPOLITEJ POLSKI...</td>\n",
       "      <td>&lt;?xml version='1.0' encoding='UTF-8'?&gt;\\n&lt;xPart...</td>\n",
       "      <td>...</td>\n",
       "      <td>WYROK ŁĄCZNY\\n\\nW IMIENIU\\n\\nRZECZYPOSPOLITEJ ...</td>\n",
       "      <td>42</td>\n",
       "      <td>15/351000/0001506/K</td>\n",
       "      <td></td>\n",
       "      <td>{'recydywa': True, 'w_zwiazku_z_art_207_kk_zne...</td>\n",
       "      <td>wyrok łączny</td>\n",
       "      <td>{'wyrok_w_zawieszeniu': False, 'skazujacy_na_k...</td>\n",
       "      <td>{'czy_jest': False, 'jaka_kwota': 0}</td>\n",
       "      <td>{'jakie': ''}</td>\n",
       "      <td>{'stosowanie_przemocy': False, 'grozby_bezpraw...</td>\n",
       "    </tr>\n",
       "    <tr>\n",
       "      <th>1</th>\n",
       "      <td>150515000003506_VII_Ka_000726_2013_Uz_2013-09-...</td>\n",
       "      <td>VII Ka 726/13</td>\n",
       "      <td>2013-09-04 02:00:00.0 CEST</td>\n",
       "      <td>2014-02-05 19:15:04.0 CET</td>\n",
       "      <td>2014-09-07 10:18:28.0 CEST</td>\n",
       "      <td>15051500</td>\n",
       "      <td>3506</td>\n",
       "      <td>SENTENCE, REASON</td>\n",
       "      <td>Sygn. akt VII Ka 726/13 WYROK W IMIENIU RZECZY...</td>\n",
       "      <td>&lt;?xml version='1.0' encoding='UTF-8'?&gt;\\n&lt;xPart...</td>\n",
       "      <td>...</td>\n",
       "      <td>Sygn. akt VII Ka 726/13\\n\\nWYROK\\nW IMIENIU RZ...</td>\n",
       "      <td>726</td>\n",
       "      <td>15/051500/0003506/Ka</td>\n",
       "      <td>kradzież z włamaniem</td>\n",
       "      <td>{'recydywa': True, 'w_zwiazku_z_art_207_kk_zne...</td>\n",
       "      <td>utrzymanie wyroku w mocy</td>\n",
       "      <td>{'wyrok_w_zawieszeniu': False, 'skazujacy_na_k...</td>\n",
       "      <td>{'czy_jest': True, 'jaka_kwota': 3386243}</td>\n",
       "      <td>{'jakie': ''}</td>\n",
       "      <td>{'stosowanie_przemocy': False, 'grozby_bezpraw...</td>\n",
       "    </tr>\n",
       "  </tbody>\n",
       "</table>\n",
       "<p>2 rows × 30 columns</p>\n",
       "</div>"
      ],
      "text/plain": [
       "                                                 _id      signature  \\\n",
       "0  153510000001506_III_K_000042_2014_Uz_2014-05-0...    III K 42/14   \n",
       "1  150515000003506_VII_Ka_000726_2013_Uz_2013-09-...  VII Ka 726/13   \n",
       "\n",
       "                         date             publicationDate  \\\n",
       "0  2014-05-07 02:00:00.0 CEST  2014-05-30 20:15:03.0 CEST   \n",
       "1  2013-09-04 02:00:00.0 CEST   2014-02-05 19:15:04.0 CET   \n",
       "\n",
       "                   lastUpdate   courtId departmentId              type  \\\n",
       "0  2014-06-17 00:57:36.0 CEST  15351000         1506          SENTENCE   \n",
       "1  2014-09-07 10:18:28.0 CEST  15051500         3506  SENTENCE, REASON   \n",
       "\n",
       "                                             excerpt  \\\n",
       "0  WYROK ŁĄCZNY W IMIENIU RZECZYPOSPOLITEJ POLSKI...   \n",
       "1  Sygn. akt VII Ka 726/13 WYROK W IMIENIU RZECZY...   \n",
       "\n",
       "                                             content  ...  \\\n",
       "0  <?xml version='1.0' encoding='UTF-8'?>\\n<xPart...  ...   \n",
       "1  <?xml version='1.0' encoding='UTF-8'?>\\n<xPart...  ...   \n",
       "\n",
       "                                                text vol_number  \\\n",
       "0  WYROK ŁĄCZNY\\n\\nW IMIENIU\\n\\nRZECZYPOSPOLITEJ ...         42   \n",
       "1  Sygn. akt VII Ka 726/13\\n\\nWYROK\\nW IMIENIU RZ...        726   \n",
       "\n",
       "               vol_type Rodzaj_przestepstwa_i_kwalifikacja_prawna  \\\n",
       "0   15/351000/0001506/K                                             \n",
       "1  15/051500/0003506/Ka                      kradzież z włamaniem   \n",
       "\n",
       "                              Dodatkowe_okolicznosci  \\\n",
       "0  {'recydywa': True, 'w_zwiazku_z_art_207_kk_zne...   \n",
       "1  {'recydywa': True, 'w_zwiazku_z_art_207_kk_zne...   \n",
       "\n",
       "              Rodzaj_wyroku  \\\n",
       "0              wyrok łączny   \n",
       "1  utrzymanie wyroku w mocy   \n",
       "\n",
       "                                       Sankcja_karna  \\\n",
       "0  {'wyrok_w_zawieszeniu': False, 'skazujacy_na_k...   \n",
       "1  {'wyrok_w_zawieszeniu': False, 'skazujacy_na_k...   \n",
       "\n",
       "                        Srodki_kompensacyjne   Srodki_karne  \\\n",
       "0       {'czy_jest': False, 'jaka_kwota': 0}  {'jakie': ''}   \n",
       "1  {'czy_jest': True, 'jaka_kwota': 3386243}  {'jakie': ''}   \n",
       "\n",
       "                Okolicznosci_zwiazane_z_opisem_czynu  \n",
       "0  {'stosowanie_przemocy': False, 'grozby_bezpraw...  \n",
       "1  {'stosowanie_przemocy': False, 'grozby_bezpraw...  \n",
       "\n",
       "[2 rows x 30 columns]"
      ]
     },
     "execution_count": null,
     "metadata": {},
     "output_type": "execute_result"
    }
   ],
   "source": [
    "# | eval: false\n",
    "df.head(2)"
   ]
  },
  {
   "cell_type": "code",
   "execution_count": null,
   "metadata": {},
   "outputs": [],
   "source": [
    "# | eval: false\n",
    "df.to_csv(SAMPLE_DATA_PATH / \"judgements-10-konfiskata-sample-with-retrieved-informations.csv\")"
   ]
  },
  {
   "cell_type": "code",
   "execution_count": null,
   "metadata": {},
   "outputs": [],
   "source": []
  }
 ],
 "metadata": {
  "kernelspec": {
   "display_name": "python3",
   "language": "python",
   "name": "python3"
  }
 },
 "nbformat": 4,
 "nbformat_minor": 2
}
