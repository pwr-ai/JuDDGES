{
 "cells": [
  {
   "cell_type": "markdown",
   "metadata": {},
   "source": [
    "# Schema-based information retrieval from judgements\n"
   ]
  },
  {
   "cell_type": "code",
   "execution_count": null,
   "metadata": {},
   "outputs": [],
   "source": [
    "# | eval: false\n",
    "%load_ext autoreload\n",
    "%autoreload 2"
   ]
  },
  {
   "cell_type": "code",
   "execution_count": null,
   "metadata": {},
   "outputs": [],
   "source": [
    "# | eval: false\n",
    "from loguru import logger\n",
    "\n",
    "import mlflow\n",
    "\n",
    "from juddges.prompts.information_extraction import (\n",
    "    prepare_information_extraction_chain,\n",
    "    EXAMPLE_SCHEMA,\n",
    ")\n",
    "from juddges.settings import prepare_langchain_cache, prepare_mlflow\n",
    "from juddges.data.pl_court_api import PolishCourtAPI"
   ]
  },
  {
   "cell_type": "code",
   "execution_count": null,
   "metadata": {},
   "outputs": [
    {
     "data": {
      "text/plain": [
       "True"
      ]
     },
     "execution_count": null,
     "metadata": {},
     "output_type": "execute_result"
    }
   ],
   "source": [
    "# | eval: false\n",
    "from dotenv import load_dotenv\n",
    "\n",
    "load_dotenv(\"../../.env\")"
   ]
  },
  {
   "cell_type": "code",
   "execution_count": null,
   "metadata": {},
   "outputs": [
    {
     "name": "stderr",
     "output_type": "stream",
     "text": [
      "2024/04/10 08:12:59 INFO mlflow.tracking.fluent: Experiment with name 'Juddges-Information-Extraction' does not exist. Creating a new experiment.\n"
     ]
    }
   ],
   "source": [
    "# |eval: false\n",
    "prepare_langchain_cache()\n",
    "prepare_mlflow()"
   ]
  },
  {
   "cell_type": "code",
   "execution_count": null,
   "metadata": {},
   "outputs": [
    {
     "data": {
      "text/plain": [
       "1"
      ]
     },
     "execution_count": null,
     "metadata": {},
     "output_type": "execute_result"
    }
   ],
   "source": [
    "# | eval: false\n",
    "logger.add(level=\"INFO\", sink=\"../../logs/ir_judgments.log\")"
   ]
  },
  {
   "cell_type": "code",
   "execution_count": null,
   "metadata": {},
   "outputs": [],
   "source": [
    "LLM_NAME = \"gpt-4-0125-preview\"\n",
    "PROMPT_VERSION = \"initial-ir\"\n",
    "LANGUAGE = \"Polish\""
   ]
  },
  {
   "cell_type": "code",
   "execution_count": null,
   "metadata": {},
   "outputs": [
    {
     "data": {
      "text/plain": [
       "<ActiveRun: >"
      ]
     },
     "execution_count": null,
     "metadata": {},
     "output_type": "execute_result"
    }
   ],
   "source": [
    "# | eval: false\n",
    "mlflow.start_run(run_name=f\"{PROMPT_VERSION}-{LLM_NAME}\")"
   ]
  },
  {
   "cell_type": "code",
   "execution_count": null,
   "metadata": {},
   "outputs": [],
   "source": [
    "# | eval: false\n",
    "api = PolishCourtAPI()"
   ]
  },
  {
   "cell_type": "code",
   "execution_count": null,
   "metadata": {},
   "outputs": [],
   "source": [
    "# | eval: false\n",
    "judgement = api.get_content(id=\"155000000001006_II_AKa_000334_2019_Uz_2020-02-06_001\")"
   ]
  },
  {
   "cell_type": "code",
   "execution_count": null,
   "metadata": {},
   "outputs": [
    {
     "data": {
      "text/plain": [
       "{'content': '<?xml version=\\'1.0\\' encoding=\\'UTF-8\\'?>\\n<xPart xPublisherFullName=\"Anna Turek\" xPublisher=\"anna.turek\" xEditorFullName=\"Wiktoria Dąbrowicz\" xEditor=\"wiktoria.dabrowicz\" xVersion=\"1.0\" xLang=\"PL\" xFromPg=\"1\" xToPage=\"2\" xFlag=\"published\" xVolType=\"15/500000/0001006/AKa\" xYear=\"2019\" xVolNmbr=\"000334\" xDocType=\"Uz\" xml:space=\"preserve\">\\n  <xName>Wyrok</xName>\\n  <xBlock>\\n    <xText xALIGNx=\"left\">\\n      <xBx>Sygn. akt II AKa 334/19</xBx></xText>\\n    <xText/>\\n    <xUnit xBold=\"true\" xIsTitle=\"true\" xType=\"part\">\\n      <xName>WYROK</xName>\\n      <xTitle>W IMIENIU RZECZYPOSPOLITEJ POLSKIEJ</xTitle>\\n      <xText xALIGNx=\"right\">Dnia 6 lutego 2020 r.</xText>\\n      <xText><xBx>Sąd Apelacyjny we Wrocławiu II Wydział Karny w składzie:</xBx></xText>\\n      <xText>Przewodniczący: sędzia SA Cezariusz Baćkowski</xText>\\n      <xText>Sędziowie: SA Piotr Kaczmarek (spr.)</xText>\\n      <xText>SA Robert Zdych</xText>\\n      <xText>Protokolant: Wiktoria Dąbrowicz</xText>\\n      <xText><xBx>przy udziale prokuratora Prokuratury <xAnon> (...)</xAnon> we <xAnon>W.</xAnon> Zbigniewa Jaworskiego</xBx></xText>\\n      <xText><xBx>po rozpoznaniu w dniu 20 grudnia 2019 r., 31 stycznia 2020 r. i 6 lutego 2020 r.</xBx></xText>\\n      <xText><xBx>sprawy:<xBRx/><xAnon>A. D.</xAnon> (<xAnon>D.</xAnon>)</xBx></xText>\\n      <xText><xBx>oskarżonego z <xLexLink xArt=\"art. 258;art. 258 § 1\" xIsapId=\"WDU19970880553\" xTitle=\"Ustawa z dnia 6 czerwca 1997 r. - Kodeks karny\" xAddress=\"Dz. U. z 1997 r. Nr 88, poz. 553\">art. 258 § 1 k.k.</xLexLink>, z <xLexLink xArt=\"art. 55;art. 55 ust. 3\" xIsapId=\"WDU20051791485\" xTitle=\"Ustawa z dnia 29 lipca 2005 r. o przeciwdziałaniu narkomanii\" xAddress=\"Dz. U. z 2005 r. Nr 179, poz. 1485\">art. 55 ust. 3 ustawy z dnia 29 lipca 2005 roku o przeciwdziałaniu narkomanii</xLexLink> w zw. z <xLexLink xArt=\"art. 12\" xIsapId=\"WDU19970880553\" xTitle=\"Ustawa z dnia 6 czerwca 1997 r. - Kodeks karny\" xAddress=\"Dz. U. z 1997 r. Nr 88, poz. 553\">art. 12 k.k.</xLexLink> w zw. z <xLexLink xArt=\"art. 65;art. 65 § 1\" xIsapId=\"WDU19970880553\" xTitle=\"Ustawa z dnia 6 czerwca 1997 r. - Kodeks karny\" xAddress=\"Dz. U. z 1997 r. Nr 88, poz. 553\">art. 65 § 1 k.k.</xLexLink>, z <xLexLink xArt=\"art. 56;art. 56 ust. 3\" xIsapId=\"WDU20051791485\" xTitle=\"Ustawa z dnia 29 lipca 2005 r. o przeciwdziałaniu narkomanii\" xAddress=\"Dz. U. z 2005 r. Nr 179, poz. 1485\">art. 56 ust. 3 ustawy z dnia 29 lipca 2005 roku o przeciwdziałaniu narkomanii</xLexLink> w zw. z <xLexLink xArt=\"art. 12\" xIsapId=\"WDU19970880553\" xTitle=\"Ustawa z dnia 6 czerwca 1997 r. - Kodeks karny\" xAddress=\"Dz. U. z 1997 r. Nr 88, poz. 553\">art. 12 k.k.</xLexLink> w zw. z <xLexLink xArt=\"art. 65;art. 65 § 1\" xIsapId=\"WDU19970880553\" xTitle=\"Ustawa z dnia 6 czerwca 1997 r. - Kodeks karny\" xAddress=\"Dz. U. z 1997 r. Nr 88, poz. 553\">art. 65 § 1 k.k.</xLexLink>, z <xLexLink xArt=\"art. 18;art. 18 § 3\" xIsapId=\"WDU19970880553\" xTitle=\"Ustawa z dnia 6 czerwca 1997 r. - Kodeks karny\" xAddress=\"Dz. U. z 1997 r. Nr 88, poz. 553\">art. 18 § 3 k.k.</xLexLink> w zw. z <xLexLink xArt=\"art. 299;art. 299 § 1\" xIsapId=\"WDU19970880553\" xTitle=\"Ustawa z dnia 6 czerwca 1997 r. - Kodeks karny\" xAddress=\"Dz. U. z 1997 r. Nr 88, poz. 553\">art. 299 § 1 k.k.</xLexLink> w zw. z <xLexLink xArt=\"art. 12\" xIsapId=\"WDU19970880553\" xTitle=\"Ustawa z dnia 6 czerwca 1997 r. - Kodeks karny\" xAddress=\"Dz. U. z 1997 r. Nr 88, poz. 553\">art. 12 k.k.</xLexLink> w zw. z <xLexLink xArt=\"art. 65;art. 65 § 1\" xIsapId=\"WDU19970880553\" xTitle=\"Ustawa z dnia 6 czerwca 1997 r. - Kodeks karny\" xAddress=\"Dz. U. z 1997 r. Nr 88, poz. 553\">art. 65 § 1 k.k.</xLexLink></xBx></xText>\\n      <xText><xBx><xAnon>R. M.</xAnon> </xBx></xText>\\n      <xText><xBx>oskarżonego z <xLexLink xArt=\"art. 258;art. 258 § 1\" xIsapId=\"WDU19970880553\" xTitle=\"Ustawa z dnia 6 czerwca 1997 r. - Kodeks karny\" xAddress=\"Dz. U. z 1997 r. Nr 88, poz. 553\">art. 258 § 1 k.k.</xLexLink>, z <xLexLink xArt=\"art. 55;art. 55 ust. 3\" xIsapId=\"WDU20051791485\" xTitle=\"Ustawa z dnia 29 lipca 2005 r. o przeciwdziałaniu narkomanii\" xAddress=\"Dz. U. z 2005 r. Nr 179, poz. 1485\">art. 55 ust. 3 ustawy z dnia 29 lipca 2005 roku o przeciwdziałaniu narkomanii</xLexLink> w zw. z <xLexLink xArt=\"art. 12\" xIsapId=\"WDU19970880553\" xTitle=\"Ustawa z dnia 6 czerwca 1997 r. - Kodeks karny\" xAddress=\"Dz. U. z 1997 r. Nr 88, poz. 553\">art. 12 k.k.</xLexLink> w zw. z <xLexLink xArt=\"art. 65;art. 65 § 1\" xIsapId=\"WDU19970880553\" xTitle=\"Ustawa z dnia 6 czerwca 1997 r. - Kodeks karny\" xAddress=\"Dz. U. z 1997 r. Nr 88, poz. 553\">art. 65 § 1 k.k.</xLexLink>, z <xLexLink xArt=\"art. 56;art. 56 ust. 3\" xIsapId=\"WDU20051791485\" xTitle=\"Ustawa z dnia 29 lipca 2005 r. o przeciwdziałaniu narkomanii\" xAddress=\"Dz. U. z 2005 r. Nr 179, poz. 1485\">art. 56 ust. 3 ustawy z dnia 29 lipca 2005 roku o przeciwdziałaniu narkomanii</xLexLink> w zw. z <xLexLink xArt=\"art. 12\" xIsapId=\"WDU19970880553\" xTitle=\"Ustawa z dnia 6 czerwca 1997 r. - Kodeks karny\" xAddress=\"Dz. U. z 1997 r. Nr 88, poz. 553\">art. 12 k.k.</xLexLink> w zw. z <xLexLink xArt=\"art. 65;art. 65 § 1\" xIsapId=\"WDU19970880553\" xTitle=\"Ustawa z dnia 6 czerwca 1997 r. - Kodeks karny\" xAddress=\"Dz. U. z 1997 r. Nr 88, poz. 553\">art. 65 § 1 k.k.</xLexLink>, z <xLexLink xArt=\"art. 299;art. 299 § 1\" xIsapId=\"WDU19970880553\" xTitle=\"Ustawa z dnia 6 czerwca 1997 r. - Kodeks karny\" xAddress=\"Dz. U. z 1997 r. Nr 88, poz. 553\">art. 299 § 1 k.k.</xLexLink> w zw. z <xLexLink xArt=\"art. 12\" xIsapId=\"WDU19970880553\" xTitle=\"Ustawa z dnia 6 czerwca 1997 r. - Kodeks karny\" xAddress=\"Dz. U. z 1997 r. Nr 88, poz. 553\">art. 12 k.k.</xLexLink> w zw. z <xLexLink xArt=\"art. 65;art. 65 § 1\" xIsapId=\"WDU19970880553\" xTitle=\"Ustawa z dnia 6 czerwca 1997 r. - Kodeks karny\" xAddress=\"Dz. U. z 1997 r. Nr 88, poz. 553\">art. 65 § 1 k.k.</xLexLink></xBx></xText>\\n      <xText><xBx><xAnon>E. L.</xAnon> (<xAnon>L.</xAnon>)</xBx></xText>\\n      <xText><xBx>oskarżonej z <xLexLink xArt=\"art. 299;art. 299 § 1\" xIsapId=\"WDU19970880553\" xTitle=\"Ustawa z dnia 6 czerwca 1997 r. - Kodeks karny\" xAddress=\"Dz. U. z 1997 r. Nr 88, poz. 553\">art. 299 § 1 k.k.</xLexLink> w zw. z <xLexLink xArt=\"art. 12\" xIsapId=\"WDU19970880553\" xTitle=\"Ustawa z dnia 6 czerwca 1997 r. - Kodeks karny\" xAddress=\"Dz. U. z 1997 r. Nr 88, poz. 553\">art. 12 k.k.</xLexLink> </xBx></xText>\\n      <xText><xBx><xAnon>R. P.</xAnon> </xBx></xText>\\n      <xText><xBx>oskarżonego z <xLexLink xArt=\"art. 56;art. 56 ust. 3\" xIsapId=\"WDU20051791485\" xTitle=\"Ustawa z dnia 29 lipca 2005 r. o przeciwdziałaniu narkomanii\" xAddress=\"Dz. U. z 2005 r. Nr 179, poz. 1485\">art. 56 ust. 3 ustawy z dnia 29 lipca 2005 roku o przeciwdziałaniu narkomanii</xLexLink> </xBx></xText>\\n      <xText>\\n  <xBx>\\n    \\n    \\n    \\n    \\n    \\n    \\n    \\n    <xAnon>L. L.</xAnon> (<xAnon>L.</xAnon>)</xBx>\\n</xText>\\n      <xText><xBx>oskarżonego z <xLexLink xArt=\"art. 258;art. 258 § 1\" xIsapId=\"WDU19970880553\" xTitle=\"Ustawa z dnia 6 czerwca 1997 r. - Kodeks karny\" xAddress=\"Dz. U. z 1997 r. Nr 88, poz. 553\">art. 258 § 1 k.k.</xLexLink>, z <xLexLink xArt=\"art. 18;art. 18 § 1\" xIsapId=\"WDU19970880553\" xTitle=\"Ustawa z dnia 6 czerwca 1997 r. - Kodeks karny\" xAddress=\"Dz. U. z 1997 r. Nr 88, poz. 553\">art. 18 § 1 k.k.</xLexLink> w zw. z <xLexLink xArt=\"art. 55;art. 55 ust. 3\" xIsapId=\"WDU20051791485\" xTitle=\"Ustawa z dnia 29 lipca 2005 r. o przeciwdziałaniu narkomanii\" xAddress=\"Dz. U. z 2005 r. Nr 179, poz. 1485\">art. 55 ust. 3 ustawy z dnia 29 lipca 2005 roku o przeciwdziałaniu narkomanii</xLexLink> w zw. z <xLexLink xArt=\"art. 12\" xIsapId=\"WDU19970880553\" xTitle=\"Ustawa z dnia 6 czerwca 1997 r. - Kodeks karny\" xAddress=\"Dz. U. z 1997 r. Nr 88, poz. 553\">art. 12 k.k.</xLexLink> w zw. z <xLexLink xArt=\"art. 65;art. 65 § 1\" xIsapId=\"WDU19970880553\" xTitle=\"Ustawa z dnia 6 czerwca 1997 r. - Kodeks karny\" xAddress=\"Dz. U. z 1997 r. Nr 88, poz. 553\">art. 65 § 1 k.k.</xLexLink> w zw. z <xLexLink xArt=\"art. 64;art. 64 § 1\" xIsapId=\"WDU19970880553\" xTitle=\"Ustawa z dnia 6 czerwca 1997 r. - Kodeks karny\" xAddress=\"Dz. U. z 1997 r. Nr 88, poz. 553\">art. 64 § 1 k.k.</xLexLink>, z <xLexLink xArt=\"art. 18;art. 18 § 1\" xIsapId=\"WDU19970880553\" xTitle=\"Ustawa z dnia 6 czerwca 1997 r. - Kodeks karny\" xAddress=\"Dz. U. z 1997 r. Nr 88, poz. 553\">art. 18 § 1 k.k.</xLexLink> w zw. z <xLexLink xArt=\"art. 56;art. 56 ust. 3\" xIsapId=\"WDU20051791485\" xTitle=\"Ustawa z dnia 29 lipca 2005 r. o przeciwdziałaniu narkomanii\" xAddress=\"Dz. U. z 2005 r. Nr 179, poz. 1485\">art. 56 ust. 3 ustawy z dnia 29 lipca 2005 roku o przeciwdziałaniu narkomanii</xLexLink> w zw. z <xLexLink xArt=\"art. 12\" xIsapId=\"WDU19970880553\" xTitle=\"Ustawa z dnia 6 czerwca 1997 r. - Kodeks karny\" xAddress=\"Dz. U. z 1997 r. Nr 88, poz. 553\">art. 12 k.k.</xLexLink> w zw. z <xLexLink xArt=\"art. 65;art. 65 § 1\" xIsapId=\"WDU19970880553\" xTitle=\"Ustawa z dnia 6 czerwca 1997 r. - Kodeks karny\" xAddress=\"Dz. U. z 1997 r. Nr 88, poz. 553\">art. 65 § 1 k.k.</xLexLink> w zw. z <xLexLink xArt=\"art. 64;art. 64 § 1\" xIsapId=\"WDU19970880553\" xTitle=\"Ustawa z dnia 6 czerwca 1997 r. - Kodeks karny\" xAddress=\"Dz. U. z 1997 r. Nr 88, poz. 553\">art. 64 § 1 k.k.</xLexLink>, z <xLexLink xArt=\"art. 18;art. 18 § 1\" xIsapId=\"WDU19970880553\" xTitle=\"Ustawa z dnia 6 czerwca 1997 r. - Kodeks karny\" xAddress=\"Dz. U. z 1997 r. Nr 88, poz. 553\">art. 18 § 1 k.k.</xLexLink> w zw. z <xLexLink xArt=\"art. 299;art. 299 § 1\" xIsapId=\"WDU19970880553\" xTitle=\"Ustawa z dnia 6 czerwca 1997 r. - Kodeks karny\" xAddress=\"Dz. U. z 1997 r. Nr 88, poz. 553\">art. 299 § 1 k.k.</xLexLink> w zw. z <xLexLink xArt=\"art. 12\" xIsapId=\"WDU19970880553\" xTitle=\"Ustawa z dnia 6 czerwca 1997 r. - Kodeks karny\" xAddress=\"Dz. U. z 1997 r. Nr 88, poz. 553\">art. 12 k.k.</xLexLink> w zw. z <xLexLink xArt=\"art. 65;art. 65 § 1\" xIsapId=\"WDU19970880553\" xTitle=\"Ustawa z dnia 6 czerwca 1997 r. - Kodeks karny\" xAddress=\"Dz. U. z 1997 r. Nr 88, poz. 553\">art. 65 § 1 k.k.</xLexLink></xBx></xText>\\n      <xText><xBx>na skutek apelacji wniesionej przez oskarżonych</xBx></xText>\\n      <xText><xBx>od wyroku Sądu Okręgowego w Świdnicy </xBx></xText>\\n      <xText><xBx>z dnia 5 kwietnia 2019 r., sygn. akt III K 52/17</xBx></xText>\\n      <xUnit xIsTitle=\"false\" xType=\"none\">\\n        <xName xSffx=\".\">I</xName>\\n        <xText><xBx>zmienia zaskarżony wyrok: </xBx></xText>\\n      </xUnit>\\n      <xUnit xIsTitle=\"false\" xType=\"none\">\\n        <xName xSffx=\".\">1</xName>\\n        <xText><xBx>co do oskarżonego  \\n            <xUx><xAnon>R. M.</xAnon></xUx>\\n            w ten sposób, że:</xBx></xText>\\n      </xUnit>\\n      <xUnit xIsTitle=\"false\" xType=\"none\">\\n        <xName xSffx=\")\">a</xName>\\n        <xText><xBx>uniewinnia oskarżonego od przestępstwa przypisanego w punkcie I, stwierdzając, że utraciło moc orzeczenie o karze łącznej pozbawienia wolności zawarte w punkcie VII,</xBx></xText>\\n      </xUnit>\\n      <xUnit xIsTitle=\"false\" xType=\"none\">\\n        <xName xSffx=\")\">b</xName>\\n        <xText><xBx>w przestępstwach przypisanych w punkcie II i IV pomija ustalenie o działaniu w ramach zorganizowanej grupy przestępczej, w miejsce ustalenia o przekazaniu <xAnon>R. P.</xAnon>, przyjmuje ustalenie o przekazaniu innej osobie oraz w kwalifikacji prawnej pomija <xLexLink xArt=\"art. 65;art. 65 § 1\" xIsapId=\"WDU19970880553\" xTitle=\"Ustawa z dnia 6 czerwca 1997 r. - Kodeks karny\" xAddress=\"Dz. U. z 1997 r. Nr 88, poz. 553\">art. 65 § 1 k.k.</xLexLink>,</xBx></xText>\\n      </xUnit>\\n      <xUnit xIsTitle=\"false\" xType=\"none\">\\n        <xName xSffx=\")\">c</xName>\\n        <xText>\\n  <xBx>\\n    \\n    \\n    w przestępstwie przypisanym w punkcie V pomija ustalenie o działaniu w ramach zorganizowanej grupy przestępczej, w miejsce ustalenia o przekazaniu <xAnon>E. L.</xAnon> przyjmuje przekazanie innej osobie, w miejsce ustalenia o działaniu wspólnie i w porozumieniu z <xAnon>L. L.</xAnon> przyjmuje ustalenie o działaniu wspólnie i w porozumieniu z inną osobą oraz w kwalifikacji prawnej pomija <xLexLink xArt=\"art. 65;art. 65 § 1\" xIsapId=\"WDU19970880553\" xTitle=\"Ustawa z dnia 6 czerwca 1997 r. - Kodeks karny\" xAddress=\"Dz. U. z 1997 r. Nr 88, poz. 553\">art. 65 § 1 k.k.</xLexLink> ,</xBx>\\n</xText>\\n      </xUnit>\\n      <xUnit xIsTitle=\"false\" xType=\"none\">\\n        <xName xSffx=\")\">d</xName>\\n        <xText><xBx>uchyla orzeczenie o przepadku równowartości części korzyści zawarte w punkcie VI;</xBx></xText>\\n      </xUnit>\\n      <xUnit xIsTitle=\"false\" xType=\"none\">\\n        <xName xSffx=\".\">2</xName>\\n        <xText><xBx>co do oskarżonego  \\n            <xUx><xAnon>A. D.</xAnon></xUx>\\n            w ten sposób, że:</xBx></xText>\\n      </xUnit>\\n      <xUnit xIsTitle=\"false\" xType=\"none\">\\n        <xName xSffx=\")\">a</xName>\\n        <xText><xBx>uniewinnia oskarżonego od przestępstwa przypisanego w punkcie VIII, stwierdzając, że utraciło moc orzeczenie o karze łącznej pozbawienia wolności zawarte w punkcie XIV,</xBx></xText>\\n      </xUnit>\\n      <xUnit xIsTitle=\"false\" xType=\"none\">\\n        <xName xSffx=\")\">b</xName>\\n        <xText><xBx>w przestępstwach przypisanych w punkcie IX i XI pomija ustalenie o działaniu w ramach zorganizowanej grupy przestępczej, w miejsce ustalenia o przekazaniu <xAnon>R. P.</xAnon>, przyjmuje ustalenie o przekazaniu innej osobie oraz w kwalifikacji prawnej pomija <xLexLink xArt=\"art. 65;art. 65 § 1\" xIsapId=\"WDU19970880553\" xTitle=\"Ustawa z dnia 6 czerwca 1997 r. - Kodeks karny\" xAddress=\"Dz. U. z 1997 r. Nr 88, poz. 553\">art. 65 § 1 k.k.</xLexLink>,</xBx></xText>\\n      </xUnit>\\n      <xUnit xIsTitle=\"false\" xType=\"none\">\\n        <xName xSffx=\")\">c</xName>\\n        <xText><xBx>uniewinnia oskarżonego od przestępstwa przypisanego w punkcie XII, stwierdzając, że straciło moc orzeczenie o przepadku równowartości części korzyści zawarte w punkcie XIV;</xBx></xText>\\n      </xUnit>\\n      <xUnit xIsTitle=\"false\" xType=\"none\">\\n        <xName xSffx=\".\">3</xName>\\n        <xText><xBx>co do oskarżonego  \\n            <xUx><xAnon>R. P.</xAnon></xUx>\\n            w ten sposób, że uniewinnia oskarżonego od przestępstwa przypisanego w punkcie XV;</xBx></xText>\\n      </xUnit>\\n      <xUnit xIsTitle=\"false\" xType=\"none\">\\n        <xName xSffx=\".\">4</xName>\\n        <xText><xBx>co do oskarżonej  \\n            <xUx><xAnon>E. L.</xAnon></xUx>\\n            w ten sposób, że uniewinnia oskarżoną od przestępstwa przypisanego w punkcie XVII</xBx></xText>\\n      </xUnit>\\n      <xUnit xIsTitle=\"false\" xType=\"none\">\\n        <xName xSffx=\".\">5</xName>\\n        <xText>\\n  <xBx>\\n    co do oskarżonego  \\n            <xUx>\\n      <xAnon>L. L.</xAnon></xUx>\\n            w ten sposób, że:</xBx>\\n</xText>\\n      </xUnit>\\n      <xUnit xIsTitle=\"false\" xType=\"none\">\\n        <xName xSffx=\")\">a</xName>\\n        <xText><xBx>uniewinnia oskarżonego od przestępstwa przypisanego w punkcie XIX, stwierdzając, że utraciło moc orzeczenie o karze łącznej pozbawienia wolności zawarte w punkcie XXV,</xBx></xText>\\n      </xUnit>\\n      <xUnit xIsTitle=\"false\" xType=\"none\">\\n        <xName xSffx=\")\">b</xName>\\n        <xText><xBx>w przestępstwach przypisanych w punkcie XX i XXII pomija ustalenie o działaniu w ramach zorganizowanej grupy przestępczej, w miejsce ustalenia o ustalaniu terminów i okoliczności odbioru przez <xAnon>R. P.</xAnon>, przyjmuje ustalenie o ustalaniu terminów i okoliczności odbioru przez inną osobę oraz w kwalifikacji prawnej pomija <xLexLink xArt=\"art. 65;art. 65 § 1\" xIsapId=\"WDU19970880553\" xTitle=\"Ustawa z dnia 6 czerwca 1997 r. - Kodeks karny\" xAddress=\"Dz. U. z 1997 r. Nr 88, poz. 553\">art. 65 § 1 k.k.</xLexLink>,</xBx></xText>\\n      </xUnit>\\n      <xUnit xIsTitle=\"false\" xType=\"none\">\\n        <xName xSffx=\")\">c</xName>\\n        <xText><xBx>uniewinnia oskarżonego od przestępstwa przypisanego w punkcie XXIII, stwierdzając, że straciło moc orzeczenie o przepadku równowartości części korzyści zawarte w punkcie XXIV,</xBx></xText>\\n      </xUnit>\\n      <xUnit xIsTitle=\"false\" xType=\"none\">\\n        <xName xSffx=\".\">II</xName>\\n        <xText>\\n  <xBx>\\n    w pozostałym zakresie zaskarżony wyrok co do oskarżonych <xAnon>R. M.</xAnon>, <xAnon>A. D.</xAnon> i <xAnon>L. L.</xAnon> utrzymuje w mocy;</xBx>\\n</xText>\\n      </xUnit>\\n      <xUnit xIsTitle=\"false\" xType=\"none\">\\n        <xName xSffx=\".\">III</xName>\\n        <xText><xBx>na podstawie <xLexLink xArt=\"art. 85;art. 85 § 1\" xIsapId=\"WDU19970880553\" xTitle=\"Ustawa z dnia 6 czerwca 1997 r. - Kodeks karny\" xAddress=\"Dz. U. z 1997 r. Nr 88, poz. 553\">art. 85 § 1 k.k.</xLexLink> i <xLexLink xArt=\"art. 86;art. 86 § 1\" xIsapId=\"WDU19970880553\" xTitle=\"Ustawa z dnia 6 czerwca 1997 r. - Kodeks karny\" xAddress=\"Dz. U. z 1997 r. Nr 88, poz. 553\">art. 86 § 1 k.k.</xLexLink> łączy kary pozbawienia wolności wymierzone oskarżonym:</xBx></xText>\\n      </xUnit>\\n      <xText><xBx>- <xAnon>R. M.</xAnon> w punkcie II i IV i wymierza karę łączną 4 (czterech) lat i 6 (sześciu) miesięcy pozbawienia wolności,</xBx></xText>\\n      <xText><xBx>- <xAnon>A. D.</xAnon> w punkcie IX i XI i wymierza karę łączną 4 (czterech) lat pozbawienia wolności,</xBx></xText>\\n      <xText>\\n  <xBx>\\n    - <xAnon>L. L.</xAnon> w punkcie XX i XXII i wymierza karę łączną 5 (pięciu) lat i 6 (sześciu) miesięcy pozbawienia wolności;</xBx>\\n</xText>\\n      <xUnit xIsTitle=\"false\" xType=\"none\">\\n        <xName xSffx=\".\">IV</xName>\\n        <xText><xBx>na podstawie <xLexLink xArt=\"art. 63;art. 63 § 1\" xIsapId=\"WDU19970880553\" xTitle=\"Ustawa z dnia 6 czerwca 1997 r. - Kodeks karny\" xAddress=\"Dz. U. z 1997 r. Nr 88, poz. 553\">art. 63 § 1 k.k.</xLexLink> na poczet orzeczonych kar pozbawienia wolności zalicza:</xBx></xText>\\n      </xUnit>\\n      <xText><xBx>- oskarżonemu <xAnon>R. M.</xAnon> okresy zatrzymania od 1 grudnia 2015 roku do 3 grudnia 2015 roku oraz od 25 stycznia 2017 roku do 26 stycznia 2017 roku;</xBx></xText>\\n      <xText><xBx>- oskarżonemu <xAnon>A. D.</xAnon> okresy zatrzymania i tymczasowego aresztowania od 20 czerwca 2015 roku do 12 listopada 2015 roku oraz od 25 stycznia 2017 roku do 26 stycznia 2017 roku;</xBx></xText>\\n      <xText>\\n  <xBx>\\n    - oskarżonemu <xAnon>L. L.</xAnon> okres tymczasowego aresztowania w sprawie od 26 stycznia 2019 roku do 5 kwietnia 2019 roku;</xBx>\\n</xText>\\n      <xUnit xIsTitle=\"false\" xType=\"none\">\\n        <xName xSffx=\".\">V</xName>\\n        <xText><xBx>wydatkami związanymi z postępowaniem, w części której nastąpiło uniewinnienie obciąża Skarb Państwa, w pozostałym zakresie zwalniając oskarżonych od kosztów za postępowanie odwoławcze.</xBx></xText>\\n      </xUnit>\\n      <xRows>\\n        <xCOLGROUPx>\\n          <xCOLx xWIDTHx=\"240\"/>\\n          <xCOLx xWIDTHx=\"239\"/>\\n          <xCOLx xWIDTHx=\"237\"/>\\n        </xCOLGROUPx>\\n        <xRow>\\n          <xClmn xALIGNx=\"left\">\\n            <xText xALIGNx=\"center\">Piotr Kaczmarek</xText>\\n          </xClmn>\\n          <xClmn xALIGNx=\"left\">\\n            <xText xALIGNx=\"center\">Cezariusz Baćkowski</xText>\\n          </xClmn>\\n          <xClmn xALIGNx=\"left\">\\n            <xText xALIGNx=\"center\">Robert Zdych</xText>\\n          </xClmn>\\n        </xRow>\\n      </xRows>\\n    </xUnit>\\n  </xBlock>\\n</xPart>\\n'}"
      ]
     },
     "execution_count": null,
     "metadata": {},
     "output_type": "execute_result"
    }
   ],
   "source": [
    "# | eval: false\n",
    "judgement"
   ]
  },
  {
   "cell_type": "code",
   "execution_count": null,
   "metadata": {},
   "outputs": [
    {
     "name": "stdout",
     "output_type": "stream",
     "text": [
      "\n",
      "verdict_date: date as ISO 8601\n",
      "verdict: string, text representing verdict of the judgement\n",
      "verdict_summary: string, short summary of the verdict\n",
      "verdict_id: string\n",
      "court: string\n",
      "parties: string\n",
      "appeal_against: string\n",
      "first_trial: boolean\n",
      "drug_offence: boolean\n",
      "child_offence: boolean\n",
      "offence_seriousness: boolean\n",
      "verdict_tags: List[string]\n",
      "\n"
     ]
    }
   ],
   "source": [
    "# | eval: false\n",
    "print(EXAMPLE_SCHEMA)"
   ]
  },
  {
   "cell_type": "code",
   "execution_count": null,
   "metadata": {},
   "outputs": [],
   "source": [
    "# | eval: false\n",
    "chain = prepare_information_extraction_chain()"
   ]
  },
  {
   "cell_type": "code",
   "execution_count": null,
   "metadata": {},
   "outputs": [
    {
     "name": "stderr",
     "output_type": "stream",
     "text": [
      "2024/04/10 08:13:25 WARNING mlflow.utils.environment: Encountered an unexpected error while inferring pip requirements (model URI: /tmp/tmp99h0ktw2/model, flavor: langchain). Fall back to return ['langchain==0.1.13', 'pydantic==2.6.4', 'cloudpickle==3.0.0']. Set logging level to DEBUG to see the full traceback. \n"
     ]
    }
   ],
   "source": [
    "# | eval: false\n",
    "logged_model = mlflow.langchain.log_model(chain, \"langchain_model\")"
   ]
  },
  {
   "cell_type": "code",
   "execution_count": null,
   "metadata": {},
   "outputs": [
    {
     "data": {
      "text/plain": [
       "'\\nverdict_date: date as ISO 8601\\nverdict: string, text representing verdict of the judgement\\nverdict_summary: string, short summary of the verdict\\nverdict_id: string\\ncourt: string\\nparties: string\\nappeal_against: string\\nfirst_trial: boolean\\ndrug_offence: boolean\\nchild_offence: boolean\\noffence_seriousness: boolean\\nverdict_tags: List[string]\\n'"
      ]
     },
     "execution_count": null,
     "metadata": {},
     "output_type": "execute_result"
    }
   ],
   "source": [
    "# | eval: false\n",
    "mlflow.log_param(\"prompt_version\", PROMPT_VERSION)\n",
    "mlflow.log_param(\"llm_name\", LLM_NAME)\n",
    "mlflow.log_param(\"language\", LANGUAGE)\n",
    "mlflow.log_param(\"schema\", EXAMPLE_SCHEMA)"
   ]
  },
  {
   "cell_type": "code",
   "execution_count": null,
   "metadata": {},
   "outputs": [],
   "source": [
    "# | eval: false\n",
    "retrieved_informations = chain.invoke(\n",
    "    {\"LANGUAGE\": LANGUAGE, \"TEXT\": judgement, \"SCHEMA\": EXAMPLE_SCHEMA}\n",
    ")"
   ]
  },
  {
   "cell_type": "code",
   "execution_count": null,
   "metadata": {},
   "outputs": [
    {
     "data": {
      "text/plain": [
       "{'verdict_date': '2020-02-06',\n",
       " 'verdict': 'zmienia zaskarżony wyrok',\n",
       " 'verdict_summary': 'Sąd Apelacyjny we Wrocławiu zmienia wyrok Sądu Okręgowego w Świdnicy, uniewinniając częściowo oskarżonych i utrzymując w mocy pozostałą część wyroku.',\n",
       " 'verdict_id': 'II AKa 334/19',\n",
       " 'court': 'Sąd Apelacyjny we Wrocławiu II Wydział Karny',\n",
       " 'parties': 'A. D., R. M., E. L., R. P., L. L.',\n",
       " 'appeal_against': 'wyrok Sądu Okręgowego w Świdnicy z dnia 5 kwietnia 2019 r., sygn. akt III K 52/17',\n",
       " 'first_trial': False,\n",
       " 'drug_offence': True,\n",
       " 'child_offence': False,\n",
       " 'offence_seriousness': True,\n",
       " 'verdict_tags': ['uniewinnienie',\n",
       "  'zmiana wyroku',\n",
       "  'przestępstwo narkotykowe']}"
      ]
     },
     "execution_count": null,
     "metadata": {},
     "output_type": "execute_result"
    }
   ],
   "source": [
    "# | eval: false\n",
    "retrieved_informations"
   ]
  },
  {
   "cell_type": "code",
   "execution_count": null,
   "metadata": {},
   "outputs": [],
   "source": [
    "# | eval: false\n",
    "from juddges.data.models import get_mongo_collection\n",
    "\n",
    "judgements_collection = get_mongo_collection(\"judgements\")"
   ]
  },
  {
   "cell_type": "code",
   "execution_count": null,
   "metadata": {},
   "outputs": [],
   "source": [
    "# | eval: false\n",
    "judgements = list(judgements_collection.find(filter={}).limit(100))"
   ]
  },
  {
   "cell_type": "code",
   "execution_count": null,
   "metadata": {},
   "outputs": [
    {
     "data": {
      "text/plain": [
       "100"
      ]
     },
     "execution_count": null,
     "metadata": {},
     "output_type": "execute_result"
    }
   ],
   "source": [
    "# | eval: false\n",
    "len(judgements)"
   ]
  },
  {
   "cell_type": "markdown",
   "metadata": {},
   "source": [
    "Estimate price of prompt with judgements text for 100 sample (is USD)\n"
   ]
  },
  {
   "cell_type": "code",
   "execution_count": null,
   "metadata": {},
   "outputs": [
    {
     "data": {
      "text/plain": [
       "3.1003800000000017"
      ]
     },
     "execution_count": null,
     "metadata": {},
     "output_type": "execute_result"
    }
   ],
   "source": [
    "# | eval: false\n",
    "from juddges.settings import num_tokens_from_string, LLM_TO_PRICE_INPUT\n",
    "\n",
    "sum(\n",
    "    [\n",
    "        LLM_TO_PRICE_INPUT[LLM_NAME] * num_tokens_from_string(judgement[\"text\"])\n",
    "        for judgement in judgements\n",
    "    ]\n",
    ")"
   ]
  },
  {
   "cell_type": "code",
   "execution_count": null,
   "metadata": {},
   "outputs": [
    {
     "name": "stdout",
     "output_type": "stream",
     "text": [
      "Sygn. akt. XVII Amr 14/94\n",
      "\n",
      "WYROK\n",
      "W IMIENIU RZECZYPOSPOLITEJ POLSKIEJ\n",
      "Dnia 20 lipca 1994 r.\n",
      "Sąd Wojewódzki w Warszawie - Sąd Antymonopolowy w składzie następującym:\n",
      "Przewodniczący SSW Stanisław Gronowski (spr.)\n",
      "Sędziowie: SW Jacek Sikorski i SR Bogdan Gierzyński\n",
      "Protokólant apl. rade. A. Grześkiewicz\n",
      "po rozpoznaniu w dniu 6 lipca 1994 r. w Warszawie na rozpra­wie\n",
      "spraw z odwołań:A. M.,B. U.\n",
      "Sklep (...)weW.,Przedsiębiorstwa Handlowego (...) s.c.weW.,W. K.iA. B.(...)weW.\n",
      "od decyzji Urzędu Antymonopo1owego Delegatury weW.z dnia 29 października 1993 r., sygn. akt(...)przeciwko Urzędowi Antymonopolowemu zainteresowany: GminaW.\n",
      "o przeciwdziałanie praktykom monopolistycznym\n",
      "\n",
      "1\n",
      "odwołania oddala\n",
      "\n",
      "2\n",
      "zasądza na rzecz Urzędu Antymonopolowego od:\n",
      "\n",
      "a\n",
      "A. M.kwotę 5.000.000 (pięć milionów) złotych\n",
      "\n",
      "b\n",
      "B. U.Sklep (...)weW.kwotę 5.000.000 (pięć milionów) złotych\n",
      "\n",
      "c\n",
      "Przedsiębiorstwa Handlowego (...) s.c.weW.kwotę 5.000.000 (pięć milionów) złotych\n",
      "\n",
      "(...)-\n",
      "\n",
      "d\n",
      "\n",
      "W. K.iA. B.(...)s.c. weW.kwotę 5.000.000 (pięć milionów) złotych tytułem kosztów postępowania.\n",
      "\n",
      "UZASADNIENIE\n",
      "GminaW.(zainteresowana w postępowaniu przed Sądem Antymonopolowym w rozumieniuart. 479(\n",
      "\n",
      "    31)§ 2 k.p.c.) jest wła­ścicielem lokali użytkowych zlokalizowanych na terenie miastaW., które wynajmuje podmiotom gospodarczym. Zadecydo­wała, aby najem wspomnianych lokali był poprzedzony procedurą przetargową. W tym przedmiocie podjęta została uchwała Nr(...)Rady Miejskiej weW.z dnia 20 lutego 1993 r. w sprawie zasad wynajmowania lokali użytkowych stanowią­cych własność GminyW.. Przetargami, w świetle §3 uchwały, objęto w szczególności lokale użytkowe przeznaczone na działalność handlową, produkcyjną, usługową i gastronomi­czną położone w centrum handlowymW.. Wspomniana pro­cedura obejmowała także lokale oddane pomiotom gospodarczym w następstwie działań prywatyzujących handel, usługi i gastro­nomię, jakie miały miejsce w 1990 r.\n",
      "Z najemcami lokali przewidzianych do przetargu, do czasu ich przeprowadzenia, zawierano w miesiącach 1istopad-grudzień 1990 r. umowy najmu według ramowego wzoru. Umowa była zawie­rana na okres 1,5 roku, a więc na czas ściśle określony (§ 12). Po upływie tego terminu dotychczasowy najemca nadal uży­tkował lokal, jednakże musiał się liczyć z koniecznością jego natychmiastowego opróżnienia, jeżeli nie wygrał przetargu. Umowa zawierała zapisy dotyczące możliwości jej zmiany. W świetle § 17 ust. 1 wszelkie zmiany warunków umowy wymagają\n",
      "- 3\n",
      "formy pisemnej w postaci aneksu. Wyjątek stanowią zmiany w wysokości czynszu i innych opłat, o których najemca będzie powiadomiony odrębnym pismem (§ 17 ust. 2 umowy). Ponadto, jeżeli w czasie trwania stosunku najmu nastąpi zmiana okoli­czności mających wpływ na wysokość czynszu najmu, wynajmujący określa wysokość czynszu stosownie do zmienionych okolicznoś­ci (§ 17 ust. 3 umowy). Dotychczasowi najemcy stawali do przetargu i w około 65 % przetarg kończył się dla nich pomyś­lnie. Z najemcami tymi były zawierane umowy na okres 5 lat.\n",
      "Najemcy, w tym m. in.B. U., Przedsiębiors­two Handlowe(...)s.c. weW.,W. K.iA. B.\"(...)\" s.c. we 'W.iA. M.(powo­dowie w postępowaniu przed Sądem Antymonopolowym) upatrywali w postanowieniach §§ 12 i 17 umowy nadużywanie pozycji domi­nującej na rynku lokali użytkowych przez GminęW.. Za­rzucali również kilkakrotne podwyższanie czynszu i ustalenie go na zbyt wysokim poziomie. Wskazywali także, iż po upływie umownego okresu, na jaki zawarto umowę najmu, gmina ustala wysokie opłaty za bezumowne korzystanie z lokalu. Domagali się od Urzędu Antymonopolowego (pozwany w postępowaniu przed Sądem Antymonopolowym) wszczęcia przeciwko GminieW.po­stępowań i administracyjnego.\n",
      "Najemcy wnosili o nakazanie gminie zaniechania stosowa­nia praktyk monopolistycznych polegających na nadużywaniu po­zycji dominującej na rynku przez:\n",
      "- jednostronne ustalanie zawyżonych stawek czynszu najmu lokali użytkowych z pominięciem trybu renegocjowania wa­runków umowy z dotychczasowymi użytkownikami,\n",
      "\n",
      "-\n",
      "\n",
      "zawieranie krótkotrwałych umów najmu oraz udostępnianie lo­kali po upływie okresu umownego dotychczasowym najemcom na warunkach bezumownego korzystania z tychże lokali,\n",
      "\n",
      "- 4-\n",
      "\n",
      "-\n",
      "\n",
      "przekazywanie do wynajęcia lokali w trybie przetargowym bez uprzedniego porozumienia się z dotychczasowymi najemcami co do warunków kontynuowania stosunku najmu.\n",
      "\n",
      "Najemcy domagali się także, aby Urząd Antymonopolowy na­kazał gminie renegocjację warunków umowy najmu w części doty­czącej terminu obowiązywania umowy oraz zasad określenia sta­wek czynszu.\n",
      "Urząd Antymonopolowy wszczął postępowanie administracyj­ne w sprawie naruszenia przez gminęart. 4 ust. 1 pkt 1 i art. 5 ustawy z dnia 24 lutego 1990 r. o przeciwdziałaniu praktykom monopolistycznym(Dz. U. z 1991 r. Nr 89, poz. 403), zwana dalej ustawą antymonopolową. W świetle art. 4 ust. 1 pkt 1 w/w ustawy praktyką monopolistyczną jest narzu­canie uciążliwych warunków umów, przynoszących podmiotowi go­spodarczemu narzucającemu te warunki nieuzasadnione korzyści. Natomiast stosownie do art. 5 ustawy antymonopolowej praktyką monopolistyczną jest nadużywanie pozycji dominującej na ryn­ku. Ponadto na okoliczność zawyżania czynszu Urząd Antymono­polowy prowadził postępowanie z punktu widzenia naruszenia przez GminęW.art. 7 ust. 1 pkt 3 w związku z art. 7 ust. 2 ustawy antymonopolowej. W świetle tych przepisów prak­tyką monopolistyczną jest pobieranie nadmiernie wygórowanych cen przez podmiot gospodarczy o utrwalonej pozycji dominują­cej na rynku.\n",
      "W związku z zaskarżeniem przez najemców uchwały Rady MiejskiejW.z dnia 20 lutego 1993 r. Nr(...)do Naczelnego Sądu Administracyjnego sąd ten ustalił, że gmina zmierza drogą przetargu podwyższać czynsz najmu, w tym także w odniesieniu do osób z którymi zawarto umowy na czas okreś­lony, co stanowi działalność niezgodną z prawem. Tryb przeta­rgu nie może być wykorzystywany do zmiany wiążących umów naj-\n",
      "- 5-\n",
      "mu bądź ich rozwiązywania. W rezultacie wyrokiem z dnia 3 września 1993 r., sygn. akt SA/Wr/821-751-1236-1339/93 NSA\n",
      "stwierdził nieważność § 3 wspomnianej uchwały.\n",
      "W trakcie postępowania administracyjnego przed Urzędem Antymonopolowym gmina nie zaprzeczyła, udokumentowanym zresz­tą przez najemców faktom, stanowiącym podstawę żądania wszczęcia postępowania. Według gminy stosuje stawki opłat czynszowych ustalone uchwałą Zarządu MiastaW.. Stawki opłat czynszowych są zróżnicowane w zależności od strefy (po­łożenia lokalu) oraz branży od 150 tys./m2do 300 tys./m2. W następstwie przetargów gmina uzyskała czynsze od 300 tys./m2do 700 tys./m2. Deklarowała, iż najemcom którzy przegrali przetargi przygotuje lokale zamienne dla kontynuowania dzia­łalności gospodarczej.\n",
      "Według ustaleń Urzędu Antymonopolowego na lokalnym rynku lokali użytkowych gmina posiada udział wynoszący około 80%. Posiada zatem pozycję dominującą w rozumieniu art. 2 pkt 7 ustawy antymonpolowej. Nadużyciem pozycji dominującej na ryn­ku, godzącym w zasadę pewności obrotu, było bezumowne udostę­pnianie przez gminę lokali użytkowych podmiotom gospodarczym, zamiast zawieranie z nimi umów najmu. Urząd Antymonopolowy nakazał zatem gminie zaniechanie stosowania tej praktyki mo­nopolistycznej (pkt I decyzji z dnia 29 października 1993 r. nr(...)).\n",
      "Ustosunkowując się do zarzutów najemców w przedmiocie zawierania z nimi przez gminę umów na okres 1,5 roku Urząd Antymonopolowy wyraził pogląd, iż jest to element, nie kwes­tionowanej przez niego, polityki gminy w zakresie oddawania lokali po uprzednim przeprowadzeniu przetargu. Do czasu okre­ślenia zasad przeznaczenia lokali do przetargu gmina musiała zawierać z najemcami takie umowy. Stąd też Urząd Antymonopo-\n",
      "- 6 -\n",
      "Iowy nie dopatrzył się nadużycia pozycji dominującej ze stro­ny gminy w zawieraniu umów na czas oznaczony, tym bardziej żeKodeks cywilnynie zawiera ograniczeń co do długości trwania najmu. Urząd Antymonopolowy nie podzielił także stanowiska najemców zarzucających gminie nadużywanie pozycji dominującej na rynku przez jednostronne ustalanie zawyżonych stawek czyn­szu najmu. Porównując stawki czynszowe stosowane przez gminę ze stawkami innych podmiotów gospodarczych wynajmujących lo­kale użytkowe Urząd Antymonopolowy ustalił, iż gmina stosuje w tym względzie stawki na średnim poziomie. Uznał za dopusz­czalne w świetle przepisówKodeksu cywilnegojednostronne określanie przez wynajmującego wysokości czynszu bez zmiany samej umowy. W rezultacie więc kwestionowany przez najemców § 17 umowy uznał za nie naruszający prawa. Reasumując w pkt II decyzji Urząd Antymonopolowy nie stwierdził stosowania przez gminę praktyk monopolistycznych w zakresie nadużywania pozy­cji dominującej na rynku poprzez zawyżanie stawek czynszowych oraz zawieranie krótkoterminowych umów najmu. Jak to ustalił przy tym Urząd Antymonopolowy przeszkodą w ewentualnym kwes­tionowaniu tej części umowy, z punktu widzenia przepisów ustawy antymonopolowej, jest niestosowanie przez gminę wspom­nianych praktyk już od blisko 3 lat. W świetle art. S ust. 1 ustawy antymonopolowej nie wydaje się decyzji stwierdzającej stosowanie praktyk monopolistycznych i nakazującej ich zanie­chanie, jeżeli od końca roku, w którym zaprzestano stosowania praktyk monopolistycznych, upłynął rok.\n",
      "Według Urzędu Antymonopolowego uchwała Rady GminyW., ustalająca wymóg przetargów}' w odniesieniu do lokali użytkowych oddawanych w najem, nie podlega ocenie przepisów ustawy antymonopolowej. Wspomniana uchwała może być obalona jedynie w trybie przepisów ustawy o samorządzie terytorial-\n",
      "nym. Stąd też Urząd Antymonopolowy na podstawieart. 10.5 §1 k.p.a.umorzył postępowanie w sprawie przeciwko gminie w za­kresie przeznaczenia lokali użytkowych do przetargu w centrum handlowymW.(pkt III decyzji).\n",
      "Od decyzji Urzędu Antymonopolowego najemcy odwołali się do Sądu Antymonopolowego.\n",
      "Pełnomocnik procesowyA. M.zaskarżył pkt II i III decyzji. Wystąpił w swym odwołaniu także poza przedmiot prowadzonego postępowania administracyjnego. Odwołanie upa­truje bowiem w odmowie gminy sprzedaży lokali użytkowych ograniczenia wolnej konkurencji na rynku, co uzasadnia zarzut naruszenia art. 5 pkt 1 ustawy antymonopolowej. Według odwo­łania niezakwestionowane przez Urząd Antymonopolowy różnico­wanie przez gminę warunków umów lokali użytkowych w centrum handlowymW.i poza nim uzasadnia postawienie zaskar­żonej decyzji zarzutu naruszenia art. 5 pkt 2 ustawy antymo­nopolowej. W świetle tego przepisu praktyką monopolistyczną jest nadużycie pozycji dominującej w następstwie podziału ry­nku według kryteriów terytorialnych. Podtrzymuje też dotych­czasowe stanowisko prezentowane w postępowaniu administracyj­nym, iż praktyką monopolistyczną jest jednostronne dyktowanie przez gminę zawyżonych opłat czynszowych, jak również zawie­ranie krótkoterminowych umów najmu. Polemizuje ze stanowis­kiem zajętym w pkt III zaskarżonej decyzji, iż Urząd Antymo­nopolowy nie może ingerować w sposób wykonywania przez gminę przysługujących jej praw własności do sporem objętych lokali użytkowych.\n",
      "Odwołanie wniesione przez pozostałych najemców, aczkol­wiek formalnie ograniczone do pktu III decyzji, zarzuca za­skarżonej decyzji niedostrzeganie praktyk monopolistycznych w działalności gminy w zakresie prowadzenia przetargów lokali w\n",
      "- 8\n",
      "stosunku do których przysługują podmiotom gospodarczym prawa wynikające z umowy najmu. Odwołanie wywodzi, iż po upływie okresu najmu przyzwolenie gminy na dalsze używanie lokali re­aktywuje urnowe najmu. Gmina powinna zatem najpierw uregulować stosunki łączące je z dotychczasowymi najemcami, a dopiero następnie skierować wolne lokale do przetargu. W tej sytuacji umorzenie w zaskarżonej decyzji postępowania w zakresie prze­znaczenia lokali do przetargu naruszaart. 105 § 1 k.p.a.\n",
      "Sąd Antymonopolowy zważył, co następuje:\n",
      "Umowy są podstawowym instrumentem prawnym organizującym działalność pomiędzy podmiotami gospodarczymi w warunkach go­spodarki rynkowej. Zgodnie z założeniami takiej gospodarki strony mają swobodę wyboru kontrahenta, zaś istotne elementy treści umowy, w szczególności odnoszące się do ekwiwalentnoś­ci świadczeń, kształtują wolne od zewnętrznych wpływów mecha­nizmy rynkowe. Pozwala to w sposób optymalny kształtować pra­wa i obowiązki stron i przeciwdziała zjawisku dyktowania tre­ści umów przez podmiot silniejszy ekonomicznie. Wspomniane założenia mogą być jednakże realizowane jedynie w sytuacji rozbudowanego rynku, a w szczególności funkcjonowania po stronie podaży znacznej liczby podmiotów gospodarczych, kon­kurujących ze sobą. W okolicznościach faktycznych niniejszej sprawy taka sytuacja nie zachodzi. Gmina na rynku lokali uży­tkowych posiada bowiem silnie dominującą pozycję, zbliżoną do monopolistycznej. Pozwala to dyktować jej treść umów działa­jącym w rozproszeniu najemcom.\n",
      "W celu przeciwdziałania nadużywaniu władzy rynkowej, a w szczególności tam, gdzie nie mogą funkcjonować mechanizmy ekonomiczne (z uwagi na szczupły rynek), umowy organizujące działalność gospodarczą powinny podlegać reglamentacji zpun­ktu widzenia przestrzegania przepisów ustawy antymonopolowej.\n",
      "- 9\n",
      "Należy podkreślić, że zasada swobody umów wyrażona wart. 3531k.c.nie ma bezwzględnego charakteru. Treść umów nie mo­że bowiem sprzeciwiać się ustawom, w tym także przepisom ustawy antymonopolowej. Zgodnie z art. 8 ust. 2 w/w ustawy umowy zawarte z naruszeniem art. 4, art. 5 oraz art. 7 są w całości lub w odpowiedniej części nieważne. Wynika stąd, że ustawa antymonopolowa jest jedną z tych ustaw, do których od­syłaart. 3531k.c.dla określenia granic swobody umów. W świetle powyższego stanowiska Sąd Antymonopolowy nie podziela argumentacji zaskarżonej decyzji, nie dopatrującej się naru­szenia ustawy antymonopolowej w sytuacji gdy treść umów najmu mieści;się w granicach przepisówKodeksu cywilnego, normują­cych umowę najmu. Wręcz przeciwnie. Ustawa antymonopolowa po­winna zapobiegać nadużywaniu kodeksowej zasady swobody umów przez podmiot posiadający władzę na rynku, tym bardziej zaś gdy narzuca on swym kontrahentom umowy naruszające przepisy wspomnianego kodeksu.\n",
      "Według zaskarżonej decyzji nie naruszało ustawy antymo­nopolowej zawarcie przez gminę umów najmu na czas oznaczony wynoszący 1,5 roku, skoroKodeks cywilnynie zawiera ograni­czeń co do minimalnego okresu najmu. Z tym stanowiskiem trud­no się zgodzić. Lokale użytkowe, stanowiące przedmiot postę­powania, służą najemcom do prowadzenia działalności gospodar­czej, przede wszystkim handlowej. Umowa najmu lokalu użytko­wego zawarta na okres 1,5 roku podważa sens działalności gos­podarczej, gdyż czyni ją tymczasową. Najemca lokalu nie może planować swej działalności gospodarczej, a w szczególności czynić stosownych nakładów. Musi się realnie liczyć, iż po upływie tak zakreślonego terminu będzie zmuszony lokal opróż­nić. W ocenie Sądu Antymonopolowego wymuszenie na najemcach zawarcia umów najmu na okres 1,5 roku było ze strony gminy\n",
      "- 10\n",
      "nadużyciem pozycji dominującej na rynku w świetle art. 5 ustawy antymonopolowej. Tym sposobem gmina, nie licząc się z potrzebami najemców, którym narzucała niekorzystne warunki umów, eksploatowała silnie dominującą pozycję na rynku.\n",
      "Także nadużyciem pozycji dominującej na rynku ze strony gminy, czego nie zauważono w zaskarżonej decyzji, a na co wskazywali najemcy, było wymuszenie w § 17 umowy najmu możli­wości jej wypowiedzenia, w szczególności zaś w zakresie wyso­kości czynszu. Tym sposobem, pomimo że umowa najmu zawarta była na czas oznaczony, gmina podwyższała czynsz najmu ponad kwotę ustaloną w umowie. Postanowienie § 17 umowy naruszało zresztą także i art. 68Sk.c.W świetle tego przepisu wypo­wiedzieć można jedynie umowę najmu zawartą na czas nie ozna­czony. Umowa zawarta na czas ściśle oznaczony nie podlega wypowiedzeniu.\n",
      "Zasadniczo jedyną sankcją, która może być zastosowana w stosunku do podmiotu stosującego praktyki monopolistyczne, jest decyzja nakazująca ich zaniechanie (art. 8 ust. 1 usta­wy). Wydanie takiej decyzji, w razie jej nierespektowania, pozwala na uruchamianie kar pieniężnych (art. 15 ustawy). Za­stosowanie sankcji administracyjnej z art. 8 ust. 1 w/w ustawy jest jednakże ograniczone pod względem czasowym. Decyzja taka, na mocy wyraźnego zapisu ustawowego, nie może być wyda­na, jeżeli od końca roku, w którym zaprzestano stosowania praktyki monopolistycznej, upłynął rok. W odniesieniu do sto­sowanej przez gminę praktyki zawierania umów na okres 1,5 ro­ku zaniechano tego z końcem 1990 r. Natomiast praktyka wypo­wiadania wspomnianych umów w części dotyczącej czynszu nie miała już miejsca począwszy od marca 1991 r. Z omawianych więc względów w dacie złożenia przez najemców w miesiącu kwietniu 1993 r. żądania wszczęcia postępowania administracy-­\n",
      "- 11\n",
      "jnego przeciwko gminie nie wchodziła już w grę możliwość wy­dania decyzji z art. 8 ust. 1 w/w ustawy w odniesieniu do wspomnianych praktyk monopolistycznych.\n",
      "Rozpoznając w pozostałym zakresie odwołania wniesione przez najemców Sąd Antymonopolowy również nie znalazł podstaw do ich uwzględnienia. Nietrafne są w szczególności zarzuty odwołań, iż w zaskarżonej decyzji nie dostrzeżono praktyki monopolistycznej w prowadzeniu przez gminę przetargów w od­niesieniu do lokali, w stosunku do których najemcom przysłu­gują prawa wynikające z umowy najmu. Przeciwdziała tej prak­tyce pkt I zaskarżonej decyzji, gdzie nakazano gminie zanie­chanie odmowy zawierania umów najmu w formie pisemnej w od-r niesieniu do lokali udostępnianych najemcom na zasadzie bezu­mownego korzystania. Rozstrzygnięcie Urzędu Antymonopolowego zgodne jest tutaj z zasadą wyrażoną wart. 674 k.c.\n",
      "Wprawdzie nie można podzielić poglądu zajętego w zaskar­żonej decyzji jakoby podejmowane przez gminę, w wykonaniu przepisów gminnych, działania zmierzające do kierowania loka­li użytkowych do przetargu nie podlegały ocenie ustawy anty­monopolowej. Tym niemniej, zakładając uporządkowanie gospoda­rki lokalami użytkowymi w następstwie wykonania pktu I decy­zji, trudno dopatrzyć się w instytucji przetargu naruszenia przepisów ustawy antymonopolowej. Jeżeli do przetargu mogą na równych prawach przystąpić wszystkie zainteresowane podmioty gospodarcze, przetarg nie narusza celów ustawy antymonopolo­wej a w szczególności ochrony wolnej konkurencji.\n",
      "Sąd Antymonopolowy nie podzielił stanowiska zajętego w odwołaniuA. M., w świetle którego różnicowanie przez gminę warunków umów najmu lokali użytkowych zlokalizo­wanych w centrum handlowym miasta w porównaniu do pozostałych lokali, stanowi podział rynku według kryterium terytorialnego\n",
      "\n",
      "  - 12\n",
      "\n",
      "lub asortymentowego w rozumieniu art. 5 pkt 2 ustawy antymo­nopolowej. Rynek w ujęciu przedmiotowym odnosi się do wszyst­kich towarów jednego rodzaju, które poprzez szczególne właś­ciwości, w szczególności zaś przeznaczenie, użytkowość i cenę odróżniają się od innych towarów w taki sposób, że nie ist­nieje możliwość dowolnej ich zamiany. Rynek pod względem przedmiotowym (asortymentowym) tworzą więc towary, które z punktu widzenia nabywcy charakteryzują się substytutywnością. Pomimo więc podobnego pod względem przedmiotowym asortymentu, lokali użytkowych zlokalizowanych w centrum handlowym miasta w porównaniu do innych lokali użytkowych w tym mieście nie można, z punktu widzenia ogółu nabywców (najemców), uznać za substytutywne. Możliwości prowadzenia działalności gospodar­czej w lokalach znajdujących się w centrum handlowym miasta sa zdecydowanie korzystniejsze. Istotne jest także i to, że w warunkach gospodarki rynkowej obiektywną prawidłowością są znacznie wyższe czynsze najmu lokali użytkowych zlokalizowa­nych w centrach handlowych miast w porównaniu do pozostałych lokali. Uzasadnia to traktowanie takich lokali użytkowych ja­ko odrębnego rynku. Z tego też względu stosowanie przez gminę innej polityki najmu w odniesieniu do tej kategorii lokali nic może być uznane jako podział rynku, lecz jako działania na dwóch odrębnych rynkach.\n",
      "Brak jest także podstaw do uwzględnienia zarzutu odwoła­nia upatrującego w odmowie sprzedaży lokali użytkowych ogra­niczanie przez gminę wolnej konkurencji na rynku w świetle art. 5 pkt 1 ustawy antymonopolowej, skoro nie stanowiło to przedmiotu rozstrzygnięcia zaskarżonej decyzji, a nawet przedmiotu żądania zgłoszonego we wniosku o wszczęcie postę­powania. Formalnie rzecz biorąc nie ma przeszkód, aby wspom-­\n",
      "\n",
      "  - 13\n",
      "\n",
      "niany zarzut stanowił przedmiot odrębnego postępowania administracyjnego.\n",
      "Nie znajdują także uzasadnienia, podnoszone w szczególności w postępowaniu administracyjnym, żądania skierowane pod adresem Urzędu Antymonopolowego, aby ten zobowiązał gminę do renegocjowania treści umów najmu z dotychczasowymi najemcami. W świetle art. 8 ust. 1 ustawy antymonopolowej takie oczeki­wania pod adresem organów działających w trybie wspomnianej ustawy, są za daleko idące. W postępowaniu administracyjnym toczącym się w trybie wspomnianej ustawy podmiotowi stosują­cemu praktyki monopolistyczne można jedynie nakazać ich za­niechanie. Nie można natomiast, w sposób pozytywny, nakazać podmiotowi spełnienie określonego zachowania mieszczącego się w granicach prawa. Reasumując zatem w trybie ustawy antymono­polowej można wskazać podmiotowi gospodarczemu czego ma za­niechać. Natomiast nie wolno mu w prawnoprocesowych formach działania wskazać jak konkretnie ma się zachować w określonej sytuacji.\n",
      "W tym stanie sprawy Sąd Antymonopolowy odwołania oddalił (art. 4793 1§ 1 k.p.c.).\n",
      "O kosztach postępowania orzeczono na zasadzieart. 98 i 99 k.p.c.\n"
     ]
    }
   ],
   "source": [
    "# | eval: false\n",
    "print(judgements[0][\"text\"])"
   ]
  },
  {
   "cell_type": "code",
   "execution_count": null,
   "metadata": {},
   "outputs": [],
   "source": [
    "# | eval: false\n",
    "# save sample judgments\n",
    "import pandas as pd\n",
    "from juddges.settings import SAMPLE_DATA_PATH"
   ]
  },
  {
   "cell_type": "code",
   "execution_count": null,
   "metadata": {},
   "outputs": [],
   "source": [
    "# | eval: false\n",
    "df = pd.DataFrame(judgements)\n",
    "df.to_csv(SAMPLE_DATA_PATH / \"judgements-100-sample.csv\")"
   ]
  },
  {
   "cell_type": "code",
   "execution_count": null,
   "metadata": {},
   "outputs": [
    {
     "data": {
      "text/html": [
       "<div>\n",
       "<style scoped>\n",
       "    .dataframe tbody tr th:only-of-type {\n",
       "        vertical-align: middle;\n",
       "    }\n",
       "\n",
       "    .dataframe tbody tr th {\n",
       "        vertical-align: top;\n",
       "    }\n",
       "\n",
       "    .dataframe thead th {\n",
       "        text-align: right;\n",
       "    }\n",
       "</style>\n",
       "<table border=\"1\" class=\"dataframe\">\n",
       "  <thead>\n",
       "    <tr style=\"text-align: right;\">\n",
       "      <th></th>\n",
       "      <th>_id</th>\n",
       "      <th>signature</th>\n",
       "      <th>date</th>\n",
       "      <th>publicationDate</th>\n",
       "      <th>lastUpdate</th>\n",
       "      <th>courtId</th>\n",
       "      <th>departmentId</th>\n",
       "      <th>type</th>\n",
       "      <th>excerpt</th>\n",
       "      <th>content</th>\n",
       "      <th>...</th>\n",
       "      <th>legalBases</th>\n",
       "      <th>publisher</th>\n",
       "      <th>recorder</th>\n",
       "      <th>references</th>\n",
       "      <th>reviser</th>\n",
       "      <th>themePhrases</th>\n",
       "      <th>num_pages</th>\n",
       "      <th>text</th>\n",
       "      <th>vol_number</th>\n",
       "      <th>vol_type</th>\n",
       "    </tr>\n",
       "  </thead>\n",
       "  <tbody>\n",
       "    <tr>\n",
       "      <th>0</th>\n",
       "      <td>154505000005127_XVII_AmA_000014_1994_Uz_1994-0...</td>\n",
       "      <td>XVII AmA 14/94</td>\n",
       "      <td>1994-07-20 02:00:00.0 CEST</td>\n",
       "      <td>2018-06-13 22:10:05.0 CEST</td>\n",
       "      <td>2018-06-13 16:22:22.0 CEST</td>\n",
       "      <td>15450500</td>\n",
       "      <td>5127</td>\n",
       "      <td>SENTENCE, REASON</td>\n",
       "      <td>Sygn. akt. XVII Amr 14/94 WYROK W IMIENIU RZEC...</td>\n",
       "      <td>&lt;?xml version='1.0' encoding='UTF-8'?&gt;\\n&lt;xPart...</td>\n",
       "      <td>...</td>\n",
       "      <td>{'legalBasis': ['art. 6 ust. 1 pkt 1 ustawy oc...</td>\n",
       "      <td>Beata Gonera</td>\n",
       "      <td>None</td>\n",
       "      <td>{'reference': ['Ustawa z dnia 17 listopada 196...</td>\n",
       "      <td>Beata Gonera</td>\n",
       "      <td>{'themePhrase': ['Praktyki ograniczające konku...</td>\n",
       "      <td>7</td>\n",
       "      <td>Sygn. akt. XVII Amr 14/94\\n\\nWYROK\\nW IMIENIU ...</td>\n",
       "      <td>14</td>\n",
       "      <td>15/450500/0005127/AmA</td>\n",
       "    </tr>\n",
       "    <tr>\n",
       "      <th>1</th>\n",
       "      <td>151500000001006_II_AKa_000031_1998_Uz_2013-02-...</td>\n",
       "      <td>II AKa 31/98</td>\n",
       "      <td>1998-03-26 01:00:00.0 CET</td>\n",
       "      <td>2013-02-08 02:01:01.0 CET</td>\n",
       "      <td>2013-12-04 17:23:33.0 CET</td>\n",
       "      <td>15150000</td>\n",
       "      <td>1006</td>\n",
       "      <td>SENTENCE, REASON</td>\n",
       "      <td>Sygn. akt : II AKa 31/98 WYROK W IMIENIU RZECZ...</td>\n",
       "      <td>&lt;?xml version='1.0' encoding='UTF-8'?&gt;\\n&lt;xPart...</td>\n",
       "      <td>...</td>\n",
       "      <td>{'legalBasis': 'art. 1 ustawy o ochronie obrot...</td>\n",
       "      <td>Renata Kopiec</td>\n",
       "      <td>Barbara Gawor</td>\n",
       "      <td>{'reference': ['Ustawa z dnia 12 października ...</td>\n",
       "      <td>Magdalena Gierszner</td>\n",
       "      <td>{'themePhrase': 'Przestępstwo Przeciwko Obroto...</td>\n",
       "      <td>13</td>\n",
       "      <td>Sygn. akt : II AKa 31/98\\n\\nWYROK\\nW IMIENIU R...</td>\n",
       "      <td>31</td>\n",
       "      <td>15/150000/0001006/AKa</td>\n",
       "    </tr>\n",
       "  </tbody>\n",
       "</table>\n",
       "<p>2 rows × 24 columns</p>\n",
       "</div>"
      ],
      "text/plain": [
       "                                                 _id       signature  \\\n",
       "0  154505000005127_XVII_AmA_000014_1994_Uz_1994-0...  XVII AmA 14/94   \n",
       "1  151500000001006_II_AKa_000031_1998_Uz_2013-02-...    II AKa 31/98   \n",
       "\n",
       "                         date             publicationDate  \\\n",
       "0  1994-07-20 02:00:00.0 CEST  2018-06-13 22:10:05.0 CEST   \n",
       "1   1998-03-26 01:00:00.0 CET   2013-02-08 02:01:01.0 CET   \n",
       "\n",
       "                   lastUpdate   courtId departmentId              type  \\\n",
       "0  2018-06-13 16:22:22.0 CEST  15450500         5127  SENTENCE, REASON   \n",
       "1   2013-12-04 17:23:33.0 CET  15150000         1006  SENTENCE, REASON   \n",
       "\n",
       "                                             excerpt  \\\n",
       "0  Sygn. akt. XVII Amr 14/94 WYROK W IMIENIU RZEC...   \n",
       "1  Sygn. akt : II AKa 31/98 WYROK W IMIENIU RZECZ...   \n",
       "\n",
       "                                             content  ...  \\\n",
       "0  <?xml version='1.0' encoding='UTF-8'?>\\n<xPart...  ...   \n",
       "1  <?xml version='1.0' encoding='UTF-8'?>\\n<xPart...  ...   \n",
       "\n",
       "                                          legalBases      publisher  \\\n",
       "0  {'legalBasis': ['art. 6 ust. 1 pkt 1 ustawy oc...   Beata Gonera   \n",
       "1  {'legalBasis': 'art. 1 ustawy o ochronie obrot...  Renata Kopiec   \n",
       "\n",
       "        recorder                                         references  \\\n",
       "0           None  {'reference': ['Ustawa z dnia 17 listopada 196...   \n",
       "1  Barbara Gawor  {'reference': ['Ustawa z dnia 12 października ...   \n",
       "\n",
       "               reviser                                       themePhrases  \\\n",
       "0         Beata Gonera  {'themePhrase': ['Praktyki ograniczające konku...   \n",
       "1  Magdalena Gierszner  {'themePhrase': 'Przestępstwo Przeciwko Obroto...   \n",
       "\n",
       "  num_pages                                               text vol_number  \\\n",
       "0         7  Sygn. akt. XVII Amr 14/94\\n\\nWYROK\\nW IMIENIU ...         14   \n",
       "1        13  Sygn. akt : II AKa 31/98\\n\\nWYROK\\nW IMIENIU R...         31   \n",
       "\n",
       "                vol_type  \n",
       "0  15/450500/0005127/AmA  \n",
       "1  15/150000/0001006/AKa  \n",
       "\n",
       "[2 rows x 24 columns]"
      ]
     },
     "execution_count": null,
     "metadata": {},
     "output_type": "execute_result"
    }
   ],
   "source": [
    "# | eval: false\n",
    "df.head(2)"
   ]
  },
  {
   "cell_type": "code",
   "execution_count": null,
   "metadata": {},
   "outputs": [],
   "source": [
    "# | eval: false\n",
    "judgements_retrieved_informations = chain.batch(\n",
    "    [\n",
    "        {\"LANGUAGE\": LANGUAGE, \"TEXT\": judgement[\"text\"], \"SCHEMA\": EXAMPLE_SCHEMA}\n",
    "        for judgement in judgements\n",
    "    ]\n",
    ")"
   ]
  },
  {
   "cell_type": "code",
   "execution_count": null,
   "metadata": {},
   "outputs": [
    {
     "name": "stderr",
     "output_type": "stream",
     "text": [
      "Adding columns to DataFrame:   0%|          | 0/12 [00:00<?, ?it/s]"
     ]
    },
    {
     "name": "stderr",
     "output_type": "stream",
     "text": [
      "Adding columns to DataFrame: 100%|██████████| 12/12 [00:00<00:00, 3055.03it/s]\n"
     ]
    }
   ],
   "source": [
    "# | eval: false\n",
    "\n",
    "# add list of retrieved informations to each judgement to the data frame df but treat each key in dict as a new column\n",
    "from tqdm import tqdm\n",
    "\n",
    "for key in tqdm(judgements_retrieved_informations[0].keys(), desc=\"Adding columns to DataFrame\"):\n",
    "    df[key] = [judgement[key] for judgement in judgements_retrieved_informations]"
   ]
  },
  {
   "cell_type": "code",
   "execution_count": null,
   "metadata": {},
   "outputs": [
    {
     "data": {
      "text/html": [
       "<div>\n",
       "<style scoped>\n",
       "    .dataframe tbody tr th:only-of-type {\n",
       "        vertical-align: middle;\n",
       "    }\n",
       "\n",
       "    .dataframe tbody tr th {\n",
       "        vertical-align: top;\n",
       "    }\n",
       "\n",
       "    .dataframe thead th {\n",
       "        text-align: right;\n",
       "    }\n",
       "</style>\n",
       "<table border=\"1\" class=\"dataframe\">\n",
       "  <thead>\n",
       "    <tr style=\"text-align: right;\">\n",
       "      <th></th>\n",
       "      <th>_id</th>\n",
       "      <th>signature</th>\n",
       "      <th>date</th>\n",
       "      <th>publicationDate</th>\n",
       "      <th>lastUpdate</th>\n",
       "      <th>courtId</th>\n",
       "      <th>departmentId</th>\n",
       "      <th>type</th>\n",
       "      <th>excerpt</th>\n",
       "      <th>content</th>\n",
       "      <th>...</th>\n",
       "      <th>verdict_summary</th>\n",
       "      <th>verdict_id</th>\n",
       "      <th>court</th>\n",
       "      <th>parties</th>\n",
       "      <th>appeal_against</th>\n",
       "      <th>first_trial</th>\n",
       "      <th>drug_offence</th>\n",
       "      <th>child_offence</th>\n",
       "      <th>offence_seriousness</th>\n",
       "      <th>verdict_tags</th>\n",
       "    </tr>\n",
       "  </thead>\n",
       "  <tbody>\n",
       "    <tr>\n",
       "      <th>0</th>\n",
       "      <td>154505000005127_XVII_AmA_000014_1994_Uz_1994-0...</td>\n",
       "      <td>XVII AmA 14/94</td>\n",
       "      <td>1994-07-20 02:00:00.0 CEST</td>\n",
       "      <td>2018-06-13 22:10:05.0 CEST</td>\n",
       "      <td>2018-06-13 16:22:22.0 CEST</td>\n",
       "      <td>15450500</td>\n",
       "      <td>5127</td>\n",
       "      <td>SENTENCE, REASON</td>\n",
       "      <td>Sygn. akt. XVII Amr 14/94 WYROK W IMIENIU RZEC...</td>\n",
       "      <td>&lt;?xml version='1.0' encoding='UTF-8'?&gt;\\n&lt;xPart...</td>\n",
       "      <td>...</td>\n",
       "      <td>Sąd Antymonopolowy oddalił odwołania wniesione...</td>\n",
       "      <td>XVII Amr 14/94</td>\n",
       "      <td>Sąd Wojewódzki w Warszawie - Sąd Antymonopolowy</td>\n",
       "      <td>A. M., B. U., Sklep (...) we W., Przedsiębiors...</td>\n",
       "      <td>decyzji Urzędu Antymonopolowego Delegatury we ...</td>\n",
       "      <td>False</td>\n",
       "      <td>False</td>\n",
       "      <td>False</td>\n",
       "      <td>False</td>\n",
       "      <td>[praktyki monopolistyczne, umowy najmu, przeta...</td>\n",
       "    </tr>\n",
       "    <tr>\n",
       "      <th>1</th>\n",
       "      <td>151500000001006_II_AKa_000031_1998_Uz_2013-02-...</td>\n",
       "      <td>II AKa 31/98</td>\n",
       "      <td>1998-03-26 01:00:00.0 CET</td>\n",
       "      <td>2013-02-08 02:01:01.0 CET</td>\n",
       "      <td>2013-12-04 17:23:33.0 CET</td>\n",
       "      <td>15150000</td>\n",
       "      <td>1006</td>\n",
       "      <td>SENTENCE, REASON</td>\n",
       "      <td>Sygn. akt : II AKa 31/98 WYROK W IMIENIU RZECZ...</td>\n",
       "      <td>&lt;?xml version='1.0' encoding='UTF-8'?&gt;\\n&lt;xPart...</td>\n",
       "      <td>...</td>\n",
       "      <td>Sąd Apelacyjny w Katowicach uniewinnił oskarżo...</td>\n",
       "      <td>II AKa 31/98</td>\n",
       "      <td>Sąd Apelacyjny w Katowicach</td>\n",
       "      <td>J. K., W. P., B. K.</td>\n",
       "      <td>wyrok Sądu Wojewódzkiego w Bielsku-Białej z dn...</td>\n",
       "      <td>False</td>\n",
       "      <td>False</td>\n",
       "      <td>False</td>\n",
       "      <td>True</td>\n",
       "      <td>[uniewinnienie, nadużycie zaufania, szkoda maj...</td>\n",
       "    </tr>\n",
       "  </tbody>\n",
       "</table>\n",
       "<p>2 rows × 36 columns</p>\n",
       "</div>"
      ],
      "text/plain": [
       "                                                 _id       signature  \\\n",
       "0  154505000005127_XVII_AmA_000014_1994_Uz_1994-0...  XVII AmA 14/94   \n",
       "1  151500000001006_II_AKa_000031_1998_Uz_2013-02-...    II AKa 31/98   \n",
       "\n",
       "                         date             publicationDate  \\\n",
       "0  1994-07-20 02:00:00.0 CEST  2018-06-13 22:10:05.0 CEST   \n",
       "1   1998-03-26 01:00:00.0 CET   2013-02-08 02:01:01.0 CET   \n",
       "\n",
       "                   lastUpdate   courtId departmentId              type  \\\n",
       "0  2018-06-13 16:22:22.0 CEST  15450500         5127  SENTENCE, REASON   \n",
       "1   2013-12-04 17:23:33.0 CET  15150000         1006  SENTENCE, REASON   \n",
       "\n",
       "                                             excerpt  \\\n",
       "0  Sygn. akt. XVII Amr 14/94 WYROK W IMIENIU RZEC...   \n",
       "1  Sygn. akt : II AKa 31/98 WYROK W IMIENIU RZECZ...   \n",
       "\n",
       "                                             content  ...  \\\n",
       "0  <?xml version='1.0' encoding='UTF-8'?>\\n<xPart...  ...   \n",
       "1  <?xml version='1.0' encoding='UTF-8'?>\\n<xPart...  ...   \n",
       "\n",
       "                                     verdict_summary      verdict_id  \\\n",
       "0  Sąd Antymonopolowy oddalił odwołania wniesione...  XVII Amr 14/94   \n",
       "1  Sąd Apelacyjny w Katowicach uniewinnił oskarżo...    II AKa 31/98   \n",
       "\n",
       "                                             court  \\\n",
       "0  Sąd Wojewódzki w Warszawie - Sąd Antymonopolowy   \n",
       "1                      Sąd Apelacyjny w Katowicach   \n",
       "\n",
       "                                             parties  \\\n",
       "0  A. M., B. U., Sklep (...) we W., Przedsiębiors...   \n",
       "1                                J. K., W. P., B. K.   \n",
       "\n",
       "                                      appeal_against first_trial drug_offence  \\\n",
       "0  decyzji Urzędu Antymonopolowego Delegatury we ...       False        False   \n",
       "1  wyrok Sądu Wojewódzkiego w Bielsku-Białej z dn...       False        False   \n",
       "\n",
       "  child_offence offence_seriousness  \\\n",
       "0         False               False   \n",
       "1         False                True   \n",
       "\n",
       "                                        verdict_tags  \n",
       "0  [praktyki monopolistyczne, umowy najmu, przeta...  \n",
       "1  [uniewinnienie, nadużycie zaufania, szkoda maj...  \n",
       "\n",
       "[2 rows x 36 columns]"
      ]
     },
     "execution_count": null,
     "metadata": {},
     "output_type": "execute_result"
    }
   ],
   "source": [
    "# | eval: false\n",
    "df.head(2)"
   ]
  },
  {
   "cell_type": "code",
   "execution_count": null,
   "metadata": {},
   "outputs": [],
   "source": [
    "# | eval: false\n",
    "df.to_csv(SAMPLE_DATA_PATH / \"judgements-100-sample-with-retrieved-informations.csv\")"
   ]
  }
 ],
 "metadata": {
  "kernelspec": {
   "display_name": "python3",
   "language": "python",
   "name": "python3"
  }
 },
 "nbformat": 4,
 "nbformat_minor": 2
}
