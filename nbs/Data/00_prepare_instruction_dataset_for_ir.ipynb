{
 "cells": [
  {
   "cell_type": "markdown",
   "metadata": {},
   "source": [
    "# Schema-based information retrieval from judgements\n"
   ]
  },
  {
   "cell_type": "code",
   "execution_count": null,
   "metadata": {},
   "outputs": [],
   "source": [
    "# | eval: false\n",
    "%load_ext autoreload\n",
    "%autoreload 2"
   ]
  },
  {
   "cell_type": "code",
   "execution_count": null,
   "metadata": {},
   "outputs": [],
   "source": [
    "# | eval: false\n",
    "from juddges.prompts.information_extraction import prepare_information_extraction_chain, SCHEMA\n",
    "from juddges.settings import prepare_langchain_cache"
   ]
  },
  {
   "cell_type": "code",
   "execution_count": null,
   "metadata": {},
   "outputs": [],
   "source": [
    "# | eval: false\n",
    "from juddges.data.pl_court_api import PolishCourtAPI"
   ]
  },
  {
   "cell_type": "code",
   "execution_count": null,
   "metadata": {},
   "outputs": [],
   "source": [
    "# | eval: false\n",
    "api = PolishCourtAPI()"
   ]
  },
  {
   "cell_type": "code",
   "execution_count": null,
   "metadata": {},
   "outputs": [],
   "source": [
    "# | eval: false\n",
    "judgement = api.get_content(id=\"155000000001006_II_AKa_000334_2019_Uz_2020-02-06_001\")"
   ]
  },
  {
   "cell_type": "code",
   "execution_count": null,
   "metadata": {},
   "outputs": [
    {
     "data": {
      "text/plain": [
       "'<?xml version=\\'1.0\\' encoding=\\'UTF-8\\'?>\\n<xPart xPublisherFullName=\"Anna Turek\" xPublisher=\"anna.turek\" xEditorFullName=\"Wiktoria Dąbrowicz\" xEditor=\"wiktoria.dabrowicz\" xVersion=\"1.0\" xLang=\"PL\" xFromPg=\"1\" xToPage=\"2\" xFlag=\"published\" xVolType=\"15/500000/0001006/AKa\" xYear=\"2019\" xVolNmbr=\"000334\" xDocType=\"Uz\" xml:space=\"preserve\">\\n  <xName>Wyrok</xName>\\n  <xBlock>\\n    <xText xALIGNx=\"left\">\\n      <xBx>Sygn. akt II AKa 334/19</xBx></xText>\\n    <xText/>\\n    <xUnit xBold=\"true\" xIsTitle=\"true\" xType=\"part\">\\n      <xName>WYROK</xName>\\n      <xTitle>W IMIENIU RZECZYPOSPOLITEJ POLSKIEJ</xTitle>\\n      <xText xALIGNx=\"right\">Dnia 6 lutego 2020 r.</xText>\\n      <xText><xBx>Sąd Apelacyjny we Wrocławiu II Wydział Karny w składzie:</xBx></xText>\\n      <xText>Przewodniczący: sędzia SA Cezariusz Baćkowski</xText>\\n      <xText>Sędziowie: SA Piotr Kaczmarek (spr.)</xText>\\n      <xText>SA Robert Zdych</xText>\\n      <xText>Protokolant: Wiktoria Dąbrowicz</xText>\\n      <xText><xBx>przy udziale prokuratora Prokuratury <xAnon> (...)</xAnon> we <xAnon>W.</xAnon> Zbigniewa Jaworskiego</xBx></xText>\\n      <xText><xBx>po rozpoznaniu w dniu 20 grudnia 2019 r., 31 stycznia 2020 r. i 6 lutego 2020 r.</xBx></xText>\\n      <xText><xBx>sprawy:<xBRx/><xAnon>A. D.</xAnon> (<xAnon>D.</xAnon>)</xBx></xText>\\n      <xText><xBx>oskarżonego z <xLexLink xArt=\"art. 258;art. 258 § 1\" xIsapId=\"WDU19970880553\" xTitle=\"Ustawa z dnia 6 czerwca 1997 r. - Kodeks karny\" xAddress=\"Dz. U. z 1997 r. Nr 88, poz. 553\">art. 258 § 1 k.k.</xLexLink>, z <xLexLink xArt=\"art. 55;art. 55 ust. 3\" xIsapId=\"WDU20051791485\" xTitle=\"Ustawa z dnia 29 lipca 2005 r. o przeciwdziałaniu narkomanii\" xAddress=\"Dz. U. z 2005 r. Nr 179, poz. 1485\">art. 55 ust. 3 ustawy z dnia 29 lipca 2005 roku o przeciwdziałaniu narkomanii</xLexLink> w zw. z <xLexLink xArt=\"art. 12\" xIsapId=\"WDU19970880553\" xTitle=\"Ustawa z dnia 6 czerwca 1997 r. - Kodeks karny\" xAddress=\"Dz. U. z 1997 r. Nr 88, poz. 553\">art. 12 k.k.</xLexLink> w zw. z <xLexLink xArt=\"art. 65;art. 65 § 1\" xIsapId=\"WDU19970880553\" xTitle=\"Ustawa z dnia 6 czerwca 1997 r. - Kodeks karny\" xAddress=\"Dz. U. z 1997 r. Nr 88, poz. 553\">art. 65 § 1 k.k.</xLexLink>, z <xLexLink xArt=\"art. 56;art. 56 ust. 3\" xIsapId=\"WDU20051791485\" xTitle=\"Ustawa z dnia 29 lipca 2005 r. o przeciwdziałaniu narkomanii\" xAddress=\"Dz. U. z 2005 r. Nr 179, poz. 1485\">art. 56 ust. 3 ustawy z dnia 29 lipca 2005 roku o przeciwdziałaniu narkomanii</xLexLink> w zw. z <xLexLink xArt=\"art. 12\" xIsapId=\"WDU19970880553\" xTitle=\"Ustawa z dnia 6 czerwca 1997 r. - Kodeks karny\" xAddress=\"Dz. U. z 1997 r. Nr 88, poz. 553\">art. 12 k.k.</xLexLink> w zw. z <xLexLink xArt=\"art. 65;art. 65 § 1\" xIsapId=\"WDU19970880553\" xTitle=\"Ustawa z dnia 6 czerwca 1997 r. - Kodeks karny\" xAddress=\"Dz. U. z 1997 r. Nr 88, poz. 553\">art. 65 § 1 k.k.</xLexLink>, z <xLexLink xArt=\"art. 18;art. 18 § 3\" xIsapId=\"WDU19970880553\" xTitle=\"Ustawa z dnia 6 czerwca 1997 r. - Kodeks karny\" xAddress=\"Dz. U. z 1997 r. Nr 88, poz. 553\">art. 18 § 3 k.k.</xLexLink> w zw. z <xLexLink xArt=\"art. 299;art. 299 § 1\" xIsapId=\"WDU19970880553\" xTitle=\"Ustawa z dnia 6 czerwca 1997 r. - Kodeks karny\" xAddress=\"Dz. U. z 1997 r. Nr 88, poz. 553\">art. 299 § 1 k.k.</xLexLink> w zw. z <xLexLink xArt=\"art. 12\" xIsapId=\"WDU19970880553\" xTitle=\"Ustawa z dnia 6 czerwca 1997 r. - Kodeks karny\" xAddress=\"Dz. U. z 1997 r. Nr 88, poz. 553\">art. 12 k.k.</xLexLink> w zw. z <xLexLink xArt=\"art. 65;art. 65 § 1\" xIsapId=\"WDU19970880553\" xTitle=\"Ustawa z dnia 6 czerwca 1997 r. - Kodeks karny\" xAddress=\"Dz. U. z 1997 r. Nr 88, poz. 553\">art. 65 § 1 k.k.</xLexLink></xBx></xText>\\n      <xText><xBx><xAnon>R. M.</xAnon> </xBx></xText>\\n      <xText><xBx>oskarżonego z <xLexLink xArt=\"art. 258;art. 258 § 1\" xIsapId=\"WDU19970880553\" xTitle=\"Ustawa z dnia 6 czerwca 1997 r. - Kodeks karny\" xAddress=\"Dz. U. z 1997 r. Nr 88, poz. 553\">art. 258 § 1 k.k.</xLexLink>, z <xLexLink xArt=\"art. 55;art. 55 ust. 3\" xIsapId=\"WDU20051791485\" xTitle=\"Ustawa z dnia 29 lipca 2005 r. o przeciwdziałaniu narkomanii\" xAddress=\"Dz. U. z 2005 r. Nr 179, poz. 1485\">art. 55 ust. 3 ustawy z dnia 29 lipca 2005 roku o przeciwdziałaniu narkomanii</xLexLink> w zw. z <xLexLink xArt=\"art. 12\" xIsapId=\"WDU19970880553\" xTitle=\"Ustawa z dnia 6 czerwca 1997 r. - Kodeks karny\" xAddress=\"Dz. U. z 1997 r. Nr 88, poz. 553\">art. 12 k.k.</xLexLink> w zw. z <xLexLink xArt=\"art. 65;art. 65 § 1\" xIsapId=\"WDU19970880553\" xTitle=\"Ustawa z dnia 6 czerwca 1997 r. - Kodeks karny\" xAddress=\"Dz. U. z 1997 r. Nr 88, poz. 553\">art. 65 § 1 k.k.</xLexLink>, z <xLexLink xArt=\"art. 56;art. 56 ust. 3\" xIsapId=\"WDU20051791485\" xTitle=\"Ustawa z dnia 29 lipca 2005 r. o przeciwdziałaniu narkomanii\" xAddress=\"Dz. U. z 2005 r. Nr 179, poz. 1485\">art. 56 ust. 3 ustawy z dnia 29 lipca 2005 roku o przeciwdziałaniu narkomanii</xLexLink> w zw. z <xLexLink xArt=\"art. 12\" xIsapId=\"WDU19970880553\" xTitle=\"Ustawa z dnia 6 czerwca 1997 r. - Kodeks karny\" xAddress=\"Dz. U. z 1997 r. Nr 88, poz. 553\">art. 12 k.k.</xLexLink> w zw. z <xLexLink xArt=\"art. 65;art. 65 § 1\" xIsapId=\"WDU19970880553\" xTitle=\"Ustawa z dnia 6 czerwca 1997 r. - Kodeks karny\" xAddress=\"Dz. U. z 1997 r. Nr 88, poz. 553\">art. 65 § 1 k.k.</xLexLink>, z <xLexLink xArt=\"art. 299;art. 299 § 1\" xIsapId=\"WDU19970880553\" xTitle=\"Ustawa z dnia 6 czerwca 1997 r. - Kodeks karny\" xAddress=\"Dz. U. z 1997 r. Nr 88, poz. 553\">art. 299 § 1 k.k.</xLexLink> w zw. z <xLexLink xArt=\"art. 12\" xIsapId=\"WDU19970880553\" xTitle=\"Ustawa z dnia 6 czerwca 1997 r. - Kodeks karny\" xAddress=\"Dz. U. z 1997 r. Nr 88, poz. 553\">art. 12 k.k.</xLexLink> w zw. z <xLexLink xArt=\"art. 65;art. 65 § 1\" xIsapId=\"WDU19970880553\" xTitle=\"Ustawa z dnia 6 czerwca 1997 r. - Kodeks karny\" xAddress=\"Dz. U. z 1997 r. Nr 88, poz. 553\">art. 65 § 1 k.k.</xLexLink></xBx></xText>\\n      <xText><xBx><xAnon>E. L.</xAnon> (<xAnon>L.</xAnon>)</xBx></xText>\\n      <xText><xBx>oskarżonej z <xLexLink xArt=\"art. 299;art. 299 § 1\" xIsapId=\"WDU19970880553\" xTitle=\"Ustawa z dnia 6 czerwca 1997 r. - Kodeks karny\" xAddress=\"Dz. U. z 1997 r. Nr 88, poz. 553\">art. 299 § 1 k.k.</xLexLink> w zw. z <xLexLink xArt=\"art. 12\" xIsapId=\"WDU19970880553\" xTitle=\"Ustawa z dnia 6 czerwca 1997 r. - Kodeks karny\" xAddress=\"Dz. U. z 1997 r. Nr 88, poz. 553\">art. 12 k.k.</xLexLink> </xBx></xText>\\n      <xText><xBx><xAnon>R. P.</xAnon> </xBx></xText>\\n      <xText><xBx>oskarżonego z <xLexLink xArt=\"art. 56;art. 56 ust. 3\" xIsapId=\"WDU20051791485\" xTitle=\"Ustawa z dnia 29 lipca 2005 r. o przeciwdziałaniu narkomanii\" xAddress=\"Dz. U. z 2005 r. Nr 179, poz. 1485\">art. 56 ust. 3 ustawy z dnia 29 lipca 2005 roku o przeciwdziałaniu narkomanii</xLexLink> </xBx></xText>\\n      <xText>\\n  <xBx>\\n    \\n    \\n    \\n    \\n    \\n    \\n    \\n    <xAnon>L. L.</xAnon> (<xAnon>L.</xAnon>)</xBx>\\n</xText>\\n      <xText><xBx>oskarżonego z <xLexLink xArt=\"art. 258;art. 258 § 1\" xIsapId=\"WDU19970880553\" xTitle=\"Ustawa z dnia 6 czerwca 1997 r. - Kodeks karny\" xAddress=\"Dz. U. z 1997 r. Nr 88, poz. 553\">art. 258 § 1 k.k.</xLexLink>, z <xLexLink xArt=\"art. 18;art. 18 § 1\" xIsapId=\"WDU19970880553\" xTitle=\"Ustawa z dnia 6 czerwca 1997 r. - Kodeks karny\" xAddress=\"Dz. U. z 1997 r. Nr 88, poz. 553\">art. 18 § 1 k.k.</xLexLink> w zw. z <xLexLink xArt=\"art. 55;art. 55 ust. 3\" xIsapId=\"WDU20051791485\" xTitle=\"Ustawa z dnia 29 lipca 2005 r. o przeciwdziałaniu narkomanii\" xAddress=\"Dz. U. z 2005 r. Nr 179, poz. 1485\">art. 55 ust. 3 ustawy z dnia 29 lipca 2005 roku o przeciwdziałaniu narkomanii</xLexLink> w zw. z <xLexLink xArt=\"art. 12\" xIsapId=\"WDU19970880553\" xTitle=\"Ustawa z dnia 6 czerwca 1997 r. - Kodeks karny\" xAddress=\"Dz. U. z 1997 r. Nr 88, poz. 553\">art. 12 k.k.</xLexLink> w zw. z <xLexLink xArt=\"art. 65;art. 65 § 1\" xIsapId=\"WDU19970880553\" xTitle=\"Ustawa z dnia 6 czerwca 1997 r. - Kodeks karny\" xAddress=\"Dz. U. z 1997 r. Nr 88, poz. 553\">art. 65 § 1 k.k.</xLexLink> w zw. z <xLexLink xArt=\"art. 64;art. 64 § 1\" xIsapId=\"WDU19970880553\" xTitle=\"Ustawa z dnia 6 czerwca 1997 r. - Kodeks karny\" xAddress=\"Dz. U. z 1997 r. Nr 88, poz. 553\">art. 64 § 1 k.k.</xLexLink>, z <xLexLink xArt=\"art. 18;art. 18 § 1\" xIsapId=\"WDU19970880553\" xTitle=\"Ustawa z dnia 6 czerwca 1997 r. - Kodeks karny\" xAddress=\"Dz. U. z 1997 r. Nr 88, poz. 553\">art. 18 § 1 k.k.</xLexLink> w zw. z <xLexLink xArt=\"art. 56;art. 56 ust. 3\" xIsapId=\"WDU20051791485\" xTitle=\"Ustawa z dnia 29 lipca 2005 r. o przeciwdziałaniu narkomanii\" xAddress=\"Dz. U. z 2005 r. Nr 179, poz. 1485\">art. 56 ust. 3 ustawy z dnia 29 lipca 2005 roku o przeciwdziałaniu narkomanii</xLexLink> w zw. z <xLexLink xArt=\"art. 12\" xIsapId=\"WDU19970880553\" xTitle=\"Ustawa z dnia 6 czerwca 1997 r. - Kodeks karny\" xAddress=\"Dz. U. z 1997 r. Nr 88, poz. 553\">art. 12 k.k.</xLexLink> w zw. z <xLexLink xArt=\"art. 65;art. 65 § 1\" xIsapId=\"WDU19970880553\" xTitle=\"Ustawa z dnia 6 czerwca 1997 r. - Kodeks karny\" xAddress=\"Dz. U. z 1997 r. Nr 88, poz. 553\">art. 65 § 1 k.k.</xLexLink> w zw. z <xLexLink xArt=\"art. 64;art. 64 § 1\" xIsapId=\"WDU19970880553\" xTitle=\"Ustawa z dnia 6 czerwca 1997 r. - Kodeks karny\" xAddress=\"Dz. U. z 1997 r. Nr 88, poz. 553\">art. 64 § 1 k.k.</xLexLink>, z <xLexLink xArt=\"art. 18;art. 18 § 1\" xIsapId=\"WDU19970880553\" xTitle=\"Ustawa z dnia 6 czerwca 1997 r. - Kodeks karny\" xAddress=\"Dz. U. z 1997 r. Nr 88, poz. 553\">art. 18 § 1 k.k.</xLexLink> w zw. z <xLexLink xArt=\"art. 299;art. 299 § 1\" xIsapId=\"WDU19970880553\" xTitle=\"Ustawa z dnia 6 czerwca 1997 r. - Kodeks karny\" xAddress=\"Dz. U. z 1997 r. Nr 88, poz. 553\">art. 299 § 1 k.k.</xLexLink> w zw. z <xLexLink xArt=\"art. 12\" xIsapId=\"WDU19970880553\" xTitle=\"Ustawa z dnia 6 czerwca 1997 r. - Kodeks karny\" xAddress=\"Dz. U. z 1997 r. Nr 88, poz. 553\">art. 12 k.k.</xLexLink> w zw. z <xLexLink xArt=\"art. 65;art. 65 § 1\" xIsapId=\"WDU19970880553\" xTitle=\"Ustawa z dnia 6 czerwca 1997 r. - Kodeks karny\" xAddress=\"Dz. U. z 1997 r. Nr 88, poz. 553\">art. 65 § 1 k.k.</xLexLink></xBx></xText>\\n      <xText><xBx>na skutek apelacji wniesionej przez oskarżonych</xBx></xText>\\n      <xText><xBx>od wyroku Sądu Okręgowego w Świdnicy </xBx></xText>\\n      <xText><xBx>z dnia 5 kwietnia 2019 r., sygn. akt III K 52/17</xBx></xText>\\n      <xUnit xIsTitle=\"false\" xType=\"none\">\\n        <xName xSffx=\".\">I</xName>\\n        <xText><xBx>zmienia zaskarżony wyrok: </xBx></xText>\\n      </xUnit>\\n      <xUnit xIsTitle=\"false\" xType=\"none\">\\n        <xName xSffx=\".\">1</xName>\\n        <xText><xBx>co do oskarżonego  \\n            <xUx><xAnon>R. M.</xAnon></xUx>\\n            w ten sposób, że:</xBx></xText>\\n      </xUnit>\\n      <xUnit xIsTitle=\"false\" xType=\"none\">\\n        <xName xSffx=\")\">a</xName>\\n        <xText><xBx>uniewinnia oskarżonego od przestępstwa przypisanego w punkcie I, stwierdzając, że utraciło moc orzeczenie o karze łącznej pozbawienia wolności zawarte w punkcie VII,</xBx></xText>\\n      </xUnit>\\n      <xUnit xIsTitle=\"false\" xType=\"none\">\\n        <xName xSffx=\")\">b</xName>\\n        <xText><xBx>w przestępstwach przypisanych w punkcie II i IV pomija ustalenie o działaniu w ramach zorganizowanej grupy przestępczej, w miejsce ustalenia o przekazaniu <xAnon>R. P.</xAnon>, przyjmuje ustalenie o przekazaniu innej osobie oraz w kwalifikacji prawnej pomija <xLexLink xArt=\"art. 65;art. 65 § 1\" xIsapId=\"WDU19970880553\" xTitle=\"Ustawa z dnia 6 czerwca 1997 r. - Kodeks karny\" xAddress=\"Dz. U. z 1997 r. Nr 88, poz. 553\">art. 65 § 1 k.k.</xLexLink>,</xBx></xText>\\n      </xUnit>\\n      <xUnit xIsTitle=\"false\" xType=\"none\">\\n        <xName xSffx=\")\">c</xName>\\n        <xText>\\n  <xBx>\\n    \\n    \\n    w przestępstwie przypisanym w punkcie V pomija ustalenie o działaniu w ramach zorganizowanej grupy przestępczej, w miejsce ustalenia o przekazaniu <xAnon>E. L.</xAnon> przyjmuje przekazanie innej osobie, w miejsce ustalenia o działaniu wspólnie i w porozumieniu z <xAnon>L. L.</xAnon> przyjmuje ustalenie o działaniu wspólnie i w porozumieniu z inną osobą oraz w kwalifikacji prawnej pomija <xLexLink xArt=\"art. 65;art. 65 § 1\" xIsapId=\"WDU19970880553\" xTitle=\"Ustawa z dnia 6 czerwca 1997 r. - Kodeks karny\" xAddress=\"Dz. U. z 1997 r. Nr 88, poz. 553\">art. 65 § 1 k.k.</xLexLink> ,</xBx>\\n</xText>\\n      </xUnit>\\n      <xUnit xIsTitle=\"false\" xType=\"none\">\\n        <xName xSffx=\")\">d</xName>\\n        <xText><xBx>uchyla orzeczenie o przepadku równowartości części korzyści zawarte w punkcie VI;</xBx></xText>\\n      </xUnit>\\n      <xUnit xIsTitle=\"false\" xType=\"none\">\\n        <xName xSffx=\".\">2</xName>\\n        <xText><xBx>co do oskarżonego  \\n            <xUx><xAnon>A. D.</xAnon></xUx>\\n            w ten sposób, że:</xBx></xText>\\n      </xUnit>\\n      <xUnit xIsTitle=\"false\" xType=\"none\">\\n        <xName xSffx=\")\">a</xName>\\n        <xText><xBx>uniewinnia oskarżonego od przestępstwa przypisanego w punkcie VIII, stwierdzając, że utraciło moc orzeczenie o karze łącznej pozbawienia wolności zawarte w punkcie XIV,</xBx></xText>\\n      </xUnit>\\n      <xUnit xIsTitle=\"false\" xType=\"none\">\\n        <xName xSffx=\")\">b</xName>\\n        <xText><xBx>w przestępstwach przypisanych w punkcie IX i XI pomija ustalenie o działaniu w ramach zorganizowanej grupy przestępczej, w miejsce ustalenia o przekazaniu <xAnon>R. P.</xAnon>, przyjmuje ustalenie o przekazaniu innej osobie oraz w kwalifikacji prawnej pomija <xLexLink xArt=\"art. 65;art. 65 § 1\" xIsapId=\"WDU19970880553\" xTitle=\"Ustawa z dnia 6 czerwca 1997 r. - Kodeks karny\" xAddress=\"Dz. U. z 1997 r. Nr 88, poz. 553\">art. 65 § 1 k.k.</xLexLink>,</xBx></xText>\\n      </xUnit>\\n      <xUnit xIsTitle=\"false\" xType=\"none\">\\n        <xName xSffx=\")\">c</xName>\\n        <xText><xBx>uniewinnia oskarżonego od przestępstwa przypisanego w punkcie XII, stwierdzając, że straciło moc orzeczenie o przepadku równowartości części korzyści zawarte w punkcie XIV;</xBx></xText>\\n      </xUnit>\\n      <xUnit xIsTitle=\"false\" xType=\"none\">\\n        <xName xSffx=\".\">3</xName>\\n        <xText><xBx>co do oskarżonego  \\n            <xUx><xAnon>R. P.</xAnon></xUx>\\n            w ten sposób, że uniewinnia oskarżonego od przestępstwa przypisanego w punkcie XV;</xBx></xText>\\n      </xUnit>\\n      <xUnit xIsTitle=\"false\" xType=\"none\">\\n        <xName xSffx=\".\">4</xName>\\n        <xText><xBx>co do oskarżonej  \\n            <xUx><xAnon>E. L.</xAnon></xUx>\\n            w ten sposób, że uniewinnia oskarżoną od przestępstwa przypisanego w punkcie XVII</xBx></xText>\\n      </xUnit>\\n      <xUnit xIsTitle=\"false\" xType=\"none\">\\n        <xName xSffx=\".\">5</xName>\\n        <xText>\\n  <xBx>\\n    co do oskarżonego  \\n            <xUx>\\n      <xAnon>L. L.</xAnon></xUx>\\n            w ten sposób, że:</xBx>\\n</xText>\\n      </xUnit>\\n      <xUnit xIsTitle=\"false\" xType=\"none\">\\n        <xName xSffx=\")\">a</xName>\\n        <xText><xBx>uniewinnia oskarżonego od przestępstwa przypisanego w punkcie XIX, stwierdzając, że utraciło moc orzeczenie o karze łącznej pozbawienia wolności zawarte w punkcie XXV,</xBx></xText>\\n      </xUnit>\\n      <xUnit xIsTitle=\"false\" xType=\"none\">\\n        <xName xSffx=\")\">b</xName>\\n        <xText><xBx>w przestępstwach przypisanych w punkcie XX i XXII pomija ustalenie o działaniu w ramach zorganizowanej grupy przestępczej, w miejsce ustalenia o ustalaniu terminów i okoliczności odbioru przez <xAnon>R. P.</xAnon>, przyjmuje ustalenie o ustalaniu terminów i okoliczności odbioru przez inną osobę oraz w kwalifikacji prawnej pomija <xLexLink xArt=\"art. 65;art. 65 § 1\" xIsapId=\"WDU19970880553\" xTitle=\"Ustawa z dnia 6 czerwca 1997 r. - Kodeks karny\" xAddress=\"Dz. U. z 1997 r. Nr 88, poz. 553\">art. 65 § 1 k.k.</xLexLink>,</xBx></xText>\\n      </xUnit>\\n      <xUnit xIsTitle=\"false\" xType=\"none\">\\n        <xName xSffx=\")\">c</xName>\\n        <xText><xBx>uniewinnia oskarżonego od przestępstwa przypisanego w punkcie XXIII, stwierdzając, że straciło moc orzeczenie o przepadku równowartości części korzyści zawarte w punkcie XXIV,</xBx></xText>\\n      </xUnit>\\n      <xUnit xIsTitle=\"false\" xType=\"none\">\\n        <xName xSffx=\".\">II</xName>\\n        <xText>\\n  <xBx>\\n    w pozostałym zakresie zaskarżony wyrok co do oskarżonych <xAnon>R. M.</xAnon>, <xAnon>A. D.</xAnon> i <xAnon>L. L.</xAnon> utrzymuje w mocy;</xBx>\\n</xText>\\n      </xUnit>\\n      <xUnit xIsTitle=\"false\" xType=\"none\">\\n        <xName xSffx=\".\">III</xName>\\n        <xText><xBx>na podstawie <xLexLink xArt=\"art. 85;art. 85 § 1\" xIsapId=\"WDU19970880553\" xTitle=\"Ustawa z dnia 6 czerwca 1997 r. - Kodeks karny\" xAddress=\"Dz. U. z 1997 r. Nr 88, poz. 553\">art. 85 § 1 k.k.</xLexLink> i <xLexLink xArt=\"art. 86;art. 86 § 1\" xIsapId=\"WDU19970880553\" xTitle=\"Ustawa z dnia 6 czerwca 1997 r. - Kodeks karny\" xAddress=\"Dz. U. z 1997 r. Nr 88, poz. 553\">art. 86 § 1 k.k.</xLexLink> łączy kary pozbawienia wolności wymierzone oskarżonym:</xBx></xText>\\n      </xUnit>\\n      <xText><xBx>- <xAnon>R. M.</xAnon> w punkcie II i IV i wymierza karę łączną 4 (czterech) lat i 6 (sześciu) miesięcy pozbawienia wolności,</xBx></xText>\\n      <xText><xBx>- <xAnon>A. D.</xAnon> w punkcie IX i XI i wymierza karę łączną 4 (czterech) lat pozbawienia wolności,</xBx></xText>\\n      <xText>\\n  <xBx>\\n    - <xAnon>L. L.</xAnon> w punkcie XX i XXII i wymierza karę łączną 5 (pięciu) lat i 6 (sześciu) miesięcy pozbawienia wolności;</xBx>\\n</xText>\\n      <xUnit xIsTitle=\"false\" xType=\"none\">\\n        <xName xSffx=\".\">IV</xName>\\n        <xText><xBx>na podstawie <xLexLink xArt=\"art. 63;art. 63 § 1\" xIsapId=\"WDU19970880553\" xTitle=\"Ustawa z dnia 6 czerwca 1997 r. - Kodeks karny\" xAddress=\"Dz. U. z 1997 r. Nr 88, poz. 553\">art. 63 § 1 k.k.</xLexLink> na poczet orzeczonych kar pozbawienia wolności zalicza:</xBx></xText>\\n      </xUnit>\\n      <xText><xBx>- oskarżonemu <xAnon>R. M.</xAnon> okresy zatrzymania od 1 grudnia 2015 roku do 3 grudnia 2015 roku oraz od 25 stycznia 2017 roku do 26 stycznia 2017 roku;</xBx></xText>\\n      <xText><xBx>- oskarżonemu <xAnon>A. D.</xAnon> okresy zatrzymania i tymczasowego aresztowania od 20 czerwca 2015 roku do 12 listopada 2015 roku oraz od 25 stycznia 2017 roku do 26 stycznia 2017 roku;</xBx></xText>\\n      <xText>\\n  <xBx>\\n    - oskarżonemu <xAnon>L. L.</xAnon> okres tymczasowego aresztowania w sprawie od 26 stycznia 2019 roku do 5 kwietnia 2019 roku;</xBx>\\n</xText>\\n      <xUnit xIsTitle=\"false\" xType=\"none\">\\n        <xName xSffx=\".\">V</xName>\\n        <xText><xBx>wydatkami związanymi z postępowaniem, w części której nastąpiło uniewinnienie obciąża Skarb Państwa, w pozostałym zakresie zwalniając oskarżonych od kosztów za postępowanie odwoławcze.</xBx></xText>\\n      </xUnit>\\n      <xRows>\\n        <xCOLGROUPx>\\n          <xCOLx xWIDTHx=\"240\"/>\\n          <xCOLx xWIDTHx=\"239\"/>\\n          <xCOLx xWIDTHx=\"237\"/>\\n        </xCOLGROUPx>\\n        <xRow>\\n          <xClmn xALIGNx=\"left\">\\n            <xText xALIGNx=\"center\">Piotr Kaczmarek</xText>\\n          </xClmn>\\n          <xClmn xALIGNx=\"left\">\\n            <xText xALIGNx=\"center\">Cezariusz Baćkowski</xText>\\n          </xClmn>\\n          <xClmn xALIGNx=\"left\">\\n            <xText xALIGNx=\"center\">Robert Zdych</xText>\\n          </xClmn>\\n        </xRow>\\n      </xRows>\\n    </xUnit>\\n  </xBlock>\\n</xPart>\\n'"
      ]
     },
     "execution_count": null,
     "metadata": {},
     "output_type": "execute_result"
    }
   ],
   "source": [
    "# | eval: false\n",
    "judgement"
   ]
  },
  {
   "cell_type": "code",
   "execution_count": null,
   "metadata": {},
   "outputs": [],
   "source": [
    "# | eval: false\n",
    "prepare_langchain_cache()"
   ]
  },
  {
   "cell_type": "code",
   "execution_count": null,
   "metadata": {},
   "outputs": [
    {
     "name": "stdout",
     "output_type": "stream",
     "text": [
      "\n",
      "defendant_gender: string\n",
      "defendant_age: integer\n",
      "defendant_relationship_status: string\n",
      "defendant_has_children: boolean\n",
      "defendant_homeless: boolean\n",
      "appellant: string\n",
      "appeal_against: string\n",
      "defendant_plead_or_convicted: string \"guilty plea\" or \"convicted at trial\"\n",
      "jury_unanimous: string \"unanimous\" or \"other\"\n",
      "first_trial: boolean\n",
      "drug_offence: boolean\n",
      "original_sentence: string\n",
      "tried_court_type: string \"Crown\" or \"magistrates'\"\n",
      "single_transaction_multiple_offence: boolean\n",
      "multiple_transactions_period: string \"within 1 year\" or \"more than 1 year\"\n",
      "concurrent_or_consecutive_sentence: string \"concurrently\" or \"consecutively\"\n",
      "sentence_on_top_existing: boolean\n",
      "sentence_adding_up: boolean\n",
      "sentence_leniency: string \"unduly lenient\" or \"too excessive\"\n",
      "guilty_plea_reduction_reason: string\n",
      "sentence_discount_mention: boolean\n",
      "totality_issues_similar_offences: boolean\n",
      "sentence_proportionality_mention: boolean\n",
      "sentence_type_issues_totality: boolean\n",
      "sentence_adjustment_mention: boolean\n",
      "offender_culpability_determination: boolean\n",
      "harm_caused_determination: boolean\n",
      "offence_seriousness: boolean\n",
      "aggravating_factors: string list of factors excluding previous convictions\n",
      "previous_convictions_similarity: string \"similar\" or \"dissimilar\"\n",
      "mitigating_factors: string list of factors\n",
      "immediate_sentence_concurrency: boolean\n",
      "totality_conflicting_guidelines: boolean\n",
      "totality_principle_misapplication: boolean\n",
      "\n"
     ]
    }
   ],
   "source": [
    "# | eval: false\n",
    "print(SCHEMA)"
   ]
  },
  {
   "cell_type": "code",
   "execution_count": null,
   "metadata": {},
   "outputs": [
    {
     "name": "stderr",
     "output_type": "stream",
     "text": [
      "/opt/conda/lib/python3.10/site-packages/langchain_core/_api/deprecation.py:117: LangChainDeprecationWarning: The class `langchain_community.chat_models.openai.ChatOpenAI` was deprecated in langchain-community 0.0.10 and will be removed in 0.2.0. An updated version of the class exists in the langchain-openai package and should be used instead. To use it run `pip install -U langchain-openai` and import as `from langchain_openai import ChatOpenAI`.\n",
      "  warn_deprecated(\n"
     ]
    }
   ],
   "source": [
    "# | eval: false\n",
    "chain = prepare_information_extraction_chain()"
   ]
  },
  {
   "cell_type": "code",
   "execution_count": null,
   "metadata": {},
   "outputs": [],
   "source": [
    "# | eval: false\n",
    "retrieved_informations = chain.invoke({\"LANGUAGE\": \"Polish\", \"TEXT\": judgement, \"SCHEMA\": SCHEMA})"
   ]
  },
  {
   "cell_type": "code",
   "execution_count": null,
   "metadata": {},
   "outputs": [
    {
     "data": {
      "text/plain": [
       "{'defendant_gender': '',\n",
       " 'defendant_age': 0,\n",
       " 'defendant_relationship_status': '',\n",
       " 'defendant_has_children': False,\n",
       " 'defendant_homeless': False,\n",
       " 'appellant': 'oskarżeni',\n",
       " 'appeal_against': 'wyrok Sądu Okręgowego w Świdnicy z dnia 5 kwietnia 2019 r., sygn. akt III K 52/17',\n",
       " 'defendant_plead_or_convicted': '',\n",
       " 'jury_unanimous': '',\n",
       " 'first_trial': False,\n",
       " 'drug_offence': True,\n",
       " 'original_sentence': '',\n",
       " 'tried_court_type': '',\n",
       " 'single_transaction_multiple_offence': False,\n",
       " 'multiple_transactions_period': '',\n",
       " 'concurrent_or_consecutive_sentence': '',\n",
       " 'sentence_on_top_existing': False,\n",
       " 'sentence_adding_up': False,\n",
       " 'sentence_leniency': '',\n",
       " 'guilty_plea_reduction_reason': '',\n",
       " 'sentence_discount_mention': False,\n",
       " 'totality_issues_similar_offences': False,\n",
       " 'sentence_proportionality_mention': False,\n",
       " 'sentence_type_issues_totality': False,\n",
       " 'sentence_adjustment_mention': False,\n",
       " 'offender_culpability_determination': False,\n",
       " 'harm_caused_determination': False,\n",
       " 'offence_seriousness': False,\n",
       " 'aggravating_factors': [],\n",
       " 'previous_convictions_similarity': '',\n",
       " 'mitigating_factors': [],\n",
       " 'immediate_sentence_concurrency': False,\n",
       " 'totality_conflicting_guidelines': False,\n",
       " 'totality_principle_misapplication': False}"
      ]
     },
     "execution_count": null,
     "metadata": {},
     "output_type": "execute_result"
    }
   ],
   "source": [
    "# | eval: false\n",
    "retrieved_informations"
   ]
  }
 ],
 "metadata": {
  "kernelspec": {
   "display_name": "python3",
   "language": "python",
   "name": "python3"
  }
 },
 "nbformat": 4,
 "nbformat_minor": 2
}
