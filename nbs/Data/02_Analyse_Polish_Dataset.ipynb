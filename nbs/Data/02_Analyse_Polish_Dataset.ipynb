{
 "cells": [
  {
   "cell_type": "markdown",
   "id": "a98d226c",
   "metadata": {},
   "source": [
    "# Analyse Polish Dataset\n"
   ]
  },
  {
   "cell_type": "code",
   "execution_count": null,
   "id": "55c71d56",
   "metadata": {},
   "outputs": [],
   "source": [
    "# | eval: false\n",
    "%load_ext autoreload\n",
    "%autoreload 2"
   ]
  },
  {
   "cell_type": "code",
   "execution_count": null,
   "id": "initial_id",
   "metadata": {},
   "outputs": [],
   "source": [
    "# | eval: false\n",
    "import polars as pl\n",
    "\n",
    "from juddges.settings import PL_JUDGEMENTS_PATH_RAW"
   ]
  },
  {
   "cell_type": "code",
   "execution_count": null,
   "id": "c8a2c7d4858169a2",
   "metadata": {},
   "outputs": [],
   "source": [
    "# | eval: false\n",
    "ds = pl.read_parquet(PL_JUDGEMENTS_PATH_RAW, use_pyarrow=True)"
   ]
  },
  {
   "cell_type": "code",
   "execution_count": null,
   "id": "9e3c70ac",
   "metadata": {},
   "outputs": [
    {
     "data": {
      "text/html": [
       "<div><style>\n",
       ".dataframe > thead > tr,\n",
       ".dataframe > tbody > tr {\n",
       "  text-align: right;\n",
       "  white-space: pre-wrap;\n",
       "}\n",
       "</style>\n",
       "<small>shape: (5, 11)</small><table border=\"1\" class=\"dataframe\"><thead><tr><th>_id</th><th>signature</th><th>date</th><th>publicationDate</th><th>lastUpdate</th><th>courtId</th><th>departmentId</th><th>type</th><th>excerpt</th><th>content</th><th>thesis</th></tr><tr><td>str</td><td>str</td><td>datetime[ms]</td><td>datetime[ms]</td><td>datetime[ms]</td><td>i32</td><td>i32</td><td>cat</td><td>str</td><td>str</td><td>str</td></tr></thead><tbody><tr><td>&quot;15450500000512…</td><td>&quot;XVII AmA 14/94…</td><td>1994-07-20 02:00:00</td><td>2018-06-13 22:10:05</td><td>2018-06-13 16:22:22</td><td>15450500</td><td>5127</td><td>&quot;SENTENCE, REAS…</td><td>&quot;Sygn. akt. XVI…</td><td>&quot;&lt;?xml version=…</td><td>null</td></tr><tr><td>&quot;15150000000100…</td><td>&quot;II AKa 31/98&quot;</td><td>1998-03-26 01:00:00</td><td>2013-02-08 02:01:01</td><td>2013-12-04 17:23:33</td><td>15150000</td><td>1006</td><td>&quot;SENTENCE, REAS…</td><td>&quot;Sygn. akt : II…</td><td>&quot;&lt;?xml version=…</td><td>null</td></tr><tr><td>&quot;15150000000100…</td><td>&quot;II AKa 43/99&quot;</td><td>1999-04-08 02:00:00</td><td>2013-03-21 02:01:01</td><td>2014-07-23 09:53:56</td><td>15150000</td><td>1006</td><td>&quot;SENTENCE, REAS…</td><td>&quot;Sygn. akt : II…</td><td>&quot;&lt;?xml version=…</td><td>null</td></tr><tr><td>&quot;15150000000100…</td><td>&quot;II AKa 72/99&quot;</td><td>1999-05-13 02:00:00</td><td>2013-03-21 02:01:01</td><td>2014-07-23 09:55:38</td><td>15150000</td><td>1006</td><td>&quot;SENTENCE, REAS…</td><td>&quot;Sygn. akt: II …</td><td>&quot;&lt;?xml version=…</td><td>null</td></tr><tr><td>&quot;15150000000100…</td><td>&quot;II AKa 115/99&quot;</td><td>1999-05-20 02:00:00</td><td>2013-03-26 02:01:00</td><td>2014-07-23 09:54:43</td><td>15150000</td><td>1006</td><td>&quot;SENTENCE, REAS…</td><td>&quot;Sygn. akt: II …</td><td>&quot;&lt;?xml version=…</td><td>null</td></tr></tbody></table></div>"
      ],
      "text/plain": [
       "shape: (5, 11)\n",
       "┌────────────┬────────────┬───────────┬───────────┬───┬───────────┬───────────┬───────────┬────────┐\n",
       "│ _id        ┆ signature  ┆ date      ┆ publicati ┆ … ┆ type      ┆ excerpt   ┆ content   ┆ thesis │\n",
       "│ ---        ┆ ---        ┆ ---       ┆ onDate    ┆   ┆ ---       ┆ ---       ┆ ---       ┆ ---    │\n",
       "│ str        ┆ str        ┆ datetime[ ┆ ---       ┆   ┆ cat       ┆ str       ┆ str       ┆ str    │\n",
       "│            ┆            ┆ ms]       ┆ datetime[ ┆   ┆           ┆           ┆           ┆        │\n",
       "│            ┆            ┆           ┆ ms]       ┆   ┆           ┆           ┆           ┆        │\n",
       "╞════════════╪════════════╪═══════════╪═══════════╪═══╪═══════════╪═══════════╪═══════════╪════════╡\n",
       "│ 1545050000 ┆ XVII AmA   ┆ 1994-07-2 ┆ 2018-06-1 ┆ … ┆ SENTENCE, ┆ Sygn.     ┆ <?xml ver ┆ null   │\n",
       "│ 05127_XVII ┆ 14/94      ┆ 0         ┆ 3         ┆   ┆ REASON    ┆ akt. XVII ┆ sion='1.0 ┆        │\n",
       "│ _AmA_00001 ┆            ┆ 02:00:00  ┆ 22:10:05  ┆   ┆           ┆ Amr 14/94 ┆ ' encodin ┆        │\n",
       "│ 4_…        ┆            ┆           ┆           ┆   ┆           ┆ WYROK …   ┆ g='UT…    ┆        │\n",
       "│ 1515000000 ┆ II AKa     ┆ 1998-03-2 ┆ 2013-02-0 ┆ … ┆ SENTENCE, ┆ Sygn. akt ┆ <?xml ver ┆ null   │\n",
       "│ 01006_II_A ┆ 31/98      ┆ 6         ┆ 8         ┆   ┆ REASON    ┆ : II AKa  ┆ sion='1.0 ┆        │\n",
       "│ Ka_000031_ ┆            ┆ 01:00:00  ┆ 02:01:01  ┆   ┆           ┆ 31/98     ┆ ' encodin ┆        │\n",
       "│ 19…        ┆            ┆           ┆           ┆   ┆           ┆ WYROK W…  ┆ g='UT…    ┆        │\n",
       "│ 1515000000 ┆ II AKa     ┆ 1999-04-0 ┆ 2013-03-2 ┆ … ┆ SENTENCE, ┆ Sygn. akt ┆ <?xml ver ┆ null   │\n",
       "│ 01006_II_A ┆ 43/99      ┆ 8         ┆ 1         ┆   ┆ REASON    ┆ : II AKa  ┆ sion='1.0 ┆        │\n",
       "│ Ka_000043_ ┆            ┆ 02:00:00  ┆ 02:01:01  ┆   ┆           ┆ 43/99     ┆ ' encodin ┆        │\n",
       "│ 19…        ┆            ┆           ┆           ┆   ┆           ┆ WYROK W…  ┆ g='UT…    ┆        │\n",
       "│ 1515000000 ┆ II AKa     ┆ 1999-05-1 ┆ 2013-03-2 ┆ … ┆ SENTENCE, ┆ Sygn.     ┆ <?xml ver ┆ null   │\n",
       "│ 01006_II_A ┆ 72/99      ┆ 3         ┆ 1         ┆   ┆ REASON    ┆ akt: II   ┆ sion='1.0 ┆        │\n",
       "│ Ka_000072_ ┆            ┆ 02:00:00  ┆ 02:01:01  ┆   ┆           ┆ AKa 72/99 ┆ ' encodin ┆        │\n",
       "│ 19…        ┆            ┆           ┆           ┆   ┆           ┆ WYROK W … ┆ g='UT…    ┆        │\n",
       "│ 1515000000 ┆ II AKa     ┆ 1999-05-2 ┆ 2013-03-2 ┆ … ┆ SENTENCE, ┆ Sygn.     ┆ <?xml ver ┆ null   │\n",
       "│ 01006_II_A ┆ 115/99     ┆ 0         ┆ 6         ┆   ┆ REASON    ┆ akt: II   ┆ sion='1.0 ┆        │\n",
       "│ Ka_000115_ ┆            ┆ 02:00:00  ┆ 02:01:00  ┆   ┆           ┆ AKa       ┆ ' encodin ┆        │\n",
       "│ 19…        ┆            ┆           ┆           ┆   ┆           ┆ 115/99    ┆ g='UT…    ┆        │\n",
       "│            ┆            ┆           ┆           ┆   ┆           ┆ WYROK W…  ┆           ┆        │\n",
       "└────────────┴────────────┴───────────┴───────────┴───┴───────────┴───────────┴───────────┴────────┘"
      ]
     },
     "execution_count": null,
     "metadata": {},
     "output_type": "execute_result"
    }
   ],
   "source": [
    "# | eval: false\n",
    "dt_fmt = \"%Y-%m-%d %H:%M:%S%.f %Z\"\n",
    "dt_unit = \"ms\"  # due to https://github.com/pola-rs/polars/issues/13592\n",
    "\n",
    "ds = ds.with_columns(\n",
    "    ds[\"date\"].str.to_datetime(format=dt_fmt, time_unit=dt_unit),\n",
    "    ds[\"publicationDate\"].str.to_datetime(format=dt_fmt, time_unit=dt_unit),\n",
    "    ds[\"lastUpdate\"].str.to_datetime(format=dt_fmt, time_unit=dt_unit),\n",
    "    ds[\"courtId\"].cast(pl.Int32),\n",
    "    ds[\"departmentId\"].cast(pl.Int32),\n",
    "    ds[\"type\"].cast(pl.Categorical),\n",
    ")\n",
    "\n",
    "ds.head()"
   ]
  },
  {
   "cell_type": "code",
   "execution_count": null,
   "id": "35e65fe2dd9a4bce",
   "metadata": {},
   "outputs": [
    {
     "data": {
      "text/html": [
       "<div><style>\n",
       ".dataframe > thead > tr,\n",
       ".dataframe > tbody > tr {\n",
       "  text-align: right;\n",
       "  white-space: pre-wrap;\n",
       "}\n",
       "</style>\n",
       "<small>shape: (9, 12)</small><table border=\"1\" class=\"dataframe\"><thead><tr><th>statistic</th><th>_id</th><th>signature</th><th>date</th><th>publicationDate</th><th>lastUpdate</th><th>courtId</th><th>departmentId</th><th>type</th><th>excerpt</th><th>content</th><th>thesis</th></tr><tr><td>str</td><td>str</td><td>str</td><td>str</td><td>str</td><td>str</td><td>f64</td><td>f64</td><td>str</td><td>str</td><td>str</td><td>str</td></tr></thead><tbody><tr><td>&quot;count&quot;</td><td>&quot;414148&quot;</td><td>&quot;414148&quot;</td><td>&quot;414148&quot;</td><td>&quot;414148&quot;</td><td>&quot;414148&quot;</td><td>414148.0</td><td>414148.0</td><td>&quot;414148&quot;</td><td>&quot;414148&quot;</td><td>&quot;408423&quot;</td><td>&quot;39726&quot;</td></tr><tr><td>&quot;null_count&quot;</td><td>&quot;0&quot;</td><td>&quot;0&quot;</td><td>&quot;0&quot;</td><td>&quot;0&quot;</td><td>&quot;0&quot;</td><td>0.0</td><td>0.0</td><td>&quot;0&quot;</td><td>&quot;0&quot;</td><td>&quot;5725&quot;</td><td>&quot;374422&quot;</td></tr><tr><td>&quot;mean&quot;</td><td>null</td><td>null</td><td>&quot;2017-05-17 10:…</td><td>&quot;2017-11-25 18:…</td><td>&quot;2018-12-30 17:…</td><td>1.5292e7</td><td>26703.482951</td><td>null</td><td>null</td><td>null</td><td>null</td></tr><tr><td>&quot;std&quot;</td><td>null</td><td>null</td><td>null</td><td>null</td><td>null</td><td>158951.795845</td><td>319101.484112</td><td>null</td><td>null</td><td>null</td><td>null</td></tr><tr><td>&quot;min&quot;</td><td>&quot;15050000000050…</td><td>&quot;I 1 C 1047/15&quot;</td><td>&quot;1994-07-20 02:…</td><td>&quot;2012-11-27 14:…</td><td>&quot;2012-05-09 22:…</td><td>1.505e7</td><td>303.0</td><td>null</td><td>&quot;&#x27;Sygn. akt II …</td><td>&quot;&lt;?xml version=…</td><td>&quot;&quot;  W sytuacji …</td></tr><tr><td>&quot;25%&quot;</td><td>null</td><td>null</td><td>&quot;2015-02-19 01:…</td><td>&quot;2015-08-18 20:…</td><td>&quot;2016-11-30 14:…</td><td>1.51515e7</td><td>1003.0</td><td>null</td><td>null</td><td>null</td><td>null</td></tr><tr><td>&quot;50%&quot;</td><td>null</td><td>null</td><td>&quot;2017-01-18 01:…</td><td>&quot;2017-07-25 22:…</td><td>&quot;2018-07-05 12:…</td><td>1.5251015e7</td><td>1521.0</td><td>null</td><td>null</td><td>null</td><td>null</td></tr><tr><td>&quot;75%&quot;</td><td>null</td><td>null</td><td>&quot;2019-04-08 02:…</td><td>&quot;2020-02-05 18:…</td><td>&quot;2021-07-13 12:…</td><td>1.54505e7</td><td>3021.0</td><td>null</td><td>null</td><td>null</td><td>null</td></tr><tr><td>&quot;max&quot;</td><td>&quot;15551555000151…</td><td>&quot;XXVIII Cz 72/2…</td><td>&quot;3013-12-04 01:…</td><td>&quot;2024-03-06 18:…</td><td>&quot;2024-03-06 19:…</td><td>1.5551555e7</td><td>7.020003e6</td><td>null</td><td>&quot;‰Sygn. akt II …</td><td>&quot;&lt;?xml version=…</td><td>&quot;…”zasiedzenie …</td></tr></tbody></table></div>"
      ],
      "text/plain": [
       "shape: (9, 12)\n",
       "┌────────────┬────────────┬───────────┬───────────┬───┬────────┬───────────┬───────────┬───────────┐\n",
       "│ statistic  ┆ _id        ┆ signature ┆ date      ┆ … ┆ type   ┆ excerpt   ┆ content   ┆ thesis    │\n",
       "│ ---        ┆ ---        ┆ ---       ┆ ---       ┆   ┆ ---    ┆ ---       ┆ ---       ┆ ---       │\n",
       "│ str        ┆ str        ┆ str       ┆ str       ┆   ┆ str    ┆ str       ┆ str       ┆ str       │\n",
       "╞════════════╪════════════╪═══════════╪═══════════╪═══╪════════╪═══════════╪═══════════╪═══════════╡\n",
       "│ count      ┆ 414148     ┆ 414148    ┆ 414148    ┆ … ┆ 414148 ┆ 414148    ┆ 408423    ┆ 39726     │\n",
       "│ null_count ┆ 0          ┆ 0         ┆ 0         ┆ … ┆ 0      ┆ 0         ┆ 5725      ┆ 374422    │\n",
       "│ mean       ┆ null       ┆ null      ┆ 2017-05-1 ┆ … ┆ null   ┆ null      ┆ null      ┆ null      │\n",
       "│            ┆            ┆           ┆ 7 10:24:1 ┆   ┆        ┆           ┆           ┆           │\n",
       "│            ┆            ┆           ┆ 9.695000  ┆   ┆        ┆           ┆           ┆           │\n",
       "│ std        ┆ null       ┆ null      ┆ null      ┆ … ┆ null   ┆ null      ┆ null      ┆ null      │\n",
       "│ min        ┆ 1505000000 ┆ I 1 C     ┆ 1994-07-2 ┆ … ┆ null   ┆ 'Sygn.    ┆ <?xml ver ┆ \"  W      │\n",
       "│            ┆ 00503_I_AC ┆ 1047/15   ┆ 0         ┆   ┆        ┆ akt II Cz ┆ sion='1.0 ┆ sytuacji  │\n",
       "│            ┆ a_000001_2 ┆           ┆ 02:00:00  ┆   ┆        ┆ 65/14 POS ┆ ' encodin ┆ zaniechan │\n",
       "│            ┆ 01…        ┆           ┆           ┆   ┆        ┆ TANOWI…   ┆ g='UT…    ┆ ia przez  │\n",
       "│            ┆            ┆           ┆           ┆   ┆        ┆           ┆           ┆ …         │\n",
       "│ 25%        ┆ null       ┆ null      ┆ 2015-02-1 ┆ … ┆ null   ┆ null      ┆ null      ┆ null      │\n",
       "│            ┆            ┆           ┆ 9         ┆   ┆        ┆           ┆           ┆           │\n",
       "│            ┆            ┆           ┆ 01:00:00  ┆   ┆        ┆           ┆           ┆           │\n",
       "│ 50%        ┆ null       ┆ null      ┆ 2017-01-1 ┆ … ┆ null   ┆ null      ┆ null      ┆ null      │\n",
       "│            ┆            ┆           ┆ 8         ┆   ┆        ┆           ┆           ┆           │\n",
       "│            ┆            ┆           ┆ 01:00:00  ┆   ┆        ┆           ┆           ┆           │\n",
       "│ 75%        ┆ null       ┆ null      ┆ 2019-04-0 ┆ … ┆ null   ┆ null      ┆ null      ┆ null      │\n",
       "│            ┆            ┆           ┆ 8         ┆   ┆        ┆           ┆           ┆           │\n",
       "│            ┆            ┆           ┆ 02:00:00  ┆   ┆        ┆           ┆           ┆           │\n",
       "│ max        ┆ 1555155500 ┆ XXVIII Cz ┆ 3013-12-0 ┆ … ┆ null   ┆ ‰Sygn.    ┆ <?xml ver ┆ …”zasiedz │\n",
       "│            ┆ 01512_III_ ┆ 72/21     ┆ 4         ┆   ┆        ┆ akt II K  ┆ sion='1.0 ┆ enie jest │\n",
       "│            ┆ RC_000178_ ┆           ┆ 01:00:00  ┆   ┆        ┆ 818/16    ┆ ' encodin ┆ instytucj │\n",
       "│            ┆ 20…        ┆           ┆           ┆   ┆        ┆ WYROK W   ┆ g='UT…    ┆ ą pr…     │\n",
       "│            ┆            ┆           ┆           ┆   ┆        ┆ I…        ┆           ┆           │\n",
       "└────────────┴────────────┴───────────┴───────────┴───┴────────┴───────────┴───────────┴───────────┘"
      ]
     },
     "execution_count": null,
     "metadata": {},
     "output_type": "execute_result"
    }
   ],
   "source": [
    "# | eval: false\n",
    "ds.describe()"
   ]
  },
  {
   "cell_type": "code",
   "execution_count": null,
   "id": "ab23ff37327a377a",
   "metadata": {},
   "outputs": [
    {
     "data": {
      "text/html": [
       "<div><style>\n",
       ".dataframe > thead > tr,\n",
       ".dataframe > tbody > tr {\n",
       "  text-align: right;\n",
       "  white-space: pre-wrap;\n",
       "}\n",
       "</style>\n",
       "<small>shape: (32, 2)</small><table border=\"1\" class=\"dataframe\"><thead><tr><th>type</th><th>count</th></tr><tr><td>cat</td><td>u32</td></tr></thead><tbody><tr><td>&quot;SENTENCE, REAS…</td><td>240603</td></tr><tr><td>&quot;REASON&quot;</td><td>43257</td></tr><tr><td>&quot;DECISION, REAS…</td><td>36991</td></tr><tr><td>&quot;SENTENCE&quot;</td><td>58626</td></tr><tr><td>&quot;REGULATION, DE…</td><td>3565</td></tr><tr><td>&hellip;</td><td>&hellip;</td></tr><tr><td>&quot;REGULATION, SE…</td><td>1</td></tr><tr><td>&quot;REGULATION, RE…</td><td>8</td></tr><tr><td>&quot;REGULATION, RE…</td><td>27</td></tr><tr><td>&quot;REGULATION, SE…</td><td>39</td></tr><tr><td>&quot;REASON, RECORD…</td><td>1</td></tr></tbody></table></div>"
      ],
      "text/plain": [
       "shape: (32, 2)\n",
       "┌───────────────────────────────────┬────────┐\n",
       "│ type                              ┆ count  │\n",
       "│ ---                               ┆ ---    │\n",
       "│ cat                               ┆ u32    │\n",
       "╞═══════════════════════════════════╪════════╡\n",
       "│ SENTENCE, REASON                  ┆ 240603 │\n",
       "│ REASON                            ┆ 43257  │\n",
       "│ DECISION, REASON                  ┆ 36991  │\n",
       "│ SENTENCE                          ┆ 58626  │\n",
       "│ REGULATION, DECISION, REASON      ┆ 3565   │\n",
       "│ …                                 ┆ …      │\n",
       "│ REGULATION, SENTENCE, REASON, OT… ┆ 1      │\n",
       "│ REGULATION, RECORD                ┆ 8      │\n",
       "│ REGULATION, REASON, RECORD        ┆ 27     │\n",
       "│ REGULATION, SENTENCE, DECISION    ┆ 39     │\n",
       "│ REASON, RECORD                    ┆ 1      │\n",
       "└───────────────────────────────────┴────────┘"
      ]
     },
     "execution_count": null,
     "metadata": {},
     "output_type": "execute_result"
    }
   ],
   "source": [
    "# | eval: false\n",
    "ds[\"type\"].value_counts()"
   ]
  },
  {
   "cell_type": "code",
   "execution_count": null,
   "id": "11446c299cdf1700",
   "metadata": {},
   "outputs": [
    {
     "name": "stdout",
     "output_type": "stream",
     "text": [
      "Missing content: 0.01382356065947439\n",
      "Missing theis: 0.9040777692998638\n",
      "Missing excerpt: 0.0\n"
     ]
    }
   ],
   "source": [
    "# | eval: false\n",
    "print(f\"Missing content: {ds['content'].null_count() / len(ds)}\")\n",
    "print(f\"Missing theis: {ds['thesis'].null_count() / len(ds)}\")\n",
    "print(f\"Missing excerpt: {ds['excerpt'].null_count() / len(ds)}\")"
   ]
  },
  {
   "cell_type": "code",
   "execution_count": null,
   "id": "891ffbad",
   "metadata": {},
   "outputs": [
    {
     "data": {
      "text/plain": [
       "<Axes: title={'center': 'Excerpt #chars distribution'}, ylabel='Frequency'>"
      ]
     },
     "execution_count": null,
     "metadata": {},
     "output_type": "execute_result"
    },
    {
     "data": {
      "image/png": "[encoded data removed]",
      "text/plain": [
       "<Figure size 640x480 with 1 Axes>"
      ]
     },
     "metadata": {},
     "output_type": "display_data"
    }
   ],
   "source": [
    "# | eval: false\n",
    "ds[\"excerpt\"].str.strip_chars().str.len_chars().to_pandas().plot.hist(\n",
    "    bins=50, log=True, title=\"Excerpt #chars distribution\"\n",
    ")"
   ]
  },
  {
   "cell_type": "code",
   "execution_count": null,
   "id": "bb009db3",
   "metadata": {},
   "outputs": [],
   "source": []
  }
 ],
 "metadata": {
  "kernelspec": {
   "display_name": "python3",
   "language": "python",
   "name": "python3"
  }
 },
 "nbformat": 4,
 "nbformat_minor": 5
}
