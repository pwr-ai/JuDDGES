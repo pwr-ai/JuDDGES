{
 "cells": [
  {
   "cell_type": "code",
   "execution_count": 18,
   "id": "a9f0a774",
   "metadata": {},
   "outputs": [
    {
     "data": {
      "text/plain": [
       "True"
      ]
     },
     "execution_count": 18,
     "metadata": {},
     "output_type": "execute_result"
    }
   ],
   "source": [
    "import os\n",
    "import requests\n",
    "\n",
    "from dotenv import load_dotenv\n",
    "\n",
    "load_dotenv(\"../.env\", override=True)"
   ]
  },
  {
   "cell_type": "code",
   "execution_count": 23,
   "id": "526b2399",
   "metadata": {},
   "outputs": [
    {
     "name": "stdout",
     "output_type": "stream",
     "text": [
      "Augustyniak Ł., Binkowski J., Sawczyn A., Bernaczyk M., Kamiński K., Tirunagari S., Windridge D., Dhami M., Boukacem-Zeghmouri C., Fillaud C., Kajdanowicz T. \"JuDDGES: A Unified, Multilingual Dataset of Legal Judgments for Legal AI and Analytics\".\n"
     ]
    }
   ],
   "source": [
    "# List of authors as (first_name, last_name)\n",
    "authors = [\n",
    "    (\"Łukasz\", \"Augustyniak\"),\n",
    "    (\"Jakub\", \"Binkowski\"),\n",
    "    (\"Albert\", \"Sawczyn\"),\n",
    "    (\"Michał\", \"Bernaczyk\"),\n",
    "    (\"Krzysztof\", \"Kamiński\"),\n",
    "    (\"Santosh\", \"Tirunagari\"),\n",
    "    (\"David\", \"Windridge\"),\n",
    "    (\"Mandeep K.\", \"Dhami\"),\n",
    "    (\"Chérifa\", \"Boukacem-Zeghmouri\"),\n",
    "    (\"Candice\", \"Fillaud\"),\n",
    "    (\"Tomasz\", \"Kajdanowicz\"),\n",
    "]\n",
    "\n",
    "# Format: Lastname F.\n",
    "author_names = [f\"{last} {first[0]}.\" for first, last in authors]\n",
    "author_str = \", \".join(author_names)\n",
    "\n",
    "paper_title = \"JuDDGES: A Unified, Multilingual Dataset of Legal Judgments for Legal AI and Analytics\"\n",
    "\n",
    "citation = f'{author_str} \"{paper_title}\".'\n",
    "\n",
    "print(citation)"
   ]
  },
  {
   "cell_type": "code",
   "execution_count": 28,
   "id": "0b4d0a66",
   "metadata": {},
   "outputs": [],
   "source": [
    "public_hf_datasets = [\n",
    "    # \"JuDDGES/pl-court-raw\",\n",
    "    \"JuDDGES/pl-nsa\",\n",
    "    \"JuDDGES/pl-swiss-franc-loans\",\n",
    "    \"JuDDGES/en-court-raw\",\n",
    "    \"JuDDGES/en-appealcourt\",\n",
    "    # \"JuDDGES/en-appealcourt-coded-instruct_v02\",\n",
    "]"
   ]
  },
  {
   "cell_type": "code",
   "execution_count": 29,
   "id": "b77ce5ac",
   "metadata": {},
   "outputs": [
    {
     "name": "stderr",
     "output_type": "stream",
     "text": [
      " 25%|██▌       | 1/4 [00:00<00:01,  2.81it/s]"
     ]
    },
    {
     "name": "stdout",
     "output_type": "stream",
     "text": [
      "Saved: JuDDGES__pl-nsa_croissant.json\n"
     ]
    },
    {
     "name": "stderr",
     "output_type": "stream",
     "text": [
      " 50%|█████     | 2/4 [00:00<00:00,  3.56it/s]"
     ]
    },
    {
     "name": "stdout",
     "output_type": "stream",
     "text": [
      "Saved: JuDDGES__pl-swiss-franc-loans_croissant.json\n"
     ]
    },
    {
     "name": "stderr",
     "output_type": "stream",
     "text": [
      " 75%|███████▌  | 3/4 [00:00<00:00,  3.85it/s]"
     ]
    },
    {
     "name": "stdout",
     "output_type": "stream",
     "text": [
      "Saved: JuDDGES__en-court-raw_croissant.json\n"
     ]
    },
    {
     "name": "stderr",
     "output_type": "stream",
     "text": [
      "100%|██████████| 4/4 [00:01<00:00,  3.85it/s]"
     ]
    },
    {
     "name": "stdout",
     "output_type": "stream",
     "text": [
      "Saved: JuDDGES__en-appealcourt_croissant.json\n",
      "Created zip archive: croissants_files.zip\n"
     ]
    },
    {
     "name": "stderr",
     "output_type": "stream",
     "text": [
      "\n"
     ]
    }
   ],
   "source": [
    "from tqdm import tqdm\n",
    "from pathlib import Path\n",
    "import zipfile\n",
    "\n",
    "headers = {\"Authorization\": f\"Bearer {os.environ['HUGGINGFACE_API_TOKEN']}\"}\n",
    "\n",
    "croissant_directory = Path(\"croissants_files\")\n",
    "croissant_directory.mkdir(exist_ok=True, parents=True)\n",
    "\n",
    "for dataset in tqdm(public_hf_datasets):\n",
    "\n",
    "    croissant_url = f\"https://huggingface.co/api/datasets/{dataset}/croissant\"\n",
    "    response = requests.get(croissant_url, headers=headers)\n",
    "    if response.status_code == 200:\n",
    "        croissant_json = response.json()\n",
    "        # Add the required keys to @context\n",
    "        context = croissant_json.get(\"@context\")\n",
    "        if isinstance(context, dict):\n",
    "            context[\"examples\"] = {\"@id\": \"cr:examples\", \"@type\": \"@json\"}\n",
    "            context[\"rai\"] = \"http://mlcommons.org/croissant/RAI/\"\n",
    "        croissant_json[\"@context\"] = context\n",
    "\n",
    "        if not \"license\" in croissant_json:\n",
    "            croissant_json[\"license\"] = \"https://creativecommons.org/licenses/by/4.0/\"\n",
    "\n",
    "        if not \"datePublished\" in croissant_json:\n",
    "            croissant_json[\"datePublished\"] = \"2025-04-01\"\n",
    "\n",
    "        if not \"version\" in croissant_json:\n",
    "            croissant_json[\"version\"] = \"1.0.0\"\n",
    "\n",
    "        if not \"citeAs\" in croissant_json:\n",
    "            croissant_json[\"citeAs\"] = (\n",
    "                'Augustyniak Ł., Binkowski J., Sawczyn A., Bernaczyk M., Kamiński K., Tirunagari S., Windridge D., Dhami M., Boukacem-Zeghmouri C., Fillaud C., Kajdanowicz T. \"JuDDGES: A Unified, Multilingual Dataset of Legal Judgments for Legal AI and Analytics\".'\n",
    "            )\n",
    "\n",
    "        filename = dataset.replace(\"/\", \"__\") + \"_croissant.json\"\n",
    "        with open(croissant_directory / filename, \"w\", encoding=\"utf-8\") as f:\n",
    "            import json\n",
    "\n",
    "            json.dump(croissant_json, f, indent=2, ensure_ascii=False)\n",
    "        print(f\"Saved: {filename}\")\n",
    "    else:\n",
    "        print(f\"Failed to download croissant for {dataset}: {response.status_code}\")\n",
    "\n",
    "zip_path = croissant_directory.with_suffix(\".zip\")\n",
    "with zipfile.ZipFile(zip_path, \"w\", zipfile.ZIP_DEFLATED) as zipf:\n",
    "    for file in croissant_directory.iterdir():\n",
    "        zipf.write(file, arcname=file.name)\n",
    "print(f\"Created zip archive: {zip_path}\")"
   ]
  },
  {
   "cell_type": "code",
   "execution_count": null,
   "id": "9da77e73",
   "metadata": {},
   "outputs": [
    {
     "name": "stdout",
     "output_type": "stream",
     "text": [
      "Croissant metadata generated and saved to pl-court-raw-croissant.json\n"
     ]
    }
   ],
   "source": [
    "import json\n",
    "from datasets import load_dataset\n",
    "\n",
    "# Load your dataset\n",
    "dataset = load_dataset(\"JuDDGES/pl-court-raw\")\n",
    "\n",
    "# Create a more complete Croissant metadata file\n",
    "croissant_metadata = {\n",
    "    \"@context\": {\n",
    "        \"@language\": \"pl\",\n",
    "        \"examples\": {\"@id\": \"cr:examples\", \"@type\": \"@json\"},\n",
    "        \"rai\": \"http://mlcommons.org/croissant/RAI/\",\n",
    "        \"@vocab\": \"https://schema.org/\",\n",
    "        \"arrayShape\": \"cr:arrayShape\",\n",
    "        \"citeAs\": \"cr:citeAs\",\n",
    "        \"column\": \"cr:column\",\n",
    "        \"conformsTo\": \"dct:conformsTo\",\n",
    "        \"cr\": \"http://mlcommons.org/croissant/\",\n",
    "        \"data\": {\"@id\": \"cr:data\", \"@type\": \"@json\"},\n",
    "        \"dataBiases\": \"cr:dataBiases\",\n",
    "        \"dataCollection\": \"cr:dataCollection\",\n",
    "        \"dataType\": {\"@id\": \"cr:dataType\", \"@type\": \"@vocab\"},\n",
    "        \"dct\": \"http://purl.org/dc/terms/\",\n",
    "        \"extract\": \"cr:extract\",\n",
    "        \"field\": \"cr:field\",\n",
    "        \"fileProperty\": \"cr:fileProperty\",\n",
    "        \"fileObject\": \"cr:fileObject\",\n",
    "        \"fileSet\": \"cr:fileSet\",\n",
    "        \"format\": \"cr:format\",\n",
    "        \"includes\": \"cr:includes\",\n",
    "        \"isArray\": \"cr:isArray\",\n",
    "        \"isLiveDataset\": \"cr:isLiveDataset\",\n",
    "        \"jsonPath\": \"cr:jsonPath\",\n",
    "        \"key\": \"cr:key\",\n",
    "        \"md5\": \"cr:md5\",\n",
    "        \"parentField\": \"cr:parentField\",\n",
    "        \"path\": \"cr:path\",\n",
    "        \"personalSensitiveInformation\": \"cr:personalSensitiveInformation\",\n",
    "        \"recordSet\": \"cr:recordSet\",\n",
    "        \"references\": \"cr:references\",\n",
    "        \"regex\": \"cr:regex\",\n",
    "        \"repeated\": \"cr:repeated\",\n",
    "        \"replace\": \"cr:replace\",\n",
    "        \"sc\": \"https://schema.org/\",\n",
    "        \"separator\": \"cr:separator\",\n",
    "        \"source\": \"cr:source\",\n",
    "        \"subField\": \"cr:subField\",\n",
    "        \"transform\": \"cr:transform\",\n",
    "    },\n",
    "    \"@type\": \"sc:Dataset\",\n",
    "    \"@id\": \"https://huggingface.co/datasets/JuDDGES/pl-court-raw\",\n",
    "    \"name\": \"JuDDGES_Polish_Court_Judgments_Raw_Dataset\",\n",
    "    \"description\": \"A comprehensive collection of Polish court judgments in raw format, containing XML content and extracted metadata.\",\n",
    "    \"url\": \"https://huggingface.co/datasets/JuDDGES/pl-court-raw\",\n",
    "    \"version\": \"1.0.0\",\n",
    "    \"license\": \"https://creativecommons.org/licenses/by/4.0/\",\n",
    "    \"citeAs\": {\n",
    "        \"@type\": \"ScholarlyArticle\",\n",
    "        \"author\": \"JuDDGES Project Team\",\n",
    "        \"name\": \"JuDDGES: Polish Court Judgments Dataset\",\n",
    "        \"url\": \"https://huggingface.co/datasets/JuDDGES/pl-court-raw\",\n",
    "    },\n",
    "    \"creator\": {\n",
    "        \"@type\": \"Organization\",\n",
    "        \"name\": \"JuDDGES Project\",\n",
    "        \"url\": \"https://github.com/legal-ai/JuDDGES\",\n",
    "    },\n",
    "    \"recordSet\": [\n",
    "        {\n",
    "            \"@id\": \"default\",\n",
    "            \"@type\": \"RecordSet\",\n",
    "            \"name\": \"default\",\n",
    "            \"description\": \"Polish court judgments collection\",\n",
    "            \"field\": [],  # Will be populated with fields\n",
    "        }\n",
    "    ],\n",
    "    \"citation\": \"JuDDGES Project Team. JuDDGES: Polish Court Judgments Dataset. https://huggingface.co/datasets/JuDDGES/pl-court-raw\",\n",
    "    \"datePublished\": \"2025-04-01\",\n",
    "}\n",
    "\n",
    "# Define field types mapping\n",
    "field_types = {\n",
    "    \"judgment_id\": \"Text\",\n",
    "    \"docket_number\": \"Text\",\n",
    "    \"judgment_date\": \"Date\",\n",
    "    \"publication_date\": \"Date\",\n",
    "    \"last_update\": \"Date\",\n",
    "    \"court_id\": \"Text\",\n",
    "    \"department_id\": \"Text\",\n",
    "    \"judgment_type\": \"Text\",\n",
    "    \"excerpt\": \"Text\",\n",
    "    \"xml_content\": \"Text\",\n",
    "    \"presiding_judge\": \"Text\",\n",
    "    \"decision\": \"Text\",\n",
    "    \"judges\": \"Text\",\n",
    "    \"legal_bases\": \"Text\",\n",
    "    \"publisher\": \"Text\",\n",
    "    \"recorder\": \"Text\",\n",
    "    \"reviser\": \"Text\",\n",
    "    \"keywords\": \"Text\",\n",
    "    \"num_pages\": \"Integer\",\n",
    "    \"full_text\": \"Text\",\n",
    "    \"volume_number\": \"Integer\",\n",
    "    \"volume_type\": \"Text\",\n",
    "    \"court_name\": \"Text\",\n",
    "    \"department_name\": \"Text\",\n",
    "    \"extracted_legal_bases\": \"Text\",\n",
    "    \"references\": \"Text\",\n",
    "    \"thesis\": \"Text\",\n",
    "    \"country\": \"Text\",\n",
    "    \"court_type\": \"Text\",\n",
    "    \"source\": \"Text\",\n",
    "}\n",
    "\n",
    "# Add fields to recordSet\n",
    "fields = []\n",
    "for feature_name, data_type in field_types.items():\n",
    "    field = {\n",
    "        \"@id\": f\"field/{feature_name}\",\n",
    "        \"@type\": \"Field\",\n",
    "        \"name\": feature_name,\n",
    "        \"description\": f\"The {feature_name.replace('_', ' ')} of the court judgment\",\n",
    "        \"dataType\": data_type,\n",
    "    }\n",
    "    fields.append(field)\n",
    "\n",
    "# Add the fields to the recordSet\n",
    "croissant_metadata[\"recordSet\"][0][\"field\"] = fields\n",
    "\n",
    "# Save the metadata to a file\n",
    "with open(\"pl-court-raw-croissant.json\", \"w\", encoding=\"utf-8\") as f:\n",
    "    json.dump(croissant_metadata, f, indent=2)\n",
    "\n",
    "print(\"Croissant metadata generated and saved to pl-court-raw-croissant.json\")"
   ]
  },
  {
   "cell_type": "code",
   "execution_count": null,
   "id": "88fdcf75",
   "metadata": {},
   "outputs": [],
   "source": []
  },
  {
   "cell_type": "code",
   "execution_count": null,
   "id": "633e77df",
   "metadata": {},
   "outputs": [],
   "source": []
  }
 ],
 "metadata": {
  "kernelspec": {
   "display_name": "juddges",
   "language": "python",
   "name": "python3"
  },
  "language_info": {
   "codemirror_mode": {
    "name": "ipython",
    "version": 3
   },
   "file_extension": ".py",
   "mimetype": "text/x-python",
   "name": "python",
   "nbconvert_exporter": "python",
   "pygments_lexer": "ipython3",
   "version": "3.11.9"
  }
 },
 "nbformat": 4,
 "nbformat_minor": 5
}
