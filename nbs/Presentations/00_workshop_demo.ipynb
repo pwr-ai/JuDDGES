{
 "cells": [
  {
   "cell_type": "markdown",
   "metadata": {},
   "source": [
    "# Workshop Demo\n",
    "\n",
    "> Jak możemy strukturyzować orzeczenia?\n"
   ]
  },
  {
   "cell_type": "markdown",
   "metadata": {},
   "source": [
    "## Jakie informacje chcemy/możemy ekstrahować automatycznie z orzeczeń?\n"
   ]
  },
  {
   "cell_type": "markdown",
   "metadata": {},
   "source": [
    "### Ogólne\n",
    "\n",
    "- Sygnatura sprawy\n",
    "- Podstawa prawna\n",
    "- Strony\n",
    "- Sentencja\n",
    "- Podsumowanie\n",
    "- Tagi, etykiety\n"
   ]
  },
  {
   "cell_type": "markdown",
   "metadata": {},
   "source": [
    "### Przykłady specyficznych pytań/zagadnień\n",
    "\n",
    "- Czy sprawa dotyczy dzieci?\n",
    "- Czy sprawa dotyczy wolności słowa?\n",
    "- Czy sprawa dotyczy XXX? - każde tego typu pytanie możemy użyć\n"
   ]
  },
  {
   "cell_type": "markdown",
   "metadata": {},
   "source": [
    "### Czego brakuje nad w codziennych zadaniach/pracach?\n"
   ]
  }
 ],
 "metadata": {
  "kernelspec": {
   "display_name": "python3",
   "language": "python",
   "name": "python3"
  }
 },
 "nbformat": 4,
 "nbformat_minor": 2
}
