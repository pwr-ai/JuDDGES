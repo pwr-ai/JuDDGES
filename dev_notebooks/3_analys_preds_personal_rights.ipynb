{
 "cells": [
  {
   "cell_type": "code",
   "execution_count": 1,
   "metadata": {},
   "outputs": [],
   "source": [
    "import json\n",
    "from typing import Any\n",
    "\n",
    "import pandas as pd\n",
    "from tabulate import tabulate\n",
    "\n",
    "from juddges.llm_as_judge.data_model import PredictionLoader"
   ]
  },
  {
   "cell_type": "code",
   "execution_count": 3,
   "metadata": {},
   "outputs": [
    {
     "data": {
      "application/vnd.jupyter.widget-view+json": {
       "model_id": "c214f0b70ef44bc6a25bdfe1ef5a09c7",
       "version_major": 2,
       "version_minor": 0
      },
      "text/plain": [
       "Loading predictions:   0%|          | 0/1811 [00:00<?, ?it/s]"
      ]
     },
     "metadata": {},
     "output_type": "display_data"
    }
   ],
   "source": [
    "pred_dir = \"data/experiments/predict/raw_vllm/pl_court_personal_rights/qwen_3_32b/info_extraction_annotated_json_refined/personal_rights/seed_42/\"\n",
    "pred_loader = PredictionLoader(root_dir=pred_dir, judge_name=\"gpt-4.1-mini\")\n",
    "preds = pred_loader.load_predictions(verbose=True)\n",
    "preds.get_stats()\n",
    "\n",
    "judge_res = json.loads(pred_loader.llm_judge_scores_file.read_text())\n"
   ]
  },
  {
   "cell_type": "code",
   "execution_count": 8,
   "metadata": {},
   "outputs": [
    {
     "data": {
      "text/html": [
       "<div>\n",
       "<style scoped>\n",
       "    .dataframe tbody tr th:only-of-type {\n",
       "        vertical-align: middle;\n",
       "    }\n",
       "\n",
       "    .dataframe tbody tr th {\n",
       "        vertical-align: top;\n",
       "    }\n",
       "\n",
       "    .dataframe thead th {\n",
       "        text-align: right;\n",
       "    }\n",
       "</style>\n",
       "<table border=\"1\" class=\"dataframe\">\n",
       "  <thead>\n",
       "    <tr style=\"text-align: right;\">\n",
       "      <th></th>\n",
       "      <th>status</th>\n",
       "      <th>error</th>\n",
       "      <th>missing_keys</th>\n",
       "      <th>extra_keys</th>\n",
       "      <th>dowody</th>\n",
       "      <th>inne_podstawy_prawne</th>\n",
       "      <th>miejsce_naruszenia</th>\n",
       "      <th>naruszenie_dobr_osobistych</th>\n",
       "      <th>naruszenie_media_spolecznosciowe</th>\n",
       "      <th>opis_naruszenia</th>\n",
       "      <th>podstawa_prawna</th>\n",
       "      <th>portale_spolecznosciowe</th>\n",
       "      <th>rodzaj_dobra_osobistego</th>\n",
       "      <th>rodzaj_naruszajacego</th>\n",
       "      <th>skala_naruszenia</th>\n",
       "      <th>zadania</th>\n",
       "    </tr>\n",
       "  </thead>\n",
       "  <tbody>\n",
       "    <tr>\n",
       "      <th>0</th>\n",
       "      <td>success</td>\n",
       "      <td>None</td>\n",
       "      <td>[]</td>\n",
       "      <td>[]</td>\n",
       "      <td>0.000000</td>\n",
       "      <td>1.0</td>\n",
       "      <td>1.0</td>\n",
       "      <td>1.0</td>\n",
       "      <td>0.0</td>\n",
       "      <td>0.0</td>\n",
       "      <td>1.0</td>\n",
       "      <td>1.0</td>\n",
       "      <td>1.00</td>\n",
       "      <td>1.0</td>\n",
       "      <td>0.0</td>\n",
       "      <td>0.5</td>\n",
       "    </tr>\n",
       "    <tr>\n",
       "      <th>1</th>\n",
       "      <td>success</td>\n",
       "      <td>None</td>\n",
       "      <td>[]</td>\n",
       "      <td>[]</td>\n",
       "      <td>1.000000</td>\n",
       "      <td>0.0</td>\n",
       "      <td>1.0</td>\n",
       "      <td>1.0</td>\n",
       "      <td>1.0</td>\n",
       "      <td>1.0</td>\n",
       "      <td>0.5</td>\n",
       "      <td>1.0</td>\n",
       "      <td>1.00</td>\n",
       "      <td>1.0</td>\n",
       "      <td>1.0</td>\n",
       "      <td>1.0</td>\n",
       "    </tr>\n",
       "    <tr>\n",
       "      <th>2</th>\n",
       "      <td>success</td>\n",
       "      <td>None</td>\n",
       "      <td>[]</td>\n",
       "      <td>[]</td>\n",
       "      <td>0.833333</td>\n",
       "      <td>0.0</td>\n",
       "      <td>0.0</td>\n",
       "      <td>1.0</td>\n",
       "      <td>0.0</td>\n",
       "      <td>0.0</td>\n",
       "      <td>1.0</td>\n",
       "      <td>1.0</td>\n",
       "      <td>0.25</td>\n",
       "      <td>1.0</td>\n",
       "      <td>1.0</td>\n",
       "      <td>1.0</td>\n",
       "    </tr>\n",
       "    <tr>\n",
       "      <th>3</th>\n",
       "      <td>success</td>\n",
       "      <td>None</td>\n",
       "      <td>[]</td>\n",
       "      <td>[]</td>\n",
       "      <td>1.000000</td>\n",
       "      <td>0.0</td>\n",
       "      <td>1.0</td>\n",
       "      <td>1.0</td>\n",
       "      <td>0.0</td>\n",
       "      <td>0.0</td>\n",
       "      <td>1.0</td>\n",
       "      <td>1.0</td>\n",
       "      <td>0.00</td>\n",
       "      <td>1.0</td>\n",
       "      <td>1.0</td>\n",
       "      <td>1.0</td>\n",
       "    </tr>\n",
       "    <tr>\n",
       "      <th>4</th>\n",
       "      <td>success</td>\n",
       "      <td>None</td>\n",
       "      <td>[]</td>\n",
       "      <td>[]</td>\n",
       "      <td>0.500000</td>\n",
       "      <td>1.0</td>\n",
       "      <td>1.0</td>\n",
       "      <td>1.0</td>\n",
       "      <td>0.0</td>\n",
       "      <td>0.0</td>\n",
       "      <td>0.5</td>\n",
       "      <td>1.0</td>\n",
       "      <td>0.50</td>\n",
       "      <td>1.0</td>\n",
       "      <td>1.0</td>\n",
       "      <td>0.0</td>\n",
       "    </tr>\n",
       "  </tbody>\n",
       "</table>\n",
       "</div>"
      ],
      "text/plain": [
       "    status error missing_keys extra_keys    dowody  inne_podstawy_prawne  \\\n",
       "0  success  None           []         []  0.000000                   1.0   \n",
       "1  success  None           []         []  1.000000                   0.0   \n",
       "2  success  None           []         []  0.833333                   0.0   \n",
       "3  success  None           []         []  1.000000                   0.0   \n",
       "4  success  None           []         []  0.500000                   1.0   \n",
       "\n",
       "   miejsce_naruszenia  naruszenie_dobr_osobistych  \\\n",
       "0                 1.0                         1.0   \n",
       "1                 1.0                         1.0   \n",
       "2                 0.0                         1.0   \n",
       "3                 1.0                         1.0   \n",
       "4                 1.0                         1.0   \n",
       "\n",
       "   naruszenie_media_spolecznosciowe  opis_naruszenia  podstawa_prawna  \\\n",
       "0                               0.0              0.0              1.0   \n",
       "1                               1.0              1.0              0.5   \n",
       "2                               0.0              0.0              1.0   \n",
       "3                               0.0              0.0              1.0   \n",
       "4                               0.0              0.0              0.5   \n",
       "\n",
       "   portale_spolecznosciowe  rodzaj_dobra_osobistego  rodzaj_naruszajacego  \\\n",
       "0                      1.0                     1.00                   1.0   \n",
       "1                      1.0                     1.00                   1.0   \n",
       "2                      1.0                     0.25                   1.0   \n",
       "3                      1.0                     0.00                   1.0   \n",
       "4                      1.0                     0.50                   1.0   \n",
       "\n",
       "   skala_naruszenia  zadania  \n",
       "0               0.0      0.5  \n",
       "1               1.0      1.0  \n",
       "2               1.0      1.0  \n",
       "3               1.0      1.0  \n",
       "4               1.0      0.0  "
      ]
     },
     "execution_count": 8,
     "metadata": {},
     "output_type": "execute_result"
    }
   ],
   "source": [
    "detailed_judge_res = []\n",
    "field_names = set()\n",
    "for result in judge_res[\"all_results\"]:\n",
    "    item_res = {\n",
    "        \"status\": result[\"status\"],\n",
    "        \"error\": result[\"error\"],\n",
    "        \"missing_keys\": result[\"missing_keys\"],\n",
    "        \"extra_keys\": result[\"extra_keys\"],\n",
    "    }\n",
    "    for field, field_res in result[\"result\"].items():\n",
    "        field_names.add(field)\n",
    "        item_res[field] = field_res[\"score\"]\n",
    "    detailed_judge_res.append(item_res)\n",
    "detailed_judge_res = pd.DataFrame(detailed_judge_res)\n",
    "detailed_judge_res.head()"
   ]
  },
  {
   "cell_type": "markdown",
   "metadata": {},
   "source": [
    "# Case-by-case study"
   ]
  },
  {
   "cell_type": "code",
   "execution_count": 9,
   "metadata": {},
   "outputs": [
    {
     "data": {
      "text/plain": [
       "{'dowody',\n",
       " 'inne_podstawy_prawne',\n",
       " 'miejsce_naruszenia',\n",
       " 'naruszenie_dobr_osobistych',\n",
       " 'naruszenie_media_spolecznosciowe',\n",
       " 'opis_naruszenia',\n",
       " 'podstawa_prawna',\n",
       " 'portale_spolecznosciowe',\n",
       " 'rodzaj_dobra_osobistego',\n",
       " 'rodzaj_naruszajacego',\n",
       " 'skala_naruszenia',\n",
       " 'zadania'}"
      ]
     },
     "execution_count": 9,
     "metadata": {},
     "output_type": "execute_result"
    }
   ],
   "source": [
    "field_names"
   ]
  },
  {
   "cell_type": "code",
   "execution_count": null,
   "metadata": {},
   "outputs": [
    {
     "data": {
      "application/vnd.jupyter.widget-view+json": {
       "model_id": "277699ecd848429c8a1912cffc324590",
       "version_major": 2,
       "version_minor": 0
      },
      "text/plain": [
       "Dropdown(description='Field:', index=4, layout=Layout(width='400px'), options=('dowody', 'inne_podstawy_prawne…"
      ]
     },
     "metadata": {},
     "output_type": "display_data"
    },
    {
     "data": {
      "application/vnd.jupyter.widget-view+json": {
       "model_id": "35fb89528ac043c3a6649519ea128e6a",
       "version_major": 2,
       "version_minor": 0
      },
      "text/plain": [
       "Output()"
      ]
     },
     "metadata": {},
     "output_type": "display_data"
    }
   ],
   "source": [
    "import ipywidgets as widgets\n",
    "from IPython.display import clear_output, display\n",
    "\n",
    "NUM_EXAMPLES = 50\n",
    "\n",
    "field_dropdown = widgets.Dropdown(\n",
    "    options=sorted(field_names),\n",
    "    value=\"naruszenie_media_spolecznosciowe\"\n",
    "    if \"naruszenie_media_spolecznosciowe\" in field_names\n",
    "    else sorted(field_names)[0],\n",
    "    description=\"Field:\",\n",
    "    style={\"description_width\": \"initial\"},\n",
    "    layout=widgets.Layout(width=\"400px\"),\n",
    ")\n",
    "\n",
    "output = widgets.Output()\n",
    "\n",
    "\n",
    "def show_examples(field):\n",
    "    with output:\n",
    "        clear_output()\n",
    "        for idx, result in detailed_judge_res.sort_values(field).head(NUM_EXAMPLES).iterrows():\n",
    "            try:\n",
    "                pred = preds.predictions[idx][field]\n",
    "                missing_keys = preds.missing_keys[idx]\n",
    "            except KeyError:\n",
    "                continue\n",
    "\n",
    "            table = [\n",
    "                [\"Index\", idx],\n",
    "                [\"Prediction\", pred or \"<null>\"],\n",
    "                [\"Gold (gpt-4.1)\", preds.gold[idx][field] or \"<null>\"],\n",
    "                [\"Score\", result[field]],\n",
    "                [\"was_missing\", int(field in missing_keys)],\n",
    "            ]\n",
    "            print(\n",
    "                tabulate(table, headers=[\"Type\", field], tablefmt=\"grid\", maxcolwidths=[None, 50])\n",
    "            )\n",
    "            print()\n",
    "\n",
    "\n",
    "def on_field_change(change):\n",
    "    if change[\"type\"] == \"change\" and change[\"name\"] == \"value\":\n",
    "        show_examples(change[\"new\"])\n",
    "\n",
    "\n",
    "field_dropdown.observe(on_field_change)\n",
    "display(field_dropdown)\n",
    "show_examples(field_dropdown.value)\n",
    "display(output)"
   ]
  }
 ],
 "metadata": {
  "kernelspec": {
   "display_name": "juddges",
   "language": "python",
   "name": "python3"
  },
  "language_info": {
   "codemirror_mode": {
    "name": "ipython",
    "version": 3
   },
   "file_extension": ".py",
   "mimetype": "text/x-python",
   "name": "python",
   "nbconvert_exporter": "python",
   "pygments_lexer": "ipython3",
   "version": "3.11.11"
  }
 },
 "nbformat": 4,
 "nbformat_minor": 2
}
