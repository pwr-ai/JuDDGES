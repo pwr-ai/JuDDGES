{
 "cells": [
  {
   "cell_type": "code",
   "execution_count": 1,
   "metadata": {},
   "outputs": [],
   "source": [
    "from datasets import load_dataset\n",
    "import seaborn as sns\n",
    "from dotenv import load_dotenv\n",
    "from juddges.settings import ROOT_PATH"
   ]
  },
  {
   "cell_type": "code",
   "execution_count": null,
   "metadata": {},
   "outputs": [],
   "source": [
    "load_dotenv(ROOT_PATH / \".env\", override=True)\n",
    "dataset = load_dataset(\"JuDDGES/nsa\")\n",
    "\n",
    "# Sample 20% of the dataset randomly\n",
    "sample_size = int(len(dataset[\"train\"]) * 0.2)\n",
    "dataset[\"train\"] = dataset[\"train\"].shuffle(seed=17).select(range(sample_size))"
   ]
  },
  {
   "cell_type": "code",
   "execution_count": 3,
   "metadata": {},
   "outputs": [],
   "source": [
    "from datetime import datetime\n",
    "\n",
    "date_column = \"The day of the judgment\"\n",
    "\n",
    "\n",
    "def date_to_datetime(entry: dict) -> dict:\n",
    "    entry[date_column] = datetime.strptime(entry[date_column], \"%Y-%m-%d\")\n",
    "    return entry\n",
    "\n",
    "\n",
    "dataset = dataset.map(date_to_datetime, num_proc=15)\n",
    "\n",
    "ds = dataset[\"train\"]\n",
    "ds_recent = ds.filter(lambda x: x[date_column] >= datetime(2020, 1, 1))\n",
    "ds = ds.map(lambda x: {\"year\": x[date_column].year}, num_proc=15)\n",
    "ds = ds.map(lambda x: {\"month\": x[date_column].month}, num_proc=15)"
   ]
  },
  {
   "cell_type": "code",
   "execution_count": null,
   "metadata": {},
   "outputs": [],
   "source": [
    "from matplotlib import pyplot as plt\n",
    "\n",
    "sns.histplot(ds[date_column])\n",
    "plt.title(\"Number of datapoints across time\")\n",
    "plt.show()\n",
    "\n",
    "sns.histplot(ds_recent[date_column])\n",
    "plt.title(\"Number of datapoints across time since 2020\")\n",
    "plt.show()"
   ]
  },
  {
   "cell_type": "code",
   "execution_count": null,
   "metadata": {},
   "outputs": [],
   "source": [
    "# Create a DataFrame and count entries per month-year combination\n",
    "df = ds.to_pandas()\n",
    "monthly_counts = df.groupby([\"year\", \"month\"]).size().reset_index(name=\"count\")\n",
    "\n",
    "# Create the line plot\n",
    "g = sns.lineplot(\n",
    "    data=monthly_counts[monthly_counts[\"year\"] != 2024],  # Plot all years except 2024\n",
    "    x=\"month\",\n",
    "    y=\"count\",\n",
    "    hue=\"year\",\n",
    ")\n",
    "\n",
    "# Add 2024 line with custom style\n",
    "sns.lineplot(\n",
    "    data=monthly_counts[monthly_counts[\"year\"] == 2024],\n",
    "    x=\"month\",\n",
    "    y=\"count\",\n",
    "    color=\"red\",\n",
    "    linewidth=3,\n",
    "    label=\"2024\",\n",
    ")\n",
    "\n",
    "# Customize the plot\n",
    "plt.xlabel(\"Month\")\n",
    "plt.ylabel(\"Number of Entries\")\n",
    "plt.title(\"Number of Entries per Month by Year\")\n",
    "plt.xticks(range(1, 13))\n",
    "\n",
    "plt.show()"
   ]
  },
  {
   "cell_type": "code",
   "execution_count": null,
   "metadata": {},
   "outputs": [],
   "source": [
    "import pandas as pd\n",
    "\n",
    "columns_to_examine = [\"Reasons for judgment\"]\n",
    "\n",
    "for column in columns_to_examine:\n",
    "    df[f\"{column}_is_na\"] = df[column].isna()\n",
    "    monthly_counts = (\n",
    "        df[df[\"year\"] > 2019]\n",
    "        .groupby([\"year\", \"month\"])[f\"{column}_is_na\"]\n",
    "        .mean()\n",
    "        .reset_index(name=\"count\")\n",
    "    )\n",
    "\n",
    "    # Create the line plot\n",
    "    ax = sns.lineplot(\n",
    "        data=monthly_counts[monthly_counts[\"year\"] != 2024],  # Plot all years except 2024\n",
    "        x=\"month\",\n",
    "        y=\"count\",\n",
    "        hue=\"year\",\n",
    "    )\n",
    "\n",
    "    # Add 2024 line with custom style\n",
    "    sns.lineplot(\n",
    "        data=monthly_counts[monthly_counts[\"year\"] == 2024],\n",
    "        x=\"month\",\n",
    "        y=\"count\",\n",
    "        color=\"red\",\n",
    "        linewidth=3,\n",
    "        label=\"2024\",\n",
    "    )\n",
    "\n",
    "    ax.set_title(f\"Ratio of {column} that is NA\")\n",
    "    plt.show()\n",
    "\n",
    "    df[\"YEAR_MONTH\"] = df[\"year\"].astype(str) + \"_\" + df[\"month\"].astype(str)\n",
    "    df[\"YEAR_MONTH\"] = pd.to_datetime(df[\"YEAR_MONTH\"], format=\"%Y_%m\")\n",
    "\n",
    "    sns.lineplot(\n",
    "        data=df,\n",
    "        x=\"year\",\n",
    "        y=f\"{column}_is_na\",\n",
    "    )\n",
    "    plt.title(f\"Ratio of {column} that is NA\")\n",
    "    plt.show()"
   ]
  },
  {
   "cell_type": "code",
   "execution_count": null,
   "metadata": {},
   "outputs": [],
   "source": [
    "monthly_counts = df.groupby([\"year\", \"month\", \"Finality\"])[\"id\"].count().reset_index(name=\"count\")\n",
    "\n",
    "monthly_counts = monthly_counts.pivot(index=[\"year\", \"month\"], columns=\"Finality\", values=\"count\")\n",
    "\n",
    "monthly_counts[\"Finality ratio\"] = monthly_counts[\"orzeczenie nieprawomocne\"] / (\n",
    "    monthly_counts[\"orzeczenie nieprawomocne\"] + monthly_counts[\"orzeczenie prawomocne\"]\n",
    ")\n",
    "\n",
    "monthly_counts = monthly_counts.reset_index()\n",
    "\n",
    "monthly_counts[\"YEAR_MONTH\"] = (\n",
    "    monthly_counts[\"year\"].astype(str) + \"_\" + monthly_counts[\"month\"].astype(str)\n",
    ")\n",
    "\n",
    "\n",
    "fig = plt.figure(figsize=(13, 4))\n",
    "# Create the line plot\n",
    "ax = sns.lineplot(\n",
    "    data=monthly_counts,\n",
    "    x=\"year\",\n",
    "    y=\"Finality ratio\",\n",
    ")\n",
    "\n",
    "ax.set_title(\"Ratio of Finality\")\n",
    "ax.set_xlabel(\"Year-Month\")\n",
    "ax.set_ylabel(\"Ratio of Finality\")\n",
    "plt.xticks(rotation=90, ha=\"right\")\n",
    "\n",
    "plt.show()"
   ]
  },
  {
   "cell_type": "markdown",
   "metadata": {},
   "source": [
    "1. There is increase of ratio of finality. And there is a spike in 2024. \n",
    "2. Ratio of lacking reasons is increasing from 2000. With a spike in last month before data was scraped.\n",
    "\n",
    "What to do?\n",
    "1. Reacquire datapoints with missing reasons.\n",
    "2. Reacquire datapoints that are not final.\n",
    "3. Do not reacquire datapoints that older than Threshold.\n"
   ]
  },
  {
   "cell_type": "code",
   "execution_count": null,
   "metadata": {},
   "outputs": [],
   "source": [
    "print(\"% of datapoints with missing reasons or not final: \")\n",
    "print(\n",
    "    f\"{(df['Reasons for judgment_is_na'] | (df['Finality'] == 'orzeczenie nieprawomocne')).mean():.2%}\"\n",
    ")"
   ]
  },
  {
   "cell_type": "code",
   "execution_count": null,
   "metadata": {},
   "outputs": [],
   "source": [
    "recent_df = df[df[\"year\"] >= 2024]\n",
    "print(\"% of datapoints with missing reasons or not final in 2024: \")\n",
    "print(\n",
    "    f\"{(recent_df['Reasons for judgment_is_na'] | (recent_df['Finality'] == 'orzeczenie nieprawomocne')).mean():.2%}\"\n",
    ")"
   ]
  },
  {
   "cell_type": "markdown",
   "metadata": {},
   "source": [
    "## Experiment with newly acquired dataset for 01.01.2024 - 05.09.2024\n",
    "\n",
    "### How many datapoints were in the old dataset?"
   ]
  },
  {
   "cell_type": "code",
   "execution_count": null,
   "metadata": {},
   "outputs": [],
   "source": [
    "new_df = pd.read_parquet(ROOT_PATH / \"data/datasets/nsa/dataset/\")\n",
    "dataset = load_dataset(\"JuDDGES/nsa\")"
   ]
  },
  {
   "cell_type": "code",
   "execution_count": 11,
   "metadata": {},
   "outputs": [],
   "source": [
    "olds_ids = set(dataset[\"train\"][\"id\"])\n",
    "new_df[\"was_in_old_dataset\"] = new_df[\"id\"].isin(olds_ids)\n",
    "new_df[\"date\"] = pd.to_datetime(new_df[\"judgment_date\"])\n",
    "new_df = new_df[new_df[\"date\"].dt.month < 9]"
   ]
  },
  {
   "cell_type": "code",
   "execution_count": null,
   "metadata": {},
   "outputs": [],
   "source": [
    "print(\n",
    "    f\"% of datapoints that were not in the old dataset: {(~new_df['was_in_old_dataset']).mean():.2%}\"\n",
    ")"
   ]
  },
  {
   "cell_type": "code",
   "execution_count": null,
   "metadata": {},
   "outputs": [],
   "source": [
    "sns.lineplot(data=new_df, x=\"date\", y=\"was_in_old_dataset\")"
   ]
  },
  {
   "cell_type": "code",
   "execution_count": 14,
   "metadata": {},
   "outputs": [],
   "source": [
    "new_df[\"month\"] = new_df[\"date\"].dt.month\n",
    "new_df[\"year\"] = new_df[\"date\"].dt.year"
   ]
  },
  {
   "cell_type": "code",
   "execution_count": null,
   "metadata": {},
   "outputs": [],
   "source": [
    "monthly_counts = (\n",
    "    new_df.groupby([\"year\", \"month\", \"was_in_old_dataset\"])[\"id\"].count().reset_index(name=\"count\")\n",
    ")\n",
    "\n",
    "monthly_counts = monthly_counts.pivot(index=[\"month\"], columns=\"was_in_old_dataset\", values=\"count\")\n",
    "\n",
    "monthly_counts[\"ratio\"] = monthly_counts[False] / (monthly_counts[False] + monthly_counts[True])\n",
    "\n",
    "monthly_counts = monthly_counts.reset_index()\n",
    "\n",
    "\n",
    "fig = plt.figure(figsize=(13, 4))\n",
    "# Create the line plot\n",
    "ax = sns.lineplot(\n",
    "    data=monthly_counts,\n",
    "    x=\"month\",\n",
    "    y=\"ratio\",\n",
    ")\n",
    "\n",
    "ax.set_title(\"Ratio of datapoints that were not in the old dataset\")\n",
    "ax.set_xlabel(\"Month\")\n",
    "ax.set_ylabel(\"Ratio of datapoints that were not in the old dataset\")\n",
    "plt.xticks(rotation=90, ha=\"right\")\n",
    "\n",
    "plt.show()"
   ]
  },
  {
   "cell_type": "markdown",
   "metadata": {},
   "source": [
    "### How many OLD datapoints were in the NEW dataset?"
   ]
  },
  {
   "cell_type": "code",
   "execution_count": null,
   "metadata": {},
   "outputs": [],
   "source": [
    "dataset = load_dataset(\"JuDDGES/nsa\")\n",
    "\n",
    "date_column = \"The day of the judgment\"\n",
    "dataset = dataset.filter(lambda x: x[date_column].startswith(\"2024-\"), num_proc=15)\n",
    "\n",
    "\n",
    "def date_to_datetime(entry: dict) -> dict:\n",
    "    entry[date_column] = datetime.strptime(entry[date_column], \"%Y-%m-%d\")\n",
    "    return entry\n",
    "\n",
    "\n",
    "dataset = dataset.map(date_to_datetime, num_proc=15)\n",
    "ds = dataset[\"train\"]\n",
    "ds = ds.map(lambda x: {\"year\": x[date_column].year}, num_proc=15)\n",
    "ds = ds.map(lambda x: {\"month\": x[date_column].month}, num_proc=15)\n",
    "ds = ds.filter(lambda x: x[\"month\"] < 9, num_proc=15)"
   ]
  },
  {
   "cell_type": "code",
   "execution_count": 17,
   "metadata": {},
   "outputs": [],
   "source": [
    "df = ds.to_pandas()\n",
    "df[\"is_in_new_dataset\"] = df[\"id\"].isin(set(new_df[\"id\"]))"
   ]
  },
  {
   "cell_type": "code",
   "execution_count": null,
   "metadata": {},
   "outputs": [],
   "source": [
    "print(f\"% of datapoints that are not in the new dataset: {(~df['is_in_new_dataset']).mean():.2%}\")"
   ]
  },
  {
   "cell_type": "code",
   "execution_count": null,
   "metadata": {},
   "outputs": [],
   "source": [
    "df[date_column].sort_values()"
   ]
  },
  {
   "cell_type": "code",
   "execution_count": null,
   "metadata": {},
   "outputs": [],
   "source": [
    "new_df[\"date\"].sort_values()"
   ]
  },
  {
   "cell_type": "code",
   "execution_count": null,
   "metadata": {},
   "outputs": [],
   "source": [
    "df.groupby([\"is_in_new_dataset\", \"month\"])[\"id\"].count().reset_index(name=\"count\")"
   ]
  },
  {
   "cell_type": "markdown",
   "metadata": {},
   "source": [
    "### Do Reasons and finality change?"
   ]
  },
  {
   "cell_type": "code",
   "execution_count": null,
   "metadata": {},
   "outputs": [],
   "source": [
    "print(\"Year 2024\")\n",
    "print(f\"% of datapoints with missing reasons: {df['Reasons for judgment'].isna().mean():.2%}\")\n",
    "print(\n",
    "    f\"% of datapoints that are not final: {(df['Finality'] == 'orzeczenie nieprawomocne').mean():.2%}\"\n",
    ")"
   ]
  },
  {
   "cell_type": "code",
   "execution_count": null,
   "metadata": {},
   "outputs": [],
   "source": [
    "ids = df[df[\"Reasons for judgment\"].isna() & df[\"id\"].isin(set(new_df[\"id\"]))][\"id\"]\n",
    "\n",
    "print(\n",
    "    f\"% of datapoints with changed reasons: {1 -new_df[new_df['id'].isin(ids)]['reasons'].isna().mean():.2%}\"\n",
    ")"
   ]
  },
  {
   "cell_type": "code",
   "execution_count": null,
   "metadata": {},
   "outputs": [],
   "source": [
    "new_df[new_df[\"id\"].isin(ids)][~new_df[new_df[\"id\"].isin(ids)][\"reasons\"].isna()].head(2)"
   ]
  },
  {
   "cell_type": "code",
   "execution_count": null,
   "metadata": {},
   "outputs": [],
   "source": [
    "display(df[df[\"id\"] == \"/doc/39457A5C4B\"][\"Reasons for judgment\"])\n",
    "display(new_df[new_df[\"id\"] == \"/doc/39457A5C4B\"][\"reasons\"])"
   ]
  },
  {
   "cell_type": "code",
   "execution_count": null,
   "metadata": {},
   "outputs": [],
   "source": [
    "df[\"Finality\"].value_counts()"
   ]
  },
  {
   "cell_type": "code",
   "execution_count": null,
   "metadata": {},
   "outputs": [],
   "source": [
    "ids = df[(df[\"Finality\"] == \"orzeczenie nieprawomocne\") & df[\"id\"].isin(set(new_df[\"id\"]))][\"id\"]\n",
    "df_ = new_df[new_df[\"id\"].isin(ids)]\n",
    "x = (df_[\"finality\"] != \"orzeczenie nieprawomocne\").mean()\n",
    "\n",
    "print(f\"% of datapoints with changed finality: {x:.2%}\")"
   ]
  },
  {
   "cell_type": "code",
   "execution_count": null,
   "metadata": {},
   "outputs": [],
   "source": [
    "df_[df_[\"finality\"] != \"orzeczenie nieprawomocne\"].head(2)"
   ]
  },
  {
   "cell_type": "code",
   "execution_count": null,
   "metadata": {},
   "outputs": [],
   "source": [
    "display(df[df[\"id\"] == \"/doc/F9FAF349CB\"][\"Finality\"])\n",
    "display(new_df[new_df[\"id\"] == \"/doc/F9FAF349CB\"][\"finality\"])"
   ]
  }
 ],
 "metadata": {
  "kernelspec": {
   "display_name": "JuDDGES",
   "language": "python",
   "name": "python3"
  },
  "language_info": {
   "codemirror_mode": {
    "name": "ipython",
    "version": 3
   },
   "file_extension": ".py",
   "mimetype": "text/x-python",
   "name": "python",
   "nbconvert_exporter": "python",
   "pygments_lexer": "ipython3",
   "version": "3.11.9"
  }
 },
 "nbformat": 4,
 "nbformat_minor": 2
}
