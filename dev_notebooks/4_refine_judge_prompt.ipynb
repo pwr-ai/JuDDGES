{
 "cells": [
  {
   "cell_type": "code",
   "execution_count": null,
   "id": "80f88e27",
   "metadata": {},
   "outputs": [],
   "source": [
    "%load_ext autoreload\n",
    "%autoreload 2"
   ]
  },
  {
   "cell_type": "code",
   "execution_count": null,
   "id": "abbca89f",
   "metadata": {},
   "outputs": [],
   "source": [
    "import json\n",
    "import textwrap\n",
    "\n",
    "import pandas as pd\n",
    "from dotenv import load_dotenv\n",
    "from langchain.globals import set_llm_cache\n",
    "from langchain_community.cache import SQLiteCache\n",
    "from langchain_openai import ChatOpenAI\n",
    "\n",
    "from juddges.llm_as_judge.base import SYSTEM_PROMPT, USER_PROMPT\n",
    "from juddges.llm_as_judge.data_model import PredictionLoader\n",
    "from juddges.llm_as_judge.judge import StructuredOutputJudge\n",
    "\n",
    "load_dotenv()"
   ]
  },
  {
   "cell_type": "code",
   "execution_count": null,
   "id": "0c7a0ecd",
   "metadata": {},
   "outputs": [],
   "source": [
    "pred_dir = \"data/experiments/predict/raw_vllm/pl_court_personal_rights/qwen_3_32b/info_extraction_annotated_json_refined/personal_rights/seed_42/\"\n",
    "pred_loader = PredictionLoader(root_dir=pred_dir, judge_name=\"gpt-4.1-mini\")\n",
    "preds = pred_loader.load_predictions(verbose=True)\n",
    "preds.get_stats()\n",
    "\n",
    "judge_res = json.loads(pred_loader.llm_judge_scores_file.read_text())\n"
   ]
  },
  {
   "cell_type": "code",
   "execution_count": null,
   "id": "df4480cb",
   "metadata": {},
   "outputs": [],
   "source": [
    "chat = ChatOpenAI(model=\"gpt-4.1-mini\", temperature=0)\n",
    "set_llm_cache(SQLiteCache(str(\".llm_as_judge_cache.db\")))\n",
    "judge = StructuredOutputJudge(\n",
    "    client=chat,\n",
    "    pred_loader=pred_loader,\n",
    "    max_concurrent_calls=1,\n",
    "    verbose=True,\n",
    ")"
   ]
  },
  {
   "cell_type": "code",
   "execution_count": null,
   "id": "d48105a2",
   "metadata": {},
   "outputs": [],
   "source": [
    "system_prompt = SYSTEM_PROMPT\n",
    "user_prompt = USER_PROMPT\n",
    "\n",
    "\n",
    "system_prompt = \"\"\"\n",
    "You are professional judge that evaluates the accuracy of structured outputs.\n",
    "* Each time you are given <Schema>, <Output>, <Expected Outputs>\n",
    "* You should evaluate each key separately based on the reference in <Expected Outputs> and the properties in <Schema>.\n",
    "* When comparing free-form text, asses semantics of the texts, they could differ but the meaning should be the same.\n",
    "* You should ignore minor typos and formatting differences (e.g different formatting of legal provisions).\n",
    "* When comparing enum values, you must always check for exact match.\n",
    "* When comparing lists, \n",
    "    * match the most similar items, ignoring their order, \n",
    "    * for each pair of items, score them based on the type of the items.\n",
    "    * return the average score for the list.\n",
    "* If there is a null value being compared to a non-null value, you should assign a score of 0.\n",
    "* If a key is in the reference but missing in the output, assign score 0; ignore extra keys in output.\n",
    "\"\"\"\n",
    "system_prompt = textwrap.dedent(system_prompt)\n",
    "\n",
    "user_prompt = \"\"\"\n",
    "Please evaluate the accuracy of the following output keys according to these schema:\n",
    "<Schema>\n",
    "{schema}\n",
    "</Schema>\n",
    "\n",
    "<Outputs>\n",
    "{outputs}\n",
    "</Outputs>\n",
    "\n",
    "<Expected Outputs>\n",
    "{reference_outputs}\n",
    "</Expected Outputs>\n",
    "\"\"\"\n",
    "user_prompt = textwrap.dedent(user_prompt)\n",
    "\n",
    "\n",
    "print(system_prompt)\n",
    "print(\"--------------------------------\")\n",
    "print(user_prompt)"
   ]
  },
  {
   "cell_type": "code",
   "execution_count": null,
   "id": "ca392f41",
   "metadata": {},
   "outputs": [],
   "source": [
    "INDEX = 731\n",
    "messages = judge.prepare_single_item_messages(\n",
    "    pred=preds.predictions[INDEX],\n",
    "    gold=preds.gold[INDEX],\n",
    "    user_prompt=user_prompt,\n",
    "    system_prompt=system_prompt,\n",
    ")\n",
    "res = await judge.evaluate_single_item(messages)\n",
    "\n",
    "pd.DataFrame.from_dict(preds.gold[INDEX], orient=\"index\", columns=[\"Expected Output\"]).join(\n",
    "    pd.DataFrame.from_dict(preds.predictions[INDEX], orient=\"index\", columns=[\"Predicted Output\"])\n",
    ").join(pd.DataFrame(res.result).T.round(3))"
   ]
  }
 ],
 "metadata": {
  "kernelspec": {
   "display_name": "juddges",
   "language": "python",
   "name": "python3"
  },
  "language_info": {
   "codemirror_mode": {
    "name": "ipython",
    "version": 3
   },
   "file_extension": ".py",
   "mimetype": "text/x-python",
   "name": "python",
   "nbconvert_exporter": "python",
   "pygments_lexer": "ipython3",
   "version": "3.11.11"
  }
 },
 "nbformat": 4,
 "nbformat_minor": 5
}
