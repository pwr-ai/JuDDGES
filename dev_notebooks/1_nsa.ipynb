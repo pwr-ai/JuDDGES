{
 "cells": [
  {
   "cell_type": "code",
   "execution_count": null,
   "id": "initial_id",
   "metadata": {
    "collapsed": true
   },
   "outputs": [],
   "source": []
  },
  {
   "cell_type": "code",
   "execution_count": null,
   "id": "35cacc1fa81ddb19",
   "metadata": {},
   "outputs": [],
   "source": [
    "from juddges.settings import NSA_DATA_PATH\n",
    "import polars as pl\n",
    "\n",
    "lf = pl.scan_parquet(NSA_DATA_PATH / \"pages\" / \"pages_chunk_*.parquet\")"
   ]
  },
  {
   "cell_type": "code",
   "execution_count": null,
   "id": "e78353dea1beaef0",
   "metadata": {},
   "outputs": [],
   "source": [
    "duplicated_page_rows = lf.with_columns(\n",
    "    pl.col(\"page\").is_duplicated().alias(\"is_duplicated\")\n",
    ").filter(pl.col(\"is_duplicated\"))"
   ]
  },
  {
   "cell_type": "code",
   "execution_count": null,
   "id": "35612f1e8a6a627",
   "metadata": {},
   "outputs": [],
   "source": [
    "duplicate_count = duplicated_page_rows.count().collect()\n",
    "print(f\"Number of duplicated page rows: {duplicate_count['_id'].item()}\")"
   ]
  },
  {
   "cell_type": "code",
   "execution_count": null,
   "id": "ad853048e5d5b1c8",
   "metadata": {},
   "outputs": [],
   "source": [
    "duplicated_rows_df = duplicated_page_rows.drop(\"is_duplicated\").collect()"
   ]
  },
  {
   "cell_type": "code",
   "execution_count": null,
   "id": "d55f61169889dace",
   "metadata": {},
   "outputs": [],
   "source": [
    "print(duplicated_rows_df.estimated_size(\"mb\"))\n",
    "duplicated_rows_df = duplicated_rows_df.shrink_to_fit()\n",
    "print(duplicated_rows_df.estimated_size(\"mb\"))"
   ]
  },
  {
   "cell_type": "code",
   "execution_count": null,
   "id": "6a3bad6c8bb08ab6",
   "metadata": {},
   "outputs": [],
   "source": [
    "grouped_doc_ids = duplicated_rows_df.group_by(\"page\").agg(pl.col(\"doc_id\"))"
   ]
  },
  {
   "cell_type": "code",
   "execution_count": null,
   "id": "224d3147bf2276ad",
   "metadata": {},
   "outputs": [],
   "source": [
    "for row in grouped_doc_ids.iter_rows():\n",
    "    page, doc_ids = row\n",
    "    # print(f\"Page: {page}\")\n",
    "    print(page)\n",
    "    for doc_id in doc_ids:\n",
    "        print(f\"https://orzeczenia.nsa.gov.pl{doc_id}\")\n",
    "    print(\"=\" * 80)\n",
    "    break"
   ]
  },
  {
   "cell_type": "code",
   "execution_count": null,
   "id": "65f799364fa0ce74",
   "metadata": {},
   "outputs": [],
   "source": [
    "duplicated_id_rows = lf.with_columns(\n",
    "    pl.col(\"doc_id\").is_duplicated().alias(\"is_duplicated\")\n",
    ").filter(pl.col(\"is_duplicated\"))\n",
    "duplicate_count = duplicated_id_rows.count().collect()\n",
    "print(f\"Number of duplicated page rows: {duplicate_count['_id'].item()}\")\n",
    "assert duplicate_count[\"_id\"].item() == 0\n",
    "# duplicated_rows_df = duplicated_id_rows.drop(\"is_duplicated\").collect()\n",
    "# print(duplicated_rows_df.estimated_size(\"mb\"))\n",
    "# duplicated_rows_df = duplicated_rows_df.shrink_to_fit()\n",
    "# print(duplicated_rows_df.estimated_size(\"mb\"))"
   ]
  },
  {
   "cell_type": "code",
   "execution_count": null,
   "id": "3e1e5396bfe4359",
   "metadata": {},
   "outputs": [],
   "source": [
    "duplicated_id_rows = lf.with_columns(pl.col(\"_id\").is_duplicated().alias(\"is_duplicated\")).filter(\n",
    "    pl.col(\"is_duplicated\")\n",
    ")\n",
    "duplicate_count = duplicated_id_rows.count().collect()\n",
    "print(f\"Number of duplicated page rows: {duplicate_count['_id'].item()}\")\n",
    "assert duplicate_count[\"_id\"].item() == 0\n",
    "# duplicated_rows_df = duplicated_id_rows.drop(\"is_duplicated\").collect()\n",
    "# print(duplicated_rows_df.estimated_size(\"mb\"))\n",
    "# duplicated_rows_df = duplicated_rows_df.shrink_to_fit()\n",
    "# print(duplicated_rows_df.estimated_size(\"mb\"))"
   ]
  },
  {
   "cell_type": "markdown",
   "id": "dd4af969af31828f",
   "metadata": {},
   "source": ""
  },
  {
   "cell_type": "markdown",
   "id": "165d323f3a754352",
   "metadata": {},
   "source": ""
  },
  {
   "cell_type": "code",
   "execution_count": null,
   "id": "fa3f86fd9d1b5da9",
   "metadata": {},
   "outputs": [],
   "source": [
    "test_strs = [\n",
    "    '<span class=\"h-oper\">\\n             Szczegóły orzeczenia\\n            </span>',\n",
    "    \"<title>\",\n",
    "    \"</title>\",\n",
    "    '<td class=\"lista-label\">\\n            Data orzeczenia\\n           </td>',\n",
    "    '<span class=\"navl\">\\n        Powrót do listy\\n       </span>',\n",
    "    '<a href=\"/cbo/query\">\\n           Centralna Baza Orzeczeń Sądów Administracyjnych\\n          </a>',\n",
    "    '<div id=\"sp\">\\n      Powered by SoftProdukt\\n     </div>',\n",
    "]\n",
    "\n",
    "for test_str in test_strs:\n",
    "    print(f\"Test string: {repr(test_str)}\")\n",
    "    filtered_rows = lf.filter(pl.col(\"page\").str.contains(test_str))\n",
    "\n",
    "    # # Collect the count of filtered rows\n",
    "    # filtered_count = filtered_rows.count().collect()[0, 0]\n",
    "    #\n",
    "    # # Collect the total count of rows\n",
    "    # total_count = lf.count().collect()[0, 0]\n",
    "    #\n",
    "    # # Check if all pages contain the substring\n",
    "    # all_contain = filtered_count == total_count\n",
    "\n",
    "    # Collect the count of filtered rows\n",
    "    filtered_count = filtered_rows.select(pl.count()).collect()[0, 0]\n",
    "\n",
    "    # Collect the total count of rows\n",
    "    total_count = lf.select(pl.count()).collect()[0, 0]\n",
    "\n",
    "    # Check if all pages contain the substring\n",
    "    all_contain = filtered_count == total_count\n",
    "\n",
    "    print(f\"All pages contain the substring: {all_contain}\")\n",
    "\n",
    "    # if not print example without the substring\n",
    "    if not all_contain:\n",
    "        example = lf.filter(pl.col(\"page\").str.contains(test_str).not_()).collect()[0:1]\n",
    "        print(\"Example:\")\n",
    "        print(example)\n",
    "        break\n",
    "    print(\"=\" * 80)\n",
    "    print()"
   ]
  },
  {
   "cell_type": "code",
   "execution_count": null,
   "id": "fd8407a0c08061c9",
   "metadata": {},
   "outputs": [],
   "source": []
  }
 ],
 "metadata": {
  "kernelspec": {
   "display_name": "JuDDGES",
   "language": "python",
   "name": "juddges"
  },
  "language_info": {
   "codemirror_mode": {
    "name": "ipython",
    "version": 2
   },
   "file_extension": ".py",
   "mimetype": "text/x-python",
   "name": "python",
   "nbconvert_exporter": "python",
   "pygments_lexer": "ipython2",
   "version": "2.7.6"
  }
 },
 "nbformat": 4,
 "nbformat_minor": 5
}
