{
 "cells": [
  {
   "cell_type": "code",
   "id": "initial_id",
   "metadata": {
    "collapsed": true
   },
   "source": "",
   "outputs": [],
   "execution_count": null
  },
  {
   "metadata": {},
   "cell_type": "code",
   "source": [
    "from juddges.settings import NSA_DATA_PATH\n",
    "import polars as pl\n",
    "lf = pl.scan_parquet(NSA_DATA_PATH / \"pages\" / \"pages_chunk_*.parquet\")"
   ],
   "id": "35cacc1fa81ddb19",
   "outputs": [],
   "execution_count": null
  },
  {
   "metadata": {},
   "cell_type": "code",
   "source": [
    "duplicated_page_rows = lf.with_columns(pl.col(\"page\").is_duplicated().alias(\"is_duplicated\")) \\\n",
    "                    .filter(pl.col(\"is_duplicated\"))"
   ],
   "id": "e78353dea1beaef0",
   "outputs": [],
   "execution_count": null
  },
  {
   "metadata": {},
   "cell_type": "code",
   "source": [
    "duplicate_count = duplicated_page_rows.count().collect()\n",
    "print(f\"Number of duplicated page rows: {duplicate_count['_id'].item()}\")"
   ],
   "id": "35612f1e8a6a627",
   "outputs": [],
   "execution_count": null
  },
  {
   "metadata": {},
   "cell_type": "code",
   "source": "duplicated_rows_df = duplicated_page_rows.drop(\"is_duplicated\").collect()",
   "id": "ad853048e5d5b1c8",
   "outputs": [],
   "execution_count": null
  },
  {
   "metadata": {},
   "cell_type": "code",
   "source": [
    "print(duplicated_rows_df.estimated_size(\"mb\"))\n",
    "duplicated_rows_df = duplicated_rows_df.shrink_to_fit()\n",
    "print(duplicated_rows_df.estimated_size(\"mb\"))"
   ],
   "id": "d55f61169889dace",
   "outputs": [],
   "execution_count": null
  },
  {
   "metadata": {},
   "cell_type": "code",
   "source": "grouped_doc_ids = duplicated_rows_df.group_by(\"page\").agg(pl.col(\"doc_id\"))",
   "id": "6a3bad6c8bb08ab6",
   "outputs": [],
   "execution_count": null
  },
  {
   "metadata": {},
   "cell_type": "code",
   "source": [
    "for row in grouped_doc_ids.iter_rows():\n",
    "    page, doc_ids = row\n",
    "    # print(f\"Page: {page}\")\n",
    "    print(page)\n",
    "    for doc_id in doc_ids:\n",
    "        print(f\"https://orzeczenia.nsa.gov.pl{doc_id}\")\n",
    "    print(\"=\" * 80)\n",
    "    break"
   ],
   "id": "224d3147bf2276ad",
   "outputs": [],
   "execution_count": null
  },
  {
   "metadata": {},
   "cell_type": "code",
   "source": [
    "duplicated_id_rows = lf.with_columns(pl.col(\"doc_id\").is_duplicated().alias(\"is_duplicated\")) \\\n",
    "    .filter(pl.col(\"is_duplicated\"))\n",
    "duplicate_count = duplicated_id_rows.count().collect()\n",
    "print(f\"Number of duplicated page rows: {duplicate_count['_id'].item()}\")\n",
    "assert duplicate_count['_id'].item() == 0\n",
    "# duplicated_rows_df = duplicated_id_rows.drop(\"is_duplicated\").collect()\n",
    "# print(duplicated_rows_df.estimated_size(\"mb\"))\n",
    "# duplicated_rows_df = duplicated_rows_df.shrink_to_fit()\n",
    "# print(duplicated_rows_df.estimated_size(\"mb\"))"
   ],
   "id": "65f799364fa0ce74",
   "outputs": [],
   "execution_count": null
  },
  {
   "metadata": {},
   "cell_type": "code",
   "source": [
    "duplicated_id_rows = lf.with_columns(pl.col(\"_id\").is_duplicated().alias(\"is_duplicated\")) \\\n",
    "    .filter(pl.col(\"is_duplicated\"))\n",
    "duplicate_count = duplicated_id_rows.count().collect()\n",
    "print(f\"Number of duplicated page rows: {duplicate_count['_id'].item()}\")\n",
    "assert duplicate_count['_id'].item() == 0\n",
    "# duplicated_rows_df = duplicated_id_rows.drop(\"is_duplicated\").collect()\n",
    "# print(duplicated_rows_df.estimated_size(\"mb\"))\n",
    "# duplicated_rows_df = duplicated_rows_df.shrink_to_fit()\n",
    "# print(duplicated_rows_df.estimated_size(\"mb\"))"
   ],
   "id": "3e1e5396bfe4359",
   "outputs": [],
   "execution_count": null
  },
  {
   "metadata": {},
   "cell_type": "markdown",
   "source": "",
   "id": "dd4af969af31828f"
  },
  {
   "metadata": {},
   "cell_type": "markdown",
   "source": "",
   "id": "165d323f3a754352"
  },
  {
   "metadata": {},
   "cell_type": "code",
   "source": [
    "test_strs = ['<span class=\"h-oper\">\\n             Szczegóły orzeczenia\\n            </span>', \"<title>\", \"</title>\", '<td class=\"lista-label\">\\n            Data orzeczenia\\n           </td>',  '<span class=\"navl\">\\n        Powrót do listy\\n       </span>', '<a href=\"/cbo/query\">\\n           Centralna Baza Orzeczeń Sądów Administracyjnych\\n          </a>', '<div id=\"sp\">\\n      Powered by SoftProdukt\\n     </div>']\n",
    "\n",
    "for test_str in test_strs:\n",
    "    print(f\"Test string: {repr(test_str)}\")\n",
    "    filtered_rows = lf.filter(pl.col('page').str.contains(test_str))\n",
    "    \n",
    "    # # Collect the count of filtered rows\n",
    "    # filtered_count = filtered_rows.count().collect()[0, 0]\n",
    "    # \n",
    "    # # Collect the total count of rows\n",
    "    # total_count = lf.count().collect()[0, 0]\n",
    "    # \n",
    "    # # Check if all pages contain the substring\n",
    "    # all_contain = filtered_count == total_count\n",
    "    \n",
    "    # Collect the count of filtered rows\n",
    "    filtered_count = filtered_rows.select(pl.count()).collect()[0, 0]\n",
    "\n",
    "    # Collect the total count of rows\n",
    "    total_count = lf.select(pl.count()).collect()[0, 0]\n",
    "\n",
    "    # Check if all pages contain the substring\n",
    "    all_contain = filtered_count == total_count\n",
    "    \n",
    "    print(f\"All pages contain the substring: {all_contain}\")\n",
    "    \n",
    "    # if not print example without the substring\n",
    "    if not all_contain:\n",
    "        example = lf.filter(pl.col('page').str.contains(test_str).not_()).collect()[0:1]\n",
    "        print(f\"Example:\")\n",
    "        print(example)\n",
    "        break\n",
    "    print(\"=\" * 80)\n",
    "    print()\n",
    "    "
   ],
   "id": "fa3f86fd9d1b5da9",
   "outputs": [],
   "execution_count": null
  },
  {
   "metadata": {},
   "cell_type": "code",
   "source": "",
   "id": "fd8407a0c08061c9",
   "outputs": [],
   "execution_count": null
  }
 ],
 "metadata": {
  "kernelspec": {
   "display_name": "JuDDGES",
   "language": "python",
   "name": "juddges"
  },
  "language_info": {
   "codemirror_mode": {
    "name": "ipython",
    "version": 2
   },
   "file_extension": ".py",
   "mimetype": "text/x-python",
   "name": "python",
   "nbconvert_exporter": "python",
   "pygments_lexer": "ipython2",
   "version": "2.7.6"
  }
 },
 "nbformat": 4,
 "nbformat_minor": 5
}
