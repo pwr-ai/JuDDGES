{
 "cells": [
  {
   "cell_type": "code",
   "execution_count": 1,
   "metadata": {},
   "outputs": [],
   "source": [
    "%load_ext autoreload\n",
    "%autoreload 2"
   ]
  },
  {
   "cell_type": "code",
   "execution_count": 2,
   "metadata": {},
   "outputs": [],
   "source": [
    "import pandas as pd\n",
    "from tqdm.auto import tqdm\n",
    "\n",
    "from juddges.llm_as_judge.data_model import PredictionLoader\n",
    "from juddges.llm_as_judge.result_loading import (\n",
    "    llm_as_judge_avg_scores,\n",
    "    ngram_avg_scores,\n",
    ")"
   ]
  },
  {
   "cell_type": "code",
   "execution_count": 3,
   "metadata": {},
   "outputs": [
    {
     "data": {
      "application/vnd.jupyter.widget-view+json": {
       "model_id": "967af7da501d4ecfb735c9a689a71b6c",
       "version_major": 2,
       "version_minor": 0
      },
      "text/plain": [
       "  0%|          | 0/2 [00:00<?, ?it/s]"
      ]
     },
     "metadata": {},
     "output_type": "display_data"
    },
    {
     "data": {
      "application/vnd.jupyter.widget-view+json": {
       "model_id": "8ffd9bb7b662428eafabd5cccd58da8d",
       "version_major": 2,
       "version_minor": 0
      },
      "text/plain": [
       "Loading predictions:   0%|          | 0/1811 [00:00<?, ?it/s]"
      ]
     },
     "metadata": {},
     "output_type": "display_data"
    },
    {
     "data": {
      "application/vnd.jupyter.widget-view+json": {
       "model_id": "629e95c20f8c4f4ca0770b765505f7f9",
       "version_major": 2,
       "version_minor": 0
      },
      "text/plain": [
       "Loading predictions:   0%|          | 0/1811 [00:00<?, ?it/s]"
      ]
     },
     "metadata": {},
     "output_type": "display_data"
    }
   ],
   "source": [
    "res_dirs = [\n",
    "    \"data/experiments/predict/raw_vllm/pl_court_personal_rights/qwen_3_32b/info_extraction_annotated_json_refined/personal_rights/seed_42/\",\n",
    "    \"data/experiments/predict/raw_vllm/pl_court_personal_rights/llama_3.1_8b_instruct/info_extraction_annotated_json_refined/personal_rights/seed_42/\",\n",
    "]\n",
    "\n",
    "\n",
    "judge_resutls = {}\n",
    "ngram_results = {}\n",
    "for rdir in tqdm(res_dirs):\n",
    "    pred_loader = PredictionLoader(root_dir=rdir, judge_name=\"gpt-4.1-mini\")\n",
    "    preds = pred_loader.load_predictions(verbose=True)\n",
    "    res_judge = llm_as_judge_avg_scores(pred_loader)\n",
    "    res_ngram = ngram_avg_scores(pred_loader)\n",
    "    judge_resutls[pred_loader.config.llm.name] = res_judge\n",
    "    ngram_results[pred_loader.config.llm.name] = res_ngram"
   ]
  },
  {
   "cell_type": "code",
   "execution_count": 4,
   "metadata": {},
   "outputs": [
    {
     "data": {
      "text/html": [
       "<div>\n",
       "<style scoped>\n",
       "    .dataframe tbody tr th:only-of-type {\n",
       "        vertical-align: middle;\n",
       "    }\n",
       "\n",
       "    .dataframe tbody tr th {\n",
       "        vertical-align: top;\n",
       "    }\n",
       "\n",
       "    .dataframe thead th {\n",
       "        text-align: right;\n",
       "    }\n",
       "</style>\n",
       "<table border=\"1\" class=\"dataframe\">\n",
       "  <thead>\n",
       "    <tr style=\"text-align: right;\">\n",
       "      <th></th>\n",
       "      <th>Qwen3-32B (mean)</th>\n",
       "      <th>Llama-3.1-8B-Instruct (mean)</th>\n",
       "    </tr>\n",
       "    <tr>\n",
       "      <th>field</th>\n",
       "      <th></th>\n",
       "      <th></th>\n",
       "    </tr>\n",
       "  </thead>\n",
       "  <tbody>\n",
       "    <tr>\n",
       "      <th>dowody</th>\n",
       "      <td>0.833759</td>\n",
       "      <td>0.425818</td>\n",
       "    </tr>\n",
       "    <tr>\n",
       "      <th>inne_podstawy_prawne</th>\n",
       "      <td>0.373144</td>\n",
       "      <td>0.337033</td>\n",
       "    </tr>\n",
       "    <tr>\n",
       "      <th>miejsce_naruszenia</th>\n",
       "      <td>0.554942</td>\n",
       "      <td>0.394809</td>\n",
       "    </tr>\n",
       "    <tr>\n",
       "      <th>naruszenie_dobr_osobistych</th>\n",
       "      <td>0.768084</td>\n",
       "      <td>0.694644</td>\n",
       "    </tr>\n",
       "    <tr>\n",
       "      <th>naruszenie_media_spolecznosciowe</th>\n",
       "      <td>0.212038</td>\n",
       "      <td>0.134732</td>\n",
       "    </tr>\n",
       "  </tbody>\n",
       "</table>\n",
       "</div>"
      ],
      "text/plain": [
       "                                  Qwen3-32B (mean)  \\\n",
       "field                                                \n",
       "dowody                                    0.833759   \n",
       "inne_podstawy_prawne                      0.373144   \n",
       "miejsce_naruszenia                        0.554942   \n",
       "naruszenie_dobr_osobistych                0.768084   \n",
       "naruszenie_media_spolecznosciowe          0.212038   \n",
       "\n",
       "                                  Llama-3.1-8B-Instruct (mean)  \n",
       "field                                                           \n",
       "dowody                                                0.425818  \n",
       "inne_podstawy_prawne                                  0.337033  \n",
       "miejsce_naruszenia                                    0.394809  \n",
       "naruszenie_dobr_osobistych                            0.694644  \n",
       "naruszenie_media_spolecznosciowe                      0.134732  "
      ]
     },
     "execution_count": 4,
     "metadata": {},
     "output_type": "execute_result"
    }
   ],
   "source": [
    "dfs = []\n",
    "for llm_name, res_judge in judge_resutls.items():\n",
    "    llm_name = llm_name.split(\"/\")[-1]\n",
    "    mean_col = f\"{llm_name} (mean)\"\n",
    "    se_col = f\"{llm_name} (SE)\"\n",
    "    res_judge = res_judge.rename(columns={\"mean_judge_score\": mean_col, \"se_judge_score\": se_col})[[mean_col]]\n",
    "    dfs.append(res_judge)\n",
    "\n",
    "df = pd.concat(dfs, axis=1)\n",
    "df.head()"
   ]
  },
  {
   "cell_type": "code",
   "execution_count": 5,
   "metadata": {},
   "outputs": [
    {
     "data": {
      "text/html": [
       "<div>\n",
       "<style scoped>\n",
       "    .dataframe tbody tr th:only-of-type {\n",
       "        vertical-align: middle;\n",
       "    }\n",
       "\n",
       "    .dataframe tbody tr th {\n",
       "        vertical-align: top;\n",
       "    }\n",
       "\n",
       "    .dataframe thead th {\n",
       "        text-align: right;\n",
       "    }\n",
       "</style>\n",
       "<table border=\"1\" class=\"dataframe\">\n",
       "  <thead>\n",
       "    <tr style=\"text-align: right;\">\n",
       "      <th></th>\n",
       "      <th></th>\n",
       "      <th>Qwen3-32B (mean)</th>\n",
       "      <th>Llama-3.1-8B-Instruct (mean)</th>\n",
       "    </tr>\n",
       "    <tr>\n",
       "      <th>field</th>\n",
       "      <th>ngram_metric</th>\n",
       "      <th></th>\n",
       "      <th></th>\n",
       "    </tr>\n",
       "  </thead>\n",
       "  <tbody>\n",
       "    <tr>\n",
       "      <th>dowody</th>\n",
       "      <th>f1</th>\n",
       "      <td>0.737483</td>\n",
       "      <td>0.365567</td>\n",
       "    </tr>\n",
       "    <tr>\n",
       "      <th>inne_podstawy_prawne</th>\n",
       "      <th>f1</th>\n",
       "      <td>0.043381</td>\n",
       "      <td>0.000777</td>\n",
       "    </tr>\n",
       "    <tr>\n",
       "      <th>miejsce_naruszenia</th>\n",
       "      <th>exact_match</th>\n",
       "      <td>0.558628</td>\n",
       "      <td>0.428096</td>\n",
       "    </tr>\n",
       "    <tr>\n",
       "      <th>naruszenie_dobr_osobistych</th>\n",
       "      <th>exact_match</th>\n",
       "      <td>0.768805</td>\n",
       "      <td>0.690172</td>\n",
       "    </tr>\n",
       "    <tr>\n",
       "      <th>naruszenie_media_spolecznosciowe</th>\n",
       "      <th>exact_match</th>\n",
       "      <td>0.201327</td>\n",
       "      <td>0.091616</td>\n",
       "    </tr>\n",
       "  </tbody>\n",
       "</table>\n",
       "</div>"
      ],
      "text/plain": [
       "                                               Qwen3-32B (mean)  \\\n",
       "field                            ngram_metric                     \n",
       "dowody                           f1                    0.737483   \n",
       "inne_podstawy_prawne             f1                    0.043381   \n",
       "miejsce_naruszenia               exact_match           0.558628   \n",
       "naruszenie_dobr_osobistych       exact_match           0.768805   \n",
       "naruszenie_media_spolecznosciowe exact_match           0.201327   \n",
       "\n",
       "                                               Llama-3.1-8B-Instruct (mean)  \n",
       "field                            ngram_metric                                \n",
       "dowody                           f1                                0.365567  \n",
       "inne_podstawy_prawne             f1                                0.000777  \n",
       "miejsce_naruszenia               exact_match                       0.428096  \n",
       "naruszenie_dobr_osobistych       exact_match                       0.690172  \n",
       "naruszenie_media_spolecznosciowe exact_match                       0.091616  "
      ]
     },
     "execution_count": 5,
     "metadata": {},
     "output_type": "execute_result"
    }
   ],
   "source": [
    "dfs = []\n",
    "for llm_name, res_ngram in ngram_results.items():\n",
    "    llm_name = llm_name.split(\"/\")[-1]\n",
    "    mean_col = f\"{llm_name} (mean)\"\n",
    "    se_col = f\"{llm_name} (SE)\"\n",
    "    res_ngram = res_ngram.rename(columns={\"ngram_metric_value\": mean_col})[[mean_col]]\n",
    "    dfs.append(res_ngram)\n",
    "\n",
    "df = pd.concat(dfs, axis=1)\n",
    "df.head()"
   ]
  }
 ],
 "metadata": {
  "kernelspec": {
   "display_name": "juddges",
   "language": "python",
   "name": "python3"
  },
  "language_info": {
   "codemirror_mode": {
    "name": "ipython",
    "version": 3
   },
   "file_extension": ".py",
   "mimetype": "text/x-python",
   "name": "python",
   "nbconvert_exporter": "python",
   "pygments_lexer": "ipython3",
   "version": "3.11.11"
  }
 },
 "nbformat": 4,
 "nbformat_minor": 2
}
