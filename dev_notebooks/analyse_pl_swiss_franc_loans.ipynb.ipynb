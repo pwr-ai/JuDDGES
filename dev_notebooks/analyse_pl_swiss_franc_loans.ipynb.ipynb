{
 "cells": [
  {
   "cell_type": "code",
   "execution_count": 19,
   "metadata": {},
   "outputs": [],
   "source": [
    "import json\n",
    "from typing import Any\n",
    "\n",
    "import pandas as pd\n",
    "import seaborn as sns\n",
    "from datasets import Dataset, DatasetDict, load_dataset\n",
    "from langchain_core.utils.json import parse_json_markdown\n",
    "from tqdm.auto import tqdm\n",
    "\n",
    "sns.set_theme()"
   ]
  },
  {
   "cell_type": "code",
   "execution_count": 6,
   "metadata": {},
   "outputs": [
    {
     "data": {
      "application/vnd.jupyter.widget-view+json": {
       "model_id": "fc85ac0867d54f15bb110704d0f5ae52",
       "version_major": 2,
       "version_minor": 0
      },
      "text/plain": [
       "Generating test split: 0 examples [00:00, ? examples/s]"
      ]
     },
     "metadata": {},
     "output_type": "display_data"
    },
    {
     "data": {
      "application/vnd.jupyter.widget-view+json": {
       "model_id": "efe7860b2a3e4c7eb2981db8d078fb2f",
       "version_major": 2,
       "version_minor": 0
      },
      "text/plain": [
       "Generating annotated split: 0 examples [00:00, ? examples/s]"
      ]
     },
     "metadata": {},
     "output_type": "display_data"
    },
    {
     "data": {
      "text/plain": [
       "DatasetDict({\n",
       "    test: Dataset({\n",
       "        features: ['context', 'output'],\n",
       "        num_rows: 1396\n",
       "    })\n",
       "    annotated: Dataset({\n",
       "        features: ['context', 'output'],\n",
       "        num_rows: 690\n",
       "    })\n",
       "})"
      ]
     },
     "execution_count": 6,
     "metadata": {},
     "output_type": "execute_result"
    }
   ],
   "source": [
    "ds = load_dataset(\n",
    "    \"data/datasets/pl/swiss_franc_loans_source\",\n",
    "    data_files={\"test\": \"test.json\", \"annotated\": \"annotated.json\"},\n",
    ")\n",
    "ds"
   ]
  },
  {
   "cell_type": "markdown",
   "metadata": {},
   "source": [
    "# Analyse"
   ]
  },
  {
   "cell_type": "code",
   "execution_count": 25,
   "metadata": {},
   "outputs": [],
   "source": [
    "def get_test_items_matching_annotated(dataset: DatasetDict) -> Dataset:\n",
    "    def get_matching_test_item(annotated_item: dict[str, Any]) -> dict[str, Any]:\n",
    "        found_items = []\n",
    "        for test_item in dataset[\"test\"]:\n",
    "            if annotated_item[\"context\"] == test_item[\"context\"]:\n",
    "                found_items.append(test_item)\n",
    "        if not len(found_items) == 1:\n",
    "            raise ValueError(f\"Found {len(found_items)} items\")\n",
    "        return found_items[0]\n",
    "\n",
    "    test_items_matching_annotated = []\n",
    "    for annotated_item in tqdm(dataset[\"annotated\"], \"Matching test and annotated items\"):\n",
    "        found_item = get_matching_test_item(annotated_item)\n",
    "        assert found_item[\"context\"] == annotated_item[\"context\"]\n",
    "        test_items_matching_annotated.append(found_item)\n",
    "        \n",
    "    return Dataset.from_pandas(pd.DataFrame(test_items_matching_annotated))"
   ]
  },
  {
   "cell_type": "code",
   "execution_count": 26,
   "metadata": {},
   "outputs": [
    {
     "data": {
      "application/vnd.jupyter.widget-view+json": {
       "model_id": "dd7ab3d4f18e43d2a0adba6a8a018800",
       "version_major": 2,
       "version_minor": 0
      },
      "text/plain": [
       "Matching test and annotated items:   0%|          | 0/690 [00:00<?, ?it/s]"
      ]
     },
     "metadata": {},
     "output_type": "display_data"
    },
    {
     "data": {
      "text/plain": [
       "Dataset({\n",
       "    features: ['context', 'output'],\n",
       "    num_rows: 690\n",
       "})"
      ]
     },
     "execution_count": 26,
     "metadata": {},
     "output_type": "execute_result"
    }
   ],
   "source": [
    "get_test_items_matching_annotated(ds)"
   ]
  }
 ],
 "metadata": {
  "kernelspec": {
   "display_name": "juddges",
   "language": "python",
   "name": "python3"
  },
  "language_info": {
   "codemirror_mode": {
    "name": "ipython",
    "version": 3
   },
   "file_extension": ".py",
   "mimetype": "text/x-python",
   "name": "python",
   "nbconvert_exporter": "python",
   "pygments_lexer": "ipython3",
   "version": "3.11.11"
  }
 },
 "nbformat": 4,
 "nbformat_minor": 2
}
