{
 "cells": [
  {
   "cell_type": "code",
   "execution_count": 2,
   "metadata": {},
   "outputs": [],
   "source": [
    "import json\n",
    "from typing import Any\n",
    "\n",
    "import pandas as pd\n",
    "import seaborn as sns\n",
    "from datasets import Dataset, DatasetDict, load_dataset\n",
    "from langchain_core.utils.json import parse_json_markdown\n",
    "from tqdm.auto import tqdm\n",
    "\n",
    "sns.set_theme()"
   ]
  },
  {
   "cell_type": "code",
   "execution_count": 3,
   "metadata": {},
   "outputs": [
    {
     "data": {
      "application/vnd.jupyter.widget-view+json": {
       "model_id": "32d8e28995754b6eb16ee371f6ca568a",
       "version_major": 2,
       "version_minor": 0
      },
      "text/plain": [
       "Generating train split: 0 examples [00:00, ? examples/s]"
      ]
     },
     "metadata": {},
     "output_type": "display_data"
    },
    {
     "data": {
      "application/vnd.jupyter.widget-view+json": {
       "model_id": "9ab66ab0da354b1bad2a4226af63fb7d",
       "version_major": 2,
       "version_minor": 0
      },
      "text/plain": [
       "Generating test split: 0 examples [00:00, ? examples/s]"
      ]
     },
     "metadata": {},
     "output_type": "display_data"
    },
    {
     "data": {
      "application/vnd.jupyter.widget-view+json": {
       "model_id": "22b21307098d4c359382114913bb0e1b",
       "version_major": 2,
       "version_minor": 0
      },
      "text/plain": [
       "Generating annotated split: 0 examples [00:00, ? examples/s]"
      ]
     },
     "metadata": {},
     "output_type": "display_data"
    },
    {
     "data": {
      "text/plain": [
       "DatasetDict({\n",
       "    train: Dataset({\n",
       "        features: ['context', 'output'],\n",
       "        num_rows: 5000\n",
       "    })\n",
       "    test: Dataset({\n",
       "        features: ['context', 'output'],\n",
       "        num_rows: 1396\n",
       "    })\n",
       "    annotated: Dataset({\n",
       "        features: ['context', 'output'],\n",
       "        num_rows: 690\n",
       "    })\n",
       "})"
      ]
     },
     "execution_count": 3,
     "metadata": {},
     "output_type": "execute_result"
    }
   ],
   "source": [
    "ds = load_dataset(\n",
    "    \"data/datasets/pl/swiss_franc_loans_source\",\n",
    "    data_files={\"train\": \"train.json\", \"test\": \"test.json\", \"annotated\": \"annotated.json\"},\n",
    ")\n",
    "ds"
   ]
  },
  {
   "cell_type": "markdown",
   "metadata": {},
   "source": [
    "# Validate `train`"
   ]
  },
  {
   "cell_type": "code",
   "execution_count": 15,
   "metadata": {},
   "outputs": [
    {
     "data": {
      "text/html": [
       "<div>\n",
       "<style scoped>\n",
       "    .dataframe tbody tr th:only-of-type {\n",
       "        vertical-align: middle;\n",
       "    }\n",
       "\n",
       "    .dataframe tbody tr th {\n",
       "        vertical-align: top;\n",
       "    }\n",
       "\n",
       "    .dataframe thead th {\n",
       "        text-align: right;\n",
       "    }\n",
       "</style>\n",
       "<table border=\"1\" class=\"dataframe\">\n",
       "  <thead>\n",
       "    <tr style=\"text-align: right;\">\n",
       "      <th></th>\n",
       "      <th>context</th>\n",
       "      <th>output</th>\n",
       "    </tr>\n",
       "  </thead>\n",
       "  <tbody>\n",
       "    <tr>\n",
       "      <th>0</th>\n",
       "      <td>Sygn. akt XV C 1471/12\\n\\nWYROK\\nW IMIENIU RZE...</td>\n",
       "      <td>{\"sprawa_frankowiczow\":\"Nie\",\"apelacja\":null,\"...</td>\n",
       "    </tr>\n",
       "    <tr>\n",
       "      <th>1</th>\n",
       "      <td>Sygn. akt V Ca 2924/12\\n\\nWYROK\\nW IMIENIU RZE...</td>\n",
       "      <td>{\"sprawa_frankowiczow\":\"Tak\",\"apelacja\":\"warsz...</td>\n",
       "    </tr>\n",
       "    <tr>\n",
       "      <th>2</th>\n",
       "      <td>Sygn. akt I C 376/13\\n\\nWYROK\\nW IMIENIU RZECZ...</td>\n",
       "      <td>{\"sprawa_frankowiczow\":\"Tak\",\"apelacja\":null,\"...</td>\n",
       "    </tr>\n",
       "    <tr>\n",
       "      <th>3</th>\n",
       "      <td>Sygn. akt I ACa 801/13\\n\\nWYROK\\nW IMIENIU RZE...</td>\n",
       "      <td>{\"sprawa_frankowiczow\":\"Tak\",\"apelacja\":\"Biały...</td>\n",
       "    </tr>\n",
       "    <tr>\n",
       "      <th>4</th>\n",
       "      <td>Sygn. akt I ACa 812/13\\n\\nWYROK\\nW IMIENIU RZE...</td>\n",
       "      <td>{\"sprawa_frankowiczow\":\"Tak\",\"apelacja\":\"Gdańs...</td>\n",
       "    </tr>\n",
       "  </tbody>\n",
       "</table>\n",
       "</div>"
      ],
      "text/plain": [
       "                                             context  \\\n",
       "0  Sygn. akt XV C 1471/12\\n\\nWYROK\\nW IMIENIU RZE...   \n",
       "1  Sygn. akt V Ca 2924/12\\n\\nWYROK\\nW IMIENIU RZE...   \n",
       "2  Sygn. akt I C 376/13\\n\\nWYROK\\nW IMIENIU RZECZ...   \n",
       "3  Sygn. akt I ACa 801/13\\n\\nWYROK\\nW IMIENIU RZE...   \n",
       "4  Sygn. akt I ACa 812/13\\n\\nWYROK\\nW IMIENIU RZE...   \n",
       "\n",
       "                                              output  \n",
       "0  {\"sprawa_frankowiczow\":\"Nie\",\"apelacja\":null,\"...  \n",
       "1  {\"sprawa_frankowiczow\":\"Tak\",\"apelacja\":\"warsz...  \n",
       "2  {\"sprawa_frankowiczow\":\"Tak\",\"apelacja\":null,\"...  \n",
       "3  {\"sprawa_frankowiczow\":\"Tak\",\"apelacja\":\"Biały...  \n",
       "4  {\"sprawa_frankowiczow\":\"Tak\",\"apelacja\":\"Gdańs...  "
      ]
     },
     "execution_count": 15,
     "metadata": {},
     "output_type": "execute_result"
    }
   ],
   "source": [
    "train_df = ds[\"train\"].to_pandas()\n",
    "test_df = ds[\"annotated\"].to_pandas()\n",
    "test_df.head()"
   ]
  },
  {
   "cell_type": "code",
   "execution_count": 20,
   "metadata": {},
   "outputs": [],
   "source": [
    "assert train_df.merge(test_df, on=\"context\", how=\"left\")[\"output_y\"].notna().sum() == 0"
   ]
  },
  {
   "cell_type": "code",
   "execution_count": 24,
   "metadata": {},
   "outputs": [
    {
     "data": {
      "text/plain": [
       "np.int64(0)"
      ]
     },
     "execution_count": 24,
     "metadata": {},
     "output_type": "execute_result"
    }
   ],
   "source": [
    "train_df[\"context\"].duplicated().sum()"
   ]
  },
  {
   "cell_type": "code",
   "execution_count": 21,
   "metadata": {},
   "outputs": [
    {
     "data": {
      "text/html": [
       "<div>\n",
       "<style scoped>\n",
       "    .dataframe tbody tr th:only-of-type {\n",
       "        vertical-align: middle;\n",
       "    }\n",
       "\n",
       "    .dataframe tbody tr th {\n",
       "        vertical-align: top;\n",
       "    }\n",
       "\n",
       "    .dataframe thead th {\n",
       "        text-align: right;\n",
       "    }\n",
       "</style>\n",
       "<table border=\"1\" class=\"dataframe\">\n",
       "  <thead>\n",
       "    <tr style=\"text-align: right;\">\n",
       "      <th></th>\n",
       "      <th>sprawa_frankowiczow</th>\n",
       "      <th>apelacja</th>\n",
       "      <th>data_wyroku</th>\n",
       "      <th>typ_sadu</th>\n",
       "      <th>instancja_sadu</th>\n",
       "      <th>podstawa_prawna</th>\n",
       "      <th>podstawa_prawna_podana</th>\n",
       "      <th>rodzaj_roszczenia</th>\n",
       "      <th>modyfikacje_powodztwa</th>\n",
       "      <th>typ_modyfikacji</th>\n",
       "      <th>...</th>\n",
       "      <th>odsetki_ustawowe</th>\n",
       "      <th>data_rozpoczecia_odsetek</th>\n",
       "      <th>koszty_postepowania</th>\n",
       "      <th>beneficjent_kosztow</th>\n",
       "      <th>zabezpieczenie_udzielone</th>\n",
       "      <th>rodzaj_zabezpieczenia</th>\n",
       "      <th>zabezpieczenie_pierwsza_instancja</th>\n",
       "      <th>czas_trwania_sprawy</th>\n",
       "      <th>wynik_sprawy</th>\n",
       "      <th>szczegoly_wyniku_sprawy</th>\n",
       "    </tr>\n",
       "  </thead>\n",
       "  <tbody>\n",
       "    <tr>\n",
       "      <th>0</th>\n",
       "      <td>Tak</td>\n",
       "      <td>None</td>\n",
       "      <td>2010-12-14</td>\n",
       "      <td>Sąd Ochrony Konkurencji i Konsumentów</td>\n",
       "      <td>Sąd I instancji</td>\n",
       "      <td>art. 3851 § 1 k.c., art. 3853 pkt 9 i 10 k.c.,...</td>\n",
       "      <td>Tak</td>\n",
       "      <td>Dotyczy wzorca umownego</td>\n",
       "      <td>None</td>\n",
       "      <td>None</td>\n",
       "      <td>...</td>\n",
       "      <td>Nie</td>\n",
       "      <td>None</td>\n",
       "      <td>Tak</td>\n",
       "      <td>Prezes Urzędu Ochrony Konkurencji i Konsumentów</td>\n",
       "      <td>None</td>\n",
       "      <td>None</td>\n",
       "      <td>None</td>\n",
       "      <td>None</td>\n",
       "      <td>Wygrana kredytobiorcy</td>\n",
       "      <td>Sąd uznał za niedozwolone i zakazał stosowania...</td>\n",
       "    </tr>\n",
       "    <tr>\n",
       "      <th>1</th>\n",
       "      <td>Nie</td>\n",
       "      <td>None</td>\n",
       "      <td>2010-12-21</td>\n",
       "      <td>Sąd Rejonowy</td>\n",
       "      <td>Sąd I instancji</td>\n",
       "      <td>art. 410 kc</td>\n",
       "      <td>Tak</td>\n",
       "      <td>O zapłatę</td>\n",
       "      <td>None</td>\n",
       "      <td>None</td>\n",
       "      <td>...</td>\n",
       "      <td>Nie</td>\n",
       "      <td>None</td>\n",
       "      <td>Tak</td>\n",
       "      <td>Bank (...) Spółka Akcyjna z siedzibą w W.</td>\n",
       "      <td>None</td>\n",
       "      <td>None</td>\n",
       "      <td>None</td>\n",
       "      <td>None</td>\n",
       "      <td>Wygrana banku</td>\n",
       "      <td>Sąd oddalił powództwo o zwrot prowizji za wcze...</td>\n",
       "    </tr>\n",
       "    <tr>\n",
       "      <th>2</th>\n",
       "      <td>Nie</td>\n",
       "      <td>None</td>\n",
       "      <td>2010-12-27</td>\n",
       "      <td>Sąd Ochrony Konkurencji i Konsumentów</td>\n",
       "      <td>Sąd I instancji</td>\n",
       "      <td>art. 479(36) i następne k.p.c., art. 3851 § 1 ...</td>\n",
       "      <td>Tak</td>\n",
       "      <td>Dotyczy wzorca umownego</td>\n",
       "      <td>None</td>\n",
       "      <td>None</td>\n",
       "      <td>...</td>\n",
       "      <td>None</td>\n",
       "      <td>None</td>\n",
       "      <td>Tak</td>\n",
       "      <td>Powód</td>\n",
       "      <td>None</td>\n",
       "      <td>None</td>\n",
       "      <td>None</td>\n",
       "      <td>None</td>\n",
       "      <td>Wygrana kredytobiorcy</td>\n",
       "      <td>Sąd uznał postanowienie wzorca umowy za niedoz...</td>\n",
       "    </tr>\n",
       "    <tr>\n",
       "      <th>3</th>\n",
       "      <td>Tak</td>\n",
       "      <td>VIACa 635/11</td>\n",
       "      <td>2011-11-17</td>\n",
       "      <td>Sąd Ochrony Konkurencji i Konsumentów</td>\n",
       "      <td>Sąd odwoławczy</td>\n",
       "      <td>art. 479(36) i następne k.p.c., art. 3851 § 1 ...</td>\n",
       "      <td>Tak</td>\n",
       "      <td>Dotyczy wzorca umownego</td>\n",
       "      <td>Nie</td>\n",
       "      <td>None</td>\n",
       "      <td>...</td>\n",
       "      <td>Nie</td>\n",
       "      <td>None</td>\n",
       "      <td>Tak</td>\n",
       "      <td>Powód</td>\n",
       "      <td>Nie</td>\n",
       "      <td>None</td>\n",
       "      <td>None</td>\n",
       "      <td>od 2009 do 2011</td>\n",
       "      <td>Wygrana kredytobiorcy</td>\n",
       "      <td>Sąd uznał postanowienie wzorca umowy o kredyt ...</td>\n",
       "    </tr>\n",
       "    <tr>\n",
       "      <th>4</th>\n",
       "      <td>Badanie wzorca umownego</td>\n",
       "      <td>None</td>\n",
       "      <td>2010-12-27</td>\n",
       "      <td>Sąd Ochrony Konkurencji i Konsumentów</td>\n",
       "      <td>Sąd I instancji</td>\n",
       "      <td>art. 479(36) i następne k.p.c., art. 3851 § 1 ...</td>\n",
       "      <td>Tak</td>\n",
       "      <td>Dotyczy wzorca umownego</td>\n",
       "      <td>None</td>\n",
       "      <td>None</td>\n",
       "      <td>...</td>\n",
       "      <td>None</td>\n",
       "      <td>None</td>\n",
       "      <td>Tak</td>\n",
       "      <td>Powód</td>\n",
       "      <td>None</td>\n",
       "      <td>None</td>\n",
       "      <td>None</td>\n",
       "      <td>None</td>\n",
       "      <td>Wygrana kredytobiorcy</td>\n",
       "      <td>Sąd uznał postanowienie wzorca umowy za niedoz...</td>\n",
       "    </tr>\n",
       "  </tbody>\n",
       "</table>\n",
       "<p>5 rows × 44 columns</p>\n",
       "</div>"
      ],
      "text/plain": [
       "       sprawa_frankowiczow      apelacja data_wyroku  \\\n",
       "0                      Tak          None  2010-12-14   \n",
       "1                      Nie          None  2010-12-21   \n",
       "2                      Nie          None  2010-12-27   \n",
       "3                      Tak  VIACa 635/11  2011-11-17   \n",
       "4  Badanie wzorca umownego          None  2010-12-27   \n",
       "\n",
       "                                typ_sadu   instancja_sadu  \\\n",
       "0  Sąd Ochrony Konkurencji i Konsumentów  Sąd I instancji   \n",
       "1                           Sąd Rejonowy  Sąd I instancji   \n",
       "2  Sąd Ochrony Konkurencji i Konsumentów  Sąd I instancji   \n",
       "3  Sąd Ochrony Konkurencji i Konsumentów   Sąd odwoławczy   \n",
       "4  Sąd Ochrony Konkurencji i Konsumentów  Sąd I instancji   \n",
       "\n",
       "                                     podstawa_prawna podstawa_prawna_podana  \\\n",
       "0  art. 3851 § 1 k.c., art. 3853 pkt 9 i 10 k.c.,...                    Tak   \n",
       "1                                        art. 410 kc                    Tak   \n",
       "2  art. 479(36) i następne k.p.c., art. 3851 § 1 ...                    Tak   \n",
       "3  art. 479(36) i następne k.p.c., art. 3851 § 1 ...                    Tak   \n",
       "4  art. 479(36) i następne k.p.c., art. 3851 § 1 ...                    Tak   \n",
       "\n",
       "         rodzaj_roszczenia modyfikacje_powodztwa typ_modyfikacji  ...  \\\n",
       "0  Dotyczy wzorca umownego                  None            None  ...   \n",
       "1                O zapłatę                  None            None  ...   \n",
       "2  Dotyczy wzorca umownego                  None            None  ...   \n",
       "3  Dotyczy wzorca umownego                   Nie            None  ...   \n",
       "4  Dotyczy wzorca umownego                  None            None  ...   \n",
       "\n",
       "  odsetki_ustawowe data_rozpoczecia_odsetek koszty_postepowania  \\\n",
       "0              Nie                     None                 Tak   \n",
       "1              Nie                     None                 Tak   \n",
       "2             None                     None                 Tak   \n",
       "3              Nie                     None                 Tak   \n",
       "4             None                     None                 Tak   \n",
       "\n",
       "                               beneficjent_kosztow zabezpieczenie_udzielone  \\\n",
       "0  Prezes Urzędu Ochrony Konkurencji i Konsumentów                     None   \n",
       "1        Bank (...) Spółka Akcyjna z siedzibą w W.                     None   \n",
       "2                                            Powód                     None   \n",
       "3                                            Powód                      Nie   \n",
       "4                                            Powód                     None   \n",
       "\n",
       "  rodzaj_zabezpieczenia zabezpieczenie_pierwsza_instancja czas_trwania_sprawy  \\\n",
       "0                  None                              None                None   \n",
       "1                  None                              None                None   \n",
       "2                  None                              None                None   \n",
       "3                  None                              None     od 2009 do 2011   \n",
       "4                  None                              None                None   \n",
       "\n",
       "            wynik_sprawy                            szczegoly_wyniku_sprawy  \n",
       "0  Wygrana kredytobiorcy  Sąd uznał za niedozwolone i zakazał stosowania...  \n",
       "1          Wygrana banku  Sąd oddalił powództwo o zwrot prowizji za wcze...  \n",
       "2  Wygrana kredytobiorcy  Sąd uznał postanowienie wzorca umowy za niedoz...  \n",
       "3  Wygrana kredytobiorcy  Sąd uznał postanowienie wzorca umowy o kredyt ...  \n",
       "4  Wygrana kredytobiorcy  Sąd uznał postanowienie wzorca umowy za niedoz...  \n",
       "\n",
       "[5 rows x 44 columns]"
      ]
     },
     "execution_count": 21,
     "metadata": {},
     "output_type": "execute_result"
    }
   ],
   "source": [
    "out = pd.DataFrame(train_df[\"output\"].apply(parse_json_markdown).to_list())\n",
    "out.head()"
   ]
  },
  {
   "cell_type": "code",
   "execution_count": 23,
   "metadata": {},
   "outputs": [
    {
     "data": {
      "text/plain": [
       "sprawa_frankowiczow                  0.0000\n",
       "apelacja                             0.6930\n",
       "data_wyroku                          0.0612\n",
       "typ_sadu                             0.0064\n",
       "instancja_sadu                       0.0144\n",
       "podstawa_prawna                      0.1288\n",
       "podstawa_prawna_podana               0.0992\n",
       "rodzaj_roszczenia                    0.0216\n",
       "modyfikacje_powodztwa                0.1204\n",
       "typ_modyfikacji                      0.5820\n",
       "status_kredytobiorcy                 0.1420\n",
       "wspoluczestnictwo_powodowe           0.0290\n",
       "wspoluczestnictwo_pozwanego          0.0330\n",
       "typ_wspoluczestnictwa                0.4534\n",
       "strony_umowy                         0.1066\n",
       "wczesniejsze_skargi_do_rzecznika     0.3228\n",
       "umowa_kredytowa                      0.1472\n",
       "klauzula_niedozwolona                0.1106\n",
       "wpisana_do_rejestru_uokik            0.2962\n",
       "waluta_splaty                        0.1148\n",
       "aneks_do_umowy                       0.1012\n",
       "data_aneksu                          0.4754\n",
       "przedmiot_aneksu                     0.4390\n",
       "status_splaty_kredytu                0.1148\n",
       "rozstrzygniecie_sadu                 0.0174\n",
       "typ_rozstrzygniecia                  0.0230\n",
       "sesja_sadowa                         0.0406\n",
       "dowody                               0.0394\n",
       "oswiadczenie_niewaznosci             0.1298\n",
       "odwolanie_do_sn                      0.0446\n",
       "odwolanie_do_tsue                    0.0474\n",
       "teoria_prawna                        0.6186\n",
       "zarzut_zatrzymania                   0.0506\n",
       "zarzut_potracenia                    0.0528\n",
       "odsetki_ustawowe                     0.0720\n",
       "data_rozpoczecia_odsetek             0.1820\n",
       "koszty_postepowania                  0.0160\n",
       "beneficjent_kosztow                  0.0460\n",
       "zabezpieczenie_udzielone             0.0826\n",
       "rodzaj_zabezpieczenia                0.7350\n",
       "zabezpieczenie_pierwsza_instancja    0.6630\n",
       "czas_trwania_sprawy                  0.2284\n",
       "wynik_sprawy                         0.0184\n",
       "szczegoly_wyniku_sprawy              0.0132\n",
       "dtype: float64"
      ]
     },
     "execution_count": 23,
     "metadata": {},
     "output_type": "execute_result"
    }
   ],
   "source": [
    "out.isna().mean(axis=0)"
   ]
  },
  {
   "cell_type": "markdown",
   "metadata": {},
   "source": [
    "# Analyse"
   ]
  },
  {
   "cell_type": "code",
   "execution_count": 25,
   "metadata": {},
   "outputs": [],
   "source": [
    "def get_test_items_matching_annotated(dataset: DatasetDict) -> Dataset:\n",
    "    def get_matching_test_item(annotated_item: dict[str, Any]) -> dict[str, Any]:\n",
    "        found_items = []\n",
    "        for test_item in dataset[\"test\"]:\n",
    "            if annotated_item[\"context\"] == test_item[\"context\"]:\n",
    "                found_items.append(test_item)\n",
    "        if not len(found_items) == 1:\n",
    "            raise ValueError(f\"Found {len(found_items)} items\")\n",
    "        return found_items[0]\n",
    "\n",
    "    test_items_matching_annotated = []\n",
    "    for annotated_item in tqdm(dataset[\"annotated\"], \"Matching test and annotated items\"):\n",
    "        found_item = get_matching_test_item(annotated_item)\n",
    "        assert found_item[\"context\"] == annotated_item[\"context\"]\n",
    "        test_items_matching_annotated.append(found_item)\n",
    "        \n",
    "    return Dataset.from_pandas(pd.DataFrame(test_items_matching_annotated))"
   ]
  },
  {
   "cell_type": "code",
   "execution_count": 26,
   "metadata": {},
   "outputs": [
    {
     "data": {
      "application/vnd.jupyter.widget-view+json": {
       "model_id": "dd7ab3d4f18e43d2a0adba6a8a018800",
       "version_major": 2,
       "version_minor": 0
      },
      "text/plain": [
       "Matching test and annotated items:   0%|          | 0/690 [00:00<?, ?it/s]"
      ]
     },
     "metadata": {},
     "output_type": "display_data"
    },
    {
     "data": {
      "text/plain": [
       "Dataset({\n",
       "    features: ['context', 'output'],\n",
       "    num_rows: 690\n",
       "})"
      ]
     },
     "execution_count": 26,
     "metadata": {},
     "output_type": "execute_result"
    }
   ],
   "source": [
    "get_test_items_matching_annotated(ds)"
   ]
  }
 ],
 "metadata": {
  "kernelspec": {
   "display_name": "juddges",
   "language": "python",
   "name": "python3"
  },
  "language_info": {
   "codemirror_mode": {
    "name": "ipython",
    "version": 3
   },
   "file_extension": ".py",
   "mimetype": "text/x-python",
   "name": "python",
   "nbconvert_exporter": "python",
   "pygments_lexer": "ipython3",
   "version": "3.11.11"
  }
 },
 "nbformat": 4,
 "nbformat_minor": 2
}
