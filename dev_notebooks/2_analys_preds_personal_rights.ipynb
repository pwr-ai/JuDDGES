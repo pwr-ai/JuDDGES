{
 "cells": [
  {
   "cell_type": "code",
   "execution_count": null,
   "metadata": {},
   "outputs": [],
   "source": [
    "import json\n",
    "from typing import Any\n",
    "\n",
    "import pandas as pd\n",
    "from tabulate import tabulate\n",
    "\n",
    "from juddges.llm_as_judge.data_model import PredictionLoader"
   ]
  },
  {
   "cell_type": "code",
   "execution_count": null,
   "metadata": {},
   "outputs": [],
   "source": [
    "pred_dir = \"data/experiments/predict/raw_vllm/pl_court_personal_rights/qwen_3_32b/info_extraction_annotated_json_refined/personal_rights/seed_42/\"\n",
    "pred_loader = PredictionLoader(root_dir=pred_dir, judge_name=\"gpt-4.1-mini\")\n",
    "preds = pred_loader.load_predictions(verbose=True)\n",
    "preds.get_stats()\n",
    "\n",
    "judge_res = json.loads(pred_loader.llm_judge_scores_file.read_text())\n"
   ]
  },
  {
   "cell_type": "code",
   "execution_count": null,
   "metadata": {},
   "outputs": [],
   "source": [
    "detailed_judge_res = []\n",
    "field_names = set()\n",
    "for result in judge_res[\"all_results\"]:\n",
    "    item_res = {\n",
    "        \"status\": result[\"status\"],\n",
    "        \"error\": result[\"error\"],\n",
    "        \"missing_keys\": result[\"missing_keys\"],\n",
    "        \"extra_keys\": result[\"extra_keys\"],\n",
    "    }\n",
    "    for field, field_res in result[\"result\"].items():\n",
    "        field_names.add(field)\n",
    "        item_res[field] = field_res[\"score\"]\n",
    "    detailed_judge_res.append(item_res)\n",
    "detailed_judge_res = pd.DataFrame(detailed_judge_res)\n",
    "detailed_judge_res.head()"
   ]
  },
  {
   "cell_type": "markdown",
   "metadata": {},
   "source": [
    "# Case-by-case study"
   ]
  },
  {
   "cell_type": "code",
   "execution_count": null,
   "metadata": {},
   "outputs": [],
   "source": [
    "field_names"
   ]
  },
  {
   "cell_type": "code",
   "execution_count": null,
   "metadata": {},
   "outputs": [],
   "source": [
    "import ipywidgets as widgets\n",
    "from IPython.display import clear_output, display\n",
    "\n",
    "NUM_EXAMPLES = 50\n",
    "\n",
    "field_dropdown = widgets.Dropdown(\n",
    "    options=sorted(field_names),\n",
    "    value=\"naruszenie_media_spolecznosciowe\"\n",
    "    if \"naruszenie_media_spolecznosciowe\" in field_names\n",
    "    else sorted(field_names)[0],\n",
    "    description=\"Field:\",\n",
    "    style={\"description_width\": \"initial\"},\n",
    "    layout=widgets.Layout(width=\"400px\"),\n",
    ")\n",
    "\n",
    "output = widgets.Output()\n",
    "\n",
    "\n",
    "def show_examples(field):\n",
    "    with output:\n",
    "        clear_output()\n",
    "        for idx, result in detailed_judge_res.sort_values(field).head(NUM_EXAMPLES).iterrows():\n",
    "            try:\n",
    "                pred = preds.predictions[idx][field]\n",
    "                missing_keys = preds.missing_keys[idx]\n",
    "            except KeyError:\n",
    "                continue\n",
    "\n",
    "            table = [\n",
    "                [\"Index\", idx],\n",
    "                [\"Prediction\", pred or \"<null>\"],\n",
    "                [\"Gold (gpt-4.1)\", preds.gold[idx][field] or \"<null>\"],\n",
    "                [\"Score\", result[field]],\n",
    "                [\"was_missing\", int(field in missing_keys)],\n",
    "            ]\n",
    "            print(\n",
    "                tabulate(table, headers=[\"Type\", field], tablefmt=\"grid\", maxcolwidths=[None, 50])\n",
    "            )\n",
    "            print()\n",
    "\n",
    "\n",
    "def on_field_change(change):\n",
    "    if change[\"type\"] == \"change\" and change[\"name\"] == \"value\":\n",
    "        show_examples(change[\"new\"])\n",
    "\n",
    "\n",
    "field_dropdown.observe(on_field_change)\n",
    "display(field_dropdown)\n",
    "show_examples(field_dropdown.value)\n",
    "display(output)"
   ]
  }
 ],
 "metadata": {
  "kernelspec": {
   "display_name": "juddges",
   "language": "python",
   "name": "python3"
  },
  "language_info": {
   "codemirror_mode": {
    "name": "ipython",
    "version": 3
   },
   "file_extension": ".py",
   "mimetype": "text/x-python",
   "name": "python",
   "nbconvert_exporter": "python",
   "pygments_lexer": "ipython3",
   "version": "3.11.11"
  }
 },
 "nbformat": 4,
 "nbformat_minor": 2
}
