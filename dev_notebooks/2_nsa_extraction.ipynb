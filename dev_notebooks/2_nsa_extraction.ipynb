{
 "cells": [
  {
   "cell_type": "code",
   "execution_count": null,
   "id": "9029f8e669cfb5dc",
   "metadata": {},
   "outputs": [],
   "source": [
    "%load_ext autoreload\n",
    "%autoreload 2"
   ]
  },
  {
   "cell_type": "code",
   "execution_count": null,
   "id": "7aea733cd6d05a0b",
   "metadata": {},
   "outputs": [],
   "source": [
    "from juddges.settings import NSA_DATA_PATH\n",
    "import polars as pl\n",
    "\n",
    "lf = pl.scan_parquet(NSA_DATA_PATH / \"pages\" / \"pages_chunk_12.parquet\")"
   ]
  },
  {
   "cell_type": "code",
   "execution_count": null,
   "id": "fd8407a0c08061c9",
   "metadata": {},
   "outputs": [],
   "source": [
    "df = lf.collect()"
   ]
  },
  {
   "cell_type": "markdown",
   "id": "d0627a9bf8383808",
   "metadata": {},
   "source": ""
  },
  {
   "cell_type": "markdown",
   "id": "5d30eac358952608",
   "metadata": {},
   "source": ""
  },
  {
   "cell_type": "code",
   "execution_count": null,
   "id": "ec0c85fa029d48ad",
   "metadata": {},
   "outputs": [],
   "source": [
    "from juddges.data.nsa.extractor import NSADataExtractor, ORDER\n",
    "\n",
    "extractor = NSADataExtractor()\n",
    "df = extractor.extract_data_from_pages_to_df(df[\"page\"], df[\"doc_id\"])"
   ]
  },
  {
   "cell_type": "code",
   "execution_count": null,
   "id": "ddbb4144a15d8d55",
   "metadata": {},
   "outputs": [],
   "source": [
    "assert len(df.columns) == len(ORDER)"
   ]
  },
  {
   "cell_type": "markdown",
   "id": "bdcdd66d906fee81",
   "metadata": {},
   "source": ""
  },
  {
   "cell_type": "code",
   "execution_count": null,
   "id": "1b3cbf67960cf4e2",
   "metadata": {},
   "outputs": [],
   "source": [
    "len(ORDER)"
   ]
  },
  {
   "cell_type": "code",
   "execution_count": null,
   "id": "9097ea94aded3ae8",
   "metadata": {},
   "outputs": [],
   "source": [
    "df.columns"
   ]
  },
  {
   "cell_type": "code",
   "execution_count": null,
   "id": "5d466f9f5a3a20ed",
   "metadata": {},
   "outputs": [],
   "source": [
    "df[\n",
    "    df[\n",
    "        \"Published in official collection of judgments Jurisprudence of the Voivodeship Administrative Courts and the Supreme Administrative Court\"\n",
    "    ].notna()\n",
    "]"
   ]
  },
  {
   "cell_type": "code",
   "execution_count": null,
   "id": "a2d079fc5c0768c7",
   "metadata": {},
   "outputs": [],
   "source": []
  }
 ],
 "metadata": {
  "kernelspec": {
   "display_name": "JuDDGES",
   "language": "python",
   "name": "juddges"
  },
  "language_info": {
   "codemirror_mode": {
    "name": "ipython",
    "version": 2
   },
   "file_extension": ".py",
   "mimetype": "text/x-python",
   "name": "python",
   "nbconvert_exporter": "python",
   "pygments_lexer": "ipython2",
   "version": "2.7.6"
  }
 },
 "nbformat": 4,
 "nbformat_minor": 5
}
