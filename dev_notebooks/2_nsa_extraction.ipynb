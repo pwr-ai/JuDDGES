{
 "cells": [
  {
   "metadata": {},
   "cell_type": "code",
   "source": [
    "%load_ext autoreload\n",
    "%autoreload 2"
   ],
   "id": "9029f8e669cfb5dc",
   "outputs": [],
   "execution_count": null
  },
  {
   "metadata": {},
   "cell_type": "code",
   "source": [
    "from dataclasses import asdict\n",
    "\n",
    "import pandas as pd\n",
    "\n",
    "from juddges.settings import NSA_DATA_PATH\n",
    "import polars as pl\n",
    "import pandas as pd\n",
    "from mpire import WorkerPool\n",
    "\n",
    "lf = pl.scan_parquet(NSA_DATA_PATH / \"pages\" / \"pages_chunk_12.parquet\")"
   ],
   "id": "7aea733cd6d05a0b",
   "outputs": [],
   "execution_count": null
  },
  {
   "metadata": {},
   "cell_type": "code",
   "source": "df = lf.collect()",
   "id": "fd8407a0c08061c9",
   "outputs": [],
   "execution_count": null
  },
  {
   "metadata": {},
   "cell_type": "markdown",
   "source": "",
   "id": "d0627a9bf8383808"
  },
  {
   "metadata": {},
   "cell_type": "markdown",
   "source": "",
   "id": "5d30eac358952608"
  },
  {
   "metadata": {},
   "cell_type": "code",
   "source": [
    "from juddges.data.nsa.extractor import NSADataExtractor, ORDER\n",
    "\n",
    "extractor = NSADataExtractor()\n",
    "df = extractor.extract_data_from_pages_to_df(df[\"page\"], df[\"doc_id\"])"
   ],
   "id": "ec0c85fa029d48ad",
   "outputs": [],
   "execution_count": null
  },
  {
   "metadata": {},
   "cell_type": "code",
   "source": "assert len(df.columns) == len(ORDER)",
   "id": "ddbb4144a15d8d55",
   "outputs": [],
   "execution_count": null
  },
  {
   "metadata": {},
   "cell_type": "markdown",
   "source": "",
   "id": "bdcdd66d906fee81"
  },
  {
   "metadata": {},
   "cell_type": "code",
   "source": "len(ORDER)",
   "id": "1b3cbf67960cf4e2",
   "outputs": [],
   "execution_count": null
  },
  {
   "metadata": {},
   "cell_type": "code",
   "source": "df.columns",
   "id": "9097ea94aded3ae8",
   "outputs": [],
   "execution_count": null
  },
  {
   "metadata": {},
   "cell_type": "code",
   "source": "df[df['Published in official collection of judgments Jurisprudence of the Voivodeship Administrative Courts and the Supreme Administrative Court'].notna()]",
   "id": "5d466f9f5a3a20ed",
   "outputs": [],
   "execution_count": null
  },
  {
   "metadata": {},
   "cell_type": "code",
   "source": "",
   "id": "a2d079fc5c0768c7",
   "outputs": [],
   "execution_count": null
  }
 ],
 "metadata": {
  "kernelspec": {
   "display_name": "JuDDGES",
   "language": "python",
   "name": "juddges"
  },
  "language_info": {
   "codemirror_mode": {
    "name": "ipython",
    "version": 2
   },
   "file_extension": ".py",
   "mimetype": "text/x-python",
   "name": "python",
   "nbconvert_exporter": "python",
   "pygments_lexer": "ipython2",
   "version": "2.7.6"
  }
 },
 "nbformat": 4,
 "nbformat_minor": 5
}
