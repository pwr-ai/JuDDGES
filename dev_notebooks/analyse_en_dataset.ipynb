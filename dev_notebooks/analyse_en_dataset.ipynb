{
 "cells": [
  {
   "cell_type": "code",
   "execution_count": 1,
   "metadata": {},
   "outputs": [],
   "source": [
    "from datasets import load_dataset\n",
    "import yaml"
   ]
  },
  {
   "cell_type": "code",
   "execution_count": null,
   "metadata": {},
   "outputs": [
    {
     "data": {
      "application/vnd.jupyter.widget-view+json": {
       "model_id": "ea8494a5b29b4e179fdff87dda8a9a33",
       "version_major": 2,
       "version_minor": 0
      },
      "text/plain": [
       "README.md:   0%|          | 0.00/40.1k [00:00<?, ?B/s]"
      ]
     },
     "metadata": {},
     "output_type": "display_data"
    },
    {
     "data": {
      "application/vnd.jupyter.widget-view+json": {
       "model_id": "bc135e7dc5bc4d8f88187e38a0f63b52",
       "version_major": 2,
       "version_minor": 0
      },
      "text/plain": [
       "Generating train split:   0%|          | 0/496 [00:00<?, ? examples/s]"
      ]
     },
     "metadata": {},
     "output_type": "display_data"
    },
    {
     "data": {
      "application/vnd.jupyter.widget-view+json": {
       "model_id": "a1daadc5914048abb170b285c972bbc8",
       "version_major": 2,
       "version_minor": 0
      },
      "text/plain": [
       "Generating test split:   0%|          | 0/125 [00:00<?, ? examples/s]"
      ]
     },
     "metadata": {},
     "output_type": "display_data"
    },
    {
     "data": {
      "text/plain": [
       "DatasetDict({\n",
       "    train: Dataset({\n",
       "        features: ['prompt', 'context', 'output', '__index_level_0__'],\n",
       "        num_rows: 496\n",
       "    })\n",
       "    test: Dataset({\n",
       "        features: ['prompt', 'context', 'output', '__index_level_0__'],\n",
       "        num_rows: 125\n",
       "    })\n",
       "})"
      ]
     },
     "execution_count": 2,
     "metadata": {},
     "output_type": "execute_result"
    }
   ],
   "source": [
    "ds = load_dataset(\"JuDDGES/en-appealcourt-coded-instruct_v01\", )\n",
    "ds"
   ]
  },
  {
   "cell_type": "code",
   "execution_count": 3,
   "metadata": {},
   "outputs": [],
   "source": [
    "ds = ds[\"train\"]"
   ]
  },
  {
   "cell_type": "code",
   "execution_count": 4,
   "metadata": {},
   "outputs": [
    {
     "data": {
      "text/plain": [
       "\"citation: [2022] EWCA Crim 1475\\njudges: ['LADY JUSTICE SIMLER DBE', 'MRS JUSTICE FOSTER DBE', 'MRS JUSTICE TIPPLES DBE']\\n\\n  ConvCourtName: Crown Court at Manchester\\n  ConvictPleaDate: 19 August 2021\\n  ConvictOffence: being knowingly concerned in the fraudulent evasion of the prohibition on the importation of goods\\n  AcquitOffence: data not available\\n  Confess/Plead : data not available\\n  PleaPoint: data not available\\n  RemandDecision: less the days spent in a foreign prison\\n  RemandCustodyTime: Don't know\\n  SentCourtName: Crown Court at Manchester\\n  Sentence: total of 25 years' imprisonment, less the calculated foreign prison days. [comment: Daniel Burdett]\\n\\na term of 18 years' imprisonment, less the days spent in a foreign prison [comment: Richard Burdett]\\n  SentServe: total of 25 years' imprisonment [comment: Concurrent]\\n  WhatAncilliary: data not available\\n  OffSex: brothers [comment: Male]\\n  OffAgeOffence: Don't know\\n  OffJobOffence: Don't know\\n  OffHomeOffence: Don't know\\n  OffMentalOffence: Don't know\\n  OffIntoxOffence: Don't know\\n  OffVicRelation: data not available\\n  VictimType: data not available\\n  VicNum: data not available\\n  VicSex: data not available\\n  VicAgeOffence: data not available\\n  VicJobOffence: data not available\\n  VicHomeOffence: data not available\\n  VicMentalOffence: data not available\\n  VicIntoxOffence: data not available\\n  ProsEvidTypeTrial: use of several mobile phones [comment: Digital evidence]\\n\\nexpert who analysed the DNA [comment: Expert report/testimony]\\n\\nforensically analysed.  DNA\\n\\nstopped and searched [comment: Authority evidence]\\n  DefEvidTypeTrial: The applicants both denied involvement [comment: Offender denies offence]\\n\\nsubmission of no case to answer\\n  PreSentReport: Don't know\\n  AggFactSent: data not available\\n  MitFactSent: data not available\\n  VicImpactStatement: Don't know\\n  Appellant: applicants [comment: Offenders]\\n  CoDefAccNum: DANIEL BURDETTRICHARD BURDETT [comment: 1]\\n  AppealAgainst: leave to appeal against conviction and for representation orders [comment: Other]\\n  AppealGround: the trial judge erred in rejecting submissions of no case to answer in both cases\\n  SentGuideWhich: section\\xa0170 Customs and Excise Management Act 1979\\n  AppealOutcome: Accordingly, all applications are refused.\\n  ReasonQuashConv: data not available\\n  ReasonSentExcessNotLenient: data not available\\n  ReasonSentLenientNotExcess: data not available\\n  ReasonDismiss: We are in no doubt that is was, and there was no error or unfairness in the rejection of the half time submission in his case either.\\n\""
      ]
     },
     "execution_count": 4,
     "metadata": {},
     "output_type": "execute_result"
    }
   ],
   "source": [
    "ds[0][\"output\"]"
   ]
  },
  {
   "cell_type": "code",
   "execution_count": 8,
   "metadata": {},
   "outputs": [
    {
     "name": "stdout",
     "output_type": "stream",
     "text": [
      "citation: [2010] EWCA Crim 357\n",
      "judges: ['(LORD JUSTICE HUGHES)', 'MR JUSTICE MACKAY', 'MR JUSTICE LLOYD JONES']\n",
      "\n",
      "  ConvCourtName: data not available\n",
      "  ConvictPleaDate: data not available\n",
      "  ConvictOffence: robbery\n",
      "  AcquitOffence: data not available\n",
      "  Confess/Plead : No\n",
      "  PleaPoint: data not available\n",
      "  RemandDecision: Don't know\n",
      "  RemandCustodyTime: Don't know\n",
      "  SentCourtName: Don't know\n",
      "  Sentence: imprisonment for public protection with a minimum term of four years\n",
      "  SentServe: data not available\n",
      "  WhatAncilliary: data not available\n",
      "  OffSex: The defendant and his partner [comment: Male and female]\n",
      "  OffAgeOffence: Don't know\n",
      "  OffJobOffence: living on the street and they had no money. It is said that they were desperate [comment: Unemployed]\n",
      "  OffHomeOffence: living on the streets [comment: Homeless]\n",
      "  OffMentalOffence: alcoholic [comment: Mental health problems]\n",
      "\n",
      "conduct disorder [comment: Mental health problems]\n",
      "  OffIntoxOffence: drunk\n",
      "  OffVicRelation: Don't know\n",
      "  VictimType: a single woman [comment: Individual]\n",
      "  VicNum: a single woman [comment: 1]\n",
      "  VicSex: woman [comment: Female]\n",
      "  VicAgeOffence: mid-twenties\n",
      "  VicJobOffence: Don't know\n",
      "  VicHomeOffence: her own flat [comment: Fixed address]\n",
      "  VicMentalOffence: Don't know\n",
      "  VicIntoxOffence: Don't know\n",
      "  ProsEvidTypeTrial: pulled her out of the living room [comment: Victim testimony]\n",
      "  DefEvidTypeTrial: data not available\n",
      "  PreSentReport: Don't know\n",
      "  AggFactSent: impact on her personally [comment: Psychological impact]\n",
      "\n",
      "old convictions\n",
      "\n",
      "remove any forensic traces [comment: Attempt to conceal]\n",
      "\n",
      "threatened\n",
      "\n",
      "targeted burgling\n",
      "  MitFactSent: living on the streets\n",
      "\n",
      "His parents both had cancer\n",
      "  VicImpactStatement: Don't know\n",
      "  Appellant: Appellant [comment: Offender]\n",
      "  CoDefAccNum: a co-accused [comment: 1]\n",
      "  AppealAgainst: sentence\n",
      "  AppealGround: manifestly excessive\n",
      "  SentGuideWhich: Criminal Justice Act 2003\n",
      "\n",
      "definitive guideline for offences of robbery\n",
      "  AppealOutcome: dismissed.\n",
      "  ReasonQuashConv: data not available\n",
      "  ReasonSentExcessNotLenient: data not available\n",
      "  ReasonSentLenientNotExcess: data not available\n",
      "  ReasonDismiss: the judge, whilst he was at the top of the range was not outside the permissible range and was entitled to do what he did\n",
      "\n"
     ]
    }
   ],
   "source": [
    "print(ds[10][\"output\"])\n",
    "# yaml.safe_load(print(ds[10][\"output\"]))"
   ]
  }
 ],
 "metadata": {
  "kernelspec": {
   "display_name": "juddges",
   "language": "python",
   "name": "python3"
  },
  "language_info": {
   "codemirror_mode": {
    "name": "ipython",
    "version": 3
   },
   "file_extension": ".py",
   "mimetype": "text/x-python",
   "name": "python",
   "nbconvert_exporter": "python",
   "pygments_lexer": "ipython3",
   "version": "3.11.11"
  }
 },
 "nbformat": 4,
 "nbformat_minor": 2
}
