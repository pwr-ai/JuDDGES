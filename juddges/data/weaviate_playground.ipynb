{
 "cells": [
  {
   "cell_type": "code",
   "execution_count": 1,
   "metadata": {},
   "outputs": [],
   "source": [
    "%load_ext autoreload\n",
    "%autoreload 2"
   ]
  },
  {
   "cell_type": "code",
   "execution_count": 24,
   "metadata": {},
   "outputs": [],
   "source": [
    "from documents_weaviate_db import WeaviateLegalDocumentsDatabase"
   ]
  },
  {
   "cell_type": "code",
   "execution_count": 19,
   "metadata": {},
   "outputs": [],
   "source": [
    "with WeaviateLegalDocumentsDatabase() as db:\n",
    "    legal_docs_collection = db.legal_documents_collection\n",
    "    num_rows = db.get_collection_size(legal_docs_collection)"
   ]
  },
  {
   "cell_type": "code",
   "execution_count": 20,
   "metadata": {},
   "outputs": [
    {
     "data": {
      "text/plain": [
       "100"
      ]
     },
     "execution_count": 20,
     "metadata": {},
     "output_type": "execute_result"
    }
   ],
   "source": [
    "num_rows"
   ]
  },
  {
   "cell_type": "code",
   "execution_count": 25,
   "metadata": {},
   "outputs": [],
   "source": [
    "with WeaviateLegalDocumentsDatabase() as db:\n",
    "    docs = db.semantic_search(query=\"wolnosc slowa\", collection_name=\"legal_documents\", target_vector=\"base\", limit=10)"
   ]
  },
  {
   "cell_type": "code",
   "execution_count": 27,
   "metadata": {},
   "outputs": [
    {
     "data": {
      "text/plain": [
       "{'confidence_score': None,\n",
       " 'ingestion_date': None,\n",
       " 'legal_analysis': None,\n",
       " 'outcome': None,\n",
       " 'document_number': None,\n",
       " 'relationships': None,\n",
       " 'last_updated': None,\n",
       " 'source_url': None,\n",
       " 'legal_concepts': None,\n",
       " 'issuing_body': None,\n",
       " 'x': None,\n",
       " 'date_issued': None,\n",
       " 'section_embeddings': None,\n",
       " 'y': None,\n",
       " 'document_id': '151000000001006_II_AKa_000577_2001_Uz_2002-01-30_001',\n",
       " 'structured_content': None,\n",
       " 'keywords': None,\n",
       " 'thesis': None,\n",
       " 'parties': None,\n",
       " 'summary': None,\n",
       " 'judgment_specific': None,\n",
       " 'legal_act_specific': None,\n",
       " 'language': 'pl',\n",
       " 'tax_interpretation_specific': None,\n",
       " 'full_text': None,\n",
       " 'country': 'Poland',\n",
       " 'title': None,\n",
       " 'legal_references': None,\n",
       " 'document_type': 'judgment',\n",
       " 'processing_status': None}"
      ]
     },
     "execution_count": 27,
     "metadata": {},
     "output_type": "execute_result"
    }
   ],
   "source": [
    "docs[0]"
   ]
  },
  {
   "cell_type": "code",
   "execution_count": 17,
   "metadata": {},
   "outputs": [
    {
     "ename": "AttributeError",
     "evalue": "'Collection' object has no attribute 'get_collection_size'",
     "output_type": "error",
     "traceback": [
      "\u001b[31m---------------------------------------------------------------------------\u001b[39m",
      "\u001b[31mAttributeError\u001b[39m                            Traceback (most recent call last)",
      "\u001b[36mCell\u001b[39m\u001b[36m \u001b[39m\u001b[32mIn[17]\u001b[39m\u001b[32m, line 1\u001b[39m\n\u001b[32m----> \u001b[39m\u001b[32m1\u001b[39m \u001b[43mlegal_docs_collection\u001b[49m\u001b[43m.\u001b[49m\u001b[43mget_collection_size\u001b[49m\n",
      "\u001b[31mAttributeError\u001b[39m: 'Collection' object has no attribute 'get_collection_size'"
     ]
    }
   ],
   "source": [
    "legal_docs_collection.get_collection_size"
   ]
  },
  {
   "cell_type": "code",
   "execution_count": null,
   "metadata": {},
   "outputs": [
    {
     "name": "stderr",
     "output_type": "stream",
     "text": [
      "\u001b[32m2025-05-09 12:00:04.301\u001b[0m | \u001b[1mINFO    \u001b[0m | \u001b[36mdocuments_weaviate_db\u001b[0m:\u001b[36mdelete_collection\u001b[0m:\u001b[36m102\u001b[0m - \u001b[1mCollection 'document_chunks' deleted successfully\u001b[0m\n",
      "\u001b[32m2025-05-09 12:00:04.319\u001b[0m | \u001b[1mINFO    \u001b[0m | \u001b[36mdocuments_weaviate_db\u001b[0m:\u001b[36mdelete_collection\u001b[0m:\u001b[36m102\u001b[0m - \u001b[1mCollection 'legal_documents' deleted successfully\u001b[0m\n"
     ]
    }
   ],
   "source": [
    "# with WeaviateLegalDocumentsDatabase() as db:\n",
    "#     db.delete_collection(db.DOCUMENT_CHUNKS_COLLECTION)\n",
    "#     db.delete_collection(db.LEGAL_DOCUMENTS_COLLECTION)"
   ]
  },
  {
   "cell_type": "code",
   "execution_count": 3,
   "metadata": {},
   "outputs": [
    {
     "name": "stderr",
     "output_type": "stream",
     "text": [
      "/home/laugustyniak/github/legal-ai/JuDDGES/.venv/lib/python3.11/site-packages/tqdm/auto.py:21: TqdmWarning: IProgress not found. Please update jupyter and ipywidgets. See https://ipywidgets.readthedocs.io/en/stable/user_install.html\n",
      "  from .autonotebook import tqdm as notebook_tqdm\n"
     ]
    }
   ],
   "source": [
    "from datasets import load_dataset"
   ]
  },
  {
   "cell_type": "code",
   "execution_count": 4,
   "metadata": {},
   "outputs": [
    {
     "name": "stderr",
     "output_type": "stream",
     "text": [
      "Generating train split: 708 examples [00:00, 67809.18 examples/s]\n"
     ]
    }
   ],
   "source": [
    "from juddges.settings import DATA_PATH\n",
    "\n",
    "\n",
    "nsa_chunks = load_dataset(\n",
    "    \"parquet\", data_dir=DATA_PATH / \"embeddings\" / \"pl-nsa\" / \"mmlw-roberta-large\" / \"chunk_embeddings\"\n",
    ")"
   ]
  },
  {
   "cell_type": "code",
   "execution_count": 5,
   "metadata": {},
   "outputs": [
    {
     "data": {
      "text/plain": [
       "DatasetDict({\n",
       "    train: Dataset({\n",
       "        features: ['judgment_id', 'chunk_id', 'chunk_len', 'chunk_text', 'embedding'],\n",
       "        num_rows: 708\n",
       "    })\n",
       "})"
      ]
     },
     "execution_count": 5,
     "metadata": {},
     "output_type": "execute_result"
    }
   ],
   "source": [
    "nsa_chunks"
   ]
  },
  {
   "cell_type": "code",
   "execution_count": 6,
   "metadata": {},
   "outputs": [],
   "source": [
    "\n",
    "nsa_chunks_df = nsa_chunks[\"train\"].to_pandas()"
   ]
  },
  {
   "cell_type": "code",
   "execution_count": 7,
   "metadata": {},
   "outputs": [
    {
     "data": {
      "text/html": [
       "<div>\n",
       "<style scoped>\n",
       "    .dataframe tbody tr th:only-of-type {\n",
       "        vertical-align: middle;\n",
       "    }\n",
       "\n",
       "    .dataframe tbody tr th {\n",
       "        vertical-align: top;\n",
       "    }\n",
       "\n",
       "    .dataframe thead th {\n",
       "        text-align: right;\n",
       "    }\n",
       "</style>\n",
       "<table border=\"1\" class=\"dataframe\">\n",
       "  <thead>\n",
       "    <tr style=\"text-align: right;\">\n",
       "      <th></th>\n",
       "      <th>judgment_id</th>\n",
       "      <th>chunk_id</th>\n",
       "      <th>chunk_len</th>\n",
       "      <th>chunk_text</th>\n",
       "      <th>embedding</th>\n",
       "    </tr>\n",
       "  </thead>\n",
       "  <tbody>\n",
       "    <tr>\n",
       "      <th>0</th>\n",
       "      <td>/doc/6447E5BA57</td>\n",
       "      <td>0</td>\n",
       "      <td>1399</td>\n",
       "      <td>TEZY\\n\\nPrzepisy art. 32 ust. 1 i 2 ustawy z d...</td>\n",
       "      <td>[-0.33203125, -0.5390625, -0.44921875, 0.49804...</td>\n",
       "    </tr>\n",
       "    <tr>\n",
       "      <th>1</th>\n",
       "      <td>/doc/6447E5BA57</td>\n",
       "      <td>1</td>\n",
       "      <td>2415</td>\n",
       "      <td>UZASADNIENIE\\n\\nKomendant Miejski Policji w O....</td>\n",
       "      <td>[-0.28710938, -0.56640625, -0.4296875, 0.41601...</td>\n",
       "    </tr>\n",
       "    <tr>\n",
       "      <th>2</th>\n",
       "      <td>/doc/6447E5BA57</td>\n",
       "      <td>2</td>\n",
       "      <td>877</td>\n",
       "      <td>Odwołanie od powyższego rozkazu personalnego w...</td>\n",
       "      <td>[-0.47070312, -0.828125, -0.68359375, 0.460937...</td>\n",
       "    </tr>\n",
       "    <tr>\n",
       "      <th>3</th>\n",
       "      <td>/doc/6447E5BA57</td>\n",
       "      <td>3</td>\n",
       "      <td>2824</td>\n",
       "      <td>[...] Komendant Wojewódzki Policji w O., po ro...</td>\n",
       "      <td>[-0.34765625, -0.58203125, -0.35742188, 0.2851...</td>\n",
       "    </tr>\n",
       "    <tr>\n",
       "      <th>4</th>\n",
       "      <td>/doc/6447E5BA57</td>\n",
       "      <td>4</td>\n",
       "      <td>2285</td>\n",
       "      <td>W odpowiedzi na skargę [...] Wojewódzki Komend...</td>\n",
       "      <td>[-0.39257812, -0.5234375, -0.51953125, 0.56640...</td>\n",
       "    </tr>\n",
       "  </tbody>\n",
       "</table>\n",
       "</div>"
      ],
      "text/plain": [
       "       judgment_id  chunk_id  chunk_len  \\\n",
       "0  /doc/6447E5BA57         0       1399   \n",
       "1  /doc/6447E5BA57         1       2415   \n",
       "2  /doc/6447E5BA57         2        877   \n",
       "3  /doc/6447E5BA57         3       2824   \n",
       "4  /doc/6447E5BA57         4       2285   \n",
       "\n",
       "                                          chunk_text  \\\n",
       "0  TEZY\\n\\nPrzepisy art. 32 ust. 1 i 2 ustawy z d...   \n",
       "1  UZASADNIENIE\\n\\nKomendant Miejski Policji w O....   \n",
       "2  Odwołanie od powyższego rozkazu personalnego w...   \n",
       "3  [...] Komendant Wojewódzki Policji w O., po ro...   \n",
       "4  W odpowiedzi na skargę [...] Wojewódzki Komend...   \n",
       "\n",
       "                                           embedding  \n",
       "0  [-0.33203125, -0.5390625, -0.44921875, 0.49804...  \n",
       "1  [-0.28710938, -0.56640625, -0.4296875, 0.41601...  \n",
       "2  [-0.47070312, -0.828125, -0.68359375, 0.460937...  \n",
       "3  [-0.34765625, -0.58203125, -0.35742188, 0.2851...  \n",
       "4  [-0.39257812, -0.5234375, -0.51953125, 0.56640...  "
      ]
     },
     "execution_count": 7,
     "metadata": {},
     "output_type": "execute_result"
    }
   ],
   "source": [
    "nsa_chunks_df.head()"
   ]
  },
  {
   "cell_type": "code",
   "execution_count": null,
   "metadata": {},
   "outputs": [],
   "source": []
  }
 ],
 "metadata": {
  "kernelspec": {
   "display_name": ".venv",
   "language": "python",
   "name": "python3"
  },
  "language_info": {
   "codemirror_mode": {
    "name": "ipython",
    "version": 3
   },
   "file_extension": ".py",
   "mimetype": "text/x-python",
   "name": "python",
   "nbconvert_exporter": "python",
   "pygments_lexer": "ipython3",
   "version": "3.11.11"
  }
 },
 "nbformat": 4,
 "nbformat_minor": 2
}
