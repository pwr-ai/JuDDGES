{
 "cells": [
  {
   "cell_type": "code",
   "execution_count": 1,
   "metadata": {},
   "outputs": [],
   "source": [
    "%load_ext autoreload\n",
    "%autoreload 2"
   ]
  },
  {
   "cell_type": "code",
   "execution_count": 2,
   "metadata": {},
   "outputs": [
    {
     "name": "stderr",
     "output_type": "stream",
     "text": [
      "/home/laugustyniak/github/legal-ai/JuDDGES/.venv/lib/python3.11/site-packages/pydantic/_internal/_config.py:323: PydanticDeprecatedSince20: Support for class-based `config` is deprecated, use ConfigDict instead. Deprecated in Pydantic V2.0 to be removed in V3.0. See Pydantic V2 Migration Guide at https://errors.pydantic.dev/2.11/migration/\n",
      "  warnings.warn(DEPRECATION_MESSAGE, DeprecationWarning)\n",
      "\u001b[32m2025-05-19 08:41:44.385\u001b[0m | \u001b[1mINFO    \u001b[0m | \u001b[36mjuddges.data.base_weaviate_db\u001b[0m:\u001b[36m<module>\u001b[0m:\u001b[36m16\u001b[0m - \u001b[1mEnvironment variables loaded from /home/laugustyniak/github/legal-ai/JuDDGES/.env file\u001b[0m\n"
     ]
    }
   ],
   "source": [
    "from documents_weaviate_db import WeaviateLegalDocumentsDatabase"
   ]
  },
  {
   "cell_type": "code",
   "execution_count": 3,
   "metadata": {},
   "outputs": [],
   "source": [
    "with WeaviateLegalDocumentsDatabase() as db:\n",
    "    legal_docs_collection = db.legal_documents_collection\n",
    "    num_rows = db.get_collection_size(legal_docs_collection)"
   ]
  },
  {
   "cell_type": "code",
   "execution_count": 4,
   "metadata": {},
   "outputs": [
    {
     "data": {
      "text/plain": [
       "100"
      ]
     },
     "execution_count": 4,
     "metadata": {},
     "output_type": "execute_result"
    }
   ],
   "source": [
    "num_rows"
   ]
  },
  {
   "cell_type": "code",
   "execution_count": null,
   "metadata": {},
   "outputs": [],
   "source": [
    "with WeaviateLegalDocumentsDatabase() as db:\n",
    "    docs = db.semantic_search(\n",
    "        query=\"wolnosc slowa\",\n",
    "        collection_name=\"legal_documents\",\n",
    "        target_vector=\"base\",\n",
    "        limit=10,\n",
    "    )"
   ]
  },
  {
   "cell_type": "code",
   "execution_count": 6,
   "metadata": {},
   "outputs": [
    {
     "data": {
      "text/plain": [
       "{'court_name': None,\n",
       " 'processing_status': None,\n",
       " 'ingestion_date': None,\n",
       " 'metadata': None,\n",
       " 'legal_analysis': None,\n",
       " 'outcome': None,\n",
       " 'last_updated': None,\n",
       " 'relationships': None,\n",
       " 'document_number': 'II AKa 577/01',\n",
       " 'judges': None,\n",
       " 'source_url': None,\n",
       " 'num_pages': None,\n",
       " 'confidence_score': None,\n",
       " 'publisher': None,\n",
       " 'legal_concepts': None,\n",
       " 'recorder': None,\n",
       " 'issuing_body': '1006',\n",
       " 'raw_content': None,\n",
       " 'x': None,\n",
       " 'extracted_legal_bases': None,\n",
       " 'section_embeddings': None,\n",
       " 'judgment_type': None,\n",
       " 'y': None,\n",
       " 'date_issued': '2002-01-30T00:00:00.000000+00:00',\n",
       " 'references': None,\n",
       " 'source_id': None,\n",
       " 'presiding_judge': None,\n",
       " 'summary': 'Sygn. akt II AKa 577/01 WYROK W IMIENIU RZECZYPOSPOLITEJ POLSKIEJ Dnia 30 stycznia 2002 r. Sąd Apelacyjny w Gdańsku II Wydział Karny w składzie: Przewodniczący: SSA Jerzy Grubba (spr.) Sędziowie: SA Waldemar Płóciennik SA Roman Sądej Protokolant: Ewa Antoniów przy udziale Prokuratora Prokuratury Apelacyjnej w Gdańsku Ireneusza Tomaszewskiego po rozpoznaniu w dniu 30 stycznia 2002r. sprawy A. L. oskarżonego z art. 135 § 2 kk , art. 226 § 1 kk na skutek apelacji wniesionych przez obrońców oskarżon',\n",
       " 'structured_content': None,\n",
       " 'keywords': None,\n",
       " 'parties': None,\n",
       " 'publication_date': None,\n",
       " 'document_id': '151000000001006_II_AKa_000577_2001_Uz_2002-01-30_001',\n",
       " 'judgment_specific': None,\n",
       " 'thesis': None,\n",
       " 'department_name': None,\n",
       " 'legal_act_specific': None,\n",
       " 'language': 'pl',\n",
       " 'reviser': None,\n",
       " 'tax_interpretation_specific': None,\n",
       " 'full_text': 'Sygn. akt II AKa 577/01\\n\\nWYROK\\nW IMIENIU RZECZYPOSPOLITEJ POLSKIEJ\\nDnia 30 stycznia 2002 r.\\n\\nSąd Apelacyjny w Gdańsku II Wydział Karny\\nw składzie:\\nPrzewodniczący:  SSA Jerzy Grubba (spr.)\\nSędziowie:   SA Waldemar Płóciennik\\nSA Roman Sądej\\n\\nProtokolant:  Ewa Antoniów\\nprzy udziale Prokuratora Prokuratury Apelacyjnej w Gdańsku\\nIreneusza Tomaszewskiego\\npo rozpoznaniu w dniu 30 stycznia 2002r.\\nsprawy\\n\\nA. L.\\n\\noskarżonego zart. 135 § 2 kk,art. 226 § 1 kk\\nna skutek apelacji wniesionych przez obrońców oskarżonego\\nod wyroku Sądu Okręgowego w Gdańsku\\nz dnia 2 maja 2001 r., sygn. aktIV K 28/00\\n\\nI\\nzmienia zaskarżony wyrok w ten sposób, że:\\n\\nA\\nuchyla orzeczenie o karze łącznej,\\n\\nB\\nza czyn przypisany wpkt. 1na podstawieart. 135 § 2 kkw zw. zart. 58 § 3 kkwymierza oskarżonemuA. L.karę 100 (stu) stawek dziennych grzywny, określając wysokość każdej z nich na 200 (dwieście) zł,\\n\\nC\\nustala, iż czyny przypisane w pkt. 2 i 3 wyroku, stanowią ciąg przestępstw i za to, na podstawieart. 226 § 1 kkw zw. zart. 91 § 1 kkwymierza karę 100 (stu) stawek dziennych grzywny, określając wysokość każdej z nich na 200 (dwieście) zł;\\n\\nII\\nutrzymuje w mocy zaskarżony wyrok w pozostałej części;\\n\\nIII\\nna podstawieart. 85 kkw zw. zart. 86 § 1 i 2 kkiart. 91 § 2 kkłączy wymierzone kary grzywien i orzeka karę łączną 100 (stu) stawek dziennych grzywny, określając wysokość każdej z nich na 200 (dwieście) zł;\\n\\nIV\\nwymierza oskarżonemu opłatę w kwocie 2.000 (dwa tysiące) zł za obie instancje i obciąża go kosztami procesu za postępowanie odwoławcze.\\n\\nUZASADNIENIE\\nWyrokiem Sądu Okręgowego w Gdańsku z 2 maja 2001r. w sprawie IV K 28/00A. L.uznany został za winnego tego, że:\\n\\nI\\n- w dniu 13 sierpnia 1999r. wG., podczas konferencji prasowej odbywającej się w siedzibie(...)Izby Rolniczej, używając słowa powszechnie uznawanego za obraźliwe publicznie znieważył Prezydenta Rzeczypospolitej Polskiej tj. popełnienia przestępstwa zart. 135 § 2 k.k.\\n\\nII\\n- w dniu 13 sierpnia 1999r. wG., podczas konferencji prasowej odbywającej się w siedzibie(...)Izby Rolniczej, używając słów powszechnie uznawanych za obraźliwe znieważył funkcjonariusza publicznegoL. B.- wicepremiera, Ministra Finansów w Rządzie Rzeczypospolitej Polskiej w związku z pełnieniem obowiązków służbowych tj. popełnienia przestępstwa zart. 226 § 1 k.k.\\n\\nIII\\n- w dniu 13 sierpnia 1999r. wG., podczas konferencji prasowej odbywającej się w siedzibie(...)Izby Rolniczej, używając słowa powszechnie uznanego za obraźliwe znieważył funkcjonariusza publicznegoJ. T.- ówczesnego Wicepremiera, Ministra Spraw Wewnętrznych i Administracji w rządzie Rzeczypospolitej Polskiej w związku z pełnieniem obowiązków służbowych tj. popełnienia przestępstwa zart. 226 § 1 k.k.\\n\\nZa tak zakwalifikowane i opisane czyny wymierzono oskarżonemu następujące kary: za pierwszy z przypisanych czynów - rok pozbawienia wolności, zaś za dwa pozostałe, po 6 miesięcy pozbawienia wolności. Wymierzone kary objęte zostały karą łączną roku i 4 miesięcy pozbawienia wolności.\\nWyrok zawiera też rozstrzygnięcie o zasądzeniu opłaty i obciążeniu kosztami postępowania.\\n\\nOrzeczenie zaskarżone zostało apelacjami obu obrońców oskarżonego.\\n\\nW pierwszej z apelacji podniesiono zarzut obrazy prawa materialnego polegający na niesłusznym zaliczeniu do czynników współdecydujących o popełnieniu czynu, tych ustawowych znamion czynu zabronionego, które określają bliżej podmiot przestępstwa, bez przeprowadzenia postępowania dowodowego i oceny wszystkich okoliczności związanych z działaniem oskarżonego, co w konsekwencji doprowadziło do błędnej konkluzji, iż popełniono przestępstwo znieważenia.\\nPodniesiono też zarzut błędnego przyjęcia, iż popełniono 3 czyny, a nie jeden czyn zart. 135 i 226 k.k.\\nPodnosząc powyższe, obrona wniosła o uchylenie zaskarżonego wyroku i umorzenie postępowania.\\nW drugiej apelacji podniesiono zarzuty obrazy przepisów prawa procesowego i błędu w ustaleniach faktycznych.\\nW zakresie obrazy przepisów proceduralnych obrona wskazała na to, że wyrok wydany został przez sąd nie uprawniony do orzekania w sprawie wskutek nie rozpoznania wniosku o jego wyłączenie, osoby pokrzywdzone nie zostały powiadomione o rozprawach poprzedzających wydanie wyroku, sprawa została rozpoznana na rozprawach jawnych wbrew postanowieniomart. 359 § 2 k.p.k., wyrok z naruszeniemart. 413 § 2 ust. l k.p.k.nie zawierał określenia czynu przypisanego oskarżonemu.\\nObrona podniosła też, że Sąd błędnie uznał, że oskarżony działał w zamiarze znieważenia osób wskazanych w akcie oskarżenia w sytuacji, gdy jego wypowiedź była formą krytyki przedstawioną w imieniuZwiązku Zawodowego (...). Podniesiono też, że Sąd nie rozważył tego, że czynów opisanych w akcie oskarżenia oskarżony dopuścił się jako lider partii i związku zawodowego oraz radny i nie rozważył tych okoliczności przy orzekaniu o winie i karze.\\nPodnosząc powyższe, w tej apelacji, obrona wniosła o uchylenie zaskarżonego wyroku i przekazanie sprawy do ponownego rozpoznania.\\n\\nOdpowiedź na apelacje złożyła Prokuratura RejonowaG.. W odpowiedzi tej wniesiono o nieuwzględnienie zarzutów podniesionych w obu apelacjach i utrzymanie w mocy zaskarżonego wyroku.\\n\\nSąd Apelacyjny zważył, co następuje:\\n\\nW ocenie Sądu Apelacyjnego żaden z zarzutów podniesionych w obu apelacjach nie zasługiwał na uwzględnienie, niemniej wymierzoną karę ocenić należy jako rażąco niewspółmierną. Rozstrzygnięcie Sądu I instancji dotknięte też jest uchybieniem w zakresie zastosowania prawa materialnego, choć innym, niż te, które wskazane został przez obronę.\\n\\nNa gruncie niniejszej sprawy ustalenia faktyczne dokonane przez Sąd I instancji w zakresie przebiegu zdarzenia, nie budziły jakichkolwiek wątpliwości.\\nPrzebieg spotkania z dnia 13 sierpnia 1999r. w(...)Izbie Rolniczej utrwalony został przez obecnych tam dziennikarzy w postaci zapisu audio i wizualnego. Materiały te stanowiły dowód w sprawie, którego prawdziwości nikt nie kwestionował.\\nDowód ten, nie tylko w sposób bezsporny, ale i niewątpliwy, ma charakter obiektywny oraz w pełni wiarygodny.\\nSam oskarżony, jak i obrona, nigdy też nie kwestionowali tego, że w stosunku do pokrzywdzonych zostały użyte słowa opisane w akcie oskarżenia.\\nFundamentalną natomiast dla rozstrzygnięcia niniejszej sprawy kwestią jest dokonanie oceny, czy użyte przez oskarżonego słowa mieszczą się w ramach dozwolonej krytyki, a więc swobody wygłaszania poglądów i przekonań politycznych, czy też są znieważające i wyczerpują znamiona przestępstw zart. 135 § 2 k.k.i226 § 1 k.k..\\nObrona akcentuje tu szczególnie rolę, jaką w życiu politycznym odgrywa oskarżony, Sąd Okręgowy poprzestał natomiast w ramach bardzo lakonicznego uzasadnienia zaskarżonego wyroku, na wskazaniu, że użyte określenia, są w sposób oczywisty ośmieszające i uwłaczające.\\nObie postawione wyżej tezy, aczkolwiek bezspornie prawdziwe, nie są jednak w ocenie Sądu Apelacyjnego wystarczające dla rozstrzygnięcia sprawy.\\nNiewątpliwie natomiast myli się już obrona czyniąc zarzut, że Sąd Okręgowy popełnił błąd, nie dopuszczając żadnych dowodów na okoliczność tego, kim jest oskarżony i jakie pełni funkcje polityczne i społeczne.\\nOskarżony nie jest osobą nieznaną i jego rola oraz pozycja w życiu politycznym kraju są powszechnie znane. Zgodnie zaś z dyspozycjąart. 168 k.p.k.fakty powszechnie znane nie wymagają dowodu.\\nSam jednak fakt, iż oskarżony jest przywódcą związkowym, politycznym i radnym nie stawia go poza obszarem działania norm prawa karnego. Z drugiej natomiast strony, nie ma również racji Sąd I instancji twierdząc, że samo użycie słów obraźliwych pod adresem wskazanych polityków, stanowi o popełnieniu przypisanych przestępstw.\\nW ramach krytyki, z pewnością jest bowiem dopuszczalne posługiwanie się słownictwem mocnym i wyrazistym, w innych warunkach mogących nawet stanowić przedmiot obrazy.\\n\\nObrona dla poparcia swych tez sięgnęła po szereg cytatów z unormowań konstytucyjnych oraz zawartych w konwencjach prawa międzynarodowego. Wszystkie one akcentują naturalne prawo człowieka do wolności, w tym do wolności słowa, przekonań i głoszenia poglądów.\\nJednocześnie jednak, obrona całkowicie pomija już to, iż wolność ta nie jest nieograniczoną a granice jej zakreślone są przez obowiązujące w danym kraju ustawy.\\nW pierwszej kolejności należy wskazać tu naart. 30 Konstytucji Rzeczypospolitej Polskiejstanowiący, że godność każdego człowieka jest nienaruszalna, a jej poszanowanie i ochrona jest obowiązkiem władz publicznych.\\nZ ochrony wskazaną normą nie są wyłączone osoby pełniące w państwie funkcje publiczne, jak prezydent czy minister.\\nTak więc ochrona ich godności jest obowiązkiem między innymi organów kontrolujących przestrzeganie prawa i sprawujących wymiar sprawiedliwości.\\nObrona w uzasadnieniu skargi apelacyjnej przywołuje teżart. 9 ust. l Konwencji o ochronie praw człowieka i podstawowych wolności (sporządzonej w Rzymie dnia 4 listopada 1950 r., zmienionej następnie Protokołami nr 3, 5 i 8 oraz uzupełnionej Protokołem nr 2; Dz. U. z 1993 r. Nr 61 poz.284).\\nAnalizując jednak wskazane przepisy nie można pominąć zapisu zawartego w ustępie 2 wskazywanego artykułu, a zwłaszcza art. 10 Konwencji. Art. 9 ust.2 wskazuje, że: „wolność uzewnętrzniania wyznania lub przekonań może podlegać jedynie takim ograniczeniom, które są przewidziane przez ustawę i konieczne w społeczeństwie demokratycznym z uwagi na interesy bezpieczeństwa publicznego, ochronę porządku publicznego, zdrowia i moralności lubochronę praw i wolności innych osób.\\nNatomiast art. 10 Konwencji, podnosząc, iż każdy ma prawo do wolności wyrażania opinii, a prawo to obejmuje wolność posiadania poglądów oraz otrzymywania i przekazywania informacji i idei bez ingerencji władz publicznych ... w ustępie 2 akcentuje, że „korzystanie z tych wolności pociągających za sobą obowiązki i odpowiedzialność może podlegać takim wymogom formalnym, warunkom, ograniczeniom i sankcjom, jakie są przewidziane przez ustawę i niezbędne w społeczeństwie demokratycznym w interesie bezpieczeństwa państwowego, integralności terytorialnej lub bezpieczeństwa publicznego ze względu na konieczność zapobieżenia zakłóceniu porządku lub przestępstwu, z uwagi na ochronę zdrowia i moralności,ochronę dobrego imienia i praw innych osóboraz ze względu na zapobieżenie ujawnieniu informacji poufnych lub na zagwarantowanie powagi i bezstronności władzy sądowej\".\\nStwierdzić należy zatem, że cytowane przepisy Konwencji w sposób jednoznaczny wskazują że wolność słowa, w tym, głoszenia poglądów, podlega takim ograniczeniom, jakie są niezbędne dla ochrony między innymi, dobrego imienia osób trzecich.\\nNie odbierając więc nikomu prawa do krytyki, przyjąć trzeba, że prawo to napotyka na ograniczenia zakreślone między innymi, przez ochronę dobrego imienia innych osób, która jest składową konstytucyjnej zasady ochrony godności człowieka.\\nAnalogicznie kwestia ta ujęta została w Międzynarodowym Pakcie Praw Obywatelskich i Politycznych (otwartym do podpisu w Nowym Jorku dnia 19 grudnia 1966r; Dz. U. z 1977r. Nr 38 poz.167).\\nArtykuł 19 ust. 3 cytowanego paktu wskazuje, że: „realizacja praw przewidzianych w ustępie 2 niniejszego artykułu /prawa do swobodnego wyrażania opinii/pociąga za sobą specjalne obowiązki i specjalną odpowiedzialność. Może ona w konsekwencji podlegać pewnym ograniczeniom, które powinny być jednak wyraźnie przewidziane przez ustawę i które są niezbędne w celu:\\na)poszanowania praw i dobrego imienia innych; \".\\n\\nW ocenie Sądu Apelacyjnego, kryterium rozróżnienia prawa do krytyki od znieważenia stanowiącego znamię przestępstwa, zostało w sposób bardzo trafny zdefiniowane w orzecznictwie Europejskiego Trybunału Praw Człowieka w Strasburgu.\\nTrybunał ten w orzeczeniu z 20.09.1994r. /sprawa Otto-Preminger-Institute przeciwko Austrii, cytat za Orzecznictwo Strasburskie t. II Toruń 1988 str.786/ wskazał, że „ ... w kontekście poglądów i przekonań religijnych - w prawowity sposób włączyć można obowiązek unikania - na ile to tylko możliwe -ekspresji, która jest bezzasadnie napastliwa w stosunku do innych osób, a zatem stanowi naruszenie ich praw, nie stanowi zaś wkładu w jakąkolwiek formę debaty publicznej sprzyjającej postępowi w sprawach ludzkich\".\\nPowyższe można krótko zdefiniować, posługując się sformułowaniem zaczerpniętym z innego orzeczenia tego Trybunału /sprawa Oberschlik przeciwko Austrii orzeczenie z 1 lipca 1997r. cytat za j/w str.814/, stwierdzając, iż nie mieści się w ramach dopuszczalnej krytyki -„złośliwy atak osobisty\".\\n\\nW ocenie Sądu Apelacyjnego wypowiedziane przez oskarżonego słowa stanowiły, w każdym z trzech opisanych w akcie oskarżenia przypadków, ów złośliwy atak osobisty.\\n\\nAnalizę powyższego rozpocząć należy od dokonania oceny wypowiedzianych przez oskarżonego zwrotów.\\nNie można podzielić tu stanowiska obrony, że dla dokonania takiej oceny niezbędne jest dopuszczenie dowodu z opinii językoznawcy.\\nSłowa użyte przez oskarżonego są powszechnie znane, a ich znaczenie jednoznaczne.\\nW zupełności dla opisania ich wystarczające jest odwołanie się do popularnego Słownika Języka Polskiego pod redakcją prof. Mieczysława Szymczaka.\\nWedług tego Słownika:\\n\\n-\\n\\nbandyta to osobnik dokonujący zbrojnych napadów, morderstw;\\n\\nidiota to człowiek upośledzony umysłowo, a potocznie, głupiec, bałwan, dureń;\\n\\nnierób to pogardliwie człowiek leniwy, próżniak.\\n\\nKażde z tych określeń, jak widać z powyższego, jest jednoznacznie pejoratywne.\\nSłowa te, w pełni prawidłowo określono więc w akcie oskarżenia, jako powszechnie uznawane za obraźliwe.\\nZarówno dyspozycjaart. 135 § 2 k.k.jak i 226§ 1 k.k.posługują się terminem „znieważa\".\\nKomentarz doKodeksu Karnegopod redakcją Andrzeja Zolla /Zakamycze 1999; teza 16 do art. 135 odsyłająca do tez 17 i 18 do art. 133/ wskazuje, że „kodeks pozostawia kwestię interpretacji pojęcia „znieważa\" funkcjonującemu w społeczeństwie systemowi ocen. Rozumienie tego znamienia winno odpowiadać treściom, jakie nadaje mu język potoczny. Wedle ujęcia słownikowego znieważanie to ubliżanie komuś lub czemuś słowem lub czynem, obrażanie kogoś lub czegoś. Znieważanie oznacza więc zachowanie, mające obelżywy, obraźliwy charakter, polegające na uczynieniu sobie ... /z pokrzywdzonego/ pośmiewiska, okazywaniu pogardy...\".\\nW istocie więc, użycie określeń „obraża\" i „znieważa\" oznacza zachowania tożsame.\\nPodkreślić należy też, że przytoczone wyżej słowa, każdorazowo stanowią wtręt w narrację oskarżonego, narrację mającą charakter krytyki poczynań rządu i prezydenta.\\nWtręty te, pozostają poza głównym biegiem wypowiedzi oskarżonego i mają charakter ataku skierowanego personalnie przeciwkoA. K.,L. B.iJ. T..\\nWtręty te każdorazowo skierowane są jednoznacznie i personalnie przeciwko tym osobom i mają charakter oczywiście obraźliwy, jak wykazano to wyżej, opisując znaczenie użytych określeń.\\nZnaczenia tych słów nie może zmienić dodanie przymiotnika „ekonomiczny\". Nie zmienia to bowiem tego, że pokrzywdzony nazywany jest publicznie przez oskarżonego bandytą czy idiotą, nawet gdyby określenie to miało ograniczać się jedynie do jednej dziedziny życia.\\nPodkreślić należy tu też i to, że oskarżony przedstawiając swoje oceny poczynań rządu czy partii, często używa określeń negatywnych wobec tych grup, mają one jednak charakter przedmiotowy i mieszczą się w granicach dopuszczalnej krytyki, nie są zatem czynami zabronionymi.\\nKażdorazowo jednak, kiedy zaczyna mówić o pokrzywdzonych, nie używa określeń mogących odnosić się do mniej lub bardziej sprecyzowanej grupy osób, lecz skierowanych do wymienionych osób indywidualnie.\\nNie ma więc mowy o bandytyzmie, nieróbstwie czy idiotyzmie, lecz bandycie, nierobie i idiocie.\\nPotwierdził to zresztą sam oskarżony, wskazując w swym wystąpieniu przed Sądem Apelacyjnym, że używał takich słów, gdyż znał te osoby.\\nWskazać należy także, iż obraźliwy charakter określenia nierób pośrednio przyznaje sama obrona podnosząc na stronie trzeciej skargi apelacyjnej, że trudno przyjąć, aby słowo to mogło być uznane za „rażąco obraźliwe i znieważające\".\\nNie jest zatem kwestionowane to, iż określenie to jest znieważające, wskazuje się jedynie, iż znieważenie to nie ma charakteru rażącego. W istocie, w ocenie Sądu Apelacyjnego można by zgodzić się z takim stanowiskiem obrony, z tym, że nie stanowi ono argumentu mogącego przemawiać za brakiem zawinienia oskarżonego.\\nDyspozycjaart. 135 § 2 k.k.nie uzależnia bowiem karalności od stopnia dokonanego znieważenia.\\nZ pewnością natomiast, znaczenie dla oceny sprawstwa oskarżonego ma to, czy użył on wypowiedzianych wobec pokrzywdzonych określeń w sposób umyślny, czy też słowa te, użyte zostały spontanicznie, wręcz poza intelektualną kontrolą oskarżonego.\\nW ocenie Sądu Apelacyjnego zdecydowanie należy zanegować zachodzenie drugiej ze wskazanych możliwości.\\nZ jednej bowiem strony trudno dopuścić zachodzenie takiej sytuacji, że polityk, przywódca związkowy i radny używa słów, określeń, za które nie odpowiada, to jest, których treści nie kontroluje, z drugiej zaś, sam oskarżony podczas zdarzenia /zapis video i stenogramy tego zapisu k.33-35 i 60-66/ podkreślał odpowiedzialność za wypowiadane przez siebie słowa.\\nPodkreślić należy też, iż o tym, że oskarżony w pełni kontroluje swoje wypowiedzi świadczy to, że jego wypowiedź dotycząca prezydenta RP poprzedzona jest krytyką bezczynności episkopatu w sprawach wsi i rolnictwa. Wypowiedź, w tej części, pozbawiona jest jakichkolwiek elementów obraźliwych czy choćby agresywnych. Ewidentnie mieści się w ramach krytyki.\\nW chwilę później natomiast, gdy oskarżony wypowiada się na temat prezydenta, zmienia ton swej wypowiedzi i zaczyna używać słów znieważających.\\nPowyższe jaskrawo świadczy o tym, że oskarżony w pełni kontroluje to, jakie osoby staną się obiektem ataku z jego strony i jakich w danym wypadku użyje słów.\\nOskarżony nie waha się dla osiągnięcia zakładanych przez siebie celów politycznych używać słów obraźliwych stanowiących znieważenie.\\nJest tak, gdyż oskarżony przyjął taki właśnie sposób kreowania swojego wizerunku na scenie politycznej.\\nTo jednak, że celem posługiwania się przez oskarżonego zniewagą, a używając terminologii zaczerpniętej z orzecznictwa strasburskiego, złośliwym atakiem osobistym, jest pokonanie swych przeciwników politycznych, nie stanowi okoliczności wyłączającej odpowiedzialność karną.\\nOskarżony, tak jak każda inna osoba, winien ponieść odpowiedzialność karną za popełnienie czynów wyczerpujących znamiona przestępstw opisanych wkodeksie karnym.\\n\\nKończąc rozważania dotyczące materialnoprawnej strony zagadnień wskazywanych w skargach apelacyjnych, podnieść należy, że w ocenie Sądu Odwoławczego nie budzi wątpliwości również i to, że spełnione zostały również pozostałe znamiona dyspozycji przypisanych czynów. Obrońca oskarżonego, wskazał co prawda podczas rozprawy apelacyjnej, iż jego zdaniem mogą istnieć wątpliwości co do tego, iż wypowiedź oskarżonego miała charakter publiczny, gdyż nie miała ona miejsca na konferencji prasowej, lecz na spotkaniu w siedzibie(...)Izby Rolniczej, lecz zarzut taki musi być uznany za wręcz oczywiście bezzasadny.\\nO tym, że spotkanie owo miało charakter konferencji prasowej, bez względu na to, jaką nadano mu nazwę, świadczy obecność na nim licznych dziennikarzy i dokonane tam przez nich zapisy audio i video stanowiące dowody w sprawie.\\nMateriały zaś z tego „spotkania\", w tym znieważające wypowiedzi oskarżonego, jeszcze tego samego dnia rozpowszechnione zostały przez programy telewizyjne, nazajutrz zaś przez gazety.\\nOskarżony był w pełni świadomy takiego charakteru „spotkania\" i jego publicznego charakteru widząc obecność na sali licznych dziennikarzy, włączone kamery i inny sprzęt rejestrujący jego wypowiedzi. W końcu zaś, oskarżony swe wypowiedzi, w tym słowa znieważające prezydenta i wicepremierów, jak wynika z zapisów, którymi dysponował Sąd, kierował przede wszystkim do dziennikarzy.\\n\\nReasumując powyższe rozważania, stwierdzić należy, że w ocenie Sądu Apelacyjnego, Sąd I instancji w zaskarżonym wyroku w sposób tramy przyjął, że oskarżony swym działaniem wyczerpał dyspozycje przestępstw opisanych wart. 135 § 2 k.k.i226 § 1 k.k..\\nNie można też przyjąć, że czyn popełniony przez oskarżonego jest społecznie szkodliwy w stopniu znikomym.\\nPrzeciwstawia się temu z jednej strony, ostentacyjny wręcz charakter zachowań oskarżonego naruszających normy prawne i dobra osobiste innych osób, z drugiej zaś, wielokrotność takich zachowań zarówno przed popełnieniem czynów przypisanych w niniejszej sprawie, jak i później, co świadczy o niepoprawności sprawcy.\\nTym samym brak podstaw do przyjęcia ,iż zachodzą okoliczności wskazane wart. 115 § 2 k.k.i że popełnione przez oskarżonego czyny nie są karygodne.\\n\\nOdnieść należy się w tym miejscu do ostatniego zarzutu naruszenia prawa materialnego, mającego jednak całkowicie odmienny charakter niż zagadnienia opisane wyżej /nie odnosi się on bowiem do żadnej z cech przestępstwa opisanych wart. 1 k.k./.\\nZagadnieniem tym, jest wskazany przez obronę problem jedności i wielości popełnionych przez oskarżonego czynów.\\nStanowisko swe obrona oparła na tezie wyroku Sądu Najwyższego z 22.06.1999r. /OSNKW z 1999r. nr 9-10 poz.55/.\\nNie negując słuszności przytoczonej tezy, stwierdzić należy, że postawiona została ona przy zaistnieniu zupełnie innego stanu faktycznego, niż mający miejsce na gruncie niniejszej sprawy.\\nW sprawie rozpoznanej przez Sąd Najwyższy wskazano, że zachowanie oskarżonego „ewidentnie przedstawiało się jako jeden czyn\", ale miało to miejsce w sytuacji, gdy „w słowotoku oskarżonego nie sposób było wskazać granicy między wypowiadaniem zniewag a wypowiadaniem gróźb\" kierowanych w stosunku do pokrzywdzonego, następnie zaś, gdy na miejscu zdarzenia pojawili się dwaj pokrzywdzeni „zachowanie oskarżonego przebiegało identycznie i sprowadziło się do zniewag oraz gróźb wypowiadanych w celu zmuszenia obu funkcjonariuszy do odstąpienia od czynności służbowych\" /cytaty za uzasadnieniem wyroku SN z 22.06.1999r./.\\nTak więc jedność zachowania sprawcy naruszająca dyspozycje różnych przepisówkodeksu karnegozaistniała w sytuacji „słowotoku oskarżonego\", w którym nie sposób wskazać granic pomiędzy groźbą a znieważeniem oraz pomiędzy tym, które słowa skierowane są do jednego pokrzywdzonego, a które dotyczą drugiego z nich.\\nTaka sytuacja, w oczywisty sposób nie ma miejsca w niniejszej sprawie. Nie tylko nie mamy tu bowiem do czynienia ze „słowotokiem\" sprawcy, ale także z wyraźnym rozdzieleniem poszczególnych wypowiedzi, a także jednoznacznym, personalnym wskazaniem, kogo wypowiedzi te dotyczą. Ponieważ zaś wypowiedzi te dotyczą różnych osób i każda z nich została „osobno\" znieważona mamy do czynienia z taką ilością przestępstw ilu jest pokrzywdzonych.\\nKonstrukcja prawna proponowana przez obronę najbliższa byłaby definicji czynu ciągłego zart. 12 k.k.. Istnieje jednak wyraźny zakaz ustawowy stosowania tego przepisu w sytuacji, gdy przedmiotem zamachu jest dobro osobiste, a pokrzywdzonym jest więcej niż jedna osoba.\\nNie ma więc możliwości przyjęcia, że działanie oskarżonego stanowiło jeden czyn lub jedno przestępstwo.\\nPowyższe nie oznacza jednak równocześnie, że rozstrzygnięcie Sądu I instancji wolne jest od uchybień.\\nSąd Okręgowy nie dostrzegł bowiem, że oskarżony popełnił w podobny sposób, w krótkich odstępach czasu, dwa przestępstwa, wyczerpujące znamiona tego samego przepisu, zanim zapadł wyrok co do któregokolwiek z nich.\\nW stosunku do przestępstw zart. 226 § 1 k.k.przy wymiarze kary, należało więc zastosować instytucję ciągu przestępstw zart. 91 § 1 k.k.Stąd zmiana zaskarżonego wyroku we wskazanym wyżej zakresie.\\n\\nSąd nie podzielił podniesionych przez obronę zarzutów naruszenia prawa procesowego.\\nKodeks postępowania karnegonie zna instytucji wyłączenia sądu od orzekania w sprawie, nie było zatem potrzeby wydawania orzeczenia w tej kwestii, a tym bardziej przekazywania sprawy innemu sądowi celem rozpoznania takiego wniosku.\\nNatomiast wniosek o wyłączenie sędziów orzekających przedmiotową sprawę został rozpoznany w sposób prawidłowy, co nie jest kwestionowane przez żadną ze stron.\\nPowtórzyć należy tu za uzasadnieniem postanowienia Sądu Apelacyjnego w Warszawie z 16.06.1994r. /Wokanda z 1995r. nr(...)poz.(...)/, że „Kodeks postępowania karnegonie przewiduje wniosku o wyłączenie całego sądu jako takiego, nie zna wyłączenia sądu in abstracto. Jeżeli wniosek nie zawiera elementarnych wymogów, do których należy indywidualne wskazanie na sędziego wraz z podaniem przyczyny wyłączenia, nie może on podlegać rozpoznaniu. Brak ten powoduje, iż wnioskowi nie można nadać biegu. Taki wniosek nie zobowiązuje poszczególnych sędziów do powstrzymywania się od udziału w sprawie, jak to przewidujeart. 32 § 3 k.p.k.\" \\'\\nPodkreślić należy też, że o ile obrona chciałaby złożyć wniosek o wyłączenie wszystkich sędziów zatrudnionych w Sądzie Okręgowym w Gdańsku, w oparciu o indywidualnie sformułowane zarzuty w stosunku do każdego z nich, nic nie stało na przeszkodzie ku temu w trakcie trwającego przed Sądem I instancji przez wiele miesięcy procesu. Również więc i z tego względu, podniesienie takiego zarzutu dopiero na etapie postępowania odwoławczego nie może spotkać się z akceptacją. Podobnie ocenić należy zarzut braku powiadomienia pokrzywdzonych o kolejnych terminach rozpraw.\\nObrona wywodzi taki obowiązek z treściart. 384 § 2 k.p.k.\\nZauważyć jednak należy, że przepis ten określa jedynie, iż „pokrzywdzony ma prawo wziąć udział w rozprawie\".\\nPowyższe nakłada na sąd obowiązek zawiadomienia pokrzywdzonego pierwszym terminie rozprawy nie zaś o każdym terminie rozprawy.\\nW niniejszej sprawie potwierdzenia znajdujące się w aktach sprawy w sposób nie budzący wątpliwości wskazują na to, że wszyscy pokrzywdzeni w sposób prawidłowy zostali zawiadomieni o terminie rozprawy.\\nŻaden natomiast z nich nie wyraził woli uczestnictwa w tej rozprawie, żaden z nich nie został też zawnioskowany przez żadną ze stron jako świadek, nie zaistniała też potrzeb dopuszczenia takiego dowodu z urzędu.\\nPokrzywdzeni nie uczestniczyli w zdarzeniu, ich ewentualna wiedza na temat zdarzenia może pochodzić jedynie z informacji dziennikarskich. Dla bytu przestępstwa nie ma natomiast znaczenia subiektywne odczucie pokrzywdzonego związane z wypowiedzianymi przez oskarżonego pod jego adresem słowami.\\nWskazać należy tu na wyjątkową niestosowność, wręcz niedopuszczalność sytuacji, w której prezydent państwa był przesłuchiwany w charakterze świadka na okoliczność, czy użyte przez sprawcę słowa traktuje jako znieważenie i czy naruszają jego godność.\\nOczywistym jest, że pokrzywdzony może nie czuć się dotknięty obrazą co samo w sobie nie przesądza o niepopełnieniu przestępstwa. Zarówno przestępstwo zart. 135 § 2 k.k., jak i zart. 226 § 1 k.k., ścigane są z urzędu, nie zaś z oskarżenia prywatnego, między innymi dlatego, że pokrzywdzeni z uwagi na sprawowane funkcje, z różnych względów, choćby politycznych, mogą nie mieć możliwości wyrażenia w sposób nieskrępowany swojego stanowiska w sprawie.\\nRównież jako nieuzasadniony należy uznać zarzut, iż wyrok Sądu I instancji z naruszeniemart. 413 § 2 ust. 1 k.p.k.nie zawierał określenia czynu przypisanego oskarżonemu.\\nZarzut ten sprowadza się do podniesienia, że zarówno zaskarżony wyrok, jak i wcześniej akt oskarżenia, nie zawierają konkretnego wskazania wypowiedzianych przez oskarżonego obraźliwych określeń.\\nW ocenie Sądu Apelacyjnego nie ma potrzeby wskazywania tych określeń w opisie przypisanych czynów, wystarczające jest opisanie ich w taki sposób, aby nie budziło wątpliwości, znamię jakiego przestępstwa słowa te stanowią.\\nPrecyzyjnie natomiast słowa te przytoczone muszą być i omówione w uzasadnieniu wyroku i aktu oskarżenia. Tak też nastąpiło w niniejszej sprawie.\\nPrzytoczyć należy tu za Komentarzem doKodeksu Postępowania Karnegopod redakcją Zbigniewa Gostyńskiego /Dom Wydawniczy ABC 1998 teza 12 do art. 413 k.p.k./, że „ustawa nie określa, na czym ma polegać dokładne określenie przypisanego oskarżonemu czynu. Wskazówkę co do tego, jakie elementy czynu powinny być wymienione, zawiera art. 332 § 1 pkt 2, precyzując, na czym polega dokładne określenie zarzuconego czynu. Podaje się w nim, że określenie to następuje przez wskazanie czasu, miejsca, sposobu i okoliczności jego popełnienia ...\"\\nNie może budzić wątpliwości, że elementy te w sposób jasny i precyzyjny zostały wskazane w zaskarżonym wyroku.\\nW ocenie Sądu Apelacyjnego istotą regulacji zawartej w dyspozycjiart. 413 k.p.k.oraz332 § 1 pkt 2 k.p.k.jest zagwarantowanie, iż nie może budzić wątpliwości to, jaki czyn jest oskarżonemu zarzucony, a następnie przypisany.\\nOpis czynu powinien więc być na tyle precyzyjny, by możliwa była nie budząca obiektywnie wątpliwości identyfikacja, jakie działanie lub zaniechanie oskarżonego /na czym polegające, oraz kiedy i gdzie zaistniałe/ traktowane jest jako stanowiące przestępstwo, oraz jak przestępstwo to jest kwalifikowane, kto został nim pokrzywdzony i ewentualnie, jakie są jego skutki.\\nTaka identyfikacja jest niewątpliwie możliwa na podstawie opisów znajdujących się w akcie oskarżenia i zaskarżonym wyroku. Wskazać należy też, iż obrona od chwili postawienia zarzutów do czasu zapadnięcia wyroku przed Sądem I instancji, nigdy nie podnosiła, aby treść zarzutów była dla niej lub oskarżonego niezrozumiała. Przeciwnie, postawa oskarżonego i jego obrońców w toku całego procesu dowodzi, że to, jakie zachowanie jestA. L.zarzucane i na czym ono polegało, nigdy nie budziło wątpliwości.\\nW tej sytuacji, zarzut obrony, nie uzasadniony zresztą bliżej w uzasadnieniu apelacji, nie mógł być uznany za zasadny.\\nOstatnim zarzutem stawianym w skargach apelacyjnych obrony był zarzut naruszenia dyspozycjiart. 359 § 2 k.p.k.poprzez rozpoznanie sprawy w sposób jawny.\\nNa wstępie wskazać należy tu, iż zarzut ten z góry nie może być uznany jako taki, który mógłby mieć wpływ na treść wyroku, nawet jego uwzględnienie, nie mogło zatem wpłynąć na zmianę zaskarżonego wyroku. Niezależnie jednak od powyższego, w ocenie Sądu Odwoławczego, przy rozpoznawaniu przedmiotowej sprawy nie doszło do popełnienia tego uchybienia.\\nW pierwszej kolejności należy tu przypomnieć, że zasadą zarówno konstytucyjną /art. 45/, jak i kodeksową /art. 355 k.p.k./ jest jawne odbywanie rozpraw.\\nWyjątki od tej zasady wskazane zostały wart. 359 i 360 k.p.k.Jednocześnie jednak dostrzegać należy, że bezsprzecznie rozwiązanie przyjęte wart. 359 ust.2 k.p.k.ma na celu ochronę dobrego imienia osoby pokrzywdzonej, na co jednoznacznie wskazuje uregulowanie pozwalające na wniosek tej osoby rozprawę prowadzić jawnie.\\nJuż choćby powyższe jednoznacznie wiąże uregulowanie zawarte w cytowanym przepisie z przestępstwami przeciwko czci uregulowanymi wRozdziale XXVII k.k.i to tymi, które ścigane są z oskarżenia prywatnego.\\nW sposób oczywisty przestępstwami takimi nie są czyny zarzucone i przypisane w niniejszej sprawie.\\nNa takie rozumienie wskazywanego przepisu wskazują również jednoznaczne w tym względzie poglądy doktryny /\"wyłączenie jawności rozprawy z mocy prawa, ale w sposób względny, ma miejsce w sprawie o pomówienie lub znieważenie ... Chodzi o przestępstwo pomówienia określone w art. 212 § 1 k.k. i znieważenie stypizowane w art. 216 § 1 k.k.\" -- teza 2 do art. 359 Komentarz do Kodeksu Postępowania Karnego pod redakcją Z. Gostyńskiego, tożsamy pogląd wyraża teza 5 do art. 359 Komentarza do Kodeksu Postępowania Karnego pod redakcją P. Hofmańskiego Wydawnictwo C.H.Beck Warszawa 1999/.\\n\\nKierując się wyżej omówionymi względami Sąd Apelacyjny uznał, że żaden z zarzutów podniesionych przez obronę nie zasługuje na uwzględnienie.\\nJednocześnie dokonano wskazanej zmiany zaskarżonego wyroku poprzez zastosowanieart. 91 § 1 k.k.\\n\\nNajbardziej kontrowersyjną kwestią powstałą przy rozstrzyganiu niniejszej sprawy i budzącą największe emocje społeczne było zagadnienie wymiaru kary.\\nSąd I instancji wskazując na okoliczności, które wpłynęły na wysokość wymierzonej w zaskarżonym wyroku wskazał, iż w jego ocenie „jedynie kara pozbawienia wolności będzie adekwatna do stopnia zawinienia oskarżonego, jego dotychczasowej postawy życiowej i spełni wymogi prewencji\".\\nSąd Apelacyjny nie podziela tego stanowiska.\\nZgodzić należy się z tym, że mając na uwadze dotychczasową postawę oskarżonego, jako kary nieskuteczne /zarówno z punktu widzenia wymogów prewencji szczególnej, jak i względu na kształtowanie świadomości prawnej społeczeństwa/, należy uznać kary ograniczenia wolności i pozbawienia wolności z warunkowym zawieszeniem jej wykonania. Jednoznacznie wskazać należy też, że w przypadku oskarżonego, brak podstaw do pozytywnego rozważania kwestii warunkowego zawieszenia wykonania kary, wobec nie spełniania przez niego, jakiejkolwiek z przesłanek wymienionych wart. 69 § 2 k.k..\\nW ocenie Sądu Odwoławczego, postawa oskarżonego nie pozwala w chwili obecnej, na sformułowanie wobec niego pozytywnej prognozy co do przestrzegania porządku prawnego.\\nPowyższe nie oznacza jednak, w ocenie Sądu Apelacyjnego, iż nie jest możliwe poprzestanie na orzeczeniu wobec oskarżonego kary grzywny. Ta kara w ocenie Sądu Odwoławczego jest najwłaściwsza w przypadku popełnienia przestępstw takich jak przypisane oskarżonemu.\\nJednocześnie wymierzanie kary pozbawienia wolności, zwłaszcza za czyny polegające na użyciu słów /znieważających inne osoby/, powinno być ograniczone do absolutnie niezbędnych wypadków, kiedy nie ma żadnej możliwości wymierzenia innej kary. Taki wypadek nie zachodzi w niniejszej sprawie.\\nOrzekając o karze Sąd Apelacyjny wziął pod uwagę również te uregulowania wprost wyrażone w art. 9 ust. 2 i art. 10 ust. 2 Konwencji Europejskiej, które wskazują na konieczność ograniczenia w takich sytuacjach represji karnej /sankcji/ do niezbędnej potrzeby w ramach funkcjonowania społeczeństwa demokratycznego.\\nBrak też podstaw do przyjęcia, że kara grzywny mogłaby okazać się karą nieskuteczną z uwagi na niemożność jej egzekucji.\\nJednocześnie, mając na uwadze wagę naruszonych przez oskarżonego dóbr, a przede wszystkim, brak wyrażenia skruchy i wielokrotność naruszeń obowiązujących przepisów prawnych, wymierzona grzywna musiała być odpowiednio wysoka, tak, aby stanowiła wyraz jednoznacznej dezaprobaty dla tego typu postawy ze strony organów wymiaru sprawiedliwości. W ocenie Sądu Apelacyjnego wymierzone jednostkowe kary grzywny spełniają ten walor.\\nRównocześnie biorąc pod uwagę wielkość posiadanego przez oskarżonego majątku, wymierzone grzywny, nie przekraczają jego możliwości finansowych.\\nMając na względzie to, iż pomiędzy przypisanymi czynami zachodzi jednoznaczny związek wynikający z czasu, miejsca i sposobu ich popełnienia, w ocenie Sądu Apelacyjnego, istnieją podstawy do zastosowaniu przy wymiarze kary łącznej zasady pełnej absorpcji. O kosztach procesu za postępowanie odwoławcze orzeczono na podstawieart. 10 ust. lw zw. zart. 3 ust. l Ustawy z 23 czerwca 1973r. o opłatach w sprawach karnych/Dz.U. z 1983r. Nr 49 poz. 223/ orazart. 634 k.p.k.w zw. zart. 627 k.p.k.',\n",
       " 'volume_number': None,\n",
       " 'country': 'Poland',\n",
       " 'document_type': 'judgment',\n",
       " 'legal_bases': None,\n",
       " 'title': None,\n",
       " 'legal_references': None,\n",
       " 'court_type': None,\n",
       " 'volume_type': None}"
      ]
     },
     "execution_count": 6,
     "metadata": {},
     "output_type": "execute_result"
    }
   ],
   "source": [
    "docs[0]"
   ]
  },
  {
   "cell_type": "code",
   "execution_count": 17,
   "metadata": {},
   "outputs": [
    {
     "ename": "AttributeError",
     "evalue": "'Collection' object has no attribute 'get_collection_size'",
     "output_type": "error",
     "traceback": [
      "\u001b[31m---------------------------------------------------------------------------\u001b[39m",
      "\u001b[31mAttributeError\u001b[39m                            Traceback (most recent call last)",
      "\u001b[36mCell\u001b[39m\u001b[36m \u001b[39m\u001b[32mIn[17]\u001b[39m\u001b[32m, line 1\u001b[39m\n\u001b[32m----> \u001b[39m\u001b[32m1\u001b[39m \u001b[43mlegal_docs_collection\u001b[49m\u001b[43m.\u001b[49m\u001b[43mget_collection_size\u001b[49m\n",
      "\u001b[31mAttributeError\u001b[39m: 'Collection' object has no attribute 'get_collection_size'"
     ]
    }
   ],
   "source": [
    "legal_docs_collection.get_collection_size"
   ]
  },
  {
   "cell_type": "code",
   "execution_count": null,
   "metadata": {},
   "outputs": [
    {
     "name": "stderr",
     "output_type": "stream",
     "text": [
      "\u001b[32m2025-05-19 11:06:35.302\u001b[0m | \u001b[1mINFO    \u001b[0m | \u001b[36mdocuments_weaviate_db\u001b[0m:\u001b[36mdelete_collection\u001b[0m:\u001b[36m101\u001b[0m - \u001b[1mCollection 'document_chunks' deleted successfully\u001b[0m\n",
      "\u001b[32m2025-05-19 11:06:35.325\u001b[0m | \u001b[1mINFO    \u001b[0m | \u001b[36mdocuments_weaviate_db\u001b[0m:\u001b[36mdelete_collection\u001b[0m:\u001b[36m101\u001b[0m - \u001b[1mCollection 'legal_documents' deleted successfully\u001b[0m\n"
     ]
    }
   ],
   "source": [
    "# with WeaviateLegalDocumentsDatabase() as db:\n",
    "#     db.delete_collection(db.DOCUMENT_CHUNKS_COLLECTION)\n",
    "#     db.delete_collection(db.LEGAL_DOCUMENTS_COLLECTION)"
   ]
  },
  {
   "cell_type": "code",
   "execution_count": 3,
   "metadata": {},
   "outputs": [
    {
     "name": "stderr",
     "output_type": "stream",
     "text": [
      "/home/laugustyniak/github/legal-ai/JuDDGES/.venv/lib/python3.11/site-packages/tqdm/auto.py:21: TqdmWarning: IProgress not found. Please update jupyter and ipywidgets. See https://ipywidgets.readthedocs.io/en/stable/user_install.html\n",
      "  from .autonotebook import tqdm as notebook_tqdm\n"
     ]
    }
   ],
   "source": [
    "from datasets import load_dataset"
   ]
  },
  {
   "cell_type": "code",
   "execution_count": null,
   "metadata": {},
   "outputs": [
    {
     "name": "stderr",
     "output_type": "stream",
     "text": [
      "Generating train split: 708 examples [00:00, 67809.18 examples/s]\n"
     ]
    }
   ],
   "source": [
    "from juddges.settings import DATA_PATH\n",
    "\n",
    "\n",
    "nsa_chunks = load_dataset(\n",
    "    \"parquet\",\n",
    "    data_dir=DATA_PATH\n",
    "    / \"embeddings\"\n",
    "    / \"pl-nsa\"\n",
    "    / \"mmlw-roberta-large\"\n",
    "    / \"chunk_embeddings\",\n",
    ")"
   ]
  },
  {
   "cell_type": "code",
   "execution_count": 5,
   "metadata": {},
   "outputs": [
    {
     "data": {
      "text/plain": [
       "DatasetDict({\n",
       "    train: Dataset({\n",
       "        features: ['judgment_id', 'chunk_id', 'chunk_len', 'chunk_text', 'embedding'],\n",
       "        num_rows: 708\n",
       "    })\n",
       "})"
      ]
     },
     "execution_count": 5,
     "metadata": {},
     "output_type": "execute_result"
    }
   ],
   "source": [
    "nsa_chunks"
   ]
  },
  {
   "cell_type": "code",
   "execution_count": null,
   "metadata": {},
   "outputs": [],
   "source": [
    "nsa_chunks_df = nsa_chunks[\"train\"].to_pandas()"
   ]
  },
  {
   "cell_type": "code",
   "execution_count": 7,
   "metadata": {},
   "outputs": [
    {
     "data": {
      "text/html": [
       "<div>\n",
       "<style scoped>\n",
       "    .dataframe tbody tr th:only-of-type {\n",
       "        vertical-align: middle;\n",
       "    }\n",
       "\n",
       "    .dataframe tbody tr th {\n",
       "        vertical-align: top;\n",
       "    }\n",
       "\n",
       "    .dataframe thead th {\n",
       "        text-align: right;\n",
       "    }\n",
       "</style>\n",
       "<table border=\"1\" class=\"dataframe\">\n",
       "  <thead>\n",
       "    <tr style=\"text-align: right;\">\n",
       "      <th></th>\n",
       "      <th>judgment_id</th>\n",
       "      <th>chunk_id</th>\n",
       "      <th>chunk_len</th>\n",
       "      <th>chunk_text</th>\n",
       "      <th>embedding</th>\n",
       "    </tr>\n",
       "  </thead>\n",
       "  <tbody>\n",
       "    <tr>\n",
       "      <th>0</th>\n",
       "      <td>/doc/6447E5BA57</td>\n",
       "      <td>0</td>\n",
       "      <td>1399</td>\n",
       "      <td>TEZY\\n\\nPrzepisy art. 32 ust. 1 i 2 ustawy z d...</td>\n",
       "      <td>[-0.33203125, -0.5390625, -0.44921875, 0.49804...</td>\n",
       "    </tr>\n",
       "    <tr>\n",
       "      <th>1</th>\n",
       "      <td>/doc/6447E5BA57</td>\n",
       "      <td>1</td>\n",
       "      <td>2415</td>\n",
       "      <td>UZASADNIENIE\\n\\nKomendant Miejski Policji w O....</td>\n",
       "      <td>[-0.28710938, -0.56640625, -0.4296875, 0.41601...</td>\n",
       "    </tr>\n",
       "    <tr>\n",
       "      <th>2</th>\n",
       "      <td>/doc/6447E5BA57</td>\n",
       "      <td>2</td>\n",
       "      <td>877</td>\n",
       "      <td>Odwołanie od powyższego rozkazu personalnego w...</td>\n",
       "      <td>[-0.47070312, -0.828125, -0.68359375, 0.460937...</td>\n",
       "    </tr>\n",
       "    <tr>\n",
       "      <th>3</th>\n",
       "      <td>/doc/6447E5BA57</td>\n",
       "      <td>3</td>\n",
       "      <td>2824</td>\n",
       "      <td>[...] Komendant Wojewódzki Policji w O., po ro...</td>\n",
       "      <td>[-0.34765625, -0.58203125, -0.35742188, 0.2851...</td>\n",
       "    </tr>\n",
       "    <tr>\n",
       "      <th>4</th>\n",
       "      <td>/doc/6447E5BA57</td>\n",
       "      <td>4</td>\n",
       "      <td>2285</td>\n",
       "      <td>W odpowiedzi na skargę [...] Wojewódzki Komend...</td>\n",
       "      <td>[-0.39257812, -0.5234375, -0.51953125, 0.56640...</td>\n",
       "    </tr>\n",
       "  </tbody>\n",
       "</table>\n",
       "</div>"
      ],
      "text/plain": [
       "       judgment_id  chunk_id  chunk_len  \\\n",
       "0  /doc/6447E5BA57         0       1399   \n",
       "1  /doc/6447E5BA57         1       2415   \n",
       "2  /doc/6447E5BA57         2        877   \n",
       "3  /doc/6447E5BA57         3       2824   \n",
       "4  /doc/6447E5BA57         4       2285   \n",
       "\n",
       "                                          chunk_text  \\\n",
       "0  TEZY\\n\\nPrzepisy art. 32 ust. 1 i 2 ustawy z d...   \n",
       "1  UZASADNIENIE\\n\\nKomendant Miejski Policji w O....   \n",
       "2  Odwołanie od powyższego rozkazu personalnego w...   \n",
       "3  [...] Komendant Wojewódzki Policji w O., po ro...   \n",
       "4  W odpowiedzi na skargę [...] Wojewódzki Komend...   \n",
       "\n",
       "                                           embedding  \n",
       "0  [-0.33203125, -0.5390625, -0.44921875, 0.49804...  \n",
       "1  [-0.28710938, -0.56640625, -0.4296875, 0.41601...  \n",
       "2  [-0.47070312, -0.828125, -0.68359375, 0.460937...  \n",
       "3  [-0.34765625, -0.58203125, -0.35742188, 0.2851...  \n",
       "4  [-0.39257812, -0.5234375, -0.51953125, 0.56640...  "
      ]
     },
     "execution_count": 7,
     "metadata": {},
     "output_type": "execute_result"
    }
   ],
   "source": [
    "nsa_chunks_df.head()"
   ]
  },
  {
   "cell_type": "code",
   "execution_count": null,
   "metadata": {},
   "outputs": [],
   "source": []
  }
 ],
 "metadata": {
  "kernelspec": {
   "display_name": ".venv",
   "language": "python",
   "name": "python3"
  },
  "language_info": {
   "codemirror_mode": {
    "name": "ipython",
    "version": 3
   },
   "file_extension": ".py",
   "mimetype": "text/x-python",
   "name": "python",
   "nbconvert_exporter": "python",
   "pygments_lexer": "ipython3",
   "version": "3.11.11"
  }
 },
 "nbformat": 4,
 "nbformat_minor": 2
}
